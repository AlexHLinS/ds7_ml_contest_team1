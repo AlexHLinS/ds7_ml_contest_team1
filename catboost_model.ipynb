{
 "cells": [
  {
   "cell_type": "code",
   "execution_count": 5,
   "metadata": {
    "collapsed": true,
    "pycharm": {
     "name": "#%%\n"
    }
   },
   "outputs": [],
   "source": [
    "import pandas as pd\n",
    "from catboost import CatBoostClassifier\n",
    "from sklearn.model_selection import train_test_split"
   ]
  },
  {
   "cell_type": "code",
   "execution_count": 6,
   "outputs": [
    {
     "data": {
      "text/plain": "                                    user_id  MONTANT  FREQUENCE_RECH  REVENUE  \\\n0  00000bfd7d50f01092811bc0c8d7b0d6fe7c3596     4250              15     4251   \n1  00000cb4a5d760de88fecb38e2f71b7bec52e834        0               0        0   \n2  00001654a9d9f96303d9969d0a4a851714a4bb57     3600               2     1020   \n3  00001dd6fa45f7ba044bd5d84937be464ce78ac2    13500              15    13502   \n4  000028d9e13a595abe061f9b58f3d76ab907850f     1000               1      985   \n\n   ARPU_SEGMENT  FREQUENCE  DATA_VOLUME  ON_NET  ORANGE  TIGO  ...  \\\n0          1417         17            4     388      46     1  ...   \n1             0          0            0       0       0     0  ...   \n2           340          2            0      90      46     7  ...   \n3          4501         18        43804      41     102     2  ...   \n4           328          1            0      39      24     0  ...   \n\n   TOP_PACK_internat  TOP_PACK_mixt  TOP_PACK_month  TOP_PACK_net  \\\n0                  0              0               0             0   \n1                  0              0               0             0   \n2                  0              0               0             1   \n3                  0              0               0             0   \n4                  0              0               0             0   \n\n   TOP_PACK_other  TOP_PACK_pilot  TOP_PACK_unlimited  TOP_PACK_week  \\\n0               0               0                   1              0   \n1               0               0                   0              0   \n2               0               0                   0              0   \n3               0               0                   0              0   \n4               0               0                   1              0   \n\n   TOP_PACK_wifi  FREQ_TOP_PACK  \n0              0             72  \n1              0             95  \n2              0            143  \n3              0            224  \n4              0             61  \n\n[5 rows x 51 columns]",
      "text/html": "<div>\n<style scoped>\n    .dataframe tbody tr th:only-of-type {\n        vertical-align: middle;\n    }\n\n    .dataframe tbody tr th {\n        vertical-align: top;\n    }\n\n    .dataframe thead th {\n        text-align: right;\n    }\n</style>\n<table border=\"1\" class=\"dataframe\">\n  <thead>\n    <tr style=\"text-align: right;\">\n      <th></th>\n      <th>user_id</th>\n      <th>MONTANT</th>\n      <th>FREQUENCE_RECH</th>\n      <th>REVENUE</th>\n      <th>ARPU_SEGMENT</th>\n      <th>FREQUENCE</th>\n      <th>DATA_VOLUME</th>\n      <th>ON_NET</th>\n      <th>ORANGE</th>\n      <th>TIGO</th>\n      <th>...</th>\n      <th>TOP_PACK_internat</th>\n      <th>TOP_PACK_mixt</th>\n      <th>TOP_PACK_month</th>\n      <th>TOP_PACK_net</th>\n      <th>TOP_PACK_other</th>\n      <th>TOP_PACK_pilot</th>\n      <th>TOP_PACK_unlimited</th>\n      <th>TOP_PACK_week</th>\n      <th>TOP_PACK_wifi</th>\n      <th>FREQ_TOP_PACK</th>\n    </tr>\n  </thead>\n  <tbody>\n    <tr>\n      <th>0</th>\n      <td>00000bfd7d50f01092811bc0c8d7b0d6fe7c3596</td>\n      <td>4250</td>\n      <td>15</td>\n      <td>4251</td>\n      <td>1417</td>\n      <td>17</td>\n      <td>4</td>\n      <td>388</td>\n      <td>46</td>\n      <td>1</td>\n      <td>...</td>\n      <td>0</td>\n      <td>0</td>\n      <td>0</td>\n      <td>0</td>\n      <td>0</td>\n      <td>0</td>\n      <td>1</td>\n      <td>0</td>\n      <td>0</td>\n      <td>72</td>\n    </tr>\n    <tr>\n      <th>1</th>\n      <td>00000cb4a5d760de88fecb38e2f71b7bec52e834</td>\n      <td>0</td>\n      <td>0</td>\n      <td>0</td>\n      <td>0</td>\n      <td>0</td>\n      <td>0</td>\n      <td>0</td>\n      <td>0</td>\n      <td>0</td>\n      <td>...</td>\n      <td>0</td>\n      <td>0</td>\n      <td>0</td>\n      <td>0</td>\n      <td>0</td>\n      <td>0</td>\n      <td>0</td>\n      <td>0</td>\n      <td>0</td>\n      <td>95</td>\n    </tr>\n    <tr>\n      <th>2</th>\n      <td>00001654a9d9f96303d9969d0a4a851714a4bb57</td>\n      <td>3600</td>\n      <td>2</td>\n      <td>1020</td>\n      <td>340</td>\n      <td>2</td>\n      <td>0</td>\n      <td>90</td>\n      <td>46</td>\n      <td>7</td>\n      <td>...</td>\n      <td>0</td>\n      <td>0</td>\n      <td>0</td>\n      <td>1</td>\n      <td>0</td>\n      <td>0</td>\n      <td>0</td>\n      <td>0</td>\n      <td>0</td>\n      <td>143</td>\n    </tr>\n    <tr>\n      <th>3</th>\n      <td>00001dd6fa45f7ba044bd5d84937be464ce78ac2</td>\n      <td>13500</td>\n      <td>15</td>\n      <td>13502</td>\n      <td>4501</td>\n      <td>18</td>\n      <td>43804</td>\n      <td>41</td>\n      <td>102</td>\n      <td>2</td>\n      <td>...</td>\n      <td>0</td>\n      <td>0</td>\n      <td>0</td>\n      <td>0</td>\n      <td>0</td>\n      <td>0</td>\n      <td>0</td>\n      <td>0</td>\n      <td>0</td>\n      <td>224</td>\n    </tr>\n    <tr>\n      <th>4</th>\n      <td>000028d9e13a595abe061f9b58f3d76ab907850f</td>\n      <td>1000</td>\n      <td>1</td>\n      <td>985</td>\n      <td>328</td>\n      <td>1</td>\n      <td>0</td>\n      <td>39</td>\n      <td>24</td>\n      <td>0</td>\n      <td>...</td>\n      <td>0</td>\n      <td>0</td>\n      <td>0</td>\n      <td>0</td>\n      <td>0</td>\n      <td>0</td>\n      <td>1</td>\n      <td>0</td>\n      <td>0</td>\n      <td>61</td>\n    </tr>\n  </tbody>\n</table>\n<p>5 rows × 51 columns</p>\n</div>"
     },
     "execution_count": 6,
     "metadata": {},
     "output_type": "execute_result"
    }
   ],
   "source": [
    "train_df = pd.read_csv('prepared_train1.csv')\n",
    "train_df = train_df.loc[:, ~train_df.columns.str.contains('^Unnamed')]\n",
    "train_df.head(5)"
   ],
   "metadata": {
    "collapsed": false,
    "pycharm": {
     "name": "#%%\n"
    }
   }
  },
  {
   "cell_type": "code",
   "execution_count": 7,
   "outputs": [
    {
     "data": {
      "text/plain": "user_id                 0\nMONTANT                 0\nFREQUENCE_RECH          0\nREVENUE                 0\nARPU_SEGMENT            0\nFREQUENCE               0\nDATA_VOLUME             0\nON_NET                  0\nORANGE                  0\nTIGO                    0\nZONE1                   0\nZONE2                   0\nREGULARITY              0\nCHURN                   0\nTENURE_D 3-6 month      0\nTENURE_E 6-9 month      0\nTENURE_F 9-12 month     0\nTENURE_G 12-15 month    0\nTENURE_H 15-18 month    0\nTENURE_I 18-21 month    0\nTENURE_J 21-24 month    0\nTENURE_K > 24 month     0\nREGION_DAKAR            0\nREGION_DIOURBEL         0\nREGION_FATICK           0\nREGION_KAFFRINE         0\nREGION_KAOLACK          0\nREGION_KEDOUGOU         0\nREGION_KOLDA            0\nREGION_LOUGA            0\nREGION_MATAM            0\nREGION_OTHER            0\nREGION_SAINT-LOUIS      0\nREGION_SEDHIOU          0\nREGION_TAMBACOUNDA      0\nREGION_THIES            0\nREGION_ZIGUINCHOR       0\nTOP_PACK_daily          0\nTOP_PACK_data           0\nTOP_PACK_evc            0\nTOP_PACK_gprs           0\nTOP_PACK_internat       0\nTOP_PACK_mixt           0\nTOP_PACK_month          0\nTOP_PACK_net            0\nTOP_PACK_other          0\nTOP_PACK_pilot          0\nTOP_PACK_unlimited      0\nTOP_PACK_week           0\nTOP_PACK_wifi           0\nFREQ_TOP_PACK           0\ndtype: int64"
     },
     "execution_count": 7,
     "metadata": {},
     "output_type": "execute_result"
    }
   ],
   "source": [
    "train_df.isna().sum()"
   ],
   "metadata": {
    "collapsed": false,
    "pycharm": {
     "name": "#%%\n"
    }
   }
  },
  {
   "cell_type": "code",
   "execution_count": 8,
   "outputs": [
    {
     "ename": "ValueError",
     "evalue": "Found input variables with inconsistent numbers of samples: [1750061, 2154047]",
     "output_type": "error",
     "traceback": [
      "\u001B[0;31m---------------------------------------------------------------------------\u001B[0m",
      "\u001B[0;31mValueError\u001B[0m                                Traceback (most recent call last)",
      "Input \u001B[0;32mIn [8]\u001B[0m, in \u001B[0;36m<cell line: 4>\u001B[0;34m()\u001B[0m\n\u001B[1;32m      1\u001B[0m data \u001B[38;5;241m=\u001B[39m train_df[\u001B[38;5;241m~\u001B[39mtrain_df[\u001B[38;5;124m'\u001B[39m\u001B[38;5;124mCHURN\u001B[39m\u001B[38;5;124m'\u001B[39m]]\n\u001B[1;32m      2\u001B[0m labels \u001B[38;5;241m=\u001B[39m train_df[\u001B[38;5;124m'\u001B[39m\u001B[38;5;124mCHURN\u001B[39m\u001B[38;5;124m'\u001B[39m]\n\u001B[0;32m----> 4\u001B[0m X_train, X_test, y_train, y_test \u001B[38;5;241m=\u001B[39m\u001B[43mtrain_test_split\u001B[49m\u001B[43m(\u001B[49m\u001B[43mdata\u001B[49m\u001B[43m,\u001B[49m\u001B[43m \u001B[49m\u001B[43mlabels\u001B[49m\u001B[43m,\u001B[49m\u001B[43m \u001B[49m\u001B[43mtrain_size\u001B[49m\u001B[38;5;241;43m=\u001B[39;49m\u001B[38;5;241;43m0.3\u001B[39;49m\u001B[43m,\u001B[49m\u001B[43m \u001B[49m\u001B[43mrandom_state\u001B[49m\u001B[38;5;241;43m=\u001B[39;49m\u001B[38;5;241;43m777\u001B[39;49m\u001B[43m)\u001B[49m\n\u001B[1;32m      6\u001B[0m catboost_model \u001B[38;5;241m=\u001B[39m  CatBoostClassifier()\n\u001B[1;32m      7\u001B[0m catboost_model\u001B[38;5;241m.\u001B[39mfit(X_train, y_train)\n",
      "File \u001B[0;32m~/jupiter_projects/jupiter_projects/lib/python3.10/site-packages/sklearn/model_selection/_split.py:2421\u001B[0m, in \u001B[0;36mtrain_test_split\u001B[0;34m(test_size, train_size, random_state, shuffle, stratify, *arrays)\u001B[0m\n\u001B[1;32m   2418\u001B[0m \u001B[38;5;28;01mif\u001B[39;00m n_arrays \u001B[38;5;241m==\u001B[39m \u001B[38;5;241m0\u001B[39m:\n\u001B[1;32m   2419\u001B[0m     \u001B[38;5;28;01mraise\u001B[39;00m \u001B[38;5;167;01mValueError\u001B[39;00m(\u001B[38;5;124m\"\u001B[39m\u001B[38;5;124mAt least one array required as input\u001B[39m\u001B[38;5;124m\"\u001B[39m)\n\u001B[0;32m-> 2421\u001B[0m arrays \u001B[38;5;241m=\u001B[39m \u001B[43mindexable\u001B[49m\u001B[43m(\u001B[49m\u001B[38;5;241;43m*\u001B[39;49m\u001B[43marrays\u001B[49m\u001B[43m)\u001B[49m\n\u001B[1;32m   2423\u001B[0m n_samples \u001B[38;5;241m=\u001B[39m _num_samples(arrays[\u001B[38;5;241m0\u001B[39m])\n\u001B[1;32m   2424\u001B[0m n_train, n_test \u001B[38;5;241m=\u001B[39m _validate_shuffle_split(\n\u001B[1;32m   2425\u001B[0m     n_samples, test_size, train_size, default_test_size\u001B[38;5;241m=\u001B[39m\u001B[38;5;241m0.25\u001B[39m\n\u001B[1;32m   2426\u001B[0m )\n",
      "File \u001B[0;32m~/jupiter_projects/jupiter_projects/lib/python3.10/site-packages/sklearn/utils/validation.py:429\u001B[0m, in \u001B[0;36mindexable\u001B[0;34m(*iterables)\u001B[0m\n\u001B[1;32m    410\u001B[0m \u001B[38;5;124;03m\"\"\"Make arrays indexable for cross-validation.\u001B[39;00m\n\u001B[1;32m    411\u001B[0m \n\u001B[1;32m    412\u001B[0m \u001B[38;5;124;03mChecks consistent length, passes through None, and ensures that everything\u001B[39;00m\n\u001B[0;32m   (...)\u001B[0m\n\u001B[1;32m    425\u001B[0m \u001B[38;5;124;03m    sparse matrix, or dataframe) or `None`.\u001B[39;00m\n\u001B[1;32m    426\u001B[0m \u001B[38;5;124;03m\"\"\"\u001B[39;00m\n\u001B[1;32m    428\u001B[0m result \u001B[38;5;241m=\u001B[39m [_make_indexable(X) \u001B[38;5;28;01mfor\u001B[39;00m X \u001B[38;5;129;01min\u001B[39;00m iterables]\n\u001B[0;32m--> 429\u001B[0m \u001B[43mcheck_consistent_length\u001B[49m\u001B[43m(\u001B[49m\u001B[38;5;241;43m*\u001B[39;49m\u001B[43mresult\u001B[49m\u001B[43m)\u001B[49m\n\u001B[1;32m    430\u001B[0m \u001B[38;5;28;01mreturn\u001B[39;00m result\n",
      "File \u001B[0;32m~/jupiter_projects/jupiter_projects/lib/python3.10/site-packages/sklearn/utils/validation.py:383\u001B[0m, in \u001B[0;36mcheck_consistent_length\u001B[0;34m(*arrays)\u001B[0m\n\u001B[1;32m    381\u001B[0m uniques \u001B[38;5;241m=\u001B[39m np\u001B[38;5;241m.\u001B[39munique(lengths)\n\u001B[1;32m    382\u001B[0m \u001B[38;5;28;01mif\u001B[39;00m \u001B[38;5;28mlen\u001B[39m(uniques) \u001B[38;5;241m>\u001B[39m \u001B[38;5;241m1\u001B[39m:\n\u001B[0;32m--> 383\u001B[0m     \u001B[38;5;28;01mraise\u001B[39;00m \u001B[38;5;167;01mValueError\u001B[39;00m(\n\u001B[1;32m    384\u001B[0m         \u001B[38;5;124m\"\u001B[39m\u001B[38;5;124mFound input variables with inconsistent numbers of samples: \u001B[39m\u001B[38;5;132;01m%r\u001B[39;00m\u001B[38;5;124m\"\u001B[39m\n\u001B[1;32m    385\u001B[0m         \u001B[38;5;241m%\u001B[39m [\u001B[38;5;28mint\u001B[39m(l) \u001B[38;5;28;01mfor\u001B[39;00m l \u001B[38;5;129;01min\u001B[39;00m lengths]\n\u001B[1;32m    386\u001B[0m     )\n",
      "\u001B[0;31mValueError\u001B[0m: Found input variables with inconsistent numbers of samples: [1750061, 2154047]"
     ]
    }
   ],
   "source": [
    "data = train_df[~train_df['CHURN']]\n",
    "labels = train_df['CHURN']\n",
    "\n",
    "X_train, X_test, y_train, y_test =train_test_split(data, labels, train_size=0.3, random_state=777)\n",
    "\n",
    "catboost_model =  CatBoostClassifier()\n",
    "catboost_model.fit(X_train, y_train)\n",
    "catboost_model.predict(X_test)"
   ],
   "metadata": {
    "collapsed": false,
    "pycharm": {
     "name": "#%%\n"
    }
   }
  }
 ],
 "metadata": {
  "kernelspec": {
   "display_name": "Python 3",
   "language": "python",
   "name": "python3"
  },
  "language_info": {
   "codemirror_mode": {
    "name": "ipython",
    "version": 2
   },
   "file_extension": ".py",
   "mimetype": "text/x-python",
   "name": "python",
   "nbconvert_exporter": "python",
   "pygments_lexer": "ipython2",
   "version": "2.7.6"
  }
 },
 "nbformat": 4,
 "nbformat_minor": 0
}