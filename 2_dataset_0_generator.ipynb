{
 "cells": [
  {
   "cell_type": "markdown",
   "metadata": {
    "pycharm": {
     "name": "#%% md\n"
    }
   },
   "source": [
    "# Dataset cleaning"
   ]
  },
  {
   "cell_type": "markdown",
   "metadata": {
    "pycharm": {
     "name": "#%% md\n"
    }
   },
   "source": [
    "## Libraries and datasets"
   ]
  },
  {
   "cell_type": "code",
   "execution_count": 1,
   "metadata": {
    "pycharm": {
     "name": "#%%\n"
    }
   },
   "outputs": [],
   "source": [
    "import pandas as pd\n",
    "import numpy as np\n",
    "from sklearn.model_selection import train_test_split\n",
    "from sklearn.preprocessing import LabelEncoder, StandardScaler\n",
    "from sklearn.impute import SimpleImputer"
   ]
  },
  {
   "cell_type": "code",
   "execution_count": 2,
   "metadata": {
    "pycharm": {
     "name": "#%%\n"
    }
   },
   "outputs": [],
   "source": [
    "train = pd.read_csv('Train.csv')\n",
    "test = pd.read_csv('Test.csv')"
   ]
  },
  {
   "cell_type": "markdown",
   "metadata": {
    "pycharm": {
     "name": "#%% md\n"
    }
   },
   "source": [
    "## Feature engineering"
   ]
  },
  {
   "cell_type": "markdown",
   "metadata": {
    "pycharm": {
     "name": "#%% md\n"
    }
   },
   "source": [
    "Drop MPG because of the same value in each row."
   ]
  },
  {
   "cell_type": "code",
   "execution_count": 3,
   "metadata": {
    "pycharm": {
     "name": "#%%\n"
    }
   },
   "outputs": [],
   "source": [
    "train.drop(['MRG'], axis = 1, inplace=True)\n",
    "test.drop(['MRG'], axis = 1, inplace=True)"
   ]
  },
  {
   "cell_type": "markdown",
   "metadata": {
    "pycharm": {
     "name": "#%% md\n"
    }
   },
   "source": [
    "Drop user_id from train"
   ]
  },
  {
   "cell_type": "code",
   "execution_count": 4,
   "metadata": {
    "pycharm": {
     "name": "#%%\n"
    }
   },
   "outputs": [],
   "source": [
    "train.drop(['user_id'], axis = 1, inplace=True)\n",
    "test.drop(['user_id'], axis = 1, inplace=True)"
   ]
  },
  {
   "cell_type": "markdown",
   "metadata": {
    "pycharm": {
     "name": "#%% md\n"
    }
   },
   "source": [
    "Drop top packs for the first iteration "
   ]
  },
  {
   "cell_type": "code",
   "execution_count": 5,
   "metadata": {
    "pycharm": {
     "name": "#%%\n"
    }
   },
   "outputs": [],
   "source": [
    "train.drop(['TOP_PACK'], axis = 1, inplace=True)\n",
    "test.drop(['TOP_PACK'], axis = 1, inplace=True)"
   ]
  },
  {
   "cell_type": "markdown",
   "metadata": {
    "pycharm": {
     "name": "#%% md\n"
    }
   },
   "source": [
    "Convert tenure into the int format"
   ]
  },
  {
   "cell_type": "code",
   "execution_count": 6,
   "metadata": {
    "pycharm": {
     "name": "#%%\n"
    }
   },
   "outputs": [],
   "source": [
    "train['TENURE'] = train['TENURE'].map({'K > 24 month': 24, 'I 18-21 month': 18, 'H 15-18 month': 15, \n",
    "                                       'G 12-15 month':12, 'J 21-24 month': 21, 'F 9-12': 9,\n",
    "                                       'E 6-9 month':6, 'D 3-6 month':3})"
   ]
  },
  {
   "cell_type": "code",
   "execution_count": 7,
   "metadata": {
    "pycharm": {
     "name": "#%%\n"
    }
   },
   "outputs": [],
   "source": [
    "test['TENURE'] = test['TENURE'].map({'K > 24 month': 24, 'I 18-21 month': 18, 'H 15-18 month': 15, \n",
    "                                       'G 12-15 month':12, 'J 21-24 month': 21, 'F 9-12': 9,\n",
    "                                       'E 6-9 month':6, 'D 3-6 month':3})"
   ]
  },
  {
   "cell_type": "code",
   "execution_count": 8,
   "metadata": {
    "pycharm": {
     "name": "#%%\n"
    }
   },
   "outputs": [],
   "source": [
    "train['TENURE'].fillna(1, inplace=True) # fill nans with unkown\n",
    "test['TENURE'].fillna(1, inplace=True)"
   ]
  },
  {
   "cell_type": "markdown",
   "metadata": {
    "pycharm": {
     "name": "#%% md\n"
    }
   },
   "source": [
    "X / y samples"
   ]
  },
  {
   "cell_type": "code",
   "execution_count": 9,
   "metadata": {
    "pycharm": {
     "name": "#%%\n"
    }
   },
   "outputs": [],
   "source": [
    "y = train['CHURN']\n",
    "train.drop(['CHURN'], axis = 1, inplace=True)"
   ]
  },
  {
   "cell_type": "code",
   "execution_count": 10,
   "metadata": {
    "pycharm": {
     "name": "#%%\n"
    }
   },
   "outputs": [],
   "source": [
    "X = train"
   ]
  },
  {
   "cell_type": "markdown",
   "metadata": {
    "pycharm": {
     "name": "#%% md\n"
    }
   },
   "source": [
    "Train-val split"
   ]
  },
  {
   "cell_type": "code",
   "execution_count": 11,
   "metadata": {
    "pycharm": {
     "name": "#%%\n"
    }
   },
   "outputs": [],
   "source": [
    "X, X_val, y, y_val = train_test_split(X,y,test_size = 0.2,random_state=1)"
   ]
  },
  {
   "cell_type": "markdown",
   "metadata": {
    "pycharm": {
     "name": "#%% md\n"
    }
   },
   "source": [
    "Encoding of categorical features"
   ]
  },
  {
   "cell_type": "code",
   "execution_count": 12,
   "metadata": {
    "pycharm": {
     "name": "#%%\n"
    }
   },
   "outputs": [],
   "source": [
    "X['REGION'].fillna('other', inplace=True) # fill nans with unkown\n",
    "X_val['REGION'].fillna('other', inplace=True) \n",
    "test['REGION'].fillna('other', inplace=True)"
   ]
  },
  {
   "cell_type": "code",
   "execution_count": 13,
   "metadata": {
    "pycharm": {
     "name": "#%%\n"
    }
   },
   "outputs": [],
   "source": [
    "encoder = LabelEncoder() \n",
    "X['REGION'] = encoder.fit_transform(X['REGION'])\n",
    "X_val['REGION'] = encoder.transform(X_val['REGION'])\n",
    "test['REGION'] = encoder.transform(test['REGION'])"
   ]
  },
  {
   "cell_type": "markdown",
   "metadata": {
    "pycharm": {
     "name": "#%% md\n"
    }
   },
   "source": [
    "Scaling"
   ]
  },
  {
   "cell_type": "code",
   "execution_count": 14,
   "metadata": {
    "pycharm": {
     "name": "#%%\n"
    }
   },
   "outputs": [],
   "source": [
    "num_cols = ['MONTANT', 'FREQUENCE_RECH', 'REVENUE', 'ARPU_SEGMENT', 'FREQUENCE',\n",
    "       'DATA_VOLUME', 'ON_NET', 'ORANGE', 'TIGO', 'ZONE1', 'ZONE2',\n",
    "       'REGULARITY', 'FREQ_TOP_PACK']"
   ]
  },
  {
   "cell_type": "code",
   "execution_count": 15,
   "metadata": {
    "pycharm": {
     "name": "#%%\n"
    }
   },
   "outputs": [],
   "source": [
    "scaler = StandardScaler()"
   ]
  },
  {
   "cell_type": "code",
   "execution_count": 16,
   "metadata": {
    "pycharm": {
     "name": "#%%\n"
    }
   },
   "outputs": [],
   "source": [
    "X[num_cols] = scaler.fit_transform(X[num_cols])\n",
    "X_val[num_cols] = scaler.transform(X_val[num_cols])\n",
    "test[num_cols] = scaler.transform(test[num_cols])"
   ]
  },
  {
   "cell_type": "markdown",
   "metadata": {
    "pycharm": {
     "name": "#%% md\n"
    }
   },
   "source": [
    "Imputing missing values"
   ]
  },
  {
   "cell_type": "code",
   "execution_count": 17,
   "metadata": {
    "pycharm": {
     "name": "#%%\n"
    }
   },
   "outputs": [],
   "source": [
    "imp = SimpleImputer(missing_values=np.nan, strategy='constant', fill_value=0)\n",
    "imp = imp.fit(X[num_cols])"
   ]
  },
  {
   "cell_type": "code",
   "execution_count": 18,
   "metadata": {
    "pycharm": {
     "name": "#%%\n"
    }
   },
   "outputs": [],
   "source": [
    "X[num_cols] = imp.transform(X[num_cols])\n",
    "X_val[num_cols] = imp.transform(X_val[num_cols])\n",
    "test[num_cols] = imp.transform(test[num_cols])"
   ]
  },
  {
   "cell_type": "markdown",
   "source": [
    "## \"First generation\" dataset production"
   ],
   "metadata": {
    "collapsed": false,
    "pycharm": {
     "name": "#%% md\n"
    }
   }
  },
  {
   "cell_type": "code",
   "execution_count": 19,
   "outputs": [
    {
     "data": {
      "text/plain": "         REGION  TENURE   MONTANT  FREQUENCE_RECH   REVENUE  ARPU_SEGMENT  \\\n957056       12    18.0 -0.638518       -0.718161 -0.718841     -0.718706   \n536962        8    24.0 -0.708945       -0.793489 -0.699894     -0.699898   \n1575854       0    24.0  0.002368        1.541680  0.190890      0.190749   \n1543057       9    24.0  0.699596        0.110447  0.698418      0.698556   \n1520724      14    24.0 -0.596262       -0.416849 -0.586770     -0.586634   \n...         ...     ...       ...             ...       ...           ...   \n73349        14    24.0  0.122094       -0.115537  0.206633      0.206631   \n836489       11    24.0  0.000000        0.000000  0.000000      0.000000   \n491263        0    24.0 -0.004674       -0.040209  0.067875      0.067872   \n491755       14     1.0  0.000000        0.000000 -0.767462     -0.767605   \n128037        0    24.0 -0.638518       -0.718161 -0.628704     -0.628847   \n\n         FREQUENCE  DATA_VOLUME    ON_NET    ORANGE      TIGO     ZONE1  \\\n957056   -0.747321    -0.252563 -0.315014 -0.377476 -0.332739  0.000000   \n536962   -0.747321    -0.249717 -0.313873 -0.450555  0.000000  0.000000   \n1575854   1.702509     0.028720 -0.212311 -0.236189  0.454859  0.000000   \n1543057   0.613696    -0.252563  0.355982 -0.338500 -0.316987 -0.208879   \n1520724  -0.407067    -0.186736 -0.273933 -0.401836 -0.316987  0.000000   \n...            ...          ...       ...       ...       ...       ...   \n73349     0.001238     0.017487 -0.315014 -0.012078  0.785650  0.000000   \n836489    0.000000    -0.251140 -0.292191  0.000000  0.000000  0.000000   \n491263   -0.134863     0.000000 -0.295615 -0.002334  0.360347  0.000000   \n491755   -0.883422    -0.252563 -0.313873  0.000000  0.000000  0.000000   \n128037   -0.747321    -0.252563 -0.311591 -0.406708 -0.348491  0.000000   \n\n            ZONE2  REGULARITY  FREQ_TOP_PACK  \n957056   0.000000    0.446632       0.000000  \n536962  -0.220128    0.581223       0.000000  \n1575854  0.000000   -0.091734       1.363902  \n1543057  0.000000    1.433635      -0.267198  \n1520724  0.000000    0.715815      -0.593418  \n...           ...         ...            ...  \n73349    0.000000   -0.271189      -0.348753  \n836489   0.000000   -1.123601       0.000000  \n491263   0.000000   -0.226325       0.222132  \n491755   0.000000   -0.989009       0.000000  \n128037   0.000000   -0.316053      -0.674973  \n\n[1723238 rows x 15 columns]",
      "text/html": "<div>\n<style scoped>\n    .dataframe tbody tr th:only-of-type {\n        vertical-align: middle;\n    }\n\n    .dataframe tbody tr th {\n        vertical-align: top;\n    }\n\n    .dataframe thead th {\n        text-align: right;\n    }\n</style>\n<table border=\"1\" class=\"dataframe\">\n  <thead>\n    <tr style=\"text-align: right;\">\n      <th></th>\n      <th>REGION</th>\n      <th>TENURE</th>\n      <th>MONTANT</th>\n      <th>FREQUENCE_RECH</th>\n      <th>REVENUE</th>\n      <th>ARPU_SEGMENT</th>\n      <th>FREQUENCE</th>\n      <th>DATA_VOLUME</th>\n      <th>ON_NET</th>\n      <th>ORANGE</th>\n      <th>TIGO</th>\n      <th>ZONE1</th>\n      <th>ZONE2</th>\n      <th>REGULARITY</th>\n      <th>FREQ_TOP_PACK</th>\n    </tr>\n  </thead>\n  <tbody>\n    <tr>\n      <th>957056</th>\n      <td>12</td>\n      <td>18.0</td>\n      <td>-0.638518</td>\n      <td>-0.718161</td>\n      <td>-0.718841</td>\n      <td>-0.718706</td>\n      <td>-0.747321</td>\n      <td>-0.252563</td>\n      <td>-0.315014</td>\n      <td>-0.377476</td>\n      <td>-0.332739</td>\n      <td>0.000000</td>\n      <td>0.000000</td>\n      <td>0.446632</td>\n      <td>0.000000</td>\n    </tr>\n    <tr>\n      <th>536962</th>\n      <td>8</td>\n      <td>24.0</td>\n      <td>-0.708945</td>\n      <td>-0.793489</td>\n      <td>-0.699894</td>\n      <td>-0.699898</td>\n      <td>-0.747321</td>\n      <td>-0.249717</td>\n      <td>-0.313873</td>\n      <td>-0.450555</td>\n      <td>0.000000</td>\n      <td>0.000000</td>\n      <td>-0.220128</td>\n      <td>0.581223</td>\n      <td>0.000000</td>\n    </tr>\n    <tr>\n      <th>1575854</th>\n      <td>0</td>\n      <td>24.0</td>\n      <td>0.002368</td>\n      <td>1.541680</td>\n      <td>0.190890</td>\n      <td>0.190749</td>\n      <td>1.702509</td>\n      <td>0.028720</td>\n      <td>-0.212311</td>\n      <td>-0.236189</td>\n      <td>0.454859</td>\n      <td>0.000000</td>\n      <td>0.000000</td>\n      <td>-0.091734</td>\n      <td>1.363902</td>\n    </tr>\n    <tr>\n      <th>1543057</th>\n      <td>9</td>\n      <td>24.0</td>\n      <td>0.699596</td>\n      <td>0.110447</td>\n      <td>0.698418</td>\n      <td>0.698556</td>\n      <td>0.613696</td>\n      <td>-0.252563</td>\n      <td>0.355982</td>\n      <td>-0.338500</td>\n      <td>-0.316987</td>\n      <td>-0.208879</td>\n      <td>0.000000</td>\n      <td>1.433635</td>\n      <td>-0.267198</td>\n    </tr>\n    <tr>\n      <th>1520724</th>\n      <td>14</td>\n      <td>24.0</td>\n      <td>-0.596262</td>\n      <td>-0.416849</td>\n      <td>-0.586770</td>\n      <td>-0.586634</td>\n      <td>-0.407067</td>\n      <td>-0.186736</td>\n      <td>-0.273933</td>\n      <td>-0.401836</td>\n      <td>-0.316987</td>\n      <td>0.000000</td>\n      <td>0.000000</td>\n      <td>0.715815</td>\n      <td>-0.593418</td>\n    </tr>\n    <tr>\n      <th>...</th>\n      <td>...</td>\n      <td>...</td>\n      <td>...</td>\n      <td>...</td>\n      <td>...</td>\n      <td>...</td>\n      <td>...</td>\n      <td>...</td>\n      <td>...</td>\n      <td>...</td>\n      <td>...</td>\n      <td>...</td>\n      <td>...</td>\n      <td>...</td>\n      <td>...</td>\n    </tr>\n    <tr>\n      <th>73349</th>\n      <td>14</td>\n      <td>24.0</td>\n      <td>0.122094</td>\n      <td>-0.115537</td>\n      <td>0.206633</td>\n      <td>0.206631</td>\n      <td>0.001238</td>\n      <td>0.017487</td>\n      <td>-0.315014</td>\n      <td>-0.012078</td>\n      <td>0.785650</td>\n      <td>0.000000</td>\n      <td>0.000000</td>\n      <td>-0.271189</td>\n      <td>-0.348753</td>\n    </tr>\n    <tr>\n      <th>836489</th>\n      <td>11</td>\n      <td>24.0</td>\n      <td>0.000000</td>\n      <td>0.000000</td>\n      <td>0.000000</td>\n      <td>0.000000</td>\n      <td>0.000000</td>\n      <td>-0.251140</td>\n      <td>-0.292191</td>\n      <td>0.000000</td>\n      <td>0.000000</td>\n      <td>0.000000</td>\n      <td>0.000000</td>\n      <td>-1.123601</td>\n      <td>0.000000</td>\n    </tr>\n    <tr>\n      <th>491263</th>\n      <td>0</td>\n      <td>24.0</td>\n      <td>-0.004674</td>\n      <td>-0.040209</td>\n      <td>0.067875</td>\n      <td>0.067872</td>\n      <td>-0.134863</td>\n      <td>0.000000</td>\n      <td>-0.295615</td>\n      <td>-0.002334</td>\n      <td>0.360347</td>\n      <td>0.000000</td>\n      <td>0.000000</td>\n      <td>-0.226325</td>\n      <td>0.222132</td>\n    </tr>\n    <tr>\n      <th>491755</th>\n      <td>14</td>\n      <td>1.0</td>\n      <td>0.000000</td>\n      <td>0.000000</td>\n      <td>-0.767462</td>\n      <td>-0.767605</td>\n      <td>-0.883422</td>\n      <td>-0.252563</td>\n      <td>-0.313873</td>\n      <td>0.000000</td>\n      <td>0.000000</td>\n      <td>0.000000</td>\n      <td>0.000000</td>\n      <td>-0.989009</td>\n      <td>0.000000</td>\n    </tr>\n    <tr>\n      <th>128037</th>\n      <td>0</td>\n      <td>24.0</td>\n      <td>-0.638518</td>\n      <td>-0.718161</td>\n      <td>-0.628704</td>\n      <td>-0.628847</td>\n      <td>-0.747321</td>\n      <td>-0.252563</td>\n      <td>-0.311591</td>\n      <td>-0.406708</td>\n      <td>-0.348491</td>\n      <td>0.000000</td>\n      <td>0.000000</td>\n      <td>-0.316053</td>\n      <td>-0.674973</td>\n    </tr>\n  </tbody>\n</table>\n<p>1723238 rows × 15 columns</p>\n</div>"
     },
     "execution_count": 19,
     "metadata": {},
     "output_type": "execute_result"
    }
   ],
   "source": [
    "X"
   ],
   "metadata": {
    "collapsed": false,
    "pycharm": {
     "name": "#%%\n"
    }
   }
  },
  {
   "cell_type": "code",
   "execution_count": 20,
   "outputs": [
    {
     "data": {
      "text/plain": "         REGION  TENURE   MONTANT  FREQUENCE_RECH   REVENUE  ARPU_SEGMENT  \\\n417912        7    24.0  4.432232        0.713072  4.539630      4.539496   \n1380278      12    24.0 -0.286383       -0.341521 -0.280415     -0.280278   \n657158       14    24.0  0.000000        0.000000  0.000000      0.000000   \n228934       14    18.0  0.000000        0.000000  0.000000      0.000000   \n2020145       2    24.0  1.770088        0.336431  1.753595      1.753456   \n...         ...     ...       ...             ...       ...           ...   \n1261773       0    24.0  0.000000        0.000000  0.000000      0.000000   \n494205       14    24.0  0.000000        0.000000  0.000000      0.000000   \n1288545       0    24.0  0.000000        0.000000  0.000000      0.000000   \n391519       12    24.0  0.000000        0.000000  0.000000      0.000000   \n245290        0    24.0 -0.356810       -0.642833 -0.328479     -0.328342   \n\n         FREQUENCE  DATA_VOLUME    ON_NET    ORANGE      TIGO  ZONE1  ZONE2  \\\n417912    0.817848    -0.116789  1.192446  5.205805  2.439605    0.0    0.0   \n1380278  -0.475117     0.000000 -0.283062 -0.026694 -0.253979    0.0    0.0   \n657158    0.000000     0.000000  0.000000  0.000000  0.000000    0.0    0.0   \n228934    0.000000     0.000000  0.000000  0.000000  0.000000    0.0    0.0   \n2020145   0.205391     0.000000  0.094659  0.484863 -0.316987    0.0    0.0   \n...            ...          ...       ...       ...       ...    ...    ...   \n1261773   0.000000     0.000000 -0.312732  0.000000  0.000000    0.0    0.0   \n494205    0.000000     0.000000  0.000000  0.000000  0.000000    0.0    0.0   \n1288545   0.000000    -0.247246  0.000000  0.000000  0.000000    0.0    0.0   \n391519    0.000000     0.000000  0.000000  0.000000  0.000000    0.0    0.0   \n245290    0.477594     0.000000 -0.269368 -0.314140 -0.222476    0.0    0.0   \n\n         REGULARITY  FREQ_TOP_PACK  \n417912     1.523363       1.934787  \n1380278   -0.226325      -0.185643  \n657158    -0.181461       0.000000  \n228934    -1.213328       0.000000  \n2020145    1.119589       0.629907  \n...             ...            ...  \n1261773   -0.764690       0.000000  \n494205    -0.136597       0.000000  \n1288545   -0.674963       0.000000  \n391519    -0.764690       0.000000  \n245290     0.087722      -0.593418  \n\n[430810 rows x 15 columns]",
      "text/html": "<div>\n<style scoped>\n    .dataframe tbody tr th:only-of-type {\n        vertical-align: middle;\n    }\n\n    .dataframe tbody tr th {\n        vertical-align: top;\n    }\n\n    .dataframe thead th {\n        text-align: right;\n    }\n</style>\n<table border=\"1\" class=\"dataframe\">\n  <thead>\n    <tr style=\"text-align: right;\">\n      <th></th>\n      <th>REGION</th>\n      <th>TENURE</th>\n      <th>MONTANT</th>\n      <th>FREQUENCE_RECH</th>\n      <th>REVENUE</th>\n      <th>ARPU_SEGMENT</th>\n      <th>FREQUENCE</th>\n      <th>DATA_VOLUME</th>\n      <th>ON_NET</th>\n      <th>ORANGE</th>\n      <th>TIGO</th>\n      <th>ZONE1</th>\n      <th>ZONE2</th>\n      <th>REGULARITY</th>\n      <th>FREQ_TOP_PACK</th>\n    </tr>\n  </thead>\n  <tbody>\n    <tr>\n      <th>417912</th>\n      <td>7</td>\n      <td>24.0</td>\n      <td>4.432232</td>\n      <td>0.713072</td>\n      <td>4.539630</td>\n      <td>4.539496</td>\n      <td>0.817848</td>\n      <td>-0.116789</td>\n      <td>1.192446</td>\n      <td>5.205805</td>\n      <td>2.439605</td>\n      <td>0.0</td>\n      <td>0.0</td>\n      <td>1.523363</td>\n      <td>1.934787</td>\n    </tr>\n    <tr>\n      <th>1380278</th>\n      <td>12</td>\n      <td>24.0</td>\n      <td>-0.286383</td>\n      <td>-0.341521</td>\n      <td>-0.280415</td>\n      <td>-0.280278</td>\n      <td>-0.475117</td>\n      <td>0.000000</td>\n      <td>-0.283062</td>\n      <td>-0.026694</td>\n      <td>-0.253979</td>\n      <td>0.0</td>\n      <td>0.0</td>\n      <td>-0.226325</td>\n      <td>-0.185643</td>\n    </tr>\n    <tr>\n      <th>657158</th>\n      <td>14</td>\n      <td>24.0</td>\n      <td>0.000000</td>\n      <td>0.000000</td>\n      <td>0.000000</td>\n      <td>0.000000</td>\n      <td>0.000000</td>\n      <td>0.000000</td>\n      <td>0.000000</td>\n      <td>0.000000</td>\n      <td>0.000000</td>\n      <td>0.0</td>\n      <td>0.0</td>\n      <td>-0.181461</td>\n      <td>0.000000</td>\n    </tr>\n    <tr>\n      <th>228934</th>\n      <td>14</td>\n      <td>18.0</td>\n      <td>0.000000</td>\n      <td>0.000000</td>\n      <td>0.000000</td>\n      <td>0.000000</td>\n      <td>0.000000</td>\n      <td>0.000000</td>\n      <td>0.000000</td>\n      <td>0.000000</td>\n      <td>0.000000</td>\n      <td>0.0</td>\n      <td>0.0</td>\n      <td>-1.213328</td>\n      <td>0.000000</td>\n    </tr>\n    <tr>\n      <th>2020145</th>\n      <td>2</td>\n      <td>24.0</td>\n      <td>1.770088</td>\n      <td>0.336431</td>\n      <td>1.753595</td>\n      <td>1.753456</td>\n      <td>0.205391</td>\n      <td>0.000000</td>\n      <td>0.094659</td>\n      <td>0.484863</td>\n      <td>-0.316987</td>\n      <td>0.0</td>\n      <td>0.0</td>\n      <td>1.119589</td>\n      <td>0.629907</td>\n    </tr>\n    <tr>\n      <th>...</th>\n      <td>...</td>\n      <td>...</td>\n      <td>...</td>\n      <td>...</td>\n      <td>...</td>\n      <td>...</td>\n      <td>...</td>\n      <td>...</td>\n      <td>...</td>\n      <td>...</td>\n      <td>...</td>\n      <td>...</td>\n      <td>...</td>\n      <td>...</td>\n      <td>...</td>\n    </tr>\n    <tr>\n      <th>1261773</th>\n      <td>0</td>\n      <td>24.0</td>\n      <td>0.000000</td>\n      <td>0.000000</td>\n      <td>0.000000</td>\n      <td>0.000000</td>\n      <td>0.000000</td>\n      <td>0.000000</td>\n      <td>-0.312732</td>\n      <td>0.000000</td>\n      <td>0.000000</td>\n      <td>0.0</td>\n      <td>0.0</td>\n      <td>-0.764690</td>\n      <td>0.000000</td>\n    </tr>\n    <tr>\n      <th>494205</th>\n      <td>14</td>\n      <td>24.0</td>\n      <td>0.000000</td>\n      <td>0.000000</td>\n      <td>0.000000</td>\n      <td>0.000000</td>\n      <td>0.000000</td>\n      <td>0.000000</td>\n      <td>0.000000</td>\n      <td>0.000000</td>\n      <td>0.000000</td>\n      <td>0.0</td>\n      <td>0.0</td>\n      <td>-0.136597</td>\n      <td>0.000000</td>\n    </tr>\n    <tr>\n      <th>1288545</th>\n      <td>0</td>\n      <td>24.0</td>\n      <td>0.000000</td>\n      <td>0.000000</td>\n      <td>0.000000</td>\n      <td>0.000000</td>\n      <td>0.000000</td>\n      <td>-0.247246</td>\n      <td>0.000000</td>\n      <td>0.000000</td>\n      <td>0.000000</td>\n      <td>0.0</td>\n      <td>0.0</td>\n      <td>-0.674963</td>\n      <td>0.000000</td>\n    </tr>\n    <tr>\n      <th>391519</th>\n      <td>12</td>\n      <td>24.0</td>\n      <td>0.000000</td>\n      <td>0.000000</td>\n      <td>0.000000</td>\n      <td>0.000000</td>\n      <td>0.000000</td>\n      <td>0.000000</td>\n      <td>0.000000</td>\n      <td>0.000000</td>\n      <td>0.000000</td>\n      <td>0.0</td>\n      <td>0.0</td>\n      <td>-0.764690</td>\n      <td>0.000000</td>\n    </tr>\n    <tr>\n      <th>245290</th>\n      <td>0</td>\n      <td>24.0</td>\n      <td>-0.356810</td>\n      <td>-0.642833</td>\n      <td>-0.328479</td>\n      <td>-0.328342</td>\n      <td>0.477594</td>\n      <td>0.000000</td>\n      <td>-0.269368</td>\n      <td>-0.314140</td>\n      <td>-0.222476</td>\n      <td>0.0</td>\n      <td>0.0</td>\n      <td>0.087722</td>\n      <td>-0.593418</td>\n    </tr>\n  </tbody>\n</table>\n<p>430810 rows × 15 columns</p>\n</div>"
     },
     "execution_count": 20,
     "metadata": {},
     "output_type": "execute_result"
    }
   ],
   "source": [
    "X_val"
   ],
   "metadata": {
    "collapsed": false,
    "pycharm": {
     "name": "#%%\n"
    }
   }
  },
  {
   "cell_type": "code",
   "execution_count": 21,
   "outputs": [
    {
     "data": {
      "text/plain": "957056     0\n536962     0\n1575854    0\n1543057    0\n1520724    0\n          ..\n73349      1\n836489     0\n491263     0\n491755     1\n128037     0\nName: CHURN, Length: 1723238, dtype: int64"
     },
     "execution_count": 21,
     "metadata": {},
     "output_type": "execute_result"
    }
   ],
   "source": [
    "y"
   ],
   "metadata": {
    "collapsed": false,
    "pycharm": {
     "name": "#%%\n"
    }
   }
  },
  {
   "cell_type": "code",
   "execution_count": 22,
   "outputs": [
    {
     "data": {
      "text/plain": "417912     0\n1380278    0\n657158     1\n228934     1\n2020145    0\n          ..\n1261773    0\n494205     1\n1288545    0\n391519     0\n245290     0\nName: CHURN, Length: 430810, dtype: int64"
     },
     "execution_count": 22,
     "metadata": {},
     "output_type": "execute_result"
    }
   ],
   "source": [
    "y_val"
   ],
   "metadata": {
    "collapsed": false,
    "pycharm": {
     "name": "#%%\n"
    }
   }
  },
  {
   "cell_type": "code",
   "execution_count": 24,
   "outputs": [
    {
     "data": {
      "text/plain": "Index(['REGION', 'TENURE', 'MONTANT', 'FREQUENCE_RECH', 'REVENUE',\n       'ARPU_SEGMENT', 'FREQUENCE', 'DATA_VOLUME', 'ON_NET', 'ORANGE', 'TIGO',\n       'ZONE1', 'ZONE2', 'REGULARITY', 'FREQ_TOP_PACK'],\n      dtype='object')"
     },
     "execution_count": 24,
     "metadata": {},
     "output_type": "execute_result"
    }
   ],
   "source": [],
   "metadata": {
    "collapsed": false,
    "pycharm": {
     "name": "#%%\n"
    }
   }
  },
  {
   "cell_type": "code",
   "execution_count": 23,
   "outputs": [],
   "source": [
    "X.to_csv('0_X.csv')\n",
    "y.to_csv('0_y.csv')\n",
    "X_val.to_csv('0_X_val.csv')\n",
    "y_val.to_csv('0_y_val.csv')"
   ],
   "metadata": {
    "collapsed": false,
    "pycharm": {
     "name": "#%%\n"
    }
   }
  }
 ],
 "metadata": {
  "kernelspec": {
   "display_name": "Python 3",
   "language": "python",
   "name": "python3"
  },
  "language_info": {
   "codemirror_mode": {
    "name": "ipython",
    "version": 3
   },
   "file_extension": ".py",
   "mimetype": "text/x-python",
   "name": "python",
   "nbconvert_exporter": "python",
   "pygments_lexer": "ipython3",
   "version": "3.7.3"
  }
 },
 "nbformat": 4,
 "nbformat_minor": 4
}