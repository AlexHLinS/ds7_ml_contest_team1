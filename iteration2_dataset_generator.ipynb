{
 "cells": [
  {
   "cell_type": "markdown",
   "source": [
    "# Генератор наборов данных"
   ],
   "metadata": {
    "collapsed": false,
    "pycharm": {
     "name": "#%% md\n"
    }
   }
  },
  {
   "cell_type": "markdown",
   "source": [
    "## Генератор набора данных \"Вторая итерация\""
   ],
   "metadata": {
    "collapsed": false,
    "pycharm": {
     "name": "#%% md\n"
    }
   }
  },
  {
   "cell_type": "markdown",
   "source": [
    "\n",
    "| № п/п | Акроним поля           | Принятое решение                                                   |\n",
    "|-------|------------------------|--------------------------------------------------------------------|\n",
    "| 1     | MRG                    | Удалить из набора данных                                           |\n",
    "| 2     | REGION                 | Заполнить признаком “OTHER”                                        |\n",
    "| 3     | MONTANT                | Заполнить значением 0                                              |\n",
    "| 4     | FREQUENCE_RECH         | Заполнить значением 0                                              |\n",
    "| 5     | REVENUE                | Заполнить значением 0                                              |\n",
    "| 6     | ARPU_SEGMENT           | Заполнить значением 0                                              |\n",
    "| 7     | FREQUENCE              | Заполнить значением 0                                              |\n",
    "| 8     | DATA_VOLUME            | Заполнить значением 0                                              |\n",
    "| 9     | ON_NET                 | Заполнить значением 0                                              |\n",
    "| 10    | ORANGE                 | Заполнить значением 0                                              |\n",
    "| 11    | TIGO                   | Заполнить значением 0                                              |\n",
    "| 12    | ZONE1                  | Заполнить значением 0                                              |\n",
    "| 13    | ZONE2                  | Заполнить значением 0                                              |\n",
    "| 14    | TOP_PACK               | С помощью кластеризации определить возможное значение              |\n",
    "| 15    | MONTANT/FREQUENCE_RECH | Дополнительный параметр созданный делением соответствующих колонок |\n",
    "| 16    | REVENUE/FREQUENCE_RECH | Дополнительный параметр созданный делением соответствующих колонок |\n",
    "| 17    | DATA_VOLUME/REGULARITY | Дополнительный параметр созданный делением соответствующих колонок |\n",
    "| 18    | ON_NET/REGULARITY      | Дополнительный параметр созданный делением соответствующих колонок |\n",
    "| 19    | ORANGE/REGULARITY      | Дополнительный параметр созданный делением соответствующих колонок |\n",
    "| 20    | TIGO/REGULARITY        | Дополнительный параметр созданный делением соответствующих колонок |\n",
    "| 21    | ZONE1/REGULARITY       | Дополнительный параметр созданный делением соответствующих колонок |\n",
    "| 22    | ZONE2/REGULARITY       | Дополнительный параметр созданный делением соответствующих колонок |\n",
    "\n"
   ],
   "metadata": {
    "collapsed": false,
    "pycharm": {
     "name": "#%% md\n"
    }
   }
  },
  {
   "cell_type": "code",
   "execution_count": 1,
   "outputs": [],
   "source": [
    "import pickle\n",
    "\n",
    "import pandas as pd\n",
    "import numpy as np\n",
    "\n",
    "from sklearn.model_selection import train_test_split\n",
    "from sklearn.cluster import KMeans\n",
    "from sklearn.metrics import rand_score"
   ],
   "metadata": {
    "collapsed": false,
    "pycharm": {
     "name": "#%%\n"
    }
   }
  },
  {
   "cell_type": "code",
   "execution_count": 2,
   "outputs": [],
   "source": [
    "test_df = pd.read_csv('Test.csv')\n",
    "train_df = pd.read_csv('Train.csv')"
   ],
   "metadata": {
    "collapsed": false,
    "pycharm": {
     "name": "#%%\n"
    }
   }
  },
  {
   "cell_type": "code",
   "execution_count": 3,
   "outputs": [
    {
     "data": {
      "text/plain": "                                          user_id  REGION         TENURE  \\\n0        00000bfd7d50f01092811bc0c8d7b0d6fe7c3596  FATICK   K > 24 month   \n1        00000cb4a5d760de88fecb38e2f71b7bec52e834     NaN  I 18-21 month   \n2        00001654a9d9f96303d9969d0a4a851714a4bb57     NaN   K > 24 month   \n3        00001dd6fa45f7ba044bd5d84937be464ce78ac2   DAKAR   K > 24 month   \n4        000028d9e13a595abe061f9b58f3d76ab907850f   DAKAR   K > 24 month   \n...                                           ...     ...            ...   \n2154043  ffffe85215ddc71a84f95af0afb0deeea90e6967     NaN   K > 24 month   \n2154044  ffffeaaa9289cdba0ac000f0ab4b48f4aa74ed15   THIES   K > 24 month   \n2154045  fffff172fda1b4bb38a95385951908bb92379809     NaN   K > 24 month   \n2154046  fffff5911296937a37f09a37a549da2e0dad6dbb   THIES   K > 24 month   \n2154047  fffff6dbff1508ea2bfe814e5ab2729ce6b788c2     NaN   K > 24 month   \n\n         MONTANT  FREQUENCE_RECH  REVENUE  ARPU_SEGMENT  FREQUENCE  \\\n0         4250.0            15.0   4251.0        1417.0       17.0   \n1            NaN             NaN      NaN           NaN        NaN   \n2         3600.0             2.0   1020.0         340.0        2.0   \n3        13500.0            15.0  13502.0        4501.0       18.0   \n4         1000.0             1.0    985.0         328.0        1.0   \n...          ...             ...      ...           ...        ...   \n2154043      NaN             NaN      NaN           NaN        NaN   \n2154044   6100.0            15.0   5800.0        1933.0       15.0   \n2154045      NaN             NaN      NaN           NaN        NaN   \n2154046  10000.0            11.0   7120.0        2373.0       13.0   \n2154047      NaN             NaN      NaN           NaN        NaN   \n\n         DATA_VOLUME  ON_NET  ORANGE  TIGO  ZONE1  ZONE2 MRG  REGULARITY  \\\n0                4.0   388.0    46.0   1.0    1.0    2.0  NO          54   \n1                NaN     NaN     NaN   NaN    NaN    NaN  NO           4   \n2                NaN    90.0    46.0   7.0    NaN    NaN  NO          17   \n3            43804.0    41.0   102.0   2.0    NaN    NaN  NO          62   \n4                NaN    39.0    24.0   NaN    NaN    NaN  NO          11   \n...              ...     ...     ...   ...    ...    ...  ..         ...   \n2154043          NaN     NaN     NaN   NaN    NaN    NaN  NO           6   \n2154044        621.0    26.0    40.0  40.0    NaN    NaN  NO          55   \n2154045          NaN     NaN     NaN   NaN    NaN    NaN  NO           1   \n2154046          NaN     0.0   140.0  13.0    NaN    NaN  NO          28   \n2154047          2.0     NaN     NaN   NaN    NaN    NaN  NO          62   \n\n                               TOP_PACK  FREQ_TOP_PACK  CHURN  \n0        On net 200F=Unlimited _call24H            8.0      0  \n1                                   NaN            NaN      1  \n2               On-net 1000F=10MilF;10d            1.0      0  \n3                     Data:1000F=5GB,7d           11.0      0  \n4           Mixt 250F=Unlimited_call24H            2.0      0  \n...                                 ...            ...    ...  \n2154043                             NaN            NaN      0  \n2154044           Data: 200 F=100MB,24H            9.0      0  \n2154045                             NaN            NaN      1  \n2154046           All-net 500F=2000F;5d           12.0      0  \n2154047                             NaN            NaN      1  \n\n[2154048 rows x 19 columns]",
      "text/html": "<div>\n<style scoped>\n    .dataframe tbody tr th:only-of-type {\n        vertical-align: middle;\n    }\n\n    .dataframe tbody tr th {\n        vertical-align: top;\n    }\n\n    .dataframe thead th {\n        text-align: right;\n    }\n</style>\n<table border=\"1\" class=\"dataframe\">\n  <thead>\n    <tr style=\"text-align: right;\">\n      <th></th>\n      <th>user_id</th>\n      <th>REGION</th>\n      <th>TENURE</th>\n      <th>MONTANT</th>\n      <th>FREQUENCE_RECH</th>\n      <th>REVENUE</th>\n      <th>ARPU_SEGMENT</th>\n      <th>FREQUENCE</th>\n      <th>DATA_VOLUME</th>\n      <th>ON_NET</th>\n      <th>ORANGE</th>\n      <th>TIGO</th>\n      <th>ZONE1</th>\n      <th>ZONE2</th>\n      <th>MRG</th>\n      <th>REGULARITY</th>\n      <th>TOP_PACK</th>\n      <th>FREQ_TOP_PACK</th>\n      <th>CHURN</th>\n    </tr>\n  </thead>\n  <tbody>\n    <tr>\n      <th>0</th>\n      <td>00000bfd7d50f01092811bc0c8d7b0d6fe7c3596</td>\n      <td>FATICK</td>\n      <td>K &gt; 24 month</td>\n      <td>4250.0</td>\n      <td>15.0</td>\n      <td>4251.0</td>\n      <td>1417.0</td>\n      <td>17.0</td>\n      <td>4.0</td>\n      <td>388.0</td>\n      <td>46.0</td>\n      <td>1.0</td>\n      <td>1.0</td>\n      <td>2.0</td>\n      <td>NO</td>\n      <td>54</td>\n      <td>On net 200F=Unlimited _call24H</td>\n      <td>8.0</td>\n      <td>0</td>\n    </tr>\n    <tr>\n      <th>1</th>\n      <td>00000cb4a5d760de88fecb38e2f71b7bec52e834</td>\n      <td>NaN</td>\n      <td>I 18-21 month</td>\n      <td>NaN</td>\n      <td>NaN</td>\n      <td>NaN</td>\n      <td>NaN</td>\n      <td>NaN</td>\n      <td>NaN</td>\n      <td>NaN</td>\n      <td>NaN</td>\n      <td>NaN</td>\n      <td>NaN</td>\n      <td>NaN</td>\n      <td>NO</td>\n      <td>4</td>\n      <td>NaN</td>\n      <td>NaN</td>\n      <td>1</td>\n    </tr>\n    <tr>\n      <th>2</th>\n      <td>00001654a9d9f96303d9969d0a4a851714a4bb57</td>\n      <td>NaN</td>\n      <td>K &gt; 24 month</td>\n      <td>3600.0</td>\n      <td>2.0</td>\n      <td>1020.0</td>\n      <td>340.0</td>\n      <td>2.0</td>\n      <td>NaN</td>\n      <td>90.0</td>\n      <td>46.0</td>\n      <td>7.0</td>\n      <td>NaN</td>\n      <td>NaN</td>\n      <td>NO</td>\n      <td>17</td>\n      <td>On-net 1000F=10MilF;10d</td>\n      <td>1.0</td>\n      <td>0</td>\n    </tr>\n    <tr>\n      <th>3</th>\n      <td>00001dd6fa45f7ba044bd5d84937be464ce78ac2</td>\n      <td>DAKAR</td>\n      <td>K &gt; 24 month</td>\n      <td>13500.0</td>\n      <td>15.0</td>\n      <td>13502.0</td>\n      <td>4501.0</td>\n      <td>18.0</td>\n      <td>43804.0</td>\n      <td>41.0</td>\n      <td>102.0</td>\n      <td>2.0</td>\n      <td>NaN</td>\n      <td>NaN</td>\n      <td>NO</td>\n      <td>62</td>\n      <td>Data:1000F=5GB,7d</td>\n      <td>11.0</td>\n      <td>0</td>\n    </tr>\n    <tr>\n      <th>4</th>\n      <td>000028d9e13a595abe061f9b58f3d76ab907850f</td>\n      <td>DAKAR</td>\n      <td>K &gt; 24 month</td>\n      <td>1000.0</td>\n      <td>1.0</td>\n      <td>985.0</td>\n      <td>328.0</td>\n      <td>1.0</td>\n      <td>NaN</td>\n      <td>39.0</td>\n      <td>24.0</td>\n      <td>NaN</td>\n      <td>NaN</td>\n      <td>NaN</td>\n      <td>NO</td>\n      <td>11</td>\n      <td>Mixt 250F=Unlimited_call24H</td>\n      <td>2.0</td>\n      <td>0</td>\n    </tr>\n    <tr>\n      <th>...</th>\n      <td>...</td>\n      <td>...</td>\n      <td>...</td>\n      <td>...</td>\n      <td>...</td>\n      <td>...</td>\n      <td>...</td>\n      <td>...</td>\n      <td>...</td>\n      <td>...</td>\n      <td>...</td>\n      <td>...</td>\n      <td>...</td>\n      <td>...</td>\n      <td>...</td>\n      <td>...</td>\n      <td>...</td>\n      <td>...</td>\n      <td>...</td>\n    </tr>\n    <tr>\n      <th>2154043</th>\n      <td>ffffe85215ddc71a84f95af0afb0deeea90e6967</td>\n      <td>NaN</td>\n      <td>K &gt; 24 month</td>\n      <td>NaN</td>\n      <td>NaN</td>\n      <td>NaN</td>\n      <td>NaN</td>\n      <td>NaN</td>\n      <td>NaN</td>\n      <td>NaN</td>\n      <td>NaN</td>\n      <td>NaN</td>\n      <td>NaN</td>\n      <td>NaN</td>\n      <td>NO</td>\n      <td>6</td>\n      <td>NaN</td>\n      <td>NaN</td>\n      <td>0</td>\n    </tr>\n    <tr>\n      <th>2154044</th>\n      <td>ffffeaaa9289cdba0ac000f0ab4b48f4aa74ed15</td>\n      <td>THIES</td>\n      <td>K &gt; 24 month</td>\n      <td>6100.0</td>\n      <td>15.0</td>\n      <td>5800.0</td>\n      <td>1933.0</td>\n      <td>15.0</td>\n      <td>621.0</td>\n      <td>26.0</td>\n      <td>40.0</td>\n      <td>40.0</td>\n      <td>NaN</td>\n      <td>NaN</td>\n      <td>NO</td>\n      <td>55</td>\n      <td>Data: 200 F=100MB,24H</td>\n      <td>9.0</td>\n      <td>0</td>\n    </tr>\n    <tr>\n      <th>2154045</th>\n      <td>fffff172fda1b4bb38a95385951908bb92379809</td>\n      <td>NaN</td>\n      <td>K &gt; 24 month</td>\n      <td>NaN</td>\n      <td>NaN</td>\n      <td>NaN</td>\n      <td>NaN</td>\n      <td>NaN</td>\n      <td>NaN</td>\n      <td>NaN</td>\n      <td>NaN</td>\n      <td>NaN</td>\n      <td>NaN</td>\n      <td>NaN</td>\n      <td>NO</td>\n      <td>1</td>\n      <td>NaN</td>\n      <td>NaN</td>\n      <td>1</td>\n    </tr>\n    <tr>\n      <th>2154046</th>\n      <td>fffff5911296937a37f09a37a549da2e0dad6dbb</td>\n      <td>THIES</td>\n      <td>K &gt; 24 month</td>\n      <td>10000.0</td>\n      <td>11.0</td>\n      <td>7120.0</td>\n      <td>2373.0</td>\n      <td>13.0</td>\n      <td>NaN</td>\n      <td>0.0</td>\n      <td>140.0</td>\n      <td>13.0</td>\n      <td>NaN</td>\n      <td>NaN</td>\n      <td>NO</td>\n      <td>28</td>\n      <td>All-net 500F=2000F;5d</td>\n      <td>12.0</td>\n      <td>0</td>\n    </tr>\n    <tr>\n      <th>2154047</th>\n      <td>fffff6dbff1508ea2bfe814e5ab2729ce6b788c2</td>\n      <td>NaN</td>\n      <td>K &gt; 24 month</td>\n      <td>NaN</td>\n      <td>NaN</td>\n      <td>NaN</td>\n      <td>NaN</td>\n      <td>NaN</td>\n      <td>2.0</td>\n      <td>NaN</td>\n      <td>NaN</td>\n      <td>NaN</td>\n      <td>NaN</td>\n      <td>NaN</td>\n      <td>NO</td>\n      <td>62</td>\n      <td>NaN</td>\n      <td>NaN</td>\n      <td>1</td>\n    </tr>\n  </tbody>\n</table>\n<p>2154048 rows × 19 columns</p>\n</div>"
     },
     "execution_count": 3,
     "metadata": {},
     "output_type": "execute_result"
    }
   ],
   "source": [
    "train_df"
   ],
   "metadata": {
    "collapsed": false,
    "pycharm": {
     "name": "#%%\n"
    }
   }
  },
  {
   "cell_type": "code",
   "execution_count": 4,
   "outputs": [],
   "source": [
    "top_pack_cats = {'unlimited': [], 'data': [], 'mixt': [], 'net': [], 'evc': [], 'daily': [], 'week': [],\n",
    "                 'month': [], 'pilot': [], 'gprs': [], 'wifi': [], 'internat': [], 'other': []}\n",
    "\n",
    "\n",
    "def top_pack_coding(top_pack_value):\n",
    "    global top_pack_cats\n",
    "    for key in top_pack_cats.keys():\n",
    "        if str(top_pack_value).lower() in top_pack_cats[key]:\n",
    "            return key\n",
    "\n",
    "\n",
    "def convert_packs(df: pd.DataFrame) -> pd.DataFrame:\n",
    "    global top_pack_cats\n",
    "\n",
    "    packs = list(df['TOP_PACK'].unique())\n",
    "\n",
    "    k = tuple(top_pack_cats.keys())\n",
    "\n",
    "    for pack in packs:\n",
    "        if str(k[0]) in str(pack).lower():\n",
    "            top_pack_cats[k[0]].append(str(pack).lower())\n",
    "        elif str(k[1]) in str(pack).lower():\n",
    "            top_pack_cats[k[1]].append(str(pack).lower())\n",
    "        elif str(k[2]) in str(pack).lower():\n",
    "            top_pack_cats[k[2]].append(str(pack).lower())\n",
    "        elif str(k[3]) in str(pack).lower():\n",
    "            top_pack_cats[k[3]].append(str(pack).lower())\n",
    "        elif str(k[4]) in str(pack).lower():\n",
    "            top_pack_cats[k[4]].append(str(pack).lower())\n",
    "        elif str(k[5]) in str(pack).lower():\n",
    "            top_pack_cats[k[5]].append(str(pack).lower())\n",
    "        elif str(k[6]) in str(pack).lower():\n",
    "            top_pack_cats[k[6]].append(str(pack).lower())\n",
    "        elif str(k[7]) in str(pack).lower():\n",
    "            top_pack_cats[k[7]].append(str(pack).lower())\n",
    "        elif str(k[8]) in str(pack).lower():\n",
    "            top_pack_cats[k[8]].append(str(pack).lower())\n",
    "        elif str(k[9]) in str(pack).lower():\n",
    "            top_pack_cats[k[9]].append(str(pack).lower())\n",
    "        elif str(k[10]) in str(pack).lower():\n",
    "            top_pack_cats[k[10]].append(str(pack).lower())\n",
    "        elif str(k[11]) in str(pack).lower():\n",
    "            top_pack_cats[k[11]].append(str(pack).lower())\n",
    "        else:\n",
    "            top_pack_cats[k[12]].append(str(pack).lower())\n",
    "\n",
    "    print(f'Разнесено названий по категориям: {str([len(top_pack_cats[_]) for _ in top_pack_cats.keys()])}')\n",
    "\n",
    "    df['TOP_PACK'] = df['TOP_PACK'].apply(top_pack_coding)\n",
    "    return df"
   ],
   "metadata": {
    "collapsed": false,
    "pycharm": {
     "name": "#%%\n"
    }
   }
  },
  {
   "cell_type": "code",
   "execution_count": 10,
   "outputs": [],
   "source": [
    "def convert_df_to_it2(it1_df: pd.DataFrame, is_train_df: bool) -> pd.DataFrame:\n",
    "    it1_df = it1_df.drop(columns=['MRG'])\n",
    "    # заполняем и переводим в int для оптимизации памяти\n",
    "    it1_df[\"REGION\"] = it1_df[\"REGION\"].fillna(\"OTHER\")\n",
    "    it1_df[\"MONTANT\"] = it1_df[\"MONTANT\"].fillna(0)\n",
    "    it1_df[\"FREQUENCE_RECH\"] = it1_df[\"FREQUENCE_RECH\"].fillna(0)\n",
    "    it1_df[\"REVENUE\"] = it1_df[\"REVENUE\"].fillna(0)\n",
    "    it1_df[\"ARPU_SEGMENT\"] = it1_df[\"ARPU_SEGMENT\"].fillna(0)\n",
    "    it1_df[\"FREQUENCE\"] = it1_df[\"FREQUENCE\"].fillna(0)\n",
    "    it1_df[\"DATA_VOLUME\"] = it1_df[\"DATA_VOLUME\"].fillna(0)\n",
    "    it1_df[\"ON_NET\"] = it1_df[\"ON_NET\"].fillna(0)\n",
    "    it1_df[\"ORANGE\"] = it1_df[\"ORANGE\"].fillna(0)\n",
    "    it1_df[\"TIGO\"] = it1_df[\"TIGO\"].fillna(0)\n",
    "    it1_df[\"ZONE1\"] = it1_df[\"ZONE1\"].fillna(0)\n",
    "    it1_df[\"ZONE2\"] = it1_df[\"ZONE2\"].fillna(0)\n",
    "\n",
    "    columns_to_drop = ['TOP_PACK', 'FREQ_TOP_PACK', 'user_id']\n",
    "    cluster_model_file = 'TOP_PACK_predict_model_test.pkl'\n",
    "\n",
    "    if is_train_df:\n",
    "        columns_to_drop.append('CHURN')\n",
    "        cluster_model_file = 'TOP_PACK_predict_model.pkl'\n",
    "\n",
    "    ten_reg_df = it1_df[['user_id', \"TENURE\", \"REGION\"]]\n",
    "    it1_df = pd.get_dummies(it1_df, columns=['TENURE', 'REGION'])\n",
    "\n",
    "    top_pack_predict_df = it1_df[it1_df[\"TOP_PACK\"].isna()].drop(\n",
    "        columns=columns_to_drop)\n",
    "\n",
    "    # набор данных для обучения и теста метода KNN для дальнейшего предсказания TOP_PACK\n",
    "    # разделение на параметры и целевую переменную\n",
    "    top_pack_traintest_df = it1_df[~it1_df[\"TOP_PACK\"].isna()]\n",
    "    top_pack_X_df = top_pack_traintest_df.drop(columns=columns_to_drop)\n",
    "    top_pack_y_df = top_pack_traintest_df['TOP_PACK']\n",
    "\n",
    "    # создаем модель для предсказания TOP_PACK методом кластеризации,\n",
    "    # количество кластеров == кол-ву возможных значений TOP_PACK\n",
    "    cluster_model1 = KMeans(n_clusters=len(it1_df['TOP_PACK'].unique()))\n",
    "    top_pack_X_df_train, top_pack_X_df_test, top_pack_y_df_train, top_pack_y_df_test = train_test_split(top_pack_X_df,\n",
    "                                                                                                        top_pack_y_df,\n",
    "                                                                                                        train_size=0.7,\n",
    "                                                                                                        random_state=777)\n",
    "    # проверяем если модельку уже делали, то просто загружаем её, если нет - обучаем\n",
    "    try:\n",
    "        cluster_model1 = pickle.load(open(cluster_model_file, 'rb'))\n",
    "    except FileNotFoundError:\n",
    "        print('File not found, training new model')\n",
    "        cluster_model1.fit(top_pack_X_df_train)\n",
    "        pickle.dump(cluster_model1, open(cluster_model_file, 'wb'))\n",
    "\n",
    "    predicted_y_train = cluster_model1.predict(top_pack_X_df_train)\n",
    "    predicted_y_test = cluster_model1.predict(top_pack_X_df_test)\n",
    "\n",
    "    print(\n",
    "        f\"Результаты кластеризации:\\nТренировочная выборка: {rand_score(top_pack_y_df_train, predicted_y_train)}\\nТестовая выборка: {rand_score(top_pack_y_df_test, predicted_y_test)}\")\n",
    "\n",
    "    # заполняем отсутствующие значения \"TOP_PACK\"\n",
    "    top_pack_predict_df_values = cluster_model1.predict(top_pack_predict_df)\n",
    "    top_pack_labels = it1_df['TOP_PACK'].unique()\n",
    "    top_pack_predict_df['TOP_PACK'] = top_pack_labels[top_pack_predict_df_values]\n",
    "    top_pack_y_df = top_pack_y_df.append(top_pack_predict_df['TOP_PACK']).sort_index()\n",
    "    it1_df['TOP_PACK'] = top_pack_y_df\n",
    "    it1_df['REGION'] = ten_reg_df['REGION']\n",
    "    it1_df['TENURE'] = ten_reg_df['TENURE']\n",
    "\n",
    "    it1_df = it1_df.drop(\n",
    "        columns=['TENURE_D 3-6 month', 'TENURE_E 6-9 month', 'TENURE_F 9-12 month', 'TENURE_G 12-15 month',\n",
    "                 'TENURE_H 15-18 month', 'TENURE_I 18-21 month', 'TENURE_J 21-24 month', 'TENURE_K > 24 month',\n",
    "                 'REGION_DAKAR', 'REGION_DIOURBEL', 'REGION_FATICK', 'REGION_KAFFRINE', 'REGION_KAOLACK',\n",
    "                 'REGION_KEDOUGOU', 'REGION_KOLDA', 'REGION_LOUGA', 'REGION_MATAM', 'REGION_OTHER',\n",
    "                 'REGION_SAINT-LOUIS', 'REGION_SEDHIOU', 'REGION_TAMBACOUNDA', 'REGION_THIES', 'REGION_ZIGUINCHOR'])\n",
    "\n",
    "    it1_df['MONTANT/FREQUENCE_RECH'] = it1_df['MONTANT'] / it1_df['FREQUENCE_RECH']\n",
    "    it1_df['MONTANT/FREQUENCE_RECH'] = it1_df['MONTANT/FREQUENCE_RECH'].fillna(0)\n",
    "\n",
    "    it1_df['REVENUE/FREQUENCE_RECH'] = it1_df['REVENUE'] / it1_df['FREQUENCE_RECH']\n",
    "    it1_df['REVENUE/FREQUENCE_RECH'] = it1_df['REVENUE/FREQUENCE_RECH'].fillna(0)\n",
    "\n",
    "    it1_df['DATA_VOLUME/REGULARITY'] = it1_df['DATA_VOLUME'] / it1_df['REGULARITY']\n",
    "    it1_df['DATA_VOLUME/REGULARITY'] = it1_df['DATA_VOLUME/REGULARITY'].fillna(0)\n",
    "\n",
    "    it1_df['ON_NET/REGULARITY'] = it1_df['ON_NET'] / it1_df['REGULARITY']\n",
    "    it1_df['ON_NET/REGULARITY'] = it1_df['ON_NET/REGULARITY'].fillna(0)\n",
    "\n",
    "    it1_df['ORANGE/REGULARITY'] = it1_df['ORANGE'] / it1_df['REGULARITY']\n",
    "    it1_df['ORANGE/REGULARITY'] = it1_df['ORANGE/REGULARITY'].fillna(0)\n",
    "\n",
    "    it1_df['TIGO/REGULARITY'] = it1_df['TIGO'] / it1_df['REGULARITY']\n",
    "    it1_df['TIGO/REGULARITY'] = it1_df['TIGO/REGULARITY'].fillna(0)\n",
    "\n",
    "    it1_df['ZONE1/REGULARITY'] = it1_df['ZONE1'] / it1_df['REGULARITY']\n",
    "    it1_df['ZONE1/REGULARITY'] = it1_df['ZONE1/REGULARITY'].fillna(0)\n",
    "\n",
    "    it1_df['ZONE2/REGULARITY'] = it1_df['ZONE2'] / it1_df['REGULARITY']\n",
    "    it1_df['ZONE2/REGULARITY'] = it1_df['ZONE2/REGULARITY'].fillna(0)\n",
    "\n",
    "    it1_df = convert_packs(it1_df)\n",
    "\n",
    "    return it1_df\n",
    "\n"
   ],
   "metadata": {
    "collapsed": false,
    "pycharm": {
     "name": "#%%\n"
    }
   }
  },
  {
   "cell_type": "code",
   "execution_count": 6,
   "outputs": [
    {
     "name": "stdout",
     "output_type": "stream",
     "text": [
      "Результаты кластеризации:\n",
      "Тренировочная выборка: 0.8616698789026064\n",
      "Тестовая выборка: 0.8619286964480138\n"
     ]
    },
    {
     "name": "stderr",
     "output_type": "stream",
     "text": [
      "/var/folders/gp/7c7n5yqd14z8b8k4499t4r_m0000gn/T/ipykernel_936/3547515623.py:59: FutureWarning: The series.append method is deprecated and will be removed from pandas in a future version. Use pandas.concat instead.\n",
      "  top_pack_y_df = top_pack_y_df.append(top_pack_predict_df['TOP_PACK']).sort_index()\n"
     ]
    },
    {
     "name": "stdout",
     "output_type": "stream",
     "text": [
      "Разнесено названий по категориям: [12, 26, 10, 23, 8, 6, 6, 8, 6, 4, 3, 3, 26]\n"
     ]
    }
   ],
   "source": [
    "convert_df_to_it2(train_df, True).to_csv('iteration2.csv')"
   ],
   "metadata": {
    "collapsed": false,
    "pycharm": {
     "name": "#%%\n"
    }
   }
  },
  {
   "cell_type": "code",
   "execution_count": 11,
   "outputs": [
    {
     "name": "stdout",
     "output_type": "stream",
     "text": [
      "File not found, training new model\n",
      "Результаты кластеризации:\n",
      "Тренировочная выборка: 0.8515773028140727\n",
      "Тестовая выборка: 0.8523488948081825\n"
     ]
    },
    {
     "name": "stderr",
     "output_type": "stream",
     "text": [
      "/var/folders/gp/7c7n5yqd14z8b8k4499t4r_m0000gn/T/ipykernel_936/3172395905.py:61: FutureWarning: The series.append method is deprecated and will be removed from pandas in a future version. Use pandas.concat instead.\n",
      "  top_pack_y_df = top_pack_y_df.append(top_pack_predict_df['TOP_PACK']).sort_index()\n"
     ]
    },
    {
     "name": "stdout",
     "output_type": "stream",
     "text": [
      "Разнесено названий по категориям: [19, 46, 20, 40, 14, 12, 10, 13, 9, 4, 6, 6, 45]\n"
     ]
    }
   ],
   "source": [
    "convert_df_to_it2(test_df, False).to_csv('iteration2_test.csv')"
   ],
   "metadata": {
    "collapsed": false,
    "pycharm": {
     "name": "#%%\n"
    }
   }
  },
  {
   "cell_type": "markdown",
   "source": [
    "## Генератор набора данных \"Третья итерация\""
   ],
   "metadata": {
    "collapsed": false,
    "pycharm": {
     "name": "#%% md\n"
    }
   }
  },
  {
   "cell_type": "markdown",
   "source": [
    "\n",
    "| № п/п | Акроним поля           | Принятое решение                                                   |\n",
    "|-------|------------------------|--------------------------------------------------------------------|\n",
    "| 1     | MRG                    | Удалить из набора данных                                           |\n",
    "| 2     | REGION                 | Закодировать OneHot                                                |\n",
    "| 3     | MONTANT                | Заполнить значением 0                                              |\n",
    "| 4     | FREQUENCE_RECH         | Заполнить значением 0                                              |\n",
    "| 5     | REVENUE                | Заполнить значением 0                                              |\n",
    "| 6     | ARPU_SEGMENT           | Заполнить значением 0                                              |\n",
    "| 7     | FREQUENCE              | Заполнить значением 0                                              |\n",
    "| 8     | DATA_VOLUME            | Заполнить значением 0                                              |\n",
    "| 9     | ON_NET                 | Заполнить значением 0                                              |\n",
    "| 10    | ORANGE                 | Заполнить значением 0                                              |\n",
    "| 11    | TIGO                   | Заполнить значением 0                                              |\n",
    "| 12    | ZONE1                  | Заполнить значением 0                                              |\n",
    "| 13    | ZONE2                  | Заполнить значением 0                                              |\n",
    "| 14    | TENURE                 | Закодировать OneHot                                                |\n",
    "| 15    | TOP_PACK               | Определенные значения, сведенные в группы закодировать OneHot      |\n",
    "| 16    | MONTANT/FREQUENCE_RECH | Дополнительный параметр созданный делением соответствующих колонок |\n",
    "| 17    | REVENUE/FREQUENCE_RECH | Дополнительный параметр созданный делением соответствующих колонок |\n",
    "| 18    | DATA_VOLUME/REGULARITY | Дополнительный параметр созданный делением соответствующих колонок |\n",
    "| 19    | ON_NET/REGULARITY      | Дополнительный параметр созданный делением соответствующих колонок |\n",
    "| 20    | ORANGE/REGULARITY      | Дополнительный параметр созданный делением соответствующих колонок |\n",
    "| 21    | TIGO/REGULARITY        | Дополнительный параметр созданный делением соответствующих колонок |\n",
    "| 22    | ZONE1/REGULARITY       | Дополнительный параметр созданный делением соответствующих колонок |\n",
    "| 23    | ZONE2/REGULARITY       | Дополнительный параметр созданный делением соответствующих колонок |\n"
   ],
   "metadata": {
    "collapsed": false,
    "pycharm": {
     "name": "#%% md\n"
    }
   }
  },
  {
   "cell_type": "code",
   "execution_count": 13,
   "outputs": [],
   "source": [
    "def convert_df_to_it3(it2_df: pd.DataFrame, is_train_df: bool) -> pd.DataFrame:\n",
    "    it3_df = pd.get_dummies(it2_df, columns=['TENURE', 'REGION', 'TOP_PACK'])\n",
    "    return it3_df"
   ],
   "metadata": {
    "collapsed": false,
    "pycharm": {
     "name": "#%%\n"
    }
   }
  },
  {
   "cell_type": "code",
   "execution_count": 14,
   "outputs": [
    {
     "data": {
      "text/plain": "         Unnamed: 0                                   user_id  MONTANT  \\\n0                 0  00000bfd7d50f01092811bc0c8d7b0d6fe7c3596   4250.0   \n1                 1  00000cb4a5d760de88fecb38e2f71b7bec52e834      0.0   \n2                 2  00001654a9d9f96303d9969d0a4a851714a4bb57   3600.0   \n3                 3  00001dd6fa45f7ba044bd5d84937be464ce78ac2  13500.0   \n4                 4  000028d9e13a595abe061f9b58f3d76ab907850f   1000.0   \n...             ...                                       ...      ...   \n2154043     2154043  ffffe85215ddc71a84f95af0afb0deeea90e6967      0.0   \n2154044     2154044  ffffeaaa9289cdba0ac000f0ab4b48f4aa74ed15   6100.0   \n2154045     2154045  fffff172fda1b4bb38a95385951908bb92379809      0.0   \n2154046     2154046  fffff5911296937a37f09a37a549da2e0dad6dbb  10000.0   \n2154047     2154047  fffff6dbff1508ea2bfe814e5ab2729ce6b788c2      0.0   \n\n         FREQUENCE_RECH  REVENUE  ARPU_SEGMENT  FREQUENCE  DATA_VOLUME  \\\n0                  15.0   4251.0        1417.0       17.0          4.0   \n1                   0.0      0.0           0.0        0.0          0.0   \n2                   2.0   1020.0         340.0        2.0          0.0   \n3                  15.0  13502.0        4501.0       18.0      43804.0   \n4                   1.0    985.0         328.0        1.0          0.0   \n...                 ...      ...           ...        ...          ...   \n2154043             0.0      0.0           0.0        0.0          0.0   \n2154044            15.0   5800.0        1933.0       15.0        621.0   \n2154045             0.0      0.0           0.0        0.0          0.0   \n2154046            11.0   7120.0        2373.0       13.0          0.0   \n2154047             0.0      0.0           0.0        0.0          2.0   \n\n         ON_NET  ORANGE  ...  REGION         TENURE  MONTANT/FREQUENCE_RECH  \\\n0         388.0    46.0  ...  FATICK   K > 24 month              283.333333   \n1           0.0     0.0  ...   OTHER  I 18-21 month                0.000000   \n2          90.0    46.0  ...   OTHER   K > 24 month             1800.000000   \n3          41.0   102.0  ...   DAKAR   K > 24 month              900.000000   \n4          39.0    24.0  ...   DAKAR   K > 24 month             1000.000000   \n...         ...     ...  ...     ...            ...                     ...   \n2154043     0.0     0.0  ...   OTHER   K > 24 month                0.000000   \n2154044    26.0    40.0  ...   THIES   K > 24 month              406.666667   \n2154045     0.0     0.0  ...   OTHER   K > 24 month                0.000000   \n2154046     0.0   140.0  ...   THIES   K > 24 month              909.090909   \n2154047     0.0     0.0  ...   OTHER   K > 24 month                0.000000   \n\n         REVENUE/FREQUENCE_RECH DATA_VOLUME/REGULARITY  ON_NET/REGULARITY  \\\n0                    283.400000               0.074074           7.185185   \n1                      0.000000               0.000000           0.000000   \n2                    510.000000               0.000000           5.294118   \n3                    900.133333             706.516129           0.661290   \n4                    985.000000               0.000000           3.545455   \n...                         ...                    ...                ...   \n2154043                0.000000               0.000000           0.000000   \n2154044              386.666667              11.290909           0.472727   \n2154045                0.000000               0.000000           0.000000   \n2154046              647.272727               0.000000           0.000000   \n2154047                0.000000               0.032258           0.000000   \n\n         ORANGE/REGULARITY TIGO/REGULARITY ZONE1/REGULARITY  ZONE2/REGULARITY  \n0                 0.851852        0.018519         0.018519          0.037037  \n1                 0.000000        0.000000         0.000000          0.000000  \n2                 2.705882        0.411765         0.000000          0.000000  \n3                 1.645161        0.032258         0.000000          0.000000  \n4                 2.181818        0.000000         0.000000          0.000000  \n...                    ...             ...              ...               ...  \n2154043           0.000000        0.000000         0.000000          0.000000  \n2154044           0.727273        0.727273         0.000000          0.000000  \n2154045           0.000000        0.000000         0.000000          0.000000  \n2154046           5.000000        0.464286         0.000000          0.000000  \n2154047           0.000000        0.000000         0.000000          0.000000  \n\n[2154048 rows x 27 columns]",
      "text/html": "<div>\n<style scoped>\n    .dataframe tbody tr th:only-of-type {\n        vertical-align: middle;\n    }\n\n    .dataframe tbody tr th {\n        vertical-align: top;\n    }\n\n    .dataframe thead th {\n        text-align: right;\n    }\n</style>\n<table border=\"1\" class=\"dataframe\">\n  <thead>\n    <tr style=\"text-align: right;\">\n      <th></th>\n      <th>Unnamed: 0</th>\n      <th>user_id</th>\n      <th>MONTANT</th>\n      <th>FREQUENCE_RECH</th>\n      <th>REVENUE</th>\n      <th>ARPU_SEGMENT</th>\n      <th>FREQUENCE</th>\n      <th>DATA_VOLUME</th>\n      <th>ON_NET</th>\n      <th>ORANGE</th>\n      <th>...</th>\n      <th>REGION</th>\n      <th>TENURE</th>\n      <th>MONTANT/FREQUENCE_RECH</th>\n      <th>REVENUE/FREQUENCE_RECH</th>\n      <th>DATA_VOLUME/REGULARITY</th>\n      <th>ON_NET/REGULARITY</th>\n      <th>ORANGE/REGULARITY</th>\n      <th>TIGO/REGULARITY</th>\n      <th>ZONE1/REGULARITY</th>\n      <th>ZONE2/REGULARITY</th>\n    </tr>\n  </thead>\n  <tbody>\n    <tr>\n      <th>0</th>\n      <td>0</td>\n      <td>00000bfd7d50f01092811bc0c8d7b0d6fe7c3596</td>\n      <td>4250.0</td>\n      <td>15.0</td>\n      <td>4251.0</td>\n      <td>1417.0</td>\n      <td>17.0</td>\n      <td>4.0</td>\n      <td>388.0</td>\n      <td>46.0</td>\n      <td>...</td>\n      <td>FATICK</td>\n      <td>K &gt; 24 month</td>\n      <td>283.333333</td>\n      <td>283.400000</td>\n      <td>0.074074</td>\n      <td>7.185185</td>\n      <td>0.851852</td>\n      <td>0.018519</td>\n      <td>0.018519</td>\n      <td>0.037037</td>\n    </tr>\n    <tr>\n      <th>1</th>\n      <td>1</td>\n      <td>00000cb4a5d760de88fecb38e2f71b7bec52e834</td>\n      <td>0.0</td>\n      <td>0.0</td>\n      <td>0.0</td>\n      <td>0.0</td>\n      <td>0.0</td>\n      <td>0.0</td>\n      <td>0.0</td>\n      <td>0.0</td>\n      <td>...</td>\n      <td>OTHER</td>\n      <td>I 18-21 month</td>\n      <td>0.000000</td>\n      <td>0.000000</td>\n      <td>0.000000</td>\n      <td>0.000000</td>\n      <td>0.000000</td>\n      <td>0.000000</td>\n      <td>0.000000</td>\n      <td>0.000000</td>\n    </tr>\n    <tr>\n      <th>2</th>\n      <td>2</td>\n      <td>00001654a9d9f96303d9969d0a4a851714a4bb57</td>\n      <td>3600.0</td>\n      <td>2.0</td>\n      <td>1020.0</td>\n      <td>340.0</td>\n      <td>2.0</td>\n      <td>0.0</td>\n      <td>90.0</td>\n      <td>46.0</td>\n      <td>...</td>\n      <td>OTHER</td>\n      <td>K &gt; 24 month</td>\n      <td>1800.000000</td>\n      <td>510.000000</td>\n      <td>0.000000</td>\n      <td>5.294118</td>\n      <td>2.705882</td>\n      <td>0.411765</td>\n      <td>0.000000</td>\n      <td>0.000000</td>\n    </tr>\n    <tr>\n      <th>3</th>\n      <td>3</td>\n      <td>00001dd6fa45f7ba044bd5d84937be464ce78ac2</td>\n      <td>13500.0</td>\n      <td>15.0</td>\n      <td>13502.0</td>\n      <td>4501.0</td>\n      <td>18.0</td>\n      <td>43804.0</td>\n      <td>41.0</td>\n      <td>102.0</td>\n      <td>...</td>\n      <td>DAKAR</td>\n      <td>K &gt; 24 month</td>\n      <td>900.000000</td>\n      <td>900.133333</td>\n      <td>706.516129</td>\n      <td>0.661290</td>\n      <td>1.645161</td>\n      <td>0.032258</td>\n      <td>0.000000</td>\n      <td>0.000000</td>\n    </tr>\n    <tr>\n      <th>4</th>\n      <td>4</td>\n      <td>000028d9e13a595abe061f9b58f3d76ab907850f</td>\n      <td>1000.0</td>\n      <td>1.0</td>\n      <td>985.0</td>\n      <td>328.0</td>\n      <td>1.0</td>\n      <td>0.0</td>\n      <td>39.0</td>\n      <td>24.0</td>\n      <td>...</td>\n      <td>DAKAR</td>\n      <td>K &gt; 24 month</td>\n      <td>1000.000000</td>\n      <td>985.000000</td>\n      <td>0.000000</td>\n      <td>3.545455</td>\n      <td>2.181818</td>\n      <td>0.000000</td>\n      <td>0.000000</td>\n      <td>0.000000</td>\n    </tr>\n    <tr>\n      <th>...</th>\n      <td>...</td>\n      <td>...</td>\n      <td>...</td>\n      <td>...</td>\n      <td>...</td>\n      <td>...</td>\n      <td>...</td>\n      <td>...</td>\n      <td>...</td>\n      <td>...</td>\n      <td>...</td>\n      <td>...</td>\n      <td>...</td>\n      <td>...</td>\n      <td>...</td>\n      <td>...</td>\n      <td>...</td>\n      <td>...</td>\n      <td>...</td>\n      <td>...</td>\n      <td>...</td>\n    </tr>\n    <tr>\n      <th>2154043</th>\n      <td>2154043</td>\n      <td>ffffe85215ddc71a84f95af0afb0deeea90e6967</td>\n      <td>0.0</td>\n      <td>0.0</td>\n      <td>0.0</td>\n      <td>0.0</td>\n      <td>0.0</td>\n      <td>0.0</td>\n      <td>0.0</td>\n      <td>0.0</td>\n      <td>...</td>\n      <td>OTHER</td>\n      <td>K &gt; 24 month</td>\n      <td>0.000000</td>\n      <td>0.000000</td>\n      <td>0.000000</td>\n      <td>0.000000</td>\n      <td>0.000000</td>\n      <td>0.000000</td>\n      <td>0.000000</td>\n      <td>0.000000</td>\n    </tr>\n    <tr>\n      <th>2154044</th>\n      <td>2154044</td>\n      <td>ffffeaaa9289cdba0ac000f0ab4b48f4aa74ed15</td>\n      <td>6100.0</td>\n      <td>15.0</td>\n      <td>5800.0</td>\n      <td>1933.0</td>\n      <td>15.0</td>\n      <td>621.0</td>\n      <td>26.0</td>\n      <td>40.0</td>\n      <td>...</td>\n      <td>THIES</td>\n      <td>K &gt; 24 month</td>\n      <td>406.666667</td>\n      <td>386.666667</td>\n      <td>11.290909</td>\n      <td>0.472727</td>\n      <td>0.727273</td>\n      <td>0.727273</td>\n      <td>0.000000</td>\n      <td>0.000000</td>\n    </tr>\n    <tr>\n      <th>2154045</th>\n      <td>2154045</td>\n      <td>fffff172fda1b4bb38a95385951908bb92379809</td>\n      <td>0.0</td>\n      <td>0.0</td>\n      <td>0.0</td>\n      <td>0.0</td>\n      <td>0.0</td>\n      <td>0.0</td>\n      <td>0.0</td>\n      <td>0.0</td>\n      <td>...</td>\n      <td>OTHER</td>\n      <td>K &gt; 24 month</td>\n      <td>0.000000</td>\n      <td>0.000000</td>\n      <td>0.000000</td>\n      <td>0.000000</td>\n      <td>0.000000</td>\n      <td>0.000000</td>\n      <td>0.000000</td>\n      <td>0.000000</td>\n    </tr>\n    <tr>\n      <th>2154046</th>\n      <td>2154046</td>\n      <td>fffff5911296937a37f09a37a549da2e0dad6dbb</td>\n      <td>10000.0</td>\n      <td>11.0</td>\n      <td>7120.0</td>\n      <td>2373.0</td>\n      <td>13.0</td>\n      <td>0.0</td>\n      <td>0.0</td>\n      <td>140.0</td>\n      <td>...</td>\n      <td>THIES</td>\n      <td>K &gt; 24 month</td>\n      <td>909.090909</td>\n      <td>647.272727</td>\n      <td>0.000000</td>\n      <td>0.000000</td>\n      <td>5.000000</td>\n      <td>0.464286</td>\n      <td>0.000000</td>\n      <td>0.000000</td>\n    </tr>\n    <tr>\n      <th>2154047</th>\n      <td>2154047</td>\n      <td>fffff6dbff1508ea2bfe814e5ab2729ce6b788c2</td>\n      <td>0.0</td>\n      <td>0.0</td>\n      <td>0.0</td>\n      <td>0.0</td>\n      <td>0.0</td>\n      <td>2.0</td>\n      <td>0.0</td>\n      <td>0.0</td>\n      <td>...</td>\n      <td>OTHER</td>\n      <td>K &gt; 24 month</td>\n      <td>0.000000</td>\n      <td>0.000000</td>\n      <td>0.032258</td>\n      <td>0.000000</td>\n      <td>0.000000</td>\n      <td>0.000000</td>\n      <td>0.000000</td>\n      <td>0.000000</td>\n    </tr>\n  </tbody>\n</table>\n<p>2154048 rows × 27 columns</p>\n</div>"
     },
     "execution_count": 14,
     "metadata": {},
     "output_type": "execute_result"
    }
   ],
   "source": [
    "it2_df = pd.read_csv('iteration2.csv')\n",
    "it2_df"
   ],
   "metadata": {
    "collapsed": false,
    "pycharm": {
     "name": "#%%\n"
    }
   }
  },
  {
   "cell_type": "code",
   "execution_count": 15,
   "outputs": [
    {
     "data": {
      "text/plain": "         Unnamed: 0                                   user_id  MONTANT  \\\n0                 0  00000bfd7d50f01092811bc0c8d7b0d6fe7c3596   4250.0   \n1                 1  00000cb4a5d760de88fecb38e2f71b7bec52e834      0.0   \n2                 2  00001654a9d9f96303d9969d0a4a851714a4bb57   3600.0   \n3                 3  00001dd6fa45f7ba044bd5d84937be464ce78ac2  13500.0   \n4                 4  000028d9e13a595abe061f9b58f3d76ab907850f   1000.0   \n...             ...                                       ...      ...   \n2154043     2154043  ffffe85215ddc71a84f95af0afb0deeea90e6967      0.0   \n2154044     2154044  ffffeaaa9289cdba0ac000f0ab4b48f4aa74ed15   6100.0   \n2154045     2154045  fffff172fda1b4bb38a95385951908bb92379809      0.0   \n2154046     2154046  fffff5911296937a37f09a37a549da2e0dad6dbb  10000.0   \n2154047     2154047  fffff6dbff1508ea2bfe814e5ab2729ce6b788c2      0.0   \n\n         FREQUENCE_RECH  REVENUE  ARPU_SEGMENT  FREQUENCE  DATA_VOLUME  \\\n0                  15.0   4251.0        1417.0       17.0          4.0   \n1                   0.0      0.0           0.0        0.0          0.0   \n2                   2.0   1020.0         340.0        2.0          0.0   \n3                  15.0  13502.0        4501.0       18.0      43804.0   \n4                   1.0    985.0         328.0        1.0          0.0   \n...                 ...      ...           ...        ...          ...   \n2154043             0.0      0.0           0.0        0.0          0.0   \n2154044            15.0   5800.0        1933.0       15.0        621.0   \n2154045             0.0      0.0           0.0        0.0          0.0   \n2154046            11.0   7120.0        2373.0       13.0          0.0   \n2154047             0.0      0.0           0.0        0.0          2.0   \n\n         ON_NET  ORANGE  ...  TOP_PACK_gprs  TOP_PACK_internat  TOP_PACK_mixt  \\\n0         388.0    46.0  ...              0                  0              0   \n1           0.0     0.0  ...              0                  0              0   \n2          90.0    46.0  ...              0                  0              0   \n3          41.0   102.0  ...              0                  0              0   \n4          39.0    24.0  ...              0                  0              0   \n...         ...     ...  ...            ...                ...            ...   \n2154043     0.0     0.0  ...              0                  0              0   \n2154044    26.0    40.0  ...              0                  0              0   \n2154045     0.0     0.0  ...              0                  0              0   \n2154046     0.0   140.0  ...              0                  0              0   \n2154047     0.0     0.0  ...              0                  0              0   \n\n         TOP_PACK_month  TOP_PACK_net  TOP_PACK_other  TOP_PACK_pilot  \\\n0                     0             0               0               0   \n1                     0             0               0               0   \n2                     0             1               0               0   \n3                     0             0               0               0   \n4                     0             0               0               0   \n...                 ...           ...             ...             ...   \n2154043               0             0               0               0   \n2154044               0             0               0               0   \n2154045               0             0               0               0   \n2154046               0             1               0               0   \n2154047               0             0               0               0   \n\n         TOP_PACK_unlimited  TOP_PACK_week  TOP_PACK_wifi  \n0                         1              0              0  \n1                         1              0              0  \n2                         0              0              0  \n3                         0              0              0  \n4                         1              0              0  \n...                     ...            ...            ...  \n2154043                   1              0              0  \n2154044                   0              0              0  \n2154045                   1              0              0  \n2154046                   0              0              0  \n2154047                   1              0              0  \n\n[2154048 rows x 60 columns]",
      "text/html": "<div>\n<style scoped>\n    .dataframe tbody tr th:only-of-type {\n        vertical-align: middle;\n    }\n\n    .dataframe tbody tr th {\n        vertical-align: top;\n    }\n\n    .dataframe thead th {\n        text-align: right;\n    }\n</style>\n<table border=\"1\" class=\"dataframe\">\n  <thead>\n    <tr style=\"text-align: right;\">\n      <th></th>\n      <th>Unnamed: 0</th>\n      <th>user_id</th>\n      <th>MONTANT</th>\n      <th>FREQUENCE_RECH</th>\n      <th>REVENUE</th>\n      <th>ARPU_SEGMENT</th>\n      <th>FREQUENCE</th>\n      <th>DATA_VOLUME</th>\n      <th>ON_NET</th>\n      <th>ORANGE</th>\n      <th>...</th>\n      <th>TOP_PACK_gprs</th>\n      <th>TOP_PACK_internat</th>\n      <th>TOP_PACK_mixt</th>\n      <th>TOP_PACK_month</th>\n      <th>TOP_PACK_net</th>\n      <th>TOP_PACK_other</th>\n      <th>TOP_PACK_pilot</th>\n      <th>TOP_PACK_unlimited</th>\n      <th>TOP_PACK_week</th>\n      <th>TOP_PACK_wifi</th>\n    </tr>\n  </thead>\n  <tbody>\n    <tr>\n      <th>0</th>\n      <td>0</td>\n      <td>00000bfd7d50f01092811bc0c8d7b0d6fe7c3596</td>\n      <td>4250.0</td>\n      <td>15.0</td>\n      <td>4251.0</td>\n      <td>1417.0</td>\n      <td>17.0</td>\n      <td>4.0</td>\n      <td>388.0</td>\n      <td>46.0</td>\n      <td>...</td>\n      <td>0</td>\n      <td>0</td>\n      <td>0</td>\n      <td>0</td>\n      <td>0</td>\n      <td>0</td>\n      <td>0</td>\n      <td>1</td>\n      <td>0</td>\n      <td>0</td>\n    </tr>\n    <tr>\n      <th>1</th>\n      <td>1</td>\n      <td>00000cb4a5d760de88fecb38e2f71b7bec52e834</td>\n      <td>0.0</td>\n      <td>0.0</td>\n      <td>0.0</td>\n      <td>0.0</td>\n      <td>0.0</td>\n      <td>0.0</td>\n      <td>0.0</td>\n      <td>0.0</td>\n      <td>...</td>\n      <td>0</td>\n      <td>0</td>\n      <td>0</td>\n      <td>0</td>\n      <td>0</td>\n      <td>0</td>\n      <td>0</td>\n      <td>1</td>\n      <td>0</td>\n      <td>0</td>\n    </tr>\n    <tr>\n      <th>2</th>\n      <td>2</td>\n      <td>00001654a9d9f96303d9969d0a4a851714a4bb57</td>\n      <td>3600.0</td>\n      <td>2.0</td>\n      <td>1020.0</td>\n      <td>340.0</td>\n      <td>2.0</td>\n      <td>0.0</td>\n      <td>90.0</td>\n      <td>46.0</td>\n      <td>...</td>\n      <td>0</td>\n      <td>0</td>\n      <td>0</td>\n      <td>0</td>\n      <td>1</td>\n      <td>0</td>\n      <td>0</td>\n      <td>0</td>\n      <td>0</td>\n      <td>0</td>\n    </tr>\n    <tr>\n      <th>3</th>\n      <td>3</td>\n      <td>00001dd6fa45f7ba044bd5d84937be464ce78ac2</td>\n      <td>13500.0</td>\n      <td>15.0</td>\n      <td>13502.0</td>\n      <td>4501.0</td>\n      <td>18.0</td>\n      <td>43804.0</td>\n      <td>41.0</td>\n      <td>102.0</td>\n      <td>...</td>\n      <td>0</td>\n      <td>0</td>\n      <td>0</td>\n      <td>0</td>\n      <td>0</td>\n      <td>0</td>\n      <td>0</td>\n      <td>0</td>\n      <td>0</td>\n      <td>0</td>\n    </tr>\n    <tr>\n      <th>4</th>\n      <td>4</td>\n      <td>000028d9e13a595abe061f9b58f3d76ab907850f</td>\n      <td>1000.0</td>\n      <td>1.0</td>\n      <td>985.0</td>\n      <td>328.0</td>\n      <td>1.0</td>\n      <td>0.0</td>\n      <td>39.0</td>\n      <td>24.0</td>\n      <td>...</td>\n      <td>0</td>\n      <td>0</td>\n      <td>0</td>\n      <td>0</td>\n      <td>0</td>\n      <td>0</td>\n      <td>0</td>\n      <td>1</td>\n      <td>0</td>\n      <td>0</td>\n    </tr>\n    <tr>\n      <th>...</th>\n      <td>...</td>\n      <td>...</td>\n      <td>...</td>\n      <td>...</td>\n      <td>...</td>\n      <td>...</td>\n      <td>...</td>\n      <td>...</td>\n      <td>...</td>\n      <td>...</td>\n      <td>...</td>\n      <td>...</td>\n      <td>...</td>\n      <td>...</td>\n      <td>...</td>\n      <td>...</td>\n      <td>...</td>\n      <td>...</td>\n      <td>...</td>\n      <td>...</td>\n      <td>...</td>\n    </tr>\n    <tr>\n      <th>2154043</th>\n      <td>2154043</td>\n      <td>ffffe85215ddc71a84f95af0afb0deeea90e6967</td>\n      <td>0.0</td>\n      <td>0.0</td>\n      <td>0.0</td>\n      <td>0.0</td>\n      <td>0.0</td>\n      <td>0.0</td>\n      <td>0.0</td>\n      <td>0.0</td>\n      <td>...</td>\n      <td>0</td>\n      <td>0</td>\n      <td>0</td>\n      <td>0</td>\n      <td>0</td>\n      <td>0</td>\n      <td>0</td>\n      <td>1</td>\n      <td>0</td>\n      <td>0</td>\n    </tr>\n    <tr>\n      <th>2154044</th>\n      <td>2154044</td>\n      <td>ffffeaaa9289cdba0ac000f0ab4b48f4aa74ed15</td>\n      <td>6100.0</td>\n      <td>15.0</td>\n      <td>5800.0</td>\n      <td>1933.0</td>\n      <td>15.0</td>\n      <td>621.0</td>\n      <td>26.0</td>\n      <td>40.0</td>\n      <td>...</td>\n      <td>0</td>\n      <td>0</td>\n      <td>0</td>\n      <td>0</td>\n      <td>0</td>\n      <td>0</td>\n      <td>0</td>\n      <td>0</td>\n      <td>0</td>\n      <td>0</td>\n    </tr>\n    <tr>\n      <th>2154045</th>\n      <td>2154045</td>\n      <td>fffff172fda1b4bb38a95385951908bb92379809</td>\n      <td>0.0</td>\n      <td>0.0</td>\n      <td>0.0</td>\n      <td>0.0</td>\n      <td>0.0</td>\n      <td>0.0</td>\n      <td>0.0</td>\n      <td>0.0</td>\n      <td>...</td>\n      <td>0</td>\n      <td>0</td>\n      <td>0</td>\n      <td>0</td>\n      <td>0</td>\n      <td>0</td>\n      <td>0</td>\n      <td>1</td>\n      <td>0</td>\n      <td>0</td>\n    </tr>\n    <tr>\n      <th>2154046</th>\n      <td>2154046</td>\n      <td>fffff5911296937a37f09a37a549da2e0dad6dbb</td>\n      <td>10000.0</td>\n      <td>11.0</td>\n      <td>7120.0</td>\n      <td>2373.0</td>\n      <td>13.0</td>\n      <td>0.0</td>\n      <td>0.0</td>\n      <td>140.0</td>\n      <td>...</td>\n      <td>0</td>\n      <td>0</td>\n      <td>0</td>\n      <td>0</td>\n      <td>1</td>\n      <td>0</td>\n      <td>0</td>\n      <td>0</td>\n      <td>0</td>\n      <td>0</td>\n    </tr>\n    <tr>\n      <th>2154047</th>\n      <td>2154047</td>\n      <td>fffff6dbff1508ea2bfe814e5ab2729ce6b788c2</td>\n      <td>0.0</td>\n      <td>0.0</td>\n      <td>0.0</td>\n      <td>0.0</td>\n      <td>0.0</td>\n      <td>2.0</td>\n      <td>0.0</td>\n      <td>0.0</td>\n      <td>...</td>\n      <td>0</td>\n      <td>0</td>\n      <td>0</td>\n      <td>0</td>\n      <td>0</td>\n      <td>0</td>\n      <td>0</td>\n      <td>1</td>\n      <td>0</td>\n      <td>0</td>\n    </tr>\n  </tbody>\n</table>\n<p>2154048 rows × 60 columns</p>\n</div>"
     },
     "execution_count": 15,
     "metadata": {},
     "output_type": "execute_result"
    }
   ],
   "source": [
    "it3_df = convert_df_to_it3(it2_df, True)\n",
    "it3_df"
   ],
   "metadata": {
    "collapsed": false,
    "pycharm": {
     "name": "#%%\n"
    }
   }
  },
  {
   "cell_type": "code",
   "execution_count": 17,
   "outputs": [],
   "source": [
    "it3_df.to_csv('iteration3.csv')"
   ],
   "metadata": {
    "collapsed": false,
    "pycharm": {
     "name": "#%%\n"
    }
   }
  },
  {
   "cell_type": "code",
   "execution_count": 18,
   "outputs": [
    {
     "data": {
      "text/plain": "        Unnamed: 0                                   user_id  MONTANT  \\\n0                0  00001dbe00e56fc4b1c1b65dda63de2a5ece55f9   5000.0   \n1                1  000055d41c8a62052dd426592e8a4a3342bf565d    300.0   \n2                2  000081dd3245e6869a4a9c574c7050e7bb84c2c8   3300.0   \n3                3  0000b76d2145d9445d9ff6b65c9ebc4196c89337      0.0   \n4                4  0000bae5480628cf8fe51ad84bcb39772fc79224      0.0   \n...            ...                                       ...      ...   \n380122      380122  fffe7e03c7eede2ad0a728ee516c4d342dd16107   4000.0   \n380123      380123  fffec230e6a1aa51ab37d0051ece42de611e71c6      0.0   \n380124      380124  ffff0dcc1ab9812bf205b6d76e9d084053cd96f5   3950.0   \n380125      380125  ffff91ea6a09a0c8ea42bc6ae33df4b5e06283dc   3850.0   \n380126      380126  ffffb393b346f5348034e6e22be93778d94d4beb      0.0   \n\n        FREQUENCE_RECH  REVENUE  ARPU_SEGMENT  FREQUENCE  DATA_VOLUME  ON_NET  \\\n0                  5.0   5000.0        1667.0        5.0          0.0   378.0   \n1                  2.0    326.0         109.0        3.0        397.0     0.0   \n2                 25.0   3400.0        1133.0       26.0       7150.0     0.0   \n3                  0.0      0.0           0.0        0.0          0.0     0.0   \n4                  0.0      0.0           0.0        0.0          0.0     0.0   \n...                ...      ...           ...        ...          ...     ...   \n380122             8.0   3999.0        1333.0        8.0       1587.0    26.0   \n380123             0.0      0.0           0.0        0.0          0.0     0.0   \n380124             7.0   3949.0        1316.0       10.0       1724.0    25.0   \n380125            18.0   3955.0        1318.0       23.0       2962.0     0.0   \n380126             0.0      0.0           0.0        0.0          0.0     0.0   \n\n        ORANGE  ...    REGION         TENURE  MONTANT/FREQUENCE_RECH  \\\n0         11.0  ...     THIES   K > 24 month             1000.000000   \n1          0.0  ...     OTHER  I 18-21 month              150.000000   \n2          2.0  ...     DAKAR   K > 24 month              132.000000   \n3          0.0  ...     OTHER   K > 24 month                0.000000   \n4          0.0  ...     OTHER   K > 24 month                0.000000   \n...        ...  ...       ...            ...                     ...   \n380122   250.0  ...     DAKAR   K > 24 month              500.000000   \n380123     0.0  ...     OTHER   K > 24 month                0.000000   \n380124    71.0  ...     OTHER   K > 24 month              564.285714   \n380125     7.0  ...     OTHER   K > 24 month              213.888889   \n380126     0.0  ...  DIOURBEL   K > 24 month                0.000000   \n\n        REVENUE/FREQUENCE_RECH DATA_VOLUME/REGULARITY  ON_NET/REGULARITY  \\\n0                  1000.000000               0.000000           9.000000   \n1                   163.000000               9.682927           0.000000   \n2                   136.000000             125.438596           0.000000   \n3                     0.000000               0.000000           0.000000   \n4                     0.000000               0.000000           0.000000   \n...                        ...                    ...                ...   \n380122              499.875000              29.943396           0.490566   \n380123                0.000000               0.000000           0.000000   \n380124              564.142857             114.933333           1.666667   \n380125              219.722222             102.137931           0.000000   \n380126                0.000000               0.000000           0.000000   \n\n       ORANGE/REGULARITY TIGO/REGULARITY  ZONE1/REGULARITY  ZONE2/REGULARITY  \n0               0.261905        0.119048               0.0               0.0  \n1               0.000000        0.000000               0.0               0.0  \n2               0.035088        0.087719               0.0               0.0  \n3               0.000000        0.000000               0.0               0.0  \n4               0.000000        0.000000               0.0               0.0  \n...                  ...             ...               ...               ...  \n380122          4.716981        0.018868               0.0               0.0  \n380123          0.000000        0.000000               0.0               0.0  \n380124          4.733333        0.000000               0.0               0.0  \n380125          0.241379        0.000000               0.0               0.0  \n380126          0.000000        0.000000               0.0               0.0  \n\n[380127 rows x 26 columns]",
      "text/html": "<div>\n<style scoped>\n    .dataframe tbody tr th:only-of-type {\n        vertical-align: middle;\n    }\n\n    .dataframe tbody tr th {\n        vertical-align: top;\n    }\n\n    .dataframe thead th {\n        text-align: right;\n    }\n</style>\n<table border=\"1\" class=\"dataframe\">\n  <thead>\n    <tr style=\"text-align: right;\">\n      <th></th>\n      <th>Unnamed: 0</th>\n      <th>user_id</th>\n      <th>MONTANT</th>\n      <th>FREQUENCE_RECH</th>\n      <th>REVENUE</th>\n      <th>ARPU_SEGMENT</th>\n      <th>FREQUENCE</th>\n      <th>DATA_VOLUME</th>\n      <th>ON_NET</th>\n      <th>ORANGE</th>\n      <th>...</th>\n      <th>REGION</th>\n      <th>TENURE</th>\n      <th>MONTANT/FREQUENCE_RECH</th>\n      <th>REVENUE/FREQUENCE_RECH</th>\n      <th>DATA_VOLUME/REGULARITY</th>\n      <th>ON_NET/REGULARITY</th>\n      <th>ORANGE/REGULARITY</th>\n      <th>TIGO/REGULARITY</th>\n      <th>ZONE1/REGULARITY</th>\n      <th>ZONE2/REGULARITY</th>\n    </tr>\n  </thead>\n  <tbody>\n    <tr>\n      <th>0</th>\n      <td>0</td>\n      <td>00001dbe00e56fc4b1c1b65dda63de2a5ece55f9</td>\n      <td>5000.0</td>\n      <td>5.0</td>\n      <td>5000.0</td>\n      <td>1667.0</td>\n      <td>5.0</td>\n      <td>0.0</td>\n      <td>378.0</td>\n      <td>11.0</td>\n      <td>...</td>\n      <td>THIES</td>\n      <td>K &gt; 24 month</td>\n      <td>1000.000000</td>\n      <td>1000.000000</td>\n      <td>0.000000</td>\n      <td>9.000000</td>\n      <td>0.261905</td>\n      <td>0.119048</td>\n      <td>0.0</td>\n      <td>0.0</td>\n    </tr>\n    <tr>\n      <th>1</th>\n      <td>1</td>\n      <td>000055d41c8a62052dd426592e8a4a3342bf565d</td>\n      <td>300.0</td>\n      <td>2.0</td>\n      <td>326.0</td>\n      <td>109.0</td>\n      <td>3.0</td>\n      <td>397.0</td>\n      <td>0.0</td>\n      <td>0.0</td>\n      <td>...</td>\n      <td>OTHER</td>\n      <td>I 18-21 month</td>\n      <td>150.000000</td>\n      <td>163.000000</td>\n      <td>9.682927</td>\n      <td>0.000000</td>\n      <td>0.000000</td>\n      <td>0.000000</td>\n      <td>0.0</td>\n      <td>0.0</td>\n    </tr>\n    <tr>\n      <th>2</th>\n      <td>2</td>\n      <td>000081dd3245e6869a4a9c574c7050e7bb84c2c8</td>\n      <td>3300.0</td>\n      <td>25.0</td>\n      <td>3400.0</td>\n      <td>1133.0</td>\n      <td>26.0</td>\n      <td>7150.0</td>\n      <td>0.0</td>\n      <td>2.0</td>\n      <td>...</td>\n      <td>DAKAR</td>\n      <td>K &gt; 24 month</td>\n      <td>132.000000</td>\n      <td>136.000000</td>\n      <td>125.438596</td>\n      <td>0.000000</td>\n      <td>0.035088</td>\n      <td>0.087719</td>\n      <td>0.0</td>\n      <td>0.0</td>\n    </tr>\n    <tr>\n      <th>3</th>\n      <td>3</td>\n      <td>0000b76d2145d9445d9ff6b65c9ebc4196c89337</td>\n      <td>0.0</td>\n      <td>0.0</td>\n      <td>0.0</td>\n      <td>0.0</td>\n      <td>0.0</td>\n      <td>0.0</td>\n      <td>0.0</td>\n      <td>0.0</td>\n      <td>...</td>\n      <td>OTHER</td>\n      <td>K &gt; 24 month</td>\n      <td>0.000000</td>\n      <td>0.000000</td>\n      <td>0.000000</td>\n      <td>0.000000</td>\n      <td>0.000000</td>\n      <td>0.000000</td>\n      <td>0.0</td>\n      <td>0.0</td>\n    </tr>\n    <tr>\n      <th>4</th>\n      <td>4</td>\n      <td>0000bae5480628cf8fe51ad84bcb39772fc79224</td>\n      <td>0.0</td>\n      <td>0.0</td>\n      <td>0.0</td>\n      <td>0.0</td>\n      <td>0.0</td>\n      <td>0.0</td>\n      <td>0.0</td>\n      <td>0.0</td>\n      <td>...</td>\n      <td>OTHER</td>\n      <td>K &gt; 24 month</td>\n      <td>0.000000</td>\n      <td>0.000000</td>\n      <td>0.000000</td>\n      <td>0.000000</td>\n      <td>0.000000</td>\n      <td>0.000000</td>\n      <td>0.0</td>\n      <td>0.0</td>\n    </tr>\n    <tr>\n      <th>...</th>\n      <td>...</td>\n      <td>...</td>\n      <td>...</td>\n      <td>...</td>\n      <td>...</td>\n      <td>...</td>\n      <td>...</td>\n      <td>...</td>\n      <td>...</td>\n      <td>...</td>\n      <td>...</td>\n      <td>...</td>\n      <td>...</td>\n      <td>...</td>\n      <td>...</td>\n      <td>...</td>\n      <td>...</td>\n      <td>...</td>\n      <td>...</td>\n      <td>...</td>\n      <td>...</td>\n    </tr>\n    <tr>\n      <th>380122</th>\n      <td>380122</td>\n      <td>fffe7e03c7eede2ad0a728ee516c4d342dd16107</td>\n      <td>4000.0</td>\n      <td>8.0</td>\n      <td>3999.0</td>\n      <td>1333.0</td>\n      <td>8.0</td>\n      <td>1587.0</td>\n      <td>26.0</td>\n      <td>250.0</td>\n      <td>...</td>\n      <td>DAKAR</td>\n      <td>K &gt; 24 month</td>\n      <td>500.000000</td>\n      <td>499.875000</td>\n      <td>29.943396</td>\n      <td>0.490566</td>\n      <td>4.716981</td>\n      <td>0.018868</td>\n      <td>0.0</td>\n      <td>0.0</td>\n    </tr>\n    <tr>\n      <th>380123</th>\n      <td>380123</td>\n      <td>fffec230e6a1aa51ab37d0051ece42de611e71c6</td>\n      <td>0.0</td>\n      <td>0.0</td>\n      <td>0.0</td>\n      <td>0.0</td>\n      <td>0.0</td>\n      <td>0.0</td>\n      <td>0.0</td>\n      <td>0.0</td>\n      <td>...</td>\n      <td>OTHER</td>\n      <td>K &gt; 24 month</td>\n      <td>0.000000</td>\n      <td>0.000000</td>\n      <td>0.000000</td>\n      <td>0.000000</td>\n      <td>0.000000</td>\n      <td>0.000000</td>\n      <td>0.0</td>\n      <td>0.0</td>\n    </tr>\n    <tr>\n      <th>380124</th>\n      <td>380124</td>\n      <td>ffff0dcc1ab9812bf205b6d76e9d084053cd96f5</td>\n      <td>3950.0</td>\n      <td>7.0</td>\n      <td>3949.0</td>\n      <td>1316.0</td>\n      <td>10.0</td>\n      <td>1724.0</td>\n      <td>25.0</td>\n      <td>71.0</td>\n      <td>...</td>\n      <td>OTHER</td>\n      <td>K &gt; 24 month</td>\n      <td>564.285714</td>\n      <td>564.142857</td>\n      <td>114.933333</td>\n      <td>1.666667</td>\n      <td>4.733333</td>\n      <td>0.000000</td>\n      <td>0.0</td>\n      <td>0.0</td>\n    </tr>\n    <tr>\n      <th>380125</th>\n      <td>380125</td>\n      <td>ffff91ea6a09a0c8ea42bc6ae33df4b5e06283dc</td>\n      <td>3850.0</td>\n      <td>18.0</td>\n      <td>3955.0</td>\n      <td>1318.0</td>\n      <td>23.0</td>\n      <td>2962.0</td>\n      <td>0.0</td>\n      <td>7.0</td>\n      <td>...</td>\n      <td>OTHER</td>\n      <td>K &gt; 24 month</td>\n      <td>213.888889</td>\n      <td>219.722222</td>\n      <td>102.137931</td>\n      <td>0.000000</td>\n      <td>0.241379</td>\n      <td>0.000000</td>\n      <td>0.0</td>\n      <td>0.0</td>\n    </tr>\n    <tr>\n      <th>380126</th>\n      <td>380126</td>\n      <td>ffffb393b346f5348034e6e22be93778d94d4beb</td>\n      <td>0.0</td>\n      <td>0.0</td>\n      <td>0.0</td>\n      <td>0.0</td>\n      <td>0.0</td>\n      <td>0.0</td>\n      <td>0.0</td>\n      <td>0.0</td>\n      <td>...</td>\n      <td>DIOURBEL</td>\n      <td>K &gt; 24 month</td>\n      <td>0.000000</td>\n      <td>0.000000</td>\n      <td>0.000000</td>\n      <td>0.000000</td>\n      <td>0.000000</td>\n      <td>0.000000</td>\n      <td>0.0</td>\n      <td>0.0</td>\n    </tr>\n  </tbody>\n</table>\n<p>380127 rows × 26 columns</p>\n</div>"
     },
     "execution_count": 18,
     "metadata": {},
     "output_type": "execute_result"
    }
   ],
   "source": [
    "it2_test_df = pd.read_csv('iteration2_test.csv')\n",
    "it2_test_df"
   ],
   "metadata": {
    "collapsed": false,
    "pycharm": {
     "name": "#%%\n"
    }
   }
  },
  {
   "cell_type": "code",
   "execution_count": 19,
   "outputs": [
    {
     "data": {
      "text/plain": "        Unnamed: 0                                   user_id  MONTANT  \\\n0                0  00001dbe00e56fc4b1c1b65dda63de2a5ece55f9   5000.0   \n1                1  000055d41c8a62052dd426592e8a4a3342bf565d    300.0   \n2                2  000081dd3245e6869a4a9c574c7050e7bb84c2c8   3300.0   \n3                3  0000b76d2145d9445d9ff6b65c9ebc4196c89337      0.0   \n4                4  0000bae5480628cf8fe51ad84bcb39772fc79224      0.0   \n...            ...                                       ...      ...   \n380122      380122  fffe7e03c7eede2ad0a728ee516c4d342dd16107   4000.0   \n380123      380123  fffec230e6a1aa51ab37d0051ece42de611e71c6      0.0   \n380124      380124  ffff0dcc1ab9812bf205b6d76e9d084053cd96f5   3950.0   \n380125      380125  ffff91ea6a09a0c8ea42bc6ae33df4b5e06283dc   3850.0   \n380126      380126  ffffb393b346f5348034e6e22be93778d94d4beb      0.0   \n\n        FREQUENCE_RECH  REVENUE  ARPU_SEGMENT  FREQUENCE  DATA_VOLUME  ON_NET  \\\n0                  5.0   5000.0        1667.0        5.0          0.0   378.0   \n1                  2.0    326.0         109.0        3.0        397.0     0.0   \n2                 25.0   3400.0        1133.0       26.0       7150.0     0.0   \n3                  0.0      0.0           0.0        0.0          0.0     0.0   \n4                  0.0      0.0           0.0        0.0          0.0     0.0   \n...                ...      ...           ...        ...          ...     ...   \n380122             8.0   3999.0        1333.0        8.0       1587.0    26.0   \n380123             0.0      0.0           0.0        0.0          0.0     0.0   \n380124             7.0   3949.0        1316.0       10.0       1724.0    25.0   \n380125            18.0   3955.0        1318.0       23.0       2962.0     0.0   \n380126             0.0      0.0           0.0        0.0          0.0     0.0   \n\n        ORANGE  ...  TOP_PACK_evc  TOP_PACK_internat  TOP_PACK_mixt  \\\n0         11.0  ...             0                  0              0   \n1          0.0  ...             0                  0              0   \n2          2.0  ...             0                  0              0   \n3          0.0  ...             1                  0              0   \n4          0.0  ...             1                  0              0   \n...        ...  ...           ...                ...            ...   \n380122   250.0  ...             0                  0              0   \n380123     0.0  ...             1                  0              0   \n380124    71.0  ...             0                  0              0   \n380125     7.0  ...             0                  0              0   \n380126     0.0  ...             1                  0              0   \n\n        TOP_PACK_month  TOP_PACK_net  TOP_PACK_other  TOP_PACK_pilot  \\\n0                    0             1               0               0   \n1                    0             0               0               0   \n2                    0             0               0               0   \n3                    0             0               0               0   \n4                    0             0               0               0   \n...                ...           ...             ...             ...   \n380122               0             0               0               0   \n380123               0             0               0               0   \n380124               0             0               0               0   \n380125               0             0               0               0   \n380126               0             0               0               0   \n\n        TOP_PACK_unlimited  TOP_PACK_week  TOP_PACK_wifi  \n0                        0              0              0  \n1                        0              0              0  \n2                        0              0              0  \n3                        0              0              0  \n4                        0              0              0  \n...                    ...            ...            ...  \n380122                   1              0              0  \n380123                   0              0              0  \n380124                   0              0              0  \n380125                   0              0              0  \n380126                   0              0              0  \n\n[380127 rows x 58 columns]",
      "text/html": "<div>\n<style scoped>\n    .dataframe tbody tr th:only-of-type {\n        vertical-align: middle;\n    }\n\n    .dataframe tbody tr th {\n        vertical-align: top;\n    }\n\n    .dataframe thead th {\n        text-align: right;\n    }\n</style>\n<table border=\"1\" class=\"dataframe\">\n  <thead>\n    <tr style=\"text-align: right;\">\n      <th></th>\n      <th>Unnamed: 0</th>\n      <th>user_id</th>\n      <th>MONTANT</th>\n      <th>FREQUENCE_RECH</th>\n      <th>REVENUE</th>\n      <th>ARPU_SEGMENT</th>\n      <th>FREQUENCE</th>\n      <th>DATA_VOLUME</th>\n      <th>ON_NET</th>\n      <th>ORANGE</th>\n      <th>...</th>\n      <th>TOP_PACK_evc</th>\n      <th>TOP_PACK_internat</th>\n      <th>TOP_PACK_mixt</th>\n      <th>TOP_PACK_month</th>\n      <th>TOP_PACK_net</th>\n      <th>TOP_PACK_other</th>\n      <th>TOP_PACK_pilot</th>\n      <th>TOP_PACK_unlimited</th>\n      <th>TOP_PACK_week</th>\n      <th>TOP_PACK_wifi</th>\n    </tr>\n  </thead>\n  <tbody>\n    <tr>\n      <th>0</th>\n      <td>0</td>\n      <td>00001dbe00e56fc4b1c1b65dda63de2a5ece55f9</td>\n      <td>5000.0</td>\n      <td>5.0</td>\n      <td>5000.0</td>\n      <td>1667.0</td>\n      <td>5.0</td>\n      <td>0.0</td>\n      <td>378.0</td>\n      <td>11.0</td>\n      <td>...</td>\n      <td>0</td>\n      <td>0</td>\n      <td>0</td>\n      <td>0</td>\n      <td>1</td>\n      <td>0</td>\n      <td>0</td>\n      <td>0</td>\n      <td>0</td>\n      <td>0</td>\n    </tr>\n    <tr>\n      <th>1</th>\n      <td>1</td>\n      <td>000055d41c8a62052dd426592e8a4a3342bf565d</td>\n      <td>300.0</td>\n      <td>2.0</td>\n      <td>326.0</td>\n      <td>109.0</td>\n      <td>3.0</td>\n      <td>397.0</td>\n      <td>0.0</td>\n      <td>0.0</td>\n      <td>...</td>\n      <td>0</td>\n      <td>0</td>\n      <td>0</td>\n      <td>0</td>\n      <td>0</td>\n      <td>0</td>\n      <td>0</td>\n      <td>0</td>\n      <td>0</td>\n      <td>0</td>\n    </tr>\n    <tr>\n      <th>2</th>\n      <td>2</td>\n      <td>000081dd3245e6869a4a9c574c7050e7bb84c2c8</td>\n      <td>3300.0</td>\n      <td>25.0</td>\n      <td>3400.0</td>\n      <td>1133.0</td>\n      <td>26.0</td>\n      <td>7150.0</td>\n      <td>0.0</td>\n      <td>2.0</td>\n      <td>...</td>\n      <td>0</td>\n      <td>0</td>\n      <td>0</td>\n      <td>0</td>\n      <td>0</td>\n      <td>0</td>\n      <td>0</td>\n      <td>0</td>\n      <td>0</td>\n      <td>0</td>\n    </tr>\n    <tr>\n      <th>3</th>\n      <td>3</td>\n      <td>0000b76d2145d9445d9ff6b65c9ebc4196c89337</td>\n      <td>0.0</td>\n      <td>0.0</td>\n      <td>0.0</td>\n      <td>0.0</td>\n      <td>0.0</td>\n      <td>0.0</td>\n      <td>0.0</td>\n      <td>0.0</td>\n      <td>...</td>\n      <td>1</td>\n      <td>0</td>\n      <td>0</td>\n      <td>0</td>\n      <td>0</td>\n      <td>0</td>\n      <td>0</td>\n      <td>0</td>\n      <td>0</td>\n      <td>0</td>\n    </tr>\n    <tr>\n      <th>4</th>\n      <td>4</td>\n      <td>0000bae5480628cf8fe51ad84bcb39772fc79224</td>\n      <td>0.0</td>\n      <td>0.0</td>\n      <td>0.0</td>\n      <td>0.0</td>\n      <td>0.0</td>\n      <td>0.0</td>\n      <td>0.0</td>\n      <td>0.0</td>\n      <td>...</td>\n      <td>1</td>\n      <td>0</td>\n      <td>0</td>\n      <td>0</td>\n      <td>0</td>\n      <td>0</td>\n      <td>0</td>\n      <td>0</td>\n      <td>0</td>\n      <td>0</td>\n    </tr>\n    <tr>\n      <th>...</th>\n      <td>...</td>\n      <td>...</td>\n      <td>...</td>\n      <td>...</td>\n      <td>...</td>\n      <td>...</td>\n      <td>...</td>\n      <td>...</td>\n      <td>...</td>\n      <td>...</td>\n      <td>...</td>\n      <td>...</td>\n      <td>...</td>\n      <td>...</td>\n      <td>...</td>\n      <td>...</td>\n      <td>...</td>\n      <td>...</td>\n      <td>...</td>\n      <td>...</td>\n      <td>...</td>\n    </tr>\n    <tr>\n      <th>380122</th>\n      <td>380122</td>\n      <td>fffe7e03c7eede2ad0a728ee516c4d342dd16107</td>\n      <td>4000.0</td>\n      <td>8.0</td>\n      <td>3999.0</td>\n      <td>1333.0</td>\n      <td>8.0</td>\n      <td>1587.0</td>\n      <td>26.0</td>\n      <td>250.0</td>\n      <td>...</td>\n      <td>0</td>\n      <td>0</td>\n      <td>0</td>\n      <td>0</td>\n      <td>0</td>\n      <td>0</td>\n      <td>0</td>\n      <td>1</td>\n      <td>0</td>\n      <td>0</td>\n    </tr>\n    <tr>\n      <th>380123</th>\n      <td>380123</td>\n      <td>fffec230e6a1aa51ab37d0051ece42de611e71c6</td>\n      <td>0.0</td>\n      <td>0.0</td>\n      <td>0.0</td>\n      <td>0.0</td>\n      <td>0.0</td>\n      <td>0.0</td>\n      <td>0.0</td>\n      <td>0.0</td>\n      <td>...</td>\n      <td>1</td>\n      <td>0</td>\n      <td>0</td>\n      <td>0</td>\n      <td>0</td>\n      <td>0</td>\n      <td>0</td>\n      <td>0</td>\n      <td>0</td>\n      <td>0</td>\n    </tr>\n    <tr>\n      <th>380124</th>\n      <td>380124</td>\n      <td>ffff0dcc1ab9812bf205b6d76e9d084053cd96f5</td>\n      <td>3950.0</td>\n      <td>7.0</td>\n      <td>3949.0</td>\n      <td>1316.0</td>\n      <td>10.0</td>\n      <td>1724.0</td>\n      <td>25.0</td>\n      <td>71.0</td>\n      <td>...</td>\n      <td>0</td>\n      <td>0</td>\n      <td>0</td>\n      <td>0</td>\n      <td>0</td>\n      <td>0</td>\n      <td>0</td>\n      <td>0</td>\n      <td>0</td>\n      <td>0</td>\n    </tr>\n    <tr>\n      <th>380125</th>\n      <td>380125</td>\n      <td>ffff91ea6a09a0c8ea42bc6ae33df4b5e06283dc</td>\n      <td>3850.0</td>\n      <td>18.0</td>\n      <td>3955.0</td>\n      <td>1318.0</td>\n      <td>23.0</td>\n      <td>2962.0</td>\n      <td>0.0</td>\n      <td>7.0</td>\n      <td>...</td>\n      <td>0</td>\n      <td>0</td>\n      <td>0</td>\n      <td>0</td>\n      <td>0</td>\n      <td>0</td>\n      <td>0</td>\n      <td>0</td>\n      <td>0</td>\n      <td>0</td>\n    </tr>\n    <tr>\n      <th>380126</th>\n      <td>380126</td>\n      <td>ffffb393b346f5348034e6e22be93778d94d4beb</td>\n      <td>0.0</td>\n      <td>0.0</td>\n      <td>0.0</td>\n      <td>0.0</td>\n      <td>0.0</td>\n      <td>0.0</td>\n      <td>0.0</td>\n      <td>0.0</td>\n      <td>...</td>\n      <td>1</td>\n      <td>0</td>\n      <td>0</td>\n      <td>0</td>\n      <td>0</td>\n      <td>0</td>\n      <td>0</td>\n      <td>0</td>\n      <td>0</td>\n      <td>0</td>\n    </tr>\n  </tbody>\n</table>\n<p>380127 rows × 58 columns</p>\n</div>"
     },
     "execution_count": 19,
     "metadata": {},
     "output_type": "execute_result"
    }
   ],
   "source": [
    "it3_test_df = convert_df_to_it3(it2_test_df, True)\n",
    "it3_test_df"
   ],
   "metadata": {
    "collapsed": false,
    "pycharm": {
     "name": "#%%\n"
    }
   }
  },
  {
   "cell_type": "code",
   "execution_count": 20,
   "outputs": [],
   "source": [
    "it3_df.to_csv('iteration3_test.csv')"
   ],
   "metadata": {
    "collapsed": false,
    "pycharm": {
     "name": "#%%\n"
    }
   }
  }
 ],
 "metadata": {
  "kernelspec": {
   "display_name": "Python 3",
   "language": "python",
   "name": "python3"
  },
  "language_info": {
   "codemirror_mode": {
    "name": "ipython",
    "version": 2
   },
   "file_extension": ".py",
   "mimetype": "text/x-python",
   "name": "python",
   "nbconvert_exporter": "python",
   "pygments_lexer": "ipython2",
   "version": "2.7.6"
  }
 },
 "nbformat": 4,
 "nbformat_minor": 0
}