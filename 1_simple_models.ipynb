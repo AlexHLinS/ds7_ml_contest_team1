{
 "cells": [
  {
   "cell_type": "markdown",
   "metadata": {
    "pycharm": {
     "name": "#%% md\n"
    }
   },
   "source": [
    "# Dataset cleaning"
   ]
  },
  {
   "cell_type": "markdown",
   "metadata": {
    "pycharm": {
     "name": "#%% md\n"
    }
   },
   "source": [
    "## Libraries and datasets"
   ]
  },
  {
   "cell_type": "code",
   "execution_count": 32,
   "outputs": [
    {
     "name": "stdout",
     "output_type": "stream",
     "text": [
      "Requirement already satisfied: pandas in ./jupiter_projects/lib/python3.10/site-packages (1.4.2)\r\n",
      "Requirement already satisfied: pytz>=2020.1 in ./jupiter_projects/lib/python3.10/site-packages (from pandas) (2022.1)\r\n",
      "Requirement already satisfied: numpy>=1.21.0 in ./jupiter_projects/lib/python3.10/site-packages (from pandas) (1.22.3)\r\n",
      "Requirement already satisfied: python-dateutil>=2.8.1 in ./jupiter_projects/lib/python3.10/site-packages (from pandas) (2.8.2)\r\n",
      "Requirement already satisfied: six>=1.5 in ./jupiter_projects/lib/python3.10/site-packages (from python-dateutil>=2.8.1->pandas) (1.16.0)\r\n",
      "Requirement already satisfied: numpy in ./jupiter_projects/lib/python3.10/site-packages (1.22.3)\r\n",
      "Requirement already satisfied: matplotlib in ./jupiter_projects/lib/python3.10/site-packages (3.5.2)\r\n",
      "Requirement already satisfied: kiwisolver>=1.0.1 in ./jupiter_projects/lib/python3.10/site-packages (from matplotlib) (1.4.2)\r\n",
      "Requirement already satisfied: pillow>=6.2.0 in ./jupiter_projects/lib/python3.10/site-packages (from matplotlib) (9.1.0)\r\n",
      "Requirement already satisfied: fonttools>=4.22.0 in ./jupiter_projects/lib/python3.10/site-packages (from matplotlib) (4.33.3)\r\n",
      "Requirement already satisfied: packaging>=20.0 in ./jupiter_projects/lib/python3.10/site-packages (from matplotlib) (21.3)\r\n",
      "Requirement already satisfied: cycler>=0.10 in ./jupiter_projects/lib/python3.10/site-packages (from matplotlib) (0.11.0)\r\n",
      "Requirement already satisfied: pyparsing>=2.2.1 in ./jupiter_projects/lib/python3.10/site-packages (from matplotlib) (3.0.9)\r\n",
      "Requirement already satisfied: python-dateutil>=2.7 in ./jupiter_projects/lib/python3.10/site-packages (from matplotlib) (2.8.2)\r\n",
      "Requirement already satisfied: numpy>=1.17 in ./jupiter_projects/lib/python3.10/site-packages (from matplotlib) (1.22.3)\r\n",
      "Requirement already satisfied: six>=1.5 in ./jupiter_projects/lib/python3.10/site-packages (from python-dateutil>=2.7->matplotlib) (1.16.0)\r\n",
      "Requirement already satisfied: seaborn in ./jupiter_projects/lib/python3.10/site-packages (0.11.2)\r\n",
      "Requirement already satisfied: pandas>=0.23 in ./jupiter_projects/lib/python3.10/site-packages (from seaborn) (1.4.2)\r\n",
      "Requirement already satisfied: numpy>=1.15 in ./jupiter_projects/lib/python3.10/site-packages (from seaborn) (1.22.3)\r\n",
      "Requirement already satisfied: scipy>=1.0 in ./jupiter_projects/lib/python3.10/site-packages (from seaborn) (1.8.0)\r\n",
      "Requirement already satisfied: matplotlib>=2.2 in ./jupiter_projects/lib/python3.10/site-packages (from seaborn) (3.5.2)\r\n",
      "Requirement already satisfied: pillow>=6.2.0 in ./jupiter_projects/lib/python3.10/site-packages (from matplotlib>=2.2->seaborn) (9.1.0)\r\n",
      "Requirement already satisfied: cycler>=0.10 in ./jupiter_projects/lib/python3.10/site-packages (from matplotlib>=2.2->seaborn) (0.11.0)\r\n",
      "Requirement already satisfied: kiwisolver>=1.0.1 in ./jupiter_projects/lib/python3.10/site-packages (from matplotlib>=2.2->seaborn) (1.4.2)\r\n",
      "Requirement already satisfied: packaging>=20.0 in ./jupiter_projects/lib/python3.10/site-packages (from matplotlib>=2.2->seaborn) (21.3)\r\n",
      "Requirement already satisfied: python-dateutil>=2.7 in ./jupiter_projects/lib/python3.10/site-packages (from matplotlib>=2.2->seaborn) (2.8.2)\r\n",
      "Requirement already satisfied: pyparsing>=2.2.1 in ./jupiter_projects/lib/python3.10/site-packages (from matplotlib>=2.2->seaborn) (3.0.9)\r\n",
      "Requirement already satisfied: fonttools>=4.22.0 in ./jupiter_projects/lib/python3.10/site-packages (from matplotlib>=2.2->seaborn) (4.33.3)\r\n",
      "Requirement already satisfied: pytz>=2020.1 in ./jupiter_projects/lib/python3.10/site-packages (from pandas>=0.23->seaborn) (2022.1)\r\n",
      "Requirement already satisfied: six>=1.5 in ./jupiter_projects/lib/python3.10/site-packages (from python-dateutil>=2.7->matplotlib>=2.2->seaborn) (1.16.0)\r\n",
      "Requirement already satisfied: xgboost in ./jupiter_projects/lib/python3.10/site-packages (1.6.1)\r\n",
      "Requirement already satisfied: numpy in ./jupiter_projects/lib/python3.10/site-packages (from xgboost) (1.22.3)\r\n",
      "Requirement already satisfied: scipy in ./jupiter_projects/lib/python3.10/site-packages (from xgboost) (1.8.0)\r\n",
      "Requirement already satisfied: catboost in ./jupiter_projects/lib/python3.10/site-packages (1.0.6)\r\n",
      "Requirement already satisfied: scipy in ./jupiter_projects/lib/python3.10/site-packages (from catboost) (1.8.0)\r\n",
      "Requirement already satisfied: numpy>=1.16.0 in ./jupiter_projects/lib/python3.10/site-packages (from catboost) (1.22.3)\r\n",
      "Requirement already satisfied: plotly in ./jupiter_projects/lib/python3.10/site-packages (from catboost) (5.8.2)\r\n",
      "Requirement already satisfied: graphviz in ./jupiter_projects/lib/python3.10/site-packages (from catboost) (0.20)\r\n",
      "Requirement already satisfied: six in ./jupiter_projects/lib/python3.10/site-packages (from catboost) (1.16.0)\r\n",
      "Requirement already satisfied: matplotlib in ./jupiter_projects/lib/python3.10/site-packages (from catboost) (3.5.2)\r\n",
      "Requirement already satisfied: pandas>=0.24.0 in ./jupiter_projects/lib/python3.10/site-packages (from catboost) (1.4.2)\r\n",
      "Requirement already satisfied: pytz>=2020.1 in ./jupiter_projects/lib/python3.10/site-packages (from pandas>=0.24.0->catboost) (2022.1)\r\n",
      "Requirement already satisfied: python-dateutil>=2.8.1 in ./jupiter_projects/lib/python3.10/site-packages (from pandas>=0.24.0->catboost) (2.8.2)\r\n",
      "Requirement already satisfied: cycler>=0.10 in ./jupiter_projects/lib/python3.10/site-packages (from matplotlib->catboost) (0.11.0)\r\n",
      "Requirement already satisfied: pillow>=6.2.0 in ./jupiter_projects/lib/python3.10/site-packages (from matplotlib->catboost) (9.1.0)\r\n",
      "Requirement already satisfied: fonttools>=4.22.0 in ./jupiter_projects/lib/python3.10/site-packages (from matplotlib->catboost) (4.33.3)\r\n",
      "Requirement already satisfied: kiwisolver>=1.0.1 in ./jupiter_projects/lib/python3.10/site-packages (from matplotlib->catboost) (1.4.2)\r\n",
      "Requirement already satisfied: packaging>=20.0 in ./jupiter_projects/lib/python3.10/site-packages (from matplotlib->catboost) (21.3)\r\n",
      "Requirement already satisfied: pyparsing>=2.2.1 in ./jupiter_projects/lib/python3.10/site-packages (from matplotlib->catboost) (3.0.9)\r\n",
      "Requirement already satisfied: tenacity>=6.2.0 in ./jupiter_projects/lib/python3.10/site-packages (from plotly->catboost) (8.0.1)\r\n",
      "Requirement already satisfied: lightgbm in ./jupiter_projects/lib/python3.10/site-packages (3.3.2)\r\n",
      "Requirement already satisfied: scikit-learn!=0.22.0 in ./jupiter_projects/lib/python3.10/site-packages (from lightgbm) (1.1.0)\r\n",
      "Requirement already satisfied: numpy in ./jupiter_projects/lib/python3.10/site-packages (from lightgbm) (1.22.3)\r\n",
      "Requirement already satisfied: scipy in ./jupiter_projects/lib/python3.10/site-packages (from lightgbm) (1.8.0)\r\n",
      "Requirement already satisfied: wheel in ./jupiter_projects/lib/python3.10/site-packages (from lightgbm) (0.37.1)\r\n",
      "Requirement already satisfied: joblib>=1.0.0 in ./jupiter_projects/lib/python3.10/site-packages (from scikit-learn!=0.22.0->lightgbm) (1.1.0)\r\n",
      "Requirement already satisfied: threadpoolctl>=2.0.0 in ./jupiter_projects/lib/python3.10/site-packages (from scikit-learn!=0.22.0->lightgbm) (3.1.0)\r\n"
     ]
    }
   ],
   "source": [
    "!pip install pandas\n",
    "!pip install numpy\n",
    "!pip install matplotlib\n",
    "!pip install seaborn\n",
    "!pip install xgboost\n",
    "!pip install catboost\n",
    "!pip install lightgbm\n"
   ],
   "metadata": {
    "collapsed": false,
    "pycharm": {
     "name": "#%%\n"
    }
   }
  },
  {
   "cell_type": "code",
   "execution_count": 33,
   "metadata": {
    "pycharm": {
     "name": "#%%\n"
    }
   },
   "outputs": [],
   "source": [
    "import pandas as pd\n",
    "import numpy as np\n",
    "import matplotlib.pyplot as plt\n",
    "import seaborn as sns"
   ]
  },
  {
   "cell_type": "code",
   "execution_count": 34,
   "metadata": {
    "pycharm": {
     "name": "#%%\n"
    }
   },
   "outputs": [],
   "source": [
    "from sklearn.preprocessing import LabelEncoder\n",
    "from sklearn.model_selection import train_test_split\n",
    "from sklearn.preprocessing import StandardScaler\n",
    "from sklearn.impute import SimpleImputer\n",
    "from sklearn.tree import DecisionTreeClassifier\n",
    "from sklearn.metrics import precision_score, recall_score, f1_score, accuracy_score, roc_auc_score\n",
    "from sklearn.ensemble import RandomForestClassifier\n",
    "from sklearn.neighbors import KNeighborsClassifier\n",
    "from sklearn.naive_bayes import MultinomialNB\n",
    "from sklearn.model_selection import GridSearchCV\n",
    "from sklearn.naive_bayes import GaussianNB\n",
    "from sklearn.linear_model import LogisticRegression\n",
    "from sklearn.ensemble import GradientBoostingClassifier\n",
    "from sklearn.svm import SVC\n",
    "import xgboost as xgb\n",
    "import catboost as cat_\n",
    "import lightgbm as lgb\n",
    "import time\n",
    "\n",
    "\n",
    "from sklearn.experimental import enable_halving_search_cv \n",
    "from sklearn.model_selection import HalvingGridSearchCV"
   ]
  },
  {
   "cell_type": "code",
   "execution_count": 35,
   "metadata": {
    "pycharm": {
     "name": "#%%\n"
    }
   },
   "outputs": [],
   "source": [
    "train = pd.read_csv('Train.csv')\n",
    "test = pd.read_csv('Test.csv')"
   ]
  },
  {
   "cell_type": "markdown",
   "metadata": {
    "pycharm": {
     "name": "#%% md\n"
    }
   },
   "source": [
    "## Feature engineering"
   ]
  },
  {
   "cell_type": "markdown",
   "metadata": {
    "pycharm": {
     "name": "#%% md\n"
    }
   },
   "source": [
    "Drop MPG because of the same value in each row."
   ]
  },
  {
   "cell_type": "code",
   "execution_count": 36,
   "metadata": {
    "pycharm": {
     "name": "#%%\n"
    }
   },
   "outputs": [],
   "source": [
    "train.drop(['MRG'], axis = 1, inplace=True)\n",
    "test.drop(['MRG'], axis = 1, inplace=True)"
   ]
  },
  {
   "cell_type": "markdown",
   "metadata": {
    "pycharm": {
     "name": "#%% md\n"
    }
   },
   "source": [
    "Drop user_id from train"
   ]
  },
  {
   "cell_type": "code",
   "execution_count": 37,
   "metadata": {
    "pycharm": {
     "name": "#%%\n"
    }
   },
   "outputs": [],
   "source": [
    "train.drop(['user_id'], axis = 1, inplace=True)\n",
    "test.drop(['user_id'], axis = 1, inplace=True)"
   ]
  },
  {
   "cell_type": "markdown",
   "metadata": {
    "pycharm": {
     "name": "#%% md\n"
    }
   },
   "source": [
    "Drop top packs for the first iteration "
   ]
  },
  {
   "cell_type": "code",
   "execution_count": 38,
   "metadata": {
    "pycharm": {
     "name": "#%%\n"
    }
   },
   "outputs": [],
   "source": [
    "train.drop(['TOP_PACK'], axis = 1, inplace=True)\n",
    "test.drop(['TOP_PACK'], axis = 1, inplace=True)"
   ]
  },
  {
   "cell_type": "markdown",
   "metadata": {
    "pycharm": {
     "name": "#%% md\n"
    }
   },
   "source": [
    "Convert tenure into the int format"
   ]
  },
  {
   "cell_type": "code",
   "execution_count": 39,
   "metadata": {
    "pycharm": {
     "name": "#%%\n"
    }
   },
   "outputs": [],
   "source": [
    "train['TENURE'] = train['TENURE'].map({'K > 24 month': 24, 'I 18-21 month': 18, 'H 15-18 month': 15, \n",
    "                                       'G 12-15 month':12, 'J 21-24 month': 21, 'F 9-12': 9,\n",
    "                                       'E 6-9 month':6, 'D 3-6 month':3})"
   ]
  },
  {
   "cell_type": "code",
   "execution_count": 40,
   "metadata": {
    "pycharm": {
     "name": "#%%\n"
    }
   },
   "outputs": [],
   "source": [
    "test['TENURE'] = test['TENURE'].map({'K > 24 month': 24, 'I 18-21 month': 18, 'H 15-18 month': 15, \n",
    "                                       'G 12-15 month':12, 'J 21-24 month': 21, 'F 9-12': 9,\n",
    "                                       'E 6-9 month':6, 'D 3-6 month':3})"
   ]
  },
  {
   "cell_type": "code",
   "execution_count": 41,
   "metadata": {
    "pycharm": {
     "name": "#%%\n"
    }
   },
   "outputs": [],
   "source": [
    "train['TENURE'].fillna(1, inplace=True) # fill nans with unkown\n",
    "test['TENURE'].fillna(1, inplace=True)"
   ]
  },
  {
   "cell_type": "markdown",
   "metadata": {
    "pycharm": {
     "name": "#%% md\n"
    }
   },
   "source": [
    "X / y samples"
   ]
  },
  {
   "cell_type": "code",
   "execution_count": 42,
   "metadata": {
    "pycharm": {
     "name": "#%%\n"
    }
   },
   "outputs": [],
   "source": [
    "y = train['CHURN']\n",
    "train.drop(['CHURN'], axis = 1, inplace=True)"
   ]
  },
  {
   "cell_type": "code",
   "execution_count": 43,
   "metadata": {
    "pycharm": {
     "name": "#%%\n"
    }
   },
   "outputs": [],
   "source": [
    "X = train"
   ]
  },
  {
   "cell_type": "markdown",
   "metadata": {
    "pycharm": {
     "name": "#%% md\n"
    }
   },
   "source": [
    "Train-val split"
   ]
  },
  {
   "cell_type": "code",
   "execution_count": 44,
   "metadata": {
    "pycharm": {
     "name": "#%%\n"
    }
   },
   "outputs": [],
   "source": [
    "X, X_val, y, y_val = train_test_split(X,y,test_size = 0.2,random_state=1)"
   ]
  },
  {
   "cell_type": "markdown",
   "metadata": {
    "pycharm": {
     "name": "#%% md\n"
    }
   },
   "source": [
    "Encoding of categorical features"
   ]
  },
  {
   "cell_type": "code",
   "execution_count": 45,
   "metadata": {
    "pycharm": {
     "name": "#%%\n"
    }
   },
   "outputs": [],
   "source": [
    "X['REGION'].fillna('other', inplace=True) # fill nans with unkown\n",
    "X_val['REGION'].fillna('other', inplace=True) \n",
    "test['REGION'].fillna('other', inplace=True)"
   ]
  },
  {
   "cell_type": "code",
   "execution_count": 46,
   "metadata": {
    "pycharm": {
     "name": "#%%\n"
    }
   },
   "outputs": [],
   "source": [
    "encoder = LabelEncoder() \n",
    "X['REGION'] = encoder.fit_transform(X['REGION'])\n",
    "X_val['REGION'] = encoder.transform(X_val['REGION'])\n",
    "test['REGION'] = encoder.transform(test['REGION'])"
   ]
  },
  {
   "cell_type": "markdown",
   "metadata": {
    "pycharm": {
     "name": "#%% md\n"
    }
   },
   "source": [
    "Scaling"
   ]
  },
  {
   "cell_type": "code",
   "execution_count": 47,
   "metadata": {
    "pycharm": {
     "name": "#%%\n"
    }
   },
   "outputs": [],
   "source": [
    "num_cols = ['MONTANT', 'FREQUENCE_RECH', 'REVENUE', 'ARPU_SEGMENT', 'FREQUENCE',\n",
    "       'DATA_VOLUME', 'ON_NET', 'ORANGE', 'TIGO', 'ZONE1', 'ZONE2',\n",
    "       'REGULARITY', 'FREQ_TOP_PACK']"
   ]
  },
  {
   "cell_type": "code",
   "execution_count": 48,
   "metadata": {
    "pycharm": {
     "name": "#%%\n"
    }
   },
   "outputs": [],
   "source": [
    "scaler = StandardScaler()"
   ]
  },
  {
   "cell_type": "code",
   "execution_count": 49,
   "metadata": {
    "pycharm": {
     "name": "#%%\n"
    }
   },
   "outputs": [],
   "source": [
    "X[num_cols] = scaler.fit_transform(X[num_cols])\n",
    "X_val[num_cols] = scaler.transform(X_val[num_cols])\n",
    "test[num_cols] = scaler.transform(test[num_cols])"
   ]
  },
  {
   "cell_type": "markdown",
   "metadata": {
    "pycharm": {
     "name": "#%% md\n"
    }
   },
   "source": [
    "Imputing missing values"
   ]
  },
  {
   "cell_type": "code",
   "execution_count": 50,
   "metadata": {
    "pycharm": {
     "name": "#%%\n"
    }
   },
   "outputs": [],
   "source": [
    "imp = SimpleImputer(missing_values=np.nan, strategy='constant', fill_value=0)\n",
    "imp = imp.fit(X[num_cols])"
   ]
  },
  {
   "cell_type": "code",
   "execution_count": 51,
   "metadata": {
    "pycharm": {
     "name": "#%%\n"
    }
   },
   "outputs": [],
   "source": [
    "X[num_cols] = imp.transform(X[num_cols])\n",
    "X_val[num_cols] = imp.transform(X_val[num_cols])\n",
    "test[num_cols] = imp.transform(test[num_cols])"
   ]
  },
  {
   "cell_type": "markdown",
   "metadata": {
    "pycharm": {
     "name": "#%% md\n"
    }
   },
   "source": [
    "## Models"
   ]
  },
  {
   "cell_type": "code",
   "execution_count": 52,
   "metadata": {
    "pycharm": {
     "name": "#%%\n"
    }
   },
   "outputs": [],
   "source": [
    "def eval_metrics(y_test, y_pred):\n",
    "    print('Precision Score: ', round(precision_score(y_val, y_pred), 3))\n",
    "    print('Recall Score: ', round(recall_score(y_val, y_pred), 3))\n",
    "    print('F1 Score: ', round(f1_score(y_val, y_pred), 3))\n",
    "    print('Accuracy Score: ', round(accuracy_score(y_val, y_pred), 3))\n",
    "    print('ROC AUC: ', round(roc_auc_score(y_val, y_pred), 3))"
   ]
  },
  {
   "cell_type": "markdown",
   "metadata": {
    "pycharm": {
     "name": "#%% md\n"
    }
   },
   "source": [
    "Submission preparation"
   ]
  },
  {
   "cell_type": "code",
   "execution_count": 53,
   "metadata": {
    "pycharm": {
     "name": "#%%\n"
    }
   },
   "outputs": [],
   "source": [
    "submission = pd.read_csv('SampleSubmission.csv')"
   ]
  },
  {
   "cell_type": "code",
   "execution_count": 54,
   "metadata": {
    "pycharm": {
     "name": "#%%\n"
    }
   },
   "outputs": [],
   "source": [
    "def prepare_submission(submission, test, model, name):\n",
    "    sub_pred = model.predict(test)\n",
    "    submission['CHURN'] = sub_pred\n",
    "    return submission.to_csv(name, index=False)"
   ]
  },
  {
   "cell_type": "markdown",
   "metadata": {
    "pycharm": {
     "name": "#%% md\n"
    }
   },
   "source": [
    "### Decision tree"
   ]
  },
  {
   "cell_type": "code",
   "execution_count": null,
   "metadata": {
    "pycharm": {
     "name": "#%%\n",
     "is_executing": true
    }
   },
   "outputs": [],
   "source": [
    "param_grid = {'max_features': [0.1, 0.2, 0.3, 0.4, 0.5],\n",
    "              'ccp_alpha': [0.1, .01, .001],\n",
    "              'min_samples_leaf': [3, 4, 5, 6, 7],\n",
    "              'max_depth' : [5, 6, 7],\n",
    "              'criterion' :['gini', 'entropy']\n",
    "             }\n",
    "\n",
    "tree_clas = DecisionTreeClassifier(random_state=124)\n",
    "grid_search = HalvingGridSearchCV(estimator=tree_clas, param_grid=param_grid, scoring='roc_auc', cv=3, verbose=False)\n",
    "grid_search.fit(X, y)"
   ]
  },
  {
   "cell_type": "code",
   "execution_count": null,
   "metadata": {
    "pycharm": {
     "name": "#%%\n",
     "is_executing": true
    }
   },
   "outputs": [],
   "source": [
    "grid_search.best_params_  "
   ]
  },
  {
   "cell_type": "code",
   "execution_count": null,
   "metadata": {
    "pycharm": {
     "name": "#%%\n",
     "is_executing": true
    }
   },
   "outputs": [],
   "source": [
    "grid_search.best_score_"
   ]
  },
  {
   "cell_type": "code",
   "execution_count": null,
   "metadata": {
    "pycharm": {
     "name": "#%%\n",
     "is_executing": true
    }
   },
   "outputs": [],
   "source": [
    "tree_clas = DecisionTreeClassifier(ccp_alpha=0.001, criterion='entropy', max_depth=7,\n",
    "                                   max_features=0.5, min_samples_leaf=7, random_state=124)\n",
    "tree_clas.fit(X, y)\n",
    "\n",
    "tree_ypred = tree_clas.predict(X_val)"
   ]
  },
  {
   "cell_type": "code",
   "execution_count": null,
   "metadata": {
    "pycharm": {
     "name": "#%%\n",
     "is_executing": true
    }
   },
   "outputs": [],
   "source": [
    "eval_metrics(y_val, tree_ypred)"
   ]
  },
  {
   "cell_type": "code",
   "execution_count": null,
   "metadata": {
    "pycharm": {
     "name": "#%%\n",
     "is_executing": true
    }
   },
   "outputs": [],
   "source": [
    "prepare_submission(submission, test, tree_clas, '1_tree_submission.csv')"
   ]
  },
  {
   "cell_type": "markdown",
   "metadata": {
    "pycharm": {
     "name": "#%% md\n"
    }
   },
   "source": [
    "### Random forest "
   ]
  },
  {
   "cell_type": "code",
   "execution_count": null,
   "metadata": {
    "pycharm": {
     "name": "#%%\n",
     "is_executing": true
    }
   },
   "outputs": [],
   "source": [
    "param_grid = {'n_estimators': [100, 200, 500],\n",
    "              'max_features': [0.1, 0.2, 0.3, 0.4, 0.5],\n",
    "              'max_depth' : [4,5,6,7,8,10],\n",
    "              'criterion' :['gini', 'entropy']\n",
    "             }\n",
    "\n",
    "rand = RandomForestClassifier(random_state=124)\n",
    "grid_search_rfc = HalvingGridSearchCV(estimator=rand, param_grid=param_grid, scoring='roc_auc', cv=3, verbose=False)\n",
    "grid_search_rfc.fit(X, y)\n",
    "grid_search_rfc.best_score_ "
   ]
  },
  {
   "cell_type": "code",
   "execution_count": null,
   "metadata": {
    "pycharm": {
     "name": "#%%\n",
     "is_executing": true
    }
   },
   "outputs": [],
   "source": [
    "grid_search_rfc.best_params_  "
   ]
  },
  {
   "cell_type": "code",
   "execution_count": null,
   "metadata": {
    "pycharm": {
     "name": "#%%\n",
     "is_executing": true
    }
   },
   "outputs": [],
   "source": [
    "rf_clf = RandomForestClassifier(criterion='entropy', max_depth=8,\n",
    "                                 max_features=0.5, n_estimators = 500, random_state=124)\n",
    "rf_clf.fit(X, y)\n",
    "\n",
    "rf_ypred = rf_clf.predict(X_val)\n",
    "eval_metrics(y_val, rf_ypred)"
   ]
  },
  {
   "cell_type": "code",
   "execution_count": null,
   "metadata": {
    "pycharm": {
     "name": "#%%\n",
     "is_executing": true
    }
   },
   "outputs": [],
   "source": [
    "prepare_submission(submission, test, rf_clf, '2_randforest_submission.csv')"
   ]
  },
  {
   "cell_type": "markdown",
   "metadata": {
    "pycharm": {
     "name": "#%% md\n"
    }
   },
   "source": [
    "### Gradient boosting"
   ]
  },
  {
   "cell_type": "code",
   "execution_count": null,
   "metadata": {
    "pycharm": {
     "name": "#%%\n",
     "is_executing": true
    }
   },
   "outputs": [],
   "source": [
    "param_grid = {'learning_rate': [0.01, 0.05, 0.1, 0.2],\n",
    "              'min_samples_split': [0.05, 0.1, 0.2, 0.5],\n",
    "              'min_samples_leaf': [0.05, 0.1, 0.2, 0.5],\n",
    "              'max_depth':[3,5,7,8],\n",
    "              'max_features':['log2','sqrt'],\n",
    "              'criterion': ['friedman_mse',  'mae'],\n",
    "              'subsample':[0.5, 0.6, 0.8, 0.9, 1.0],\n",
    "              'n_estimators':[10, 100, 200]\n",
    "             }\n",
    "\n",
    "gb = GradientBoostingClassifier(random_state=124)\n",
    "grid_search_gb = HalvingGridSearchCV(estimator=gb, param_grid=param_grid, scoring='roc_auc', cv=3, verbose=True)\n",
    "grid_search_gb.fit(X, y)\n",
    "grid_search_gb.best_score_ "
   ]
  },
  {
   "cell_type": "code",
   "execution_count": null,
   "metadata": {
    "pycharm": {
     "name": "#%%\n",
     "is_executing": true
    }
   },
   "outputs": [],
   "source": [
    "grid_search_gb.best_params_  "
   ]
  },
  {
   "cell_type": "code",
   "execution_count": null,
   "metadata": {
    "pycharm": {
     "name": "#%%\n",
     "is_executing": true
    }
   },
   "outputs": [],
   "source": [
    "gb_clf = GradientBoostingClassifier(... random_state=124)\n",
    "gb_clf.fit(X, y)\n",
    "\n",
    "gb_ypred = gb_clf.predict(X_val)\n",
    "eval_metrics(y_val, rf_ypred)"
   ]
  },
  {
   "cell_type": "code",
   "execution_count": null,
   "metadata": {
    "pycharm": {
     "name": "#%%\n",
     "is_executing": true
    }
   },
   "outputs": [],
   "source": [
    "prepare_submission(submission, test, rf_clf, '2_randforest_submission.csv')"
   ]
  },
  {
   "cell_type": "markdown",
   "metadata": {
    "pycharm": {
     "name": "#%% md\n"
    }
   },
   "source": [
    "### Knn KNeighborsClassifier "
   ]
  },
  {
   "cell_type": "code",
   "execution_count": null,
   "metadata": {
    "pycharm": {
     "name": "#%%\n",
     "is_executing": true
    }
   },
   "outputs": [],
   "source": [
    "param_grid = {'n_neighbors': [1, 2, 3, 4, 5, 6, 7, 10, 15], \n",
    "              'weights': ['uniform', 'distance'],\n",
    "              'metric': ['euclidean', 'minkowski', 'manhattan', 'chebyshev']\n",
    "              }\n",
    "\n",
    "\n",
    "knn = KNeighborsClassifier()\n",
    "grid_search_knn = HalvingGridSearchCV(estimator=knn, param_grid=param_grid, scoring='roc_auc', cv=5, verbose=False, n_jobs=-1)\n",
    "grid_search_knn.fit(X, y)\n",
    "grid_search_knn.best_score_"
   ]
  },
  {
   "cell_type": "code",
   "execution_count": null,
   "metadata": {
    "pycharm": {
     "name": "#%%\n",
     "is_executing": true
    }
   },
   "outputs": [],
   "source": [
    "grid_search_knn.best_params_  "
   ]
  },
  {
   "cell_type": "code",
   "execution_count": null,
   "metadata": {
    "pycharm": {
     "name": "#%%\n",
     "is_executing": true
    }
   },
   "outputs": [],
   "source": [
    "knn_clf = KNeighborsClassifier(... random_state=124)\n",
    "knn_clf.fit(X, y)\n",
    "\n",
    "knn_ypred = knn_clf.predict(X_val)\n",
    "eval_metrics(y_val, rf_ypred)"
   ]
  },
  {
   "cell_type": "code",
   "execution_count": null,
   "metadata": {
    "pycharm": {
     "name": "#%%\n",
     "is_executing": true
    }
   },
   "outputs": [],
   "source": [
    "prepare_submission(submission, test, knn_clf, '3_knn_submission.csv')"
   ]
  },
  {
   "cell_type": "markdown",
   "metadata": {
    "pycharm": {
     "name": "#%% md\n"
    }
   },
   "source": [
    "### Naive bayes "
   ]
  },
  {
   "cell_type": "code",
   "execution_count": null,
   "metadata": {
    "pycharm": {
     "name": "#%%\n",
     "is_executing": true
    }
   },
   "outputs": [],
   "source": [
    "param_grid_nb = {'var_smoothing': np.logspace(0,-9, num=20)}\n",
    "\n",
    "nb = GaussianNB()\n",
    "grid_search_nb = HalvingGridSearchCV(estimator=nb, param_grid=param_grid_nb, scoring='roc_auc', cv=5, verbose=False, n_jobs=-1)\n",
    "grid_search_nb.fit(X, y)\n",
    "grid_search_nb.best_score_"
   ]
  },
  {
   "cell_type": "code",
   "execution_count": null,
   "metadata": {
    "pycharm": {
     "name": "#%%\n",
     "is_executing": true
    }
   },
   "outputs": [],
   "source": [
    "grid_search_nb.best_params_"
   ]
  },
  {
   "cell_type": "code",
   "execution_count": null,
   "metadata": {
    "pycharm": {
     "name": "#%%\n",
     "is_executing": true
    }
   },
   "outputs": [],
   "source": [
    "gnb_model = GaussianNB(var_smoothing = 0.00428)\n",
    "gnb_model.fit(X, y)\n",
    "\n",
    "gnb_pred = gnb_model.predict(X_val)\n",
    "eval_metrics(y_val, gnb_pred)"
   ]
  },
  {
   "cell_type": "code",
   "execution_count": null,
   "metadata": {
    "pycharm": {
     "name": "#%%\n",
     "is_executing": true
    }
   },
   "outputs": [],
   "source": [
    "prepare_submission(submission, test, gnb_model, '5_naivebayes_submission.csv')"
   ]
  },
  {
   "cell_type": "markdown",
   "metadata": {
    "pycharm": {
     "name": "#%% md\n"
    }
   },
   "source": [
    "### Logistic Regression"
   ]
  },
  {
   "cell_type": "code",
   "execution_count": null,
   "metadata": {
    "pycharm": {
     "name": "#%%\n",
     "is_executing": true
    }
   },
   "outputs": [],
   "source": [
    "param_grid = {'solver': ['newton-cg', 'sag', 'lbfgs'],\n",
    "              'penalty': ['l2', 'none'], \n",
    "              'C': np.logspace(-3,3,7)\n",
    "              }\n",
    "\n",
    "lr = LogisticRegression()\n",
    "grid_search_lr = HalvingGridSearchCV(estimator=lr, param_grid=param_grid, scoring='roc_auc', cv=5, verbose=False, n_jobs=-1)\n",
    "grid_search_lr.fit(X, y)\n",
    "grid_search_lr.best_score_"
   ]
  },
  {
   "cell_type": "code",
   "execution_count": null,
   "metadata": {
    "pycharm": {
     "name": "#%%\n",
     "is_executing": true
    }
   },
   "outputs": [],
   "source": [
    "grid_search_lr.best_params_"
   ]
  },
  {
   "cell_type": "code",
   "execution_count": null,
   "metadata": {
    "pycharm": {
     "name": "#%%\n",
     "is_executing": true
    }
   },
   "outputs": [],
   "source": [
    "lr_model =  LogisticRegression(C=0.01, penalty='l2', solver='newton-cg')\n",
    "lr_model.fit(X, y)\n",
    "\n",
    "lr_pred = lr_model.predict(X_val)\n",
    "eval_metrics(y_val, lr_pred)"
   ]
  },
  {
   "cell_type": "code",
   "execution_count": null,
   "metadata": {
    "pycharm": {
     "name": "#%%\n",
     "is_executing": true
    }
   },
   "outputs": [],
   "source": [
    "prepare_submission(submission, test, lr_model, '4_logisticregression_submission.csv')"
   ]
  },
  {
   "cell_type": "markdown",
   "metadata": {
    "pycharm": {
     "name": "#%% md\n"
    }
   },
   "source": [
    "### SVM (SVC)"
   ]
  },
  {
   "cell_type": "markdown",
   "metadata": {
    "pycharm": {
     "name": "#%% md\n"
    }
   },
   "source": [
    "Вероятно плохо сработает, так как большой датасет и классы несбалансированные"
   ]
  },
  {
   "cell_type": "code",
   "execution_count": null,
   "metadata": {
    "pycharm": {
     "name": "#%%\n",
     "is_executing": true
    }
   },
   "outputs": [],
   "source": [
    "from sklearn.kernel_approximation import Nystroem\n",
    "from sklearn import svm"
   ]
  },
  {
   "cell_type": "code",
   "execution_count": null,
   "metadata": {
    "pycharm": {
     "name": "#%%\n",
     "is_executing": true
    }
   },
   "outputs": [],
   "source": [
    "clf_svc = svm.LinearSVC()\n",
    "feature_map_nystroem = Nystroem(gamma=.2, \n",
    "                                random_state=1, n_components=300)\n",
    "data_transformed = feature_map_nystroem.fit_transform(X)\n",
    "clf_svc.fit(data_transformed, y)"
   ]
  }
 ],
 "metadata": {
  "kernelspec": {
   "display_name": "Python 3",
   "language": "python",
   "name": "python3"
  },
  "language_info": {
   "codemirror_mode": {
    "name": "ipython",
    "version": 3
   },
   "file_extension": ".py",
   "mimetype": "text/x-python",
   "name": "python",
   "nbconvert_exporter": "python",
   "pygments_lexer": "ipython3",
   "version": "3.7.3"
  }
 },
 "nbformat": 4,
 "nbformat_minor": 4
}