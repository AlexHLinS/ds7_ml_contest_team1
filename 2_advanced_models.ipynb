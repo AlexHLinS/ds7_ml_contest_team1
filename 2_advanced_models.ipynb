{
 "cells": [
  {
   "cell_type": "markdown",
   "metadata": {
    "pycharm": {
     "name": "#%% md\n"
    }
   },
   "source": [
    "## Libraries and datasets"
   ]
  },
  {
   "cell_type": "code",
   "execution_count": 1,
   "metadata": {
    "pycharm": {
     "name": "#%%\n"
    }
   },
   "outputs": [
    {
     "name": "stderr",
     "output_type": "stream",
     "text": [
      "/Users/alena/.pyenv/versions/3.7.3/lib/python3.7/site-packages/pandas/compat/__init__.py:117: UserWarning: Could not import the lzma module. Your installed Python is incomplete. Attempting to use lzma compression will result in a RuntimeError.\n",
      "  warnings.warn(msg)\n"
     ]
    }
   ],
   "source": [
    "import pandas as pd\n",
    "import numpy as np\n",
    "import matplotlib.pyplot as plt\n",
    "import seaborn as sns\n",
    "import xgboost as xgb\n",
    "from catboost import CatBoostClassifier\n",
    "import lightgbm as lgb\n",
    "from sklearn.metrics import precision_score, recall_score, f1_score, accuracy_score, roc_auc_score\n",
    "from sklearn.model_selection import train_test_split\n",
    "from sklearn.experimental import enable_halving_search_cv \n",
    "from sklearn.model_selection import HalvingGridSearchCV\n",
    "from sklearn.model_selection import GridSearchCV\n",
    "from sklearn.preprocessing import LabelEncoder"
   ]
  },
  {
   "cell_type": "code",
   "execution_count": 2,
   "metadata": {
    "pycharm": {
     "name": "#%%\n"
    }
   },
   "outputs": [],
   "source": [
    "X = pd.read_csv('X.csv')\n",
    "X_val = pd.read_csv('X_val.csv')\n",
    "y = pd.read_csv('y.csv')\n",
    "y_val = pd.read_csv('y_val.csv')\n",
    "test = pd.read_csv('test.csv')"
   ]
  },
  {
   "cell_type": "code",
   "execution_count": 28,
   "metadata": {
    "pycharm": {
     "name": "#%%\n"
    }
   },
   "outputs": [],
   "source": [
    "cols = ['REGION','TOP_PACK', 'TENURE']\n",
    "for item in cols:\n",
    "    X[item] = X[item].astype('category')\n",
    "    X_val[item] = X_val[item].astype('category')"
   ]
  },
  {
   "cell_type": "code",
   "execution_count": 4,
   "metadata": {
    "pycharm": {
     "name": "#%%\n"
    }
   },
   "outputs": [
    {
     "name": "stdout",
     "output_type": "stream",
     "text": [
      "<class 'pandas.core.frame.DataFrame'>\n",
      "RangeIndex: 1723238 entries, 0 to 1723237\n",
      "Data columns (total 16 columns):\n",
      " #   Column          Dtype   \n",
      "---  ------          -----   \n",
      " 0   REGION          category\n",
      " 1   TENURE          category\n",
      " 2   MONTANT         float64 \n",
      " 3   FREQUENCE_RECH  float64 \n",
      " 4   REVENUE         float64 \n",
      " 5   ARPU_SEGMENT    float64 \n",
      " 6   FREQUENCE       float64 \n",
      " 7   DATA_VOLUME     float64 \n",
      " 8   ON_NET          float64 \n",
      " 9   ORANGE          float64 \n",
      " 10  TIGO            float64 \n",
      " 11  ZONE1           float64 \n",
      " 12  ZONE2           float64 \n",
      " 13  REGULARITY      int64   \n",
      " 14  TOP_PACK        category\n",
      " 15  FREQ_TOP_PACK   float64 \n",
      "dtypes: category(3), float64(12), int64(1)\n",
      "memory usage: 177.5 MB\n"
     ]
    }
   ],
   "source": [
    "X.info()"
   ]
  },
  {
   "cell_type": "code",
   "execution_count": 5,
   "metadata": {
    "pycharm": {
     "name": "#%%\n"
    }
   },
   "outputs": [],
   "source": [
    "y = y['CHURN']\n",
    "y_val = y_val['CHURN']"
   ]
  },
  {
   "cell_type": "code",
   "execution_count": 6,
   "metadata": {
    "pycharm": {
     "name": "#%%\n"
    }
   },
   "outputs": [],
   "source": [
    "X['TENURE'] = X['TENURE'].astype('Int32')\n",
    "X_val['TENURE'] = X_val['TENURE'].astype('Int32')"
   ]
  },
  {
   "cell_type": "code",
   "execution_count": 7,
   "metadata": {
    "pycharm": {
     "name": "#%%\n"
    }
   },
   "outputs": [],
   "source": [
    "X['TENURE'] = X['TENURE'].replace({pd.NA: np.nan})\n",
    "X_val['TENURE'] = X_val['TENURE'].replace({pd.NA: np.nan})"
   ]
  },
  {
   "cell_type": "markdown",
   "metadata": {
    "pycharm": {
     "name": "#%% md\n"
    }
   },
   "source": [
    "## LightGBM"
   ]
  },
  {
   "cell_type": "code",
   "execution_count": 8,
   "metadata": {
    "pycharm": {
     "name": "#%%\n"
    }
   },
   "outputs": [
    {
     "name": "stderr",
     "output_type": "stream",
     "text": [
      "/Users/alena/.pyenv/versions/3.7.3/lib/python3.7/site-packages/lightgbm/sklearn.py:598: UserWarning: 'silent' argument is deprecated and will be removed in a future release of LightGBM. Pass 'verbose' parameter via keyword arguments instead.\n",
      "  _log_warning(\"'silent' argument is deprecated and will be removed in a future release of LightGBM. \"\n"
     ]
    },
    {
     "name": "stdout",
     "output_type": "stream",
     "text": [
      "[LightGBM] [Warning] min_data_in_leaf is set=500, min_child_samples=20 will be ignored. Current value: min_data_in_leaf=500\n",
      "[LightGBM] [Warning] min_data_in_leaf is set=500, min_child_samples=20 will be ignored. Current value: min_data_in_leaf=500\n",
      "[LightGBM] [Info] Number of positive: 323274, number of negative: 1399964\n",
      "[LightGBM] [Warning] Auto-choosing row-wise multi-threading, the overhead of testing was 0.034258 seconds.\n",
      "You can set `force_row_wise=true` to remove the overhead.\n",
      "And if memory is not enough, you can set `force_col_wise=true`.\n",
      "[LightGBM] [Info] Total Bins 2563\n",
      "[LightGBM] [Info] Number of data points in the train set: 1723238, number of used features: 16\n",
      "[LightGBM] [Info] [binary:BoostFromScore]: pavg=0.187597 -> initscore=-1.465702\n",
      "[LightGBM] [Info] Start training from score -1.465702\n"
     ]
    },
    {
     "data": {
      "text/plain": [
       "HalvingGridSearchCV(cv=3, estimator=LGBMClassifier(silent=False), n_jobs=-1,\n",
       "                    param_grid={'learning_rate': [0.01, 0.05, 0.1],\n",
       "                                'max_depth': [25, 50, 75],\n",
       "                                'min_data_in_leaf': [500, 2000, 5000],\n",
       "                                'n_estimators': [200],\n",
       "                                'num_leaves': [300, 900, 1200]},\n",
       "                    scoring='roc_auc', verbose=False)"
      ]
     },
     "execution_count": 8,
     "metadata": {},
     "output_type": "execute_result"
    }
   ],
   "source": [
    "param_dist = {'max_depth': [25, 50, 75],\n",
    "              'learning_rate': [0.01,0.05,0.1],\n",
    "              'num_leaves': [300,900,1200],\n",
    "              'n_estimators': [200],\n",
    "              'min_data_in_leaf': [500, 2000, 5000]\n",
    "             }\n",
    "lg = lgb.LGBMClassifier(silent=False)\n",
    "grid_search_lg = HalvingGridSearchCV(lg, n_jobs=-1, param_grid=param_dist, cv = 3, scoring=\"roc_auc\", verbose=False)\n",
    "grid_search_lg.fit(X, y)"
   ]
  },
  {
   "cell_type": "code",
   "execution_count": 9,
   "metadata": {
    "pycharm": {
     "name": "#%%\n"
    }
   },
   "outputs": [
    {
     "data": {
      "text/plain": [
       "0.9310067420674458"
      ]
     },
     "execution_count": 9,
     "metadata": {},
     "output_type": "execute_result"
    }
   ],
   "source": [
    "grid_search_lg.best_score_"
   ]
  },
  {
   "cell_type": "code",
   "execution_count": 10,
   "metadata": {
    "pycharm": {
     "name": "#%%\n"
    }
   },
   "outputs": [
    {
     "data": {
      "text/plain": [
       "{'learning_rate': 0.01,\n",
       " 'max_depth': 50,\n",
       " 'min_data_in_leaf': 500,\n",
       " 'n_estimators': 200,\n",
       " 'num_leaves': 1200}"
      ]
     },
     "execution_count": 10,
     "metadata": {},
     "output_type": "execute_result"
    }
   ],
   "source": [
    "grid_search_lg.best_params_"
   ]
  },
  {
   "cell_type": "code",
   "execution_count": 20,
   "metadata": {
    "pycharm": {
     "name": "#%%\n"
    }
   },
   "outputs": [],
   "source": [
    "lg_train = lgb.Dataset(X, label=y)"
   ]
  },
  {
   "cell_type": "code",
   "execution_count": 21,
   "metadata": {
    "pycharm": {
     "name": "#%%\n"
    }
   },
   "outputs": [],
   "source": [
    "params = {'learning_rate': 0.01,\n",
    " 'max_depth': 50,\n",
    " 'min_data_in_leaf': 500,\n",
    " 'n_estimators': 200,\n",
    " 'num_leaves': 1200}"
   ]
  },
  {
   "cell_type": "code",
   "execution_count": 34,
   "metadata": {
    "pycharm": {
     "name": "#%%\n"
    }
   },
   "outputs": [
    {
     "ename": "TypeError",
     "evalue": "Training only accepts Dataset object",
     "output_type": "error",
     "traceback": [
      "\u001B[0;31m---------------------------------------------------------------------------\u001B[0m",
      "\u001B[0;31mTypeError\u001B[0m                                 Traceback (most recent call last)",
      "\u001B[0;32m<ipython-input-34-63d208bde38d>\u001B[0m in \u001B[0;36m<module>\u001B[0;34m\u001B[0m\n\u001B[1;32m      1\u001B[0m \u001B[0mcate_features_name\u001B[0m \u001B[0;34m=\u001B[0m \u001B[0;34m[\u001B[0m\u001B[0;34m'REGION'\u001B[0m\u001B[0;34m,\u001B[0m\u001B[0;34m'TOP_PACK'\u001B[0m\u001B[0;34m,\u001B[0m \u001B[0;34m'TENURE'\u001B[0m\u001B[0;34m]\u001B[0m\u001B[0;34m\u001B[0m\u001B[0;34m\u001B[0m\u001B[0m\n\u001B[0;32m----> 2\u001B[0;31m \u001B[0mmodel2\u001B[0m \u001B[0;34m=\u001B[0m \u001B[0mlgb\u001B[0m\u001B[0;34m.\u001B[0m\u001B[0mtrain\u001B[0m\u001B[0;34m(\u001B[0m\u001B[0mparams\u001B[0m\u001B[0;34m,\u001B[0m \u001B[0mX\u001B[0m\u001B[0;34m,\u001B[0m \u001B[0my\u001B[0m\u001B[0;34m,\u001B[0m \u001B[0mcategorical_feature\u001B[0m \u001B[0;34m=\u001B[0m \u001B[0mcate_features_name\u001B[0m\u001B[0;34m)\u001B[0m\u001B[0;34m\u001B[0m\u001B[0;34m\u001B[0m\u001B[0m\n\u001B[0m",
      "\u001B[0;32m~/.pyenv/versions/3.7.3/lib/python3.7/site-packages/lightgbm/engine.py\u001B[0m in \u001B[0;36mtrain\u001B[0;34m(params, train_set, num_boost_round, valid_sets, valid_names, fobj, feval, init_model, feature_name, categorical_feature, early_stopping_rounds, evals_result, verbose_eval, learning_rates, keep_training_booster, callbacks)\u001B[0m\n\u001B[1;32m    197\u001B[0m     \u001B[0;31m# check dataset\u001B[0m\u001B[0;34m\u001B[0m\u001B[0;34m\u001B[0m\u001B[0;34m\u001B[0m\u001B[0m\n\u001B[1;32m    198\u001B[0m     \u001B[0;32mif\u001B[0m \u001B[0;32mnot\u001B[0m \u001B[0misinstance\u001B[0m\u001B[0;34m(\u001B[0m\u001B[0mtrain_set\u001B[0m\u001B[0;34m,\u001B[0m \u001B[0mDataset\u001B[0m\u001B[0;34m)\u001B[0m\u001B[0;34m:\u001B[0m\u001B[0;34m\u001B[0m\u001B[0;34m\u001B[0m\u001B[0m\n\u001B[0;32m--> 199\u001B[0;31m         \u001B[0;32mraise\u001B[0m \u001B[0mTypeError\u001B[0m\u001B[0;34m(\u001B[0m\u001B[0;34m\"Training only accepts Dataset object\"\u001B[0m\u001B[0;34m)\u001B[0m\u001B[0;34m\u001B[0m\u001B[0;34m\u001B[0m\u001B[0m\n\u001B[0m\u001B[1;32m    200\u001B[0m \u001B[0;34m\u001B[0m\u001B[0m\n\u001B[1;32m    201\u001B[0m     \u001B[0mtrain_set\u001B[0m\u001B[0;34m.\u001B[0m\u001B[0m_update_params\u001B[0m\u001B[0;34m(\u001B[0m\u001B[0mparams\u001B[0m\u001B[0;34m)\u001B[0m\u001B[0;31m \u001B[0m\u001B[0;31m\\\u001B[0m\u001B[0;34m\u001B[0m\u001B[0;34m\u001B[0m\u001B[0m\n",
      "\u001B[0;31mTypeError\u001B[0m: Training only accepts Dataset object"
     ]
    }
   ],
   "source": [
    "cate_features_name = ['REGION','TOP_PACK', 'TENURE']\n",
    "model2 = lgb.train(params, lg_train, categorical_feature = cate_features_name)"
   ]
  },
  {
   "cell_type": "code",
   "execution_count": 36,
   "metadata": {
    "pycharm": {
     "name": "#%%\n"
    }
   },
   "outputs": [],
   "source": [
    "lgb_ypred = model2.predict(X_val)"
   ]
  },
  {
   "cell_type": "code",
   "execution_count": 39,
   "metadata": {
    "pycharm": {
     "name": "#%%\n"
    }
   },
   "outputs": [],
   "source": [
    "lgb_ypred = np.where(lgb_ypred > 0.5, 1, 0)"
   ]
  },
  {
   "cell_type": "code",
   "execution_count": 43,
   "metadata": {
    "pycharm": {
     "name": "#%%\n"
    }
   },
   "outputs": [
    {
     "name": "stdout",
     "output_type": "stream",
     "text": [
      "Precision Score:  0.709\n",
      "Recall Score:  0.595\n",
      "F1 Score:  0.647\n",
      "Accuracy Score:  0.879\n",
      "ROC AUC:  0.77\n"
     ]
    }
   ],
   "source": [
    "eval_metrics(y_val, lgb_ypred)"
   ]
  },
  {
   "cell_type": "code",
   "execution_count": 41,
   "metadata": {
    "pycharm": {
     "name": "#%%\n"
    }
   },
   "outputs": [],
   "source": [
    "def eval_metrics(y_test, y_pred):\n",
    "    print('Precision Score: ', round(precision_score(y_val, y_pred), 3))\n",
    "    print('Recall Score: ', round(recall_score(y_val, y_pred), 3))\n",
    "    print('F1 Score: ', round(f1_score(y_val, y_pred), 3))\n",
    "    print('Accuracy Score: ', round(accuracy_score(y_val, y_pred), 3))\n",
    "    print('ROC AUC: ', round(roc_auc_score(y_val, y_pred), 3))"
   ]
  },
  {
   "cell_type": "code",
   "execution_count": 22,
   "metadata": {
    "pycharm": {
     "name": "#%%\n"
    }
   },
   "outputs": [
    {
     "ename": "SyntaxError",
     "evalue": "unexpected EOF while parsing (<ipython-input-22-db28e6304158>, line 2)",
     "output_type": "error",
     "traceback": [
      "\u001B[0;36m  File \u001B[0;32m\"<ipython-input-22-db28e6304158>\"\u001B[0;36m, line \u001B[0;32m2\u001B[0m\n\u001B[0;31m    return (round(roc_auc_score(y_val,m.predict(train),2))\u001B[0m\n\u001B[0m                                                          ^\u001B[0m\n\u001B[0;31mSyntaxError\u001B[0m\u001B[0;31m:\u001B[0m unexpected EOF while parsing\n"
     ]
    }
   ],
   "source": [
    "def auc2(m, train, test): \n",
    "    return (round(roc_auc_score(y_val,m.predict(train),2)))"
   ]
  },
  {
   "cell_type": "code",
   "execution_count": null,
   "metadata": {
    "pycharm": {
     "name": "#%%\n"
    }
   },
   "outputs": [],
   "source": [
    "def auc2(model, train, test): \n",
    "    return (round(roc_auc_score(y_val, y_pred), 3))"
   ]
  },
  {
   "cell_type": "code",
   "execution_count": null,
   "metadata": {
    "pycharm": {
     "name": "#%%\n"
    }
   },
   "outputs": [],
   "source": [
    "d_train = lgb.Dataset(train, label=y_train)\n",
    "params = {\"max_depth\": 50, \"learning_rate\" : 0.1, \"num_leaves\": 900,  \"n_estimators\": 300}\n",
    "\n",
    "# Without Categorical Features\n",
    "model2 = lgb.train(params, d_train)\n",
    "auc2(model2, train, test)\n",
    "\n",
    "#With Catgeorical Features\n",
    "cate_features_name = [\"MONTH\",\"DAY\",\"DAY_OF_WEEK\",\"AIRLINE\",\"DESTINATION_AIRPORT\",\n",
    "                 \"ORIGIN_AIRPORT\"]\n",
    "model2 = lgb.train(params, d_train, categorical_feature = cate_features_name)\n",
    "auc2(model2, train, test)"
   ]
  },
  {
   "cell_type": "markdown",
   "metadata": {
    "pycharm": {
     "name": "#%% md\n"
    }
   },
   "source": [
    "## CatBoost"
   ]
  },
  {
   "cell_type": "code",
   "execution_count": 11,
   "metadata": {
    "pycharm": {
     "name": "#%%\n"
    }
   },
   "outputs": [],
   "source": [
    "X['TENURE'] = X['TENURE'].replace({pd.NA: 'NaN'})\n",
    "X_val['TENURE'] = X_val['TENURE'].replace({pd.NA: 'NaN'})"
   ]
  },
  {
   "cell_type": "code",
   "execution_count": 12,
   "metadata": {
    "pycharm": {
     "name": "#%%\n"
    }
   },
   "outputs": [],
   "source": [
    "X['REGION'] = X['REGION'].replace({np.nan: 'NaN'})\n",
    "X_val['REGION'] = X_val['REGION'].replace({np.nan: 'NaN'})\n",
    "X['TOP_PACK'] = X['TOP_PACK'].replace({pd.NA: 'NaN'})\n",
    "X_val['TOP_PACK'] = X_val['TOP_PACK'].replace({pd.NA: 'NaN'})"
   ]
  },
  {
   "cell_type": "code",
   "execution_count": 13,
   "metadata": {
    "pycharm": {
     "name": "#%%\n"
    }
   },
   "outputs": [],
   "source": [
    "cols = ['REGION','TOP_PACK', 'TENURE']\n",
    "for item in cols:\n",
    "    X[item] = X[item].astype('category')"
   ]
  },
  {
   "cell_type": "code",
   "execution_count": 14,
   "metadata": {
    "pycharm": {
     "name": "#%%\n"
    }
   },
   "outputs": [
    {
     "name": "stderr",
     "output_type": "stream",
     "text": [
      "/Users/alena/.pyenv/versions/3.7.3/lib/python3.7/site-packages/sklearn/model_selection/_validation.py:372: FitFailedWarning: \n",
      "162 fits failed out of a total of 162.\n",
      "The score on these train-test partitions for these parameters will be set to nan.\n",
      "If these failures are not expected, you can try to debug them by setting error_score='raise'.\n",
      "\n",
      "Below are more details about the failures:\n",
      "--------------------------------------------------------------------------------\n",
      "162 fits failed with the following error:\n",
      "Traceback (most recent call last):\n",
      "  File \"_catboost.pyx\", line 2651, in _catboost._set_features_order_data_pd_data_frame_categorical_column\n",
      "  File \"_catboost.pyx\", line 1858, in _catboost.get_id_object_bytes_string_representation\n",
      "_catboost.CatBoostError: bad object for id: 3.0\n",
      "\n",
      "During handling of the above exception, another exception occurred:\n",
      "\n",
      "Traceback (most recent call last):\n",
      "  File \"/Users/alena/.pyenv/versions/3.7.3/lib/python3.7/site-packages/sklearn/model_selection/_validation.py\", line 680, in _fit_and_score\n",
      "    estimator.fit(X_train, y_train, **fit_params)\n",
      "  File \"/Users/alena/.pyenv/versions/3.7.3/lib/python3.7/site-packages/catboost/core.py\", line 5009, in fit\n",
      "    silent, early_stopping_rounds, save_snapshot, snapshot_file, snapshot_interval, init_model, callbacks, log_cout, log_cerr)\n",
      "  File \"/Users/alena/.pyenv/versions/3.7.3/lib/python3.7/site-packages/catboost/core.py\", line 2270, in _fit\n",
      "    callbacks=callbacks\n",
      "  File \"/Users/alena/.pyenv/versions/3.7.3/lib/python3.7/site-packages/catboost/core.py\", line 2150, in _prepare_train_params\n",
      "    baseline, column_description)\n",
      "  File \"/Users/alena/.pyenv/versions/3.7.3/lib/python3.7/site-packages/catboost/core.py\", line 1431, in _build_train_pool\n",
      "    group_weight=group_weight, subgroup_id=subgroup_id, pairs_weight=pairs_weight, baseline=baseline)\n",
      "  File \"/Users/alena/.pyenv/versions/3.7.3/lib/python3.7/site-packages/catboost/core.py\", line 791, in __init__\n",
      "    group_id, group_weight, subgroup_id, pairs_weight, baseline, timestamp, feature_names, feature_tags, thread_count)\n",
      "  File \"/Users/alena/.pyenv/versions/3.7.3/lib/python3.7/site-packages/catboost/core.py\", line 1412, in _init\n",
      "    group_id, group_weight, subgroup_id, pairs_weight, baseline, timestamp, feature_names, feature_tags, thread_count)\n",
      "  File \"_catboost.pyx\", line 3941, in _catboost._PoolBase._init_pool\n",
      "  File \"_catboost.pyx\", line 3991, in _catboost._PoolBase._init_pool\n",
      "  File \"_catboost.pyx\", line 3807, in _catboost._PoolBase._init_features_order_layout_pool\n",
      "  File \"_catboost.pyx\", line 2736, in _catboost._set_features_order_data_pd_data_frame\n",
      "  File \"_catboost.pyx\", line 2653, in _catboost._set_features_order_data_pd_data_frame_categorical_column\n",
      "_catboost.CatBoostError: Invalid type for cat_feature category for [feature_idx=1]=3.0 : cat_features must be integer or string, real number values and NaN values should be converted to string.\n",
      "\n",
      "  warnings.warn(some_fits_failed_message, FitFailedWarning)\n",
      "/Users/alena/.pyenv/versions/3.7.3/lib/python3.7/site-packages/sklearn/model_selection/_search.py:972: UserWarning: One or more of the test scores are non-finite: [nan nan nan nan nan nan nan nan nan nan nan nan nan nan nan nan nan nan\n",
      " nan nan nan nan nan nan nan nan nan nan nan nan nan nan nan nan nan nan\n",
      " nan nan nan nan nan nan nan nan nan nan nan nan nan nan nan nan nan nan]\n",
      "  category=UserWarning,\n",
      "/Users/alena/.pyenv/versions/3.7.3/lib/python3.7/site-packages/sklearn/model_selection/_search.py:972: UserWarning: One or more of the train scores are non-finite: [nan nan nan nan nan nan nan nan nan nan nan nan nan nan nan nan nan nan\n",
      " nan nan nan nan nan nan nan nan nan nan nan nan nan nan nan nan nan nan\n",
      " nan nan nan nan nan nan nan nan nan nan nan nan nan nan nan nan nan nan]\n",
      "  category=UserWarning,\n",
      "/Users/alena/.pyenv/versions/3.7.3/lib/python3.7/site-packages/sklearn/model_selection/_validation.py:372: FitFailedWarning: \n",
      "54 fits failed out of a total of 54.\n",
      "The score on these train-test partitions for these parameters will be set to nan.\n",
      "If these failures are not expected, you can try to debug them by setting error_score='raise'.\n",
      "\n",
      "Below are more details about the failures:\n",
      "--------------------------------------------------------------------------------\n",
      "54 fits failed with the following error:\n",
      "Traceback (most recent call last):\n",
      "  File \"_catboost.pyx\", line 2651, in _catboost._set_features_order_data_pd_data_frame_categorical_column\n",
      "  File \"_catboost.pyx\", line 1858, in _catboost.get_id_object_bytes_string_representation\n",
      "_catboost.CatBoostError: bad object for id: 3.0\n",
      "\n",
      "During handling of the above exception, another exception occurred:\n",
      "\n",
      "Traceback (most recent call last):\n",
      "  File \"/Users/alena/.pyenv/versions/3.7.3/lib/python3.7/site-packages/sklearn/model_selection/_validation.py\", line 680, in _fit_and_score\n",
      "    estimator.fit(X_train, y_train, **fit_params)\n",
      "  File \"/Users/alena/.pyenv/versions/3.7.3/lib/python3.7/site-packages/catboost/core.py\", line 5009, in fit\n",
      "    silent, early_stopping_rounds, save_snapshot, snapshot_file, snapshot_interval, init_model, callbacks, log_cout, log_cerr)\n",
      "  File \"/Users/alena/.pyenv/versions/3.7.3/lib/python3.7/site-packages/catboost/core.py\", line 2270, in _fit\n",
      "    callbacks=callbacks\n",
      "  File \"/Users/alena/.pyenv/versions/3.7.3/lib/python3.7/site-packages/catboost/core.py\", line 2150, in _prepare_train_params\n",
      "    baseline, column_description)\n",
      "  File \"/Users/alena/.pyenv/versions/3.7.3/lib/python3.7/site-packages/catboost/core.py\", line 1431, in _build_train_pool\n",
      "    group_weight=group_weight, subgroup_id=subgroup_id, pairs_weight=pairs_weight, baseline=baseline)\n",
      "  File \"/Users/alena/.pyenv/versions/3.7.3/lib/python3.7/site-packages/catboost/core.py\", line 791, in __init__\n",
      "    group_id, group_weight, subgroup_id, pairs_weight, baseline, timestamp, feature_names, feature_tags, thread_count)\n",
      "  File \"/Users/alena/.pyenv/versions/3.7.3/lib/python3.7/site-packages/catboost/core.py\", line 1412, in _init\n",
      "    group_id, group_weight, subgroup_id, pairs_weight, baseline, timestamp, feature_names, feature_tags, thread_count)\n",
      "  File \"_catboost.pyx\", line 3941, in _catboost._PoolBase._init_pool\n",
      "  File \"_catboost.pyx\", line 3991, in _catboost._PoolBase._init_pool\n",
      "  File \"_catboost.pyx\", line 3807, in _catboost._PoolBase._init_features_order_layout_pool\n",
      "  File \"_catboost.pyx\", line 2736, in _catboost._set_features_order_data_pd_data_frame\n",
      "  File \"_catboost.pyx\", line 2653, in _catboost._set_features_order_data_pd_data_frame_categorical_column\n",
      "_catboost.CatBoostError: Invalid type for cat_feature category for [feature_idx=1]=3.0 : cat_features must be integer or string, real number values and NaN values should be converted to string.\n",
      "\n",
      "  warnings.warn(some_fits_failed_message, FitFailedWarning)\n",
      "/Users/alena/.pyenv/versions/3.7.3/lib/python3.7/site-packages/sklearn/model_selection/_search.py:972: UserWarning: One or more of the test scores are non-finite: [nan nan nan nan nan nan nan nan nan nan nan nan nan nan nan nan nan nan\n",
      " nan nan nan nan nan nan nan nan nan nan nan nan nan nan nan nan nan nan\n",
      " nan nan nan nan nan nan nan nan nan nan nan nan nan nan nan nan nan nan\n",
      " nan nan nan nan nan nan nan nan nan nan nan nan nan nan nan nan nan nan]\n",
      "  category=UserWarning,\n",
      "/Users/alena/.pyenv/versions/3.7.3/lib/python3.7/site-packages/sklearn/model_selection/_search.py:972: UserWarning: One or more of the train scores are non-finite: [nan nan nan nan nan nan nan nan nan nan nan nan nan nan nan nan nan nan\n",
      " nan nan nan nan nan nan nan nan nan nan nan nan nan nan nan nan nan nan\n",
      " nan nan nan nan nan nan nan nan nan nan nan nan nan nan nan nan nan nan\n",
      " nan nan nan nan nan nan nan nan nan nan nan nan nan nan nan nan nan nan]\n",
      "  category=UserWarning,\n",
      "/Users/alena/.pyenv/versions/3.7.3/lib/python3.7/site-packages/sklearn/model_selection/_validation.py:372: FitFailedWarning: \n",
      "18 fits failed out of a total of 18.\n",
      "The score on these train-test partitions for these parameters will be set to nan.\n",
      "If these failures are not expected, you can try to debug them by setting error_score='raise'.\n",
      "\n",
      "Below are more details about the failures:\n",
      "--------------------------------------------------------------------------------\n",
      "18 fits failed with the following error:\n",
      "Traceback (most recent call last):\n",
      "  File \"_catboost.pyx\", line 2651, in _catboost._set_features_order_data_pd_data_frame_categorical_column\n",
      "  File \"_catboost.pyx\", line 1858, in _catboost.get_id_object_bytes_string_representation\n",
      "_catboost.CatBoostError: bad object for id: 3.0\n",
      "\n",
      "During handling of the above exception, another exception occurred:\n",
      "\n",
      "Traceback (most recent call last):\n",
      "  File \"/Users/alena/.pyenv/versions/3.7.3/lib/python3.7/site-packages/sklearn/model_selection/_validation.py\", line 680, in _fit_and_score\n",
      "    estimator.fit(X_train, y_train, **fit_params)\n",
      "  File \"/Users/alena/.pyenv/versions/3.7.3/lib/python3.7/site-packages/catboost/core.py\", line 5009, in fit\n",
      "    silent, early_stopping_rounds, save_snapshot, snapshot_file, snapshot_interval, init_model, callbacks, log_cout, log_cerr)\n",
      "  File \"/Users/alena/.pyenv/versions/3.7.3/lib/python3.7/site-packages/catboost/core.py\", line 2270, in _fit\n",
      "    callbacks=callbacks\n",
      "  File \"/Users/alena/.pyenv/versions/3.7.3/lib/python3.7/site-packages/catboost/core.py\", line 2150, in _prepare_train_params\n",
      "    baseline, column_description)\n",
      "  File \"/Users/alena/.pyenv/versions/3.7.3/lib/python3.7/site-packages/catboost/core.py\", line 1431, in _build_train_pool\n",
      "    group_weight=group_weight, subgroup_id=subgroup_id, pairs_weight=pairs_weight, baseline=baseline)\n",
      "  File \"/Users/alena/.pyenv/versions/3.7.3/lib/python3.7/site-packages/catboost/core.py\", line 791, in __init__\n",
      "    group_id, group_weight, subgroup_id, pairs_weight, baseline, timestamp, feature_names, feature_tags, thread_count)\n",
      "  File \"/Users/alena/.pyenv/versions/3.7.3/lib/python3.7/site-packages/catboost/core.py\", line 1412, in _init\n",
      "    group_id, group_weight, subgroup_id, pairs_weight, baseline, timestamp, feature_names, feature_tags, thread_count)\n",
      "  File \"_catboost.pyx\", line 3941, in _catboost._PoolBase._init_pool\n",
      "  File \"_catboost.pyx\", line 3991, in _catboost._PoolBase._init_pool\n",
      "  File \"_catboost.pyx\", line 3807, in _catboost._PoolBase._init_features_order_layout_pool\n",
      "  File \"_catboost.pyx\", line 2736, in _catboost._set_features_order_data_pd_data_frame\n",
      "  File \"_catboost.pyx\", line 2653, in _catboost._set_features_order_data_pd_data_frame_categorical_column\n",
      "_catboost.CatBoostError: Invalid type for cat_feature category for [feature_idx=1]=3.0 : cat_features must be integer or string, real number values and NaN values should be converted to string.\n",
      "\n",
      "  warnings.warn(some_fits_failed_message, FitFailedWarning)\n",
      "/Users/alena/.pyenv/versions/3.7.3/lib/python3.7/site-packages/sklearn/model_selection/_search.py:972: UserWarning: One or more of the test scores are non-finite: [nan nan nan nan nan nan nan nan nan nan nan nan nan nan nan nan nan nan\n",
      " nan nan nan nan nan nan nan nan nan nan nan nan nan nan nan nan nan nan\n",
      " nan nan nan nan nan nan nan nan nan nan nan nan nan nan nan nan nan nan\n",
      " nan nan nan nan nan nan nan nan nan nan nan nan nan nan nan nan nan nan\n",
      " nan nan nan nan nan nan]\n",
      "  category=UserWarning,\n",
      "/Users/alena/.pyenv/versions/3.7.3/lib/python3.7/site-packages/sklearn/model_selection/_search.py:972: UserWarning: One or more of the train scores are non-finite: [nan nan nan nan nan nan nan nan nan nan nan nan nan nan nan nan nan nan\n",
      " nan nan nan nan nan nan nan nan nan nan nan nan nan nan nan nan nan nan\n",
      " nan nan nan nan nan nan nan nan nan nan nan nan nan nan nan nan nan nan\n",
      " nan nan nan nan nan nan nan nan nan nan nan nan nan nan nan nan nan nan\n",
      " nan nan nan nan nan nan]\n",
      "  category=UserWarning,\n"
     ]
    },
    {
     "name": "stderr",
     "output_type": "stream",
     "text": [
      "/Users/alena/.pyenv/versions/3.7.3/lib/python3.7/site-packages/sklearn/model_selection/_validation.py:372: FitFailedWarning: \n",
      "6 fits failed out of a total of 6.\n",
      "The score on these train-test partitions for these parameters will be set to nan.\n",
      "If these failures are not expected, you can try to debug them by setting error_score='raise'.\n",
      "\n",
      "Below are more details about the failures:\n",
      "--------------------------------------------------------------------------------\n",
      "6 fits failed with the following error:\n",
      "Traceback (most recent call last):\n",
      "  File \"_catboost.pyx\", line 2651, in _catboost._set_features_order_data_pd_data_frame_categorical_column\n",
      "  File \"_catboost.pyx\", line 1858, in _catboost.get_id_object_bytes_string_representation\n",
      "_catboost.CatBoostError: bad object for id: 3.0\n",
      "\n",
      "During handling of the above exception, another exception occurred:\n",
      "\n",
      "Traceback (most recent call last):\n",
      "  File \"/Users/alena/.pyenv/versions/3.7.3/lib/python3.7/site-packages/sklearn/model_selection/_validation.py\", line 680, in _fit_and_score\n",
      "    estimator.fit(X_train, y_train, **fit_params)\n",
      "  File \"/Users/alena/.pyenv/versions/3.7.3/lib/python3.7/site-packages/catboost/core.py\", line 5009, in fit\n",
      "    silent, early_stopping_rounds, save_snapshot, snapshot_file, snapshot_interval, init_model, callbacks, log_cout, log_cerr)\n",
      "  File \"/Users/alena/.pyenv/versions/3.7.3/lib/python3.7/site-packages/catboost/core.py\", line 2270, in _fit\n",
      "    callbacks=callbacks\n",
      "  File \"/Users/alena/.pyenv/versions/3.7.3/lib/python3.7/site-packages/catboost/core.py\", line 2150, in _prepare_train_params\n",
      "    baseline, column_description)\n",
      "  File \"/Users/alena/.pyenv/versions/3.7.3/lib/python3.7/site-packages/catboost/core.py\", line 1431, in _build_train_pool\n",
      "    group_weight=group_weight, subgroup_id=subgroup_id, pairs_weight=pairs_weight, baseline=baseline)\n",
      "  File \"/Users/alena/.pyenv/versions/3.7.3/lib/python3.7/site-packages/catboost/core.py\", line 791, in __init__\n",
      "    group_id, group_weight, subgroup_id, pairs_weight, baseline, timestamp, feature_names, feature_tags, thread_count)\n",
      "  File \"/Users/alena/.pyenv/versions/3.7.3/lib/python3.7/site-packages/catboost/core.py\", line 1412, in _init\n",
      "    group_id, group_weight, subgroup_id, pairs_weight, baseline, timestamp, feature_names, feature_tags, thread_count)\n",
      "  File \"_catboost.pyx\", line 3941, in _catboost._PoolBase._init_pool\n",
      "  File \"_catboost.pyx\", line 3991, in _catboost._PoolBase._init_pool\n",
      "  File \"_catboost.pyx\", line 3807, in _catboost._PoolBase._init_features_order_layout_pool\n",
      "  File \"_catboost.pyx\", line 2736, in _catboost._set_features_order_data_pd_data_frame\n",
      "  File \"_catboost.pyx\", line 2653, in _catboost._set_features_order_data_pd_data_frame_categorical_column\n",
      "_catboost.CatBoostError: Invalid type for cat_feature category for [feature_idx=1]=3.0 : cat_features must be integer or string, real number values and NaN values should be converted to string.\n",
      "\n",
      "  warnings.warn(some_fits_failed_message, FitFailedWarning)\n",
      "/Users/alena/.pyenv/versions/3.7.3/lib/python3.7/site-packages/sklearn/model_selection/_search.py:972: UserWarning: One or more of the test scores are non-finite: [nan nan nan nan nan nan nan nan nan nan nan nan nan nan nan nan nan nan\n",
      " nan nan nan nan nan nan nan nan nan nan nan nan nan nan nan nan nan nan\n",
      " nan nan nan nan nan nan nan nan nan nan nan nan nan nan nan nan nan nan\n",
      " nan nan nan nan nan nan nan nan nan nan nan nan nan nan nan nan nan nan\n",
      " nan nan nan nan nan nan nan nan]\n",
      "  category=UserWarning,\n",
      "/Users/alena/.pyenv/versions/3.7.3/lib/python3.7/site-packages/sklearn/model_selection/_search.py:972: UserWarning: One or more of the train scores are non-finite: [nan nan nan nan nan nan nan nan nan nan nan nan nan nan nan nan nan nan\n",
      " nan nan nan nan nan nan nan nan nan nan nan nan nan nan nan nan nan nan\n",
      " nan nan nan nan nan nan nan nan nan nan nan nan nan nan nan nan nan nan\n",
      " nan nan nan nan nan nan nan nan nan nan nan nan nan nan nan nan nan nan\n",
      " nan nan nan nan nan nan nan nan]\n",
      "  category=UserWarning,\n"
     ]
    },
    {
     "ename": "CatBoostError",
     "evalue": "Invalid type for cat_feature category for [feature_idx=1]=3.0 : cat_features must be integer or string, real number values and NaN values should be converted to string.",
     "output_type": "error",
     "traceback": [
      "\u001B[0;31m---------------------------------------------------------------------------\u001B[0m",
      "\u001B[0;31mCatBoostError\u001B[0m                             Traceback (most recent call last)",
      "\u001B[0;32m_catboost.pyx\u001B[0m in \u001B[0;36m_catboost._set_features_order_data_pd_data_frame_categorical_column\u001B[0;34m()\u001B[0m\n",
      "\u001B[0;32m_catboost.pyx\u001B[0m in \u001B[0;36m_catboost.get_id_object_bytes_string_representation\u001B[0;34m()\u001B[0m\n",
      "\u001B[0;31mCatBoostError\u001B[0m: bad object for id: 3.0",
      "\nDuring handling of the above exception, another exception occurred:\n",
      "\u001B[0;31mCatBoostError\u001B[0m                             Traceback (most recent call last)",
      "\u001B[0;32m<ipython-input-14-140dba854288>\u001B[0m in \u001B[0;36m<module>\u001B[0;34m\u001B[0m\n\u001B[1;32m      6\u001B[0m \u001B[0mcb\u001B[0m \u001B[0;34m=\u001B[0m \u001B[0mCatBoostClassifier\u001B[0m\u001B[0;34m(\u001B[0m\u001B[0mlogging_level\u001B[0m\u001B[0;34m=\u001B[0m\u001B[0;34m'Silent'\u001B[0m\u001B[0;34m)\u001B[0m\u001B[0;34m\u001B[0m\u001B[0;34m\u001B[0m\u001B[0m\n\u001B[1;32m      7\u001B[0m \u001B[0mcb_model\u001B[0m \u001B[0;34m=\u001B[0m \u001B[0mHalvingGridSearchCV\u001B[0m\u001B[0;34m(\u001B[0m\u001B[0mcb\u001B[0m\u001B[0;34m,\u001B[0m \u001B[0mparams\u001B[0m\u001B[0;34m,\u001B[0m \u001B[0mscoring\u001B[0m\u001B[0;34m=\u001B[0m\u001B[0;34m'roc_auc'\u001B[0m\u001B[0;34m,\u001B[0m \u001B[0mcv\u001B[0m \u001B[0;34m=\u001B[0m \u001B[0;36m3\u001B[0m\u001B[0;34m,\u001B[0m \u001B[0mverbose\u001B[0m\u001B[0;34m=\u001B[0m\u001B[0;32mFalse\u001B[0m\u001B[0;34m)\u001B[0m\u001B[0;34m\u001B[0m\u001B[0;34m\u001B[0m\u001B[0m\n\u001B[0;32m----> 8\u001B[0;31m \u001B[0mcb_model\u001B[0m\u001B[0;34m.\u001B[0m\u001B[0mfit\u001B[0m\u001B[0;34m(\u001B[0m\u001B[0mX\u001B[0m\u001B[0;34m,\u001B[0m \u001B[0my\u001B[0m\u001B[0;34m,\u001B[0m \u001B[0mcat_features\u001B[0m \u001B[0;34m=\u001B[0m \u001B[0mcat_features_index\u001B[0m\u001B[0;34m)\u001B[0m\u001B[0;34m\u001B[0m\u001B[0;34m\u001B[0m\u001B[0m\n\u001B[0m",
      "\u001B[0;32m~/.pyenv/versions/3.7.3/lib/python3.7/site-packages/sklearn/model_selection/_search_successive_halving.py\u001B[0m in \u001B[0;36mfit\u001B[0;34m(self, X, y, groups, **fit_params)\u001B[0m\n\u001B[1;32m    260\u001B[0m         \u001B[0mself\u001B[0m\u001B[0;34m.\u001B[0m\u001B[0m_n_samples_orig\u001B[0m \u001B[0;34m=\u001B[0m \u001B[0m_num_samples\u001B[0m\u001B[0;34m(\u001B[0m\u001B[0mX\u001B[0m\u001B[0;34m)\u001B[0m\u001B[0;34m\u001B[0m\u001B[0;34m\u001B[0m\u001B[0m\n\u001B[1;32m    261\u001B[0m \u001B[0;34m\u001B[0m\u001B[0m\n\u001B[0;32m--> 262\u001B[0;31m         \u001B[0msuper\u001B[0m\u001B[0;34m(\u001B[0m\u001B[0;34m)\u001B[0m\u001B[0;34m.\u001B[0m\u001B[0mfit\u001B[0m\u001B[0;34m(\u001B[0m\u001B[0mX\u001B[0m\u001B[0;34m,\u001B[0m \u001B[0my\u001B[0m\u001B[0;34m=\u001B[0m\u001B[0my\u001B[0m\u001B[0;34m,\u001B[0m \u001B[0mgroups\u001B[0m\u001B[0;34m=\u001B[0m\u001B[0mgroups\u001B[0m\u001B[0;34m,\u001B[0m \u001B[0;34m**\u001B[0m\u001B[0mfit_params\u001B[0m\u001B[0;34m)\u001B[0m\u001B[0;34m\u001B[0m\u001B[0;34m\u001B[0m\u001B[0m\n\u001B[0m\u001B[1;32m    263\u001B[0m \u001B[0;34m\u001B[0m\u001B[0m\n\u001B[1;32m    264\u001B[0m         \u001B[0;31m# Set best_score_: BaseSearchCV does not set it, as refit is a callable\u001B[0m\u001B[0;34m\u001B[0m\u001B[0;34m\u001B[0m\u001B[0;34m\u001B[0m\u001B[0m\n",
      "\u001B[0;32m~/.pyenv/versions/3.7.3/lib/python3.7/site-packages/sklearn/model_selection/_search.py\u001B[0m in \u001B[0;36mfit\u001B[0;34m(self, X, y, groups, **fit_params)\u001B[0m\n\u001B[1;32m    924\u001B[0m             \u001B[0mrefit_start_time\u001B[0m \u001B[0;34m=\u001B[0m \u001B[0mtime\u001B[0m\u001B[0;34m.\u001B[0m\u001B[0mtime\u001B[0m\u001B[0;34m(\u001B[0m\u001B[0;34m)\u001B[0m\u001B[0;34m\u001B[0m\u001B[0;34m\u001B[0m\u001B[0m\n\u001B[1;32m    925\u001B[0m             \u001B[0;32mif\u001B[0m \u001B[0my\u001B[0m \u001B[0;32mis\u001B[0m \u001B[0;32mnot\u001B[0m \u001B[0;32mNone\u001B[0m\u001B[0;34m:\u001B[0m\u001B[0;34m\u001B[0m\u001B[0;34m\u001B[0m\u001B[0m\n\u001B[0;32m--> 926\u001B[0;31m                 \u001B[0mself\u001B[0m\u001B[0;34m.\u001B[0m\u001B[0mbest_estimator_\u001B[0m\u001B[0;34m.\u001B[0m\u001B[0mfit\u001B[0m\u001B[0;34m(\u001B[0m\u001B[0mX\u001B[0m\u001B[0;34m,\u001B[0m \u001B[0my\u001B[0m\u001B[0;34m,\u001B[0m \u001B[0;34m**\u001B[0m\u001B[0mfit_params\u001B[0m\u001B[0;34m)\u001B[0m\u001B[0;34m\u001B[0m\u001B[0;34m\u001B[0m\u001B[0m\n\u001B[0m\u001B[1;32m    927\u001B[0m             \u001B[0;32melse\u001B[0m\u001B[0;34m:\u001B[0m\u001B[0;34m\u001B[0m\u001B[0;34m\u001B[0m\u001B[0m\n\u001B[1;32m    928\u001B[0m                 \u001B[0mself\u001B[0m\u001B[0;34m.\u001B[0m\u001B[0mbest_estimator_\u001B[0m\u001B[0;34m.\u001B[0m\u001B[0mfit\u001B[0m\u001B[0;34m(\u001B[0m\u001B[0mX\u001B[0m\u001B[0;34m,\u001B[0m \u001B[0;34m**\u001B[0m\u001B[0mfit_params\u001B[0m\u001B[0;34m)\u001B[0m\u001B[0;34m\u001B[0m\u001B[0;34m\u001B[0m\u001B[0m\n",
      "\u001B[0;32m~/.pyenv/versions/3.7.3/lib/python3.7/site-packages/catboost/core.py\u001B[0m in \u001B[0;36mfit\u001B[0;34m(self, X, y, cat_features, text_features, embedding_features, sample_weight, baseline, use_best_model, eval_set, verbose, logging_level, plot, column_description, verbose_eval, metric_period, silent, early_stopping_rounds, save_snapshot, snapshot_file, snapshot_interval, init_model, callbacks, log_cout, log_cerr)\u001B[0m\n\u001B[1;32m   5007\u001B[0m         self._fit(X, y, cat_features, text_features, embedding_features, None, sample_weight, None, None, None, None, baseline, use_best_model,\n\u001B[1;32m   5008\u001B[0m                   \u001B[0meval_set\u001B[0m\u001B[0;34m,\u001B[0m \u001B[0mverbose\u001B[0m\u001B[0;34m,\u001B[0m \u001B[0mlogging_level\u001B[0m\u001B[0;34m,\u001B[0m \u001B[0mplot\u001B[0m\u001B[0;34m,\u001B[0m \u001B[0mcolumn_description\u001B[0m\u001B[0;34m,\u001B[0m \u001B[0mverbose_eval\u001B[0m\u001B[0;34m,\u001B[0m \u001B[0mmetric_period\u001B[0m\u001B[0;34m,\u001B[0m\u001B[0;34m\u001B[0m\u001B[0;34m\u001B[0m\u001B[0m\n\u001B[0;32m-> 5009\u001B[0;31m                   silent, early_stopping_rounds, save_snapshot, snapshot_file, snapshot_interval, init_model, callbacks, log_cout, log_cerr)\n\u001B[0m\u001B[1;32m   5010\u001B[0m         \u001B[0;32mreturn\u001B[0m \u001B[0mself\u001B[0m\u001B[0;34m\u001B[0m\u001B[0;34m\u001B[0m\u001B[0m\n\u001B[1;32m   5011\u001B[0m \u001B[0;34m\u001B[0m\u001B[0m\n",
      "\u001B[0;32m~/.pyenv/versions/3.7.3/lib/python3.7/site-packages/catboost/core.py\u001B[0m in \u001B[0;36m_fit\u001B[0;34m(self, X, y, cat_features, text_features, embedding_features, pairs, sample_weight, group_id, group_weight, subgroup_id, pairs_weight, baseline, use_best_model, eval_set, verbose, logging_level, plot, column_description, verbose_eval, metric_period, silent, early_stopping_rounds, save_snapshot, snapshot_file, snapshot_interval, init_model, callbacks, log_cout, log_cerr)\u001B[0m\n\u001B[1;32m   2268\u001B[0m             \u001B[0msilent\u001B[0m\u001B[0;34m=\u001B[0m\u001B[0msilent\u001B[0m\u001B[0;34m,\u001B[0m \u001B[0mearly_stopping_rounds\u001B[0m\u001B[0;34m=\u001B[0m\u001B[0mearly_stopping_rounds\u001B[0m\u001B[0;34m,\u001B[0m \u001B[0msave_snapshot\u001B[0m\u001B[0;34m=\u001B[0m\u001B[0msave_snapshot\u001B[0m\u001B[0;34m,\u001B[0m\u001B[0;34m\u001B[0m\u001B[0;34m\u001B[0m\u001B[0m\n\u001B[1;32m   2269\u001B[0m             \u001B[0msnapshot_file\u001B[0m\u001B[0;34m=\u001B[0m\u001B[0msnapshot_file\u001B[0m\u001B[0;34m,\u001B[0m \u001B[0msnapshot_interval\u001B[0m\u001B[0;34m=\u001B[0m\u001B[0msnapshot_interval\u001B[0m\u001B[0;34m,\u001B[0m \u001B[0minit_model\u001B[0m\u001B[0;34m=\u001B[0m\u001B[0minit_model\u001B[0m\u001B[0;34m,\u001B[0m\u001B[0;34m\u001B[0m\u001B[0;34m\u001B[0m\u001B[0m\n\u001B[0;32m-> 2270\u001B[0;31m             \u001B[0mcallbacks\u001B[0m\u001B[0;34m=\u001B[0m\u001B[0mcallbacks\u001B[0m\u001B[0;34m\u001B[0m\u001B[0;34m\u001B[0m\u001B[0m\n\u001B[0m\u001B[1;32m   2271\u001B[0m         )\n\u001B[1;32m   2272\u001B[0m         \u001B[0mparams\u001B[0m \u001B[0;34m=\u001B[0m \u001B[0mtrain_params\u001B[0m\u001B[0;34m[\u001B[0m\u001B[0;34m\"params\"\u001B[0m\u001B[0;34m]\u001B[0m\u001B[0;34m\u001B[0m\u001B[0;34m\u001B[0m\u001B[0m\n",
      "\u001B[0;32m~/.pyenv/versions/3.7.3/lib/python3.7/site-packages/catboost/core.py\u001B[0m in \u001B[0;36m_prepare_train_params\u001B[0;34m(self, X, y, cat_features, text_features, embedding_features, pairs, sample_weight, group_id, group_weight, subgroup_id, pairs_weight, baseline, use_best_model, eval_set, verbose, logging_level, plot, column_description, verbose_eval, metric_period, silent, early_stopping_rounds, save_snapshot, snapshot_file, snapshot_interval, init_model, callbacks)\u001B[0m\n\u001B[1;32m   2148\u001B[0m         train_pool = _build_train_pool(X, y, cat_features, text_features, embedding_features, pairs,\n\u001B[1;32m   2149\u001B[0m                                        \u001B[0msample_weight\u001B[0m\u001B[0;34m,\u001B[0m \u001B[0mgroup_id\u001B[0m\u001B[0;34m,\u001B[0m \u001B[0mgroup_weight\u001B[0m\u001B[0;34m,\u001B[0m \u001B[0msubgroup_id\u001B[0m\u001B[0;34m,\u001B[0m \u001B[0mpairs_weight\u001B[0m\u001B[0;34m,\u001B[0m\u001B[0;34m\u001B[0m\u001B[0;34m\u001B[0m\u001B[0m\n\u001B[0;32m-> 2150\u001B[0;31m                                        baseline, column_description)\n\u001B[0m\u001B[1;32m   2151\u001B[0m         \u001B[0;32mif\u001B[0m \u001B[0mtrain_pool\u001B[0m\u001B[0;34m.\u001B[0m\u001B[0mis_empty_\u001B[0m\u001B[0;34m:\u001B[0m\u001B[0;34m\u001B[0m\u001B[0;34m\u001B[0m\u001B[0m\n\u001B[1;32m   2152\u001B[0m             \u001B[0;32mraise\u001B[0m \u001B[0mCatBoostError\u001B[0m\u001B[0;34m(\u001B[0m\u001B[0;34m\"X is empty.\"\u001B[0m\u001B[0;34m)\u001B[0m\u001B[0;34m\u001B[0m\u001B[0;34m\u001B[0m\u001B[0m\n",
      "\u001B[0;32m~/.pyenv/versions/3.7.3/lib/python3.7/site-packages/catboost/core.py\u001B[0m in \u001B[0;36m_build_train_pool\u001B[0;34m(X, y, cat_features, text_features, embedding_features, pairs, sample_weight, group_id, group_weight, subgroup_id, pairs_weight, baseline, column_description)\u001B[0m\n\u001B[1;32m   1429\u001B[0m             \u001B[0;32mraise\u001B[0m \u001B[0mCatBoostError\u001B[0m\u001B[0;34m(\u001B[0m\u001B[0;34m\"y has not initialized in fit(): X is not catboost.Pool object, y must be not None in fit().\"\u001B[0m\u001B[0;34m)\u001B[0m\u001B[0;34m\u001B[0m\u001B[0;34m\u001B[0m\u001B[0m\n\u001B[1;32m   1430\u001B[0m         train_pool = Pool(X, y, cat_features=cat_features, text_features=text_features, embedding_features=embedding_features, pairs=pairs, weight=sample_weight, group_id=group_id,\n\u001B[0;32m-> 1431\u001B[0;31m                           group_weight=group_weight, subgroup_id=subgroup_id, pairs_weight=pairs_weight, baseline=baseline)\n\u001B[0m\u001B[1;32m   1432\u001B[0m     \u001B[0;32mreturn\u001B[0m \u001B[0mtrain_pool\u001B[0m\u001B[0;34m\u001B[0m\u001B[0;34m\u001B[0m\u001B[0m\n\u001B[1;32m   1433\u001B[0m \u001B[0;34m\u001B[0m\u001B[0m\n",
      "\u001B[0;32m~/.pyenv/versions/3.7.3/lib/python3.7/site-packages/catboost/core.py\u001B[0m in \u001B[0;36m__init__\u001B[0;34m(self, data, label, cat_features, text_features, embedding_features, embedding_features_data, column_description, pairs, delimiter, has_header, ignore_csv_quoting, weight, group_id, group_weight, subgroup_id, pairs_weight, baseline, timestamp, feature_names, feature_tags, thread_count, log_cout, log_cerr)\u001B[0m\n\u001B[1;32m    789\u001B[0m \u001B[0;34m\u001B[0m\u001B[0m\n\u001B[1;32m    790\u001B[0m                 self._init(data, label, cat_features, text_features, embedding_features, embedding_features_data, pairs, weight,\n\u001B[0;32m--> 791\u001B[0;31m                            group_id, group_weight, subgroup_id, pairs_weight, baseline, timestamp, feature_names, feature_tags, thread_count)\n\u001B[0m\u001B[1;32m    792\u001B[0m         \u001B[0msuper\u001B[0m\u001B[0;34m(\u001B[0m\u001B[0mPool\u001B[0m\u001B[0;34m,\u001B[0m \u001B[0mself\u001B[0m\u001B[0;34m)\u001B[0m\u001B[0;34m.\u001B[0m\u001B[0m__init__\u001B[0m\u001B[0;34m(\u001B[0m\u001B[0;34m)\u001B[0m\u001B[0;34m\u001B[0m\u001B[0;34m\u001B[0m\u001B[0m\n\u001B[1;32m    793\u001B[0m \u001B[0;34m\u001B[0m\u001B[0m\n",
      "\u001B[0;32m~/.pyenv/versions/3.7.3/lib/python3.7/site-packages/catboost/core.py\u001B[0m in \u001B[0;36m_init\u001B[0;34m(self, data, label, cat_features, text_features, embedding_features, embedding_features_data, pairs, weight, group_id, group_weight, subgroup_id, pairs_weight, baseline, timestamp, feature_names, feature_tags, thread_count)\u001B[0m\n\u001B[1;32m   1410\u001B[0m             \u001B[0mfeature_tags\u001B[0m \u001B[0;34m=\u001B[0m \u001B[0mself\u001B[0m\u001B[0;34m.\u001B[0m\u001B[0m_check_transform_tags\u001B[0m\u001B[0;34m(\u001B[0m\u001B[0mfeature_tags\u001B[0m\u001B[0;34m,\u001B[0m \u001B[0mfeature_names\u001B[0m\u001B[0;34m)\u001B[0m\u001B[0;34m\u001B[0m\u001B[0;34m\u001B[0m\u001B[0m\n\u001B[1;32m   1411\u001B[0m         self._init_pool(data, label, cat_features, text_features, embedding_features, embedding_features_data, pairs, weight,\n\u001B[0;32m-> 1412\u001B[0;31m                         group_id, group_weight, subgroup_id, pairs_weight, baseline, timestamp, feature_names, feature_tags, thread_count)\n\u001B[0m\u001B[1;32m   1413\u001B[0m \u001B[0;34m\u001B[0m\u001B[0m\n\u001B[1;32m   1414\u001B[0m \u001B[0;34m\u001B[0m\u001B[0m\n",
      "\u001B[0;32m_catboost.pyx\u001B[0m in \u001B[0;36m_catboost._PoolBase._init_pool\u001B[0;34m()\u001B[0m\n",
      "\u001B[0;32m_catboost.pyx\u001B[0m in \u001B[0;36m_catboost._PoolBase._init_pool\u001B[0;34m()\u001B[0m\n",
      "\u001B[0;32m_catboost.pyx\u001B[0m in \u001B[0;36m_catboost._PoolBase._init_features_order_layout_pool\u001B[0;34m()\u001B[0m\n",
      "\u001B[0;32m_catboost.pyx\u001B[0m in \u001B[0;36m_catboost._set_features_order_data_pd_data_frame\u001B[0;34m()\u001B[0m\n",
      "\u001B[0;32m_catboost.pyx\u001B[0m in \u001B[0;36m_catboost._set_features_order_data_pd_data_frame_categorical_column\u001B[0;34m()\u001B[0m\n",
      "\u001B[0;31mCatBoostError\u001B[0m: Invalid type for cat_feature category for [feature_idx=1]=3.0 : cat_features must be integer or string, real number values and NaN values should be converted to string."
     ]
    }
   ],
   "source": [
    "cat_features_index = 0, 1, 14\n",
    "params = {'depth': [4, 7, 10],\n",
    "          'learning_rate' : [0.03, 0.1, 0.15],\n",
    "         'l2_leaf_reg': [1,4,9],\n",
    "         'iterations': [100, 300]}\n",
    "cb = CatBoostClassifier(logging_level='Silent')\n",
    "cb_model = HalvingGridSearchCV(cb, params, scoring='roc_auc', cv = 3, verbose=False)\n",
    "cb_model.fit(X, y, cat_features = cat_features_index)"
   ]
  },
  {
   "cell_type": "code",
   "execution_count": null,
   "metadata": {
    "pycharm": {
     "name": "#%%\n"
    }
   },
   "outputs": [],
   "source": [
    "cb_model.best_score_"
   ]
  },
  {
   "cell_type": "code",
   "execution_count": null,
   "metadata": {
    "pycharm": {
     "name": "#%%\n"
    }
   },
   "outputs": [],
   "source": [
    "cb_model.best_params_"
   ]
  },
  {
   "cell_type": "code",
   "execution_count": null,
   "metadata": {
    "pycharm": {
     "name": "#%%\n"
    }
   },
   "outputs": [],
   "source": [
    "\n",
    "cat_features_index = [0,1,2,3,4,5,6]\n",
    "\n",
    "def auc(m, train, test): \n",
    "    return (metrics.roc_auc_score(y_train,m.predict_proba(train)[:,1]),\n",
    "                            metrics.roc_auc_score(y_test,m.predict_proba(test)[:,1]))\n",
    "\n",
    "params = {'depth': [4, 7, 10],\n",
    "          'learning_rate' : [0.03, 0.1, 0.15],\n",
    "         'l2_leaf_reg': [1,4,9],\n",
    "         'iterations': [300]}\n",
    "cb = cb.CatBoostClassifier()\n",
    "cb_model = GridSearchCV(cb, params, scoring=\"roc_auc\", cv = 3)\n",
    "cb_model.fit(train, y_train)\n",
    "\n",
    "With Categorical features\n",
    "clf = cb.CatBoostClassifier(eval_metric=\"AUC\", depth=10, iterations= 500, l2_leaf_reg= 9, learning_rate= 0.15)\n",
    "clf.fit(train,y_train)\n",
    "auc(clf, train, test)\n",
    "\n",
    "With Categorical features\n",
    "clf = cb.CatBoostClassifier(eval_metric=\"AUC\",one_hot_max_size=31, \\\n",
    "                            depth=10, iterations= 500, l2_leaf_reg= 9, learning_rate= 0.15)\n",
    "clf.fit(train,y_train, cat_features= cat_features_index)\n",
    "auc(clf, train, test)\n"
   ]
  },
  {
   "cell_type": "code",
   "execution_count": null,
   "metadata": {
    "pycharm": {
     "name": "#%%\n"
    }
   },
   "outputs": [],
   "source": []
  },
  {
   "cell_type": "markdown",
   "metadata": {
    "pycharm": {
     "name": "#%% md\n"
    }
   },
   "source": [
    "## xgboost"
   ]
  },
  {
   "cell_type": "code",
   "execution_count": 34,
   "metadata": {
    "pycharm": {
     "name": "#%%\n"
    }
   },
   "outputs": [],
   "source": [
    "encoder = LabelEncoder() \n",
    "X['REGION'] = encoder.fit_transform(X['REGION'])\n",
    "X_val['REGION'] = encoder.transform(X_val['REGION'])\n",
    "test['REGION'] = encoder.transform(test['REGION'])"
   ]
  },
  {
   "cell_type": "code",
   "execution_count": 42,
   "metadata": {
    "pycharm": {
     "name": "#%%\n"
    }
   },
   "outputs": [],
   "source": [
    "X.drop(['TOP_PACK'], axis=1, inplace=True)\n",
    "X_val.drop(['TOP_PACK'], axis=1, inplace=True)"
   ]
  },
  {
   "cell_type": "code",
   "execution_count": null,
   "metadata": {
    "pycharm": {
     "name": "#%%\n"
    }
   },
   "outputs": [],
   "source": []
  },
  {
   "cell_type": "code",
   "execution_count": null,
   "metadata": {
    "pycharm": {
     "name": "#%%\n"
    }
   },
   "outputs": [],
   "source": [
    "from sklearn.model_selection import GridSearchCV\n",
    "\n",
    "param_test1 = {\n",
    "    'max_depth':range(2,7,2),\n",
    "    'min_child_weight':range(1,6,2)\n",
    "}\n",
    "\n",
    "gsearch1 = GridSearchCV(estimator=model_xgb, \n",
    "                        param_grid=param_test1,\n",
    "                        scoring='roc_auc',\n",
    "                        n_jobs=-1,\n",
    "                        cv=5)\n",
    "\n",
    "gsearch1.fit(X_train, y_train)\n",
    "svcpred = gsearch1.predict(X_test)"
   ]
  },
  {
   "cell_type": "code",
   "execution_count": null,
   "metadata": {
    "pycharm": {
     "name": "#%%\n"
    }
   },
   "outputs": [],
   "source": [
    "model_xgb = XGBClassifier(learning_rate=0.1,\n",
    "                          n_estimators=150,\n",
    "                          objective= 'binary:logistic',\n",
    "                          nthread=-1,\n",
    "                          scale_pos_weight=1,\n",
    "                          seed=27)"
   ]
  }
 ],
 "metadata": {
  "kernelspec": {
   "display_name": "Python 3",
   "language": "python",
   "name": "python3"
  },
  "language_info": {
   "codemirror_mode": {
    "name": "ipython",
    "version": 3
   },
   "file_extension": ".py",
   "mimetype": "text/x-python",
   "name": "python",
   "nbconvert_exporter": "python",
   "pygments_lexer": "ipython3",
   "version": "3.7.3"
  }
 },
 "nbformat": 4,
 "nbformat_minor": 4
}