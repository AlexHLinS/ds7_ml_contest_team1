{
 "cells": [
  {
   "cell_type": "code",
   "execution_count": 2,
   "outputs": [],
   "source": [
    "import numpy as np\n",
    "import pandas as pd\n",
    "import pickle\n",
    "from sklearn.model_selection import train_test_split\n",
    "from sklearn.metrics import rand_score\n",
    "from sklearn.cluster import KMeans\n",
    "import matplotlib.pyplot as plt"
   ],
   "metadata": {
    "collapsed": false,
    "pycharm": {
     "name": "#%%\n"
    }
   }
  },
  {
   "cell_type": "code",
   "execution_count": 3,
   "outputs": [],
   "source": [
    "test_df = pd.read_csv('Test.csv')\n",
    "train_df = pd.read_csv('Train.csv')"
   ],
   "metadata": {
    "collapsed": false,
    "pycharm": {
     "name": "#%%\n"
    }
   }
  },
  {
   "cell_type": "code",
   "execution_count": 4,
   "outputs": [
    {
     "data": {
      "text/plain": "                                    user_id  REGION         TENURE  MONTANT  \\\n0  00000bfd7d50f01092811bc0c8d7b0d6fe7c3596  FATICK   K > 24 month   4250.0   \n1  00000cb4a5d760de88fecb38e2f71b7bec52e834     NaN  I 18-21 month      NaN   \n2  00001654a9d9f96303d9969d0a4a851714a4bb57     NaN   K > 24 month   3600.0   \n3  00001dd6fa45f7ba044bd5d84937be464ce78ac2   DAKAR   K > 24 month  13500.0   \n4  000028d9e13a595abe061f9b58f3d76ab907850f   DAKAR   K > 24 month   1000.0   \n\n   FREQUENCE_RECH  REVENUE  ARPU_SEGMENT  FREQUENCE  DATA_VOLUME  ON_NET  \\\n0            15.0   4251.0        1417.0       17.0          4.0   388.0   \n1             NaN      NaN           NaN        NaN          NaN     NaN   \n2             2.0   1020.0         340.0        2.0          NaN    90.0   \n3            15.0  13502.0        4501.0       18.0      43804.0    41.0   \n4             1.0    985.0         328.0        1.0          NaN    39.0   \n\n   ORANGE  TIGO  ZONE1  ZONE2 MRG  REGULARITY                        TOP_PACK  \\\n0    46.0   1.0    1.0    2.0  NO          54  On net 200F=Unlimited _call24H   \n1     NaN   NaN    NaN    NaN  NO           4                             NaN   \n2    46.0   7.0    NaN    NaN  NO          17         On-net 1000F=10MilF;10d   \n3   102.0   2.0    NaN    NaN  NO          62               Data:1000F=5GB,7d   \n4    24.0   NaN    NaN    NaN  NO          11     Mixt 250F=Unlimited_call24H   \n\n   FREQ_TOP_PACK  CHURN  \n0            8.0      0  \n1            NaN      1  \n2            1.0      0  \n3           11.0      0  \n4            2.0      0  ",
      "text/html": "<div>\n<style scoped>\n    .dataframe tbody tr th:only-of-type {\n        vertical-align: middle;\n    }\n\n    .dataframe tbody tr th {\n        vertical-align: top;\n    }\n\n    .dataframe thead th {\n        text-align: right;\n    }\n</style>\n<table border=\"1\" class=\"dataframe\">\n  <thead>\n    <tr style=\"text-align: right;\">\n      <th></th>\n      <th>user_id</th>\n      <th>REGION</th>\n      <th>TENURE</th>\n      <th>MONTANT</th>\n      <th>FREQUENCE_RECH</th>\n      <th>REVENUE</th>\n      <th>ARPU_SEGMENT</th>\n      <th>FREQUENCE</th>\n      <th>DATA_VOLUME</th>\n      <th>ON_NET</th>\n      <th>ORANGE</th>\n      <th>TIGO</th>\n      <th>ZONE1</th>\n      <th>ZONE2</th>\n      <th>MRG</th>\n      <th>REGULARITY</th>\n      <th>TOP_PACK</th>\n      <th>FREQ_TOP_PACK</th>\n      <th>CHURN</th>\n    </tr>\n  </thead>\n  <tbody>\n    <tr>\n      <th>0</th>\n      <td>00000bfd7d50f01092811bc0c8d7b0d6fe7c3596</td>\n      <td>FATICK</td>\n      <td>K &gt; 24 month</td>\n      <td>4250.0</td>\n      <td>15.0</td>\n      <td>4251.0</td>\n      <td>1417.0</td>\n      <td>17.0</td>\n      <td>4.0</td>\n      <td>388.0</td>\n      <td>46.0</td>\n      <td>1.0</td>\n      <td>1.0</td>\n      <td>2.0</td>\n      <td>NO</td>\n      <td>54</td>\n      <td>On net 200F=Unlimited _call24H</td>\n      <td>8.0</td>\n      <td>0</td>\n    </tr>\n    <tr>\n      <th>1</th>\n      <td>00000cb4a5d760de88fecb38e2f71b7bec52e834</td>\n      <td>NaN</td>\n      <td>I 18-21 month</td>\n      <td>NaN</td>\n      <td>NaN</td>\n      <td>NaN</td>\n      <td>NaN</td>\n      <td>NaN</td>\n      <td>NaN</td>\n      <td>NaN</td>\n      <td>NaN</td>\n      <td>NaN</td>\n      <td>NaN</td>\n      <td>NaN</td>\n      <td>NO</td>\n      <td>4</td>\n      <td>NaN</td>\n      <td>NaN</td>\n      <td>1</td>\n    </tr>\n    <tr>\n      <th>2</th>\n      <td>00001654a9d9f96303d9969d0a4a851714a4bb57</td>\n      <td>NaN</td>\n      <td>K &gt; 24 month</td>\n      <td>3600.0</td>\n      <td>2.0</td>\n      <td>1020.0</td>\n      <td>340.0</td>\n      <td>2.0</td>\n      <td>NaN</td>\n      <td>90.0</td>\n      <td>46.0</td>\n      <td>7.0</td>\n      <td>NaN</td>\n      <td>NaN</td>\n      <td>NO</td>\n      <td>17</td>\n      <td>On-net 1000F=10MilF;10d</td>\n      <td>1.0</td>\n      <td>0</td>\n    </tr>\n    <tr>\n      <th>3</th>\n      <td>00001dd6fa45f7ba044bd5d84937be464ce78ac2</td>\n      <td>DAKAR</td>\n      <td>K &gt; 24 month</td>\n      <td>13500.0</td>\n      <td>15.0</td>\n      <td>13502.0</td>\n      <td>4501.0</td>\n      <td>18.0</td>\n      <td>43804.0</td>\n      <td>41.0</td>\n      <td>102.0</td>\n      <td>2.0</td>\n      <td>NaN</td>\n      <td>NaN</td>\n      <td>NO</td>\n      <td>62</td>\n      <td>Data:1000F=5GB,7d</td>\n      <td>11.0</td>\n      <td>0</td>\n    </tr>\n    <tr>\n      <th>4</th>\n      <td>000028d9e13a595abe061f9b58f3d76ab907850f</td>\n      <td>DAKAR</td>\n      <td>K &gt; 24 month</td>\n      <td>1000.0</td>\n      <td>1.0</td>\n      <td>985.0</td>\n      <td>328.0</td>\n      <td>1.0</td>\n      <td>NaN</td>\n      <td>39.0</td>\n      <td>24.0</td>\n      <td>NaN</td>\n      <td>NaN</td>\n      <td>NaN</td>\n      <td>NO</td>\n      <td>11</td>\n      <td>Mixt 250F=Unlimited_call24H</td>\n      <td>2.0</td>\n      <td>0</td>\n    </tr>\n  </tbody>\n</table>\n</div>"
     },
     "execution_count": 4,
     "metadata": {},
     "output_type": "execute_result"
    }
   ],
   "source": [
    "train_df.head(5)"
   ],
   "metadata": {
    "collapsed": false,
    "pycharm": {
     "name": "#%%\n"
    }
   }
  },
  {
   "cell_type": "markdown",
   "source": [
    "## Описание набора данных\n",
    "\n",
    "Согласно описанию, представленны обезличенные данные пользователей:\n",
    "- user_id - индитификатор пользователя\n",
    "- REGION - местоположение клиента\n",
    "- TENURE - времени с момента заключения контракта\n",
    "- MONTANT - сумма пополнения\n",
    "- FREQUENCE_RECH - количество пополнений счета\n",
    "- REVENUE - ежемесячный доход с клиента\n",
    "- ARPU_SEGMENT - приведенный ежемесячные поступления за последние 90 дней (сумма поступлений за 90 дней / 3)\n",
    "- FREQUENCE - количество пополнений счета\n",
    "- DATA_VOLUME - количество подключений\n",
    "- ON_NET - звонков внутри сети\n",
    "- ORANGE - звонков абонентам ORANGE\n",
    "- TIGO - звонков абонентам  Tigo\n",
    "- ZONE1 - звонков zones1\n",
    "- ZONE2 - звонков  zones2\n",
    "- MRG - клиент ушел\n",
    "- REGULARITY - время активности за последний 90 дней\n",
    "- TOP_PACK - наиболее часто используемый пакет услуг\n",
    "- FREQ_TOP_PACK - количество активаций часто используемого пакета услуг\n",
    "- CHURN - пользователь ушел(целевая переменная)"
   ],
   "metadata": {
    "collapsed": false,
    "pycharm": {
     "name": "#%% md\n"
    }
   }
  },
  {
   "cell_type": "markdown",
   "source": [
    "## Анализ данных на предмет необходимости"
   ],
   "metadata": {
    "collapsed": false,
    "pycharm": {
     "name": "#%% md\n"
    }
   }
  },
  {
   "cell_type": "code",
   "execution_count": 5,
   "outputs": [
    {
     "data": {
      "text/plain": "user_id           2154048\nREGION                 14\nTENURE                  8\nMONTANT              6540\nFREQUENCE_RECH        123\nREVENUE             38114\nARPU_SEGMENT        16535\nFREQUENCE              91\nDATA_VOLUME         41550\nON_NET               9884\nORANGE               3167\nTIGO                 1315\nZONE1                 612\nZONE2                 486\nMRG                     1\nREGULARITY             62\nTOP_PACK              140\nFREQ_TOP_PACK         245\nCHURN                   2\ndtype: int64"
     },
     "execution_count": 5,
     "metadata": {},
     "output_type": "execute_result"
    }
   ],
   "source": [
    "train_df.nunique()"
   ],
   "metadata": {
    "collapsed": false,
    "pycharm": {
     "name": "#%%\n"
    }
   }
  },
  {
   "cell_type": "markdown",
   "source": [
    "Данные в колонке *MRG* на всем объеме обучающих данных имею единственное значение - исключаем."
   ],
   "metadata": {
    "collapsed": false,
    "pycharm": {
     "name": "#%% md\n"
    }
   }
  },
  {
   "cell_type": "code",
   "execution_count": 6,
   "outputs": [
    {
     "data": {
      "text/plain": "                                          user_id  REGION         TENURE  \\\n0        00000bfd7d50f01092811bc0c8d7b0d6fe7c3596  FATICK   K > 24 month   \n1        00000cb4a5d760de88fecb38e2f71b7bec52e834     NaN  I 18-21 month   \n2        00001654a9d9f96303d9969d0a4a851714a4bb57     NaN   K > 24 month   \n3        00001dd6fa45f7ba044bd5d84937be464ce78ac2   DAKAR   K > 24 month   \n4        000028d9e13a595abe061f9b58f3d76ab907850f   DAKAR   K > 24 month   \n...                                           ...     ...            ...   \n2154043  ffffe85215ddc71a84f95af0afb0deeea90e6967     NaN   K > 24 month   \n2154044  ffffeaaa9289cdba0ac000f0ab4b48f4aa74ed15   THIES   K > 24 month   \n2154045  fffff172fda1b4bb38a95385951908bb92379809     NaN   K > 24 month   \n2154046  fffff5911296937a37f09a37a549da2e0dad6dbb   THIES   K > 24 month   \n2154047  fffff6dbff1508ea2bfe814e5ab2729ce6b788c2     NaN   K > 24 month   \n\n         MONTANT  FREQUENCE_RECH  REVENUE  ARPU_SEGMENT  FREQUENCE  \\\n0         4250.0            15.0   4251.0        1417.0       17.0   \n1            NaN             NaN      NaN           NaN        NaN   \n2         3600.0             2.0   1020.0         340.0        2.0   \n3        13500.0            15.0  13502.0        4501.0       18.0   \n4         1000.0             1.0    985.0         328.0        1.0   \n...          ...             ...      ...           ...        ...   \n2154043      NaN             NaN      NaN           NaN        NaN   \n2154044   6100.0            15.0   5800.0        1933.0       15.0   \n2154045      NaN             NaN      NaN           NaN        NaN   \n2154046  10000.0            11.0   7120.0        2373.0       13.0   \n2154047      NaN             NaN      NaN           NaN        NaN   \n\n         DATA_VOLUME  ON_NET  ORANGE  TIGO  ZONE1  ZONE2  REGULARITY  \\\n0                4.0   388.0    46.0   1.0    1.0    2.0          54   \n1                NaN     NaN     NaN   NaN    NaN    NaN           4   \n2                NaN    90.0    46.0   7.0    NaN    NaN          17   \n3            43804.0    41.0   102.0   2.0    NaN    NaN          62   \n4                NaN    39.0    24.0   NaN    NaN    NaN          11   \n...              ...     ...     ...   ...    ...    ...         ...   \n2154043          NaN     NaN     NaN   NaN    NaN    NaN           6   \n2154044        621.0    26.0    40.0  40.0    NaN    NaN          55   \n2154045          NaN     NaN     NaN   NaN    NaN    NaN           1   \n2154046          NaN     0.0   140.0  13.0    NaN    NaN          28   \n2154047          2.0     NaN     NaN   NaN    NaN    NaN          62   \n\n                               TOP_PACK  FREQ_TOP_PACK  CHURN  \n0        On net 200F=Unlimited _call24H            8.0      0  \n1                                   NaN            NaN      1  \n2               On-net 1000F=10MilF;10d            1.0      0  \n3                     Data:1000F=5GB,7d           11.0      0  \n4           Mixt 250F=Unlimited_call24H            2.0      0  \n...                                 ...            ...    ...  \n2154043                             NaN            NaN      0  \n2154044           Data: 200 F=100MB,24H            9.0      0  \n2154045                             NaN            NaN      1  \n2154046           All-net 500F=2000F;5d           12.0      0  \n2154047                             NaN            NaN      1  \n\n[2154048 rows x 18 columns]",
      "text/html": "<div>\n<style scoped>\n    .dataframe tbody tr th:only-of-type {\n        vertical-align: middle;\n    }\n\n    .dataframe tbody tr th {\n        vertical-align: top;\n    }\n\n    .dataframe thead th {\n        text-align: right;\n    }\n</style>\n<table border=\"1\" class=\"dataframe\">\n  <thead>\n    <tr style=\"text-align: right;\">\n      <th></th>\n      <th>user_id</th>\n      <th>REGION</th>\n      <th>TENURE</th>\n      <th>MONTANT</th>\n      <th>FREQUENCE_RECH</th>\n      <th>REVENUE</th>\n      <th>ARPU_SEGMENT</th>\n      <th>FREQUENCE</th>\n      <th>DATA_VOLUME</th>\n      <th>ON_NET</th>\n      <th>ORANGE</th>\n      <th>TIGO</th>\n      <th>ZONE1</th>\n      <th>ZONE2</th>\n      <th>REGULARITY</th>\n      <th>TOP_PACK</th>\n      <th>FREQ_TOP_PACK</th>\n      <th>CHURN</th>\n    </tr>\n  </thead>\n  <tbody>\n    <tr>\n      <th>0</th>\n      <td>00000bfd7d50f01092811bc0c8d7b0d6fe7c3596</td>\n      <td>FATICK</td>\n      <td>K &gt; 24 month</td>\n      <td>4250.0</td>\n      <td>15.0</td>\n      <td>4251.0</td>\n      <td>1417.0</td>\n      <td>17.0</td>\n      <td>4.0</td>\n      <td>388.0</td>\n      <td>46.0</td>\n      <td>1.0</td>\n      <td>1.0</td>\n      <td>2.0</td>\n      <td>54</td>\n      <td>On net 200F=Unlimited _call24H</td>\n      <td>8.0</td>\n      <td>0</td>\n    </tr>\n    <tr>\n      <th>1</th>\n      <td>00000cb4a5d760de88fecb38e2f71b7bec52e834</td>\n      <td>NaN</td>\n      <td>I 18-21 month</td>\n      <td>NaN</td>\n      <td>NaN</td>\n      <td>NaN</td>\n      <td>NaN</td>\n      <td>NaN</td>\n      <td>NaN</td>\n      <td>NaN</td>\n      <td>NaN</td>\n      <td>NaN</td>\n      <td>NaN</td>\n      <td>NaN</td>\n      <td>4</td>\n      <td>NaN</td>\n      <td>NaN</td>\n      <td>1</td>\n    </tr>\n    <tr>\n      <th>2</th>\n      <td>00001654a9d9f96303d9969d0a4a851714a4bb57</td>\n      <td>NaN</td>\n      <td>K &gt; 24 month</td>\n      <td>3600.0</td>\n      <td>2.0</td>\n      <td>1020.0</td>\n      <td>340.0</td>\n      <td>2.0</td>\n      <td>NaN</td>\n      <td>90.0</td>\n      <td>46.0</td>\n      <td>7.0</td>\n      <td>NaN</td>\n      <td>NaN</td>\n      <td>17</td>\n      <td>On-net 1000F=10MilF;10d</td>\n      <td>1.0</td>\n      <td>0</td>\n    </tr>\n    <tr>\n      <th>3</th>\n      <td>00001dd6fa45f7ba044bd5d84937be464ce78ac2</td>\n      <td>DAKAR</td>\n      <td>K &gt; 24 month</td>\n      <td>13500.0</td>\n      <td>15.0</td>\n      <td>13502.0</td>\n      <td>4501.0</td>\n      <td>18.0</td>\n      <td>43804.0</td>\n      <td>41.0</td>\n      <td>102.0</td>\n      <td>2.0</td>\n      <td>NaN</td>\n      <td>NaN</td>\n      <td>62</td>\n      <td>Data:1000F=5GB,7d</td>\n      <td>11.0</td>\n      <td>0</td>\n    </tr>\n    <tr>\n      <th>4</th>\n      <td>000028d9e13a595abe061f9b58f3d76ab907850f</td>\n      <td>DAKAR</td>\n      <td>K &gt; 24 month</td>\n      <td>1000.0</td>\n      <td>1.0</td>\n      <td>985.0</td>\n      <td>328.0</td>\n      <td>1.0</td>\n      <td>NaN</td>\n      <td>39.0</td>\n      <td>24.0</td>\n      <td>NaN</td>\n      <td>NaN</td>\n      <td>NaN</td>\n      <td>11</td>\n      <td>Mixt 250F=Unlimited_call24H</td>\n      <td>2.0</td>\n      <td>0</td>\n    </tr>\n    <tr>\n      <th>...</th>\n      <td>...</td>\n      <td>...</td>\n      <td>...</td>\n      <td>...</td>\n      <td>...</td>\n      <td>...</td>\n      <td>...</td>\n      <td>...</td>\n      <td>...</td>\n      <td>...</td>\n      <td>...</td>\n      <td>...</td>\n      <td>...</td>\n      <td>...</td>\n      <td>...</td>\n      <td>...</td>\n      <td>...</td>\n      <td>...</td>\n    </tr>\n    <tr>\n      <th>2154043</th>\n      <td>ffffe85215ddc71a84f95af0afb0deeea90e6967</td>\n      <td>NaN</td>\n      <td>K &gt; 24 month</td>\n      <td>NaN</td>\n      <td>NaN</td>\n      <td>NaN</td>\n      <td>NaN</td>\n      <td>NaN</td>\n      <td>NaN</td>\n      <td>NaN</td>\n      <td>NaN</td>\n      <td>NaN</td>\n      <td>NaN</td>\n      <td>NaN</td>\n      <td>6</td>\n      <td>NaN</td>\n      <td>NaN</td>\n      <td>0</td>\n    </tr>\n    <tr>\n      <th>2154044</th>\n      <td>ffffeaaa9289cdba0ac000f0ab4b48f4aa74ed15</td>\n      <td>THIES</td>\n      <td>K &gt; 24 month</td>\n      <td>6100.0</td>\n      <td>15.0</td>\n      <td>5800.0</td>\n      <td>1933.0</td>\n      <td>15.0</td>\n      <td>621.0</td>\n      <td>26.0</td>\n      <td>40.0</td>\n      <td>40.0</td>\n      <td>NaN</td>\n      <td>NaN</td>\n      <td>55</td>\n      <td>Data: 200 F=100MB,24H</td>\n      <td>9.0</td>\n      <td>0</td>\n    </tr>\n    <tr>\n      <th>2154045</th>\n      <td>fffff172fda1b4bb38a95385951908bb92379809</td>\n      <td>NaN</td>\n      <td>K &gt; 24 month</td>\n      <td>NaN</td>\n      <td>NaN</td>\n      <td>NaN</td>\n      <td>NaN</td>\n      <td>NaN</td>\n      <td>NaN</td>\n      <td>NaN</td>\n      <td>NaN</td>\n      <td>NaN</td>\n      <td>NaN</td>\n      <td>NaN</td>\n      <td>1</td>\n      <td>NaN</td>\n      <td>NaN</td>\n      <td>1</td>\n    </tr>\n    <tr>\n      <th>2154046</th>\n      <td>fffff5911296937a37f09a37a549da2e0dad6dbb</td>\n      <td>THIES</td>\n      <td>K &gt; 24 month</td>\n      <td>10000.0</td>\n      <td>11.0</td>\n      <td>7120.0</td>\n      <td>2373.0</td>\n      <td>13.0</td>\n      <td>NaN</td>\n      <td>0.0</td>\n      <td>140.0</td>\n      <td>13.0</td>\n      <td>NaN</td>\n      <td>NaN</td>\n      <td>28</td>\n      <td>All-net 500F=2000F;5d</td>\n      <td>12.0</td>\n      <td>0</td>\n    </tr>\n    <tr>\n      <th>2154047</th>\n      <td>fffff6dbff1508ea2bfe814e5ab2729ce6b788c2</td>\n      <td>NaN</td>\n      <td>K &gt; 24 month</td>\n      <td>NaN</td>\n      <td>NaN</td>\n      <td>NaN</td>\n      <td>NaN</td>\n      <td>NaN</td>\n      <td>2.0</td>\n      <td>NaN</td>\n      <td>NaN</td>\n      <td>NaN</td>\n      <td>NaN</td>\n      <td>NaN</td>\n      <td>62</td>\n      <td>NaN</td>\n      <td>NaN</td>\n      <td>1</td>\n    </tr>\n  </tbody>\n</table>\n<p>2154048 rows × 18 columns</p>\n</div>"
     },
     "execution_count": 6,
     "metadata": {},
     "output_type": "execute_result"
    }
   ],
   "source": [
    "train_df = train_df.drop(columns=['MRG'])\n",
    "train_df"
   ],
   "metadata": {
    "collapsed": false,
    "pycharm": {
     "name": "#%%\n"
    }
   }
  },
  {
   "cell_type": "code",
   "execution_count": 7,
   "outputs": [
    {
     "data": {
      "text/plain": "user_id            0.000000\nREGION            39.428044\nTENURE             0.000000\nMONTANT           35.131018\nFREQUENCE_RECH    35.131018\nREVENUE           33.706213\nARPU_SEGMENT      33.706213\nFREQUENCE         33.706213\nDATA_VOLUME       49.229776\nON_NET            36.520774\nORANGE            41.561191\nTIGO              59.887988\nZONE1             92.120835\nZONE2             93.648052\nREGULARITY         0.000000\nTOP_PACK          41.902223\nFREQ_TOP_PACK     41.902223\nCHURN              0.000000\ndtype: float64"
     },
     "execution_count": 7,
     "metadata": {},
     "output_type": "execute_result"
    }
   ],
   "source": [
    "# % пропущенных данных\n",
    "train_df.isna().sum() / train_df.shape[0] * 100"
   ],
   "metadata": {
    "collapsed": false,
    "pycharm": {
     "name": "#%%\n"
    }
   }
  },
  {
   "cell_type": "markdown",
   "source": [
    "Проанализировав процент пропущенных значений для каждого из параметров принимается следующая стратегия:\n",
    "- REGION - заполнение признаком \"other\", возможно что заполнение каким-либо средним приведет к искажению результатов;\n",
    "- MONTANT - наличие пропущенных данных в этом поле говорит, что пополнений счета не было - заполняем значением 0;\n",
    "- FREQUENCE_RECH - аналогично MONTANT - заполняем значением 0;\n",
    "- REVENUE - аналогично MONTANT - заполняем значением 0;\n",
    "- ARPU_SEGMENT - аналогично MONTANT - заполняем значением 0;\n",
    "- FREQUENCE - аналогично MONTANT - заполняем значением 0;\n",
    "\n",
    "Следующие параметры отражают активность пользователя в специфической области:\n",
    "- DATA_VOLUME - принимаем nan как отсутствие активности и присваиваем 0;\n",
    "- ON_NET - принимаем nan как отсутствие активности и присваиваем 0;\n",
    "- ORANGE - принимаем nan как отсутствие активности и присваиваем 0;\n",
    "- TIGO - принимаем nan как отсутствие активности и присваиваем 0;\n",
    "- ZONE1 - принимаем nan как отсутствие активности и присваиваем 0;\n",
    "- ZONE2 - принимаем nan как отсутствие активности и присваиваем 0;\n",
    "\n",
    "Для уменьшения вероятности потери данных, для восполнения отсутствующих значений используем метод кластеризации:\n",
    "- TOP_PACK - с помощью кластеризации определим возможное значение;\n",
    "- FREQ_TOP_PACK - после заполнение TOP_PACK с помощью кластеризации определим возможное значение."
   ],
   "metadata": {
    "collapsed": false,
    "pycharm": {
     "name": "#%% md\n"
    }
   }
  },
  {
   "cell_type": "code",
   "execution_count": 8,
   "outputs": [
    {
     "data": {
      "text/plain": "                                          user_id  REGION         TENURE  \\\n0        00000bfd7d50f01092811bc0c8d7b0d6fe7c3596  FATICK   K > 24 month   \n1        00000cb4a5d760de88fecb38e2f71b7bec52e834   OTHER  I 18-21 month   \n2        00001654a9d9f96303d9969d0a4a851714a4bb57   OTHER   K > 24 month   \n3        00001dd6fa45f7ba044bd5d84937be464ce78ac2   DAKAR   K > 24 month   \n4        000028d9e13a595abe061f9b58f3d76ab907850f   DAKAR   K > 24 month   \n...                                           ...     ...            ...   \n2154043  ffffe85215ddc71a84f95af0afb0deeea90e6967   OTHER   K > 24 month   \n2154044  ffffeaaa9289cdba0ac000f0ab4b48f4aa74ed15   THIES   K > 24 month   \n2154045  fffff172fda1b4bb38a95385951908bb92379809   OTHER   K > 24 month   \n2154046  fffff5911296937a37f09a37a549da2e0dad6dbb   THIES   K > 24 month   \n2154047  fffff6dbff1508ea2bfe814e5ab2729ce6b788c2   OTHER   K > 24 month   \n\n         MONTANT  FREQUENCE_RECH  REVENUE  ARPU_SEGMENT  FREQUENCE  \\\n0         4250.0            15.0   4251.0        1417.0       17.0   \n1            0.0             0.0      0.0           0.0        0.0   \n2         3600.0             2.0   1020.0         340.0        2.0   \n3        13500.0            15.0  13502.0        4501.0       18.0   \n4         1000.0             1.0    985.0         328.0        1.0   \n...          ...             ...      ...           ...        ...   \n2154043      0.0             0.0      0.0           0.0        0.0   \n2154044   6100.0            15.0   5800.0        1933.0       15.0   \n2154045      0.0             0.0      0.0           0.0        0.0   \n2154046  10000.0            11.0   7120.0        2373.0       13.0   \n2154047      0.0             0.0      0.0           0.0        0.0   \n\n         DATA_VOLUME  ON_NET  ORANGE  TIGO  ZONE1  ZONE2  REGULARITY  \\\n0                4.0   388.0    46.0   1.0    1.0    2.0          54   \n1                0.0     0.0     0.0   0.0    0.0    0.0           4   \n2                0.0    90.0    46.0   7.0    0.0    0.0          17   \n3            43804.0    41.0   102.0   2.0    0.0    0.0          62   \n4                0.0    39.0    24.0   0.0    0.0    0.0          11   \n...              ...     ...     ...   ...    ...    ...         ...   \n2154043          0.0     0.0     0.0   0.0    0.0    0.0           6   \n2154044        621.0    26.0    40.0  40.0    0.0    0.0          55   \n2154045          0.0     0.0     0.0   0.0    0.0    0.0           1   \n2154046          0.0     0.0   140.0  13.0    0.0    0.0          28   \n2154047          2.0     0.0     0.0   0.0    0.0    0.0          62   \n\n                               TOP_PACK  FREQ_TOP_PACK  CHURN  \n0        On net 200F=Unlimited _call24H            8.0      0  \n1                                   NaN            NaN      1  \n2               On-net 1000F=10MilF;10d            1.0      0  \n3                     Data:1000F=5GB,7d           11.0      0  \n4           Mixt 250F=Unlimited_call24H            2.0      0  \n...                                 ...            ...    ...  \n2154043                             NaN            NaN      0  \n2154044           Data: 200 F=100MB,24H            9.0      0  \n2154045                             NaN            NaN      1  \n2154046           All-net 500F=2000F;5d           12.0      0  \n2154047                             NaN            NaN      1  \n\n[2154048 rows x 18 columns]",
      "text/html": "<div>\n<style scoped>\n    .dataframe tbody tr th:only-of-type {\n        vertical-align: middle;\n    }\n\n    .dataframe tbody tr th {\n        vertical-align: top;\n    }\n\n    .dataframe thead th {\n        text-align: right;\n    }\n</style>\n<table border=\"1\" class=\"dataframe\">\n  <thead>\n    <tr style=\"text-align: right;\">\n      <th></th>\n      <th>user_id</th>\n      <th>REGION</th>\n      <th>TENURE</th>\n      <th>MONTANT</th>\n      <th>FREQUENCE_RECH</th>\n      <th>REVENUE</th>\n      <th>ARPU_SEGMENT</th>\n      <th>FREQUENCE</th>\n      <th>DATA_VOLUME</th>\n      <th>ON_NET</th>\n      <th>ORANGE</th>\n      <th>TIGO</th>\n      <th>ZONE1</th>\n      <th>ZONE2</th>\n      <th>REGULARITY</th>\n      <th>TOP_PACK</th>\n      <th>FREQ_TOP_PACK</th>\n      <th>CHURN</th>\n    </tr>\n  </thead>\n  <tbody>\n    <tr>\n      <th>0</th>\n      <td>00000bfd7d50f01092811bc0c8d7b0d6fe7c3596</td>\n      <td>FATICK</td>\n      <td>K &gt; 24 month</td>\n      <td>4250.0</td>\n      <td>15.0</td>\n      <td>4251.0</td>\n      <td>1417.0</td>\n      <td>17.0</td>\n      <td>4.0</td>\n      <td>388.0</td>\n      <td>46.0</td>\n      <td>1.0</td>\n      <td>1.0</td>\n      <td>2.0</td>\n      <td>54</td>\n      <td>On net 200F=Unlimited _call24H</td>\n      <td>8.0</td>\n      <td>0</td>\n    </tr>\n    <tr>\n      <th>1</th>\n      <td>00000cb4a5d760de88fecb38e2f71b7bec52e834</td>\n      <td>OTHER</td>\n      <td>I 18-21 month</td>\n      <td>0.0</td>\n      <td>0.0</td>\n      <td>0.0</td>\n      <td>0.0</td>\n      <td>0.0</td>\n      <td>0.0</td>\n      <td>0.0</td>\n      <td>0.0</td>\n      <td>0.0</td>\n      <td>0.0</td>\n      <td>0.0</td>\n      <td>4</td>\n      <td>NaN</td>\n      <td>NaN</td>\n      <td>1</td>\n    </tr>\n    <tr>\n      <th>2</th>\n      <td>00001654a9d9f96303d9969d0a4a851714a4bb57</td>\n      <td>OTHER</td>\n      <td>K &gt; 24 month</td>\n      <td>3600.0</td>\n      <td>2.0</td>\n      <td>1020.0</td>\n      <td>340.0</td>\n      <td>2.0</td>\n      <td>0.0</td>\n      <td>90.0</td>\n      <td>46.0</td>\n      <td>7.0</td>\n      <td>0.0</td>\n      <td>0.0</td>\n      <td>17</td>\n      <td>On-net 1000F=10MilF;10d</td>\n      <td>1.0</td>\n      <td>0</td>\n    </tr>\n    <tr>\n      <th>3</th>\n      <td>00001dd6fa45f7ba044bd5d84937be464ce78ac2</td>\n      <td>DAKAR</td>\n      <td>K &gt; 24 month</td>\n      <td>13500.0</td>\n      <td>15.0</td>\n      <td>13502.0</td>\n      <td>4501.0</td>\n      <td>18.0</td>\n      <td>43804.0</td>\n      <td>41.0</td>\n      <td>102.0</td>\n      <td>2.0</td>\n      <td>0.0</td>\n      <td>0.0</td>\n      <td>62</td>\n      <td>Data:1000F=5GB,7d</td>\n      <td>11.0</td>\n      <td>0</td>\n    </tr>\n    <tr>\n      <th>4</th>\n      <td>000028d9e13a595abe061f9b58f3d76ab907850f</td>\n      <td>DAKAR</td>\n      <td>K &gt; 24 month</td>\n      <td>1000.0</td>\n      <td>1.0</td>\n      <td>985.0</td>\n      <td>328.0</td>\n      <td>1.0</td>\n      <td>0.0</td>\n      <td>39.0</td>\n      <td>24.0</td>\n      <td>0.0</td>\n      <td>0.0</td>\n      <td>0.0</td>\n      <td>11</td>\n      <td>Mixt 250F=Unlimited_call24H</td>\n      <td>2.0</td>\n      <td>0</td>\n    </tr>\n    <tr>\n      <th>...</th>\n      <td>...</td>\n      <td>...</td>\n      <td>...</td>\n      <td>...</td>\n      <td>...</td>\n      <td>...</td>\n      <td>...</td>\n      <td>...</td>\n      <td>...</td>\n      <td>...</td>\n      <td>...</td>\n      <td>...</td>\n      <td>...</td>\n      <td>...</td>\n      <td>...</td>\n      <td>...</td>\n      <td>...</td>\n      <td>...</td>\n    </tr>\n    <tr>\n      <th>2154043</th>\n      <td>ffffe85215ddc71a84f95af0afb0deeea90e6967</td>\n      <td>OTHER</td>\n      <td>K &gt; 24 month</td>\n      <td>0.0</td>\n      <td>0.0</td>\n      <td>0.0</td>\n      <td>0.0</td>\n      <td>0.0</td>\n      <td>0.0</td>\n      <td>0.0</td>\n      <td>0.0</td>\n      <td>0.0</td>\n      <td>0.0</td>\n      <td>0.0</td>\n      <td>6</td>\n      <td>NaN</td>\n      <td>NaN</td>\n      <td>0</td>\n    </tr>\n    <tr>\n      <th>2154044</th>\n      <td>ffffeaaa9289cdba0ac000f0ab4b48f4aa74ed15</td>\n      <td>THIES</td>\n      <td>K &gt; 24 month</td>\n      <td>6100.0</td>\n      <td>15.0</td>\n      <td>5800.0</td>\n      <td>1933.0</td>\n      <td>15.0</td>\n      <td>621.0</td>\n      <td>26.0</td>\n      <td>40.0</td>\n      <td>40.0</td>\n      <td>0.0</td>\n      <td>0.0</td>\n      <td>55</td>\n      <td>Data: 200 F=100MB,24H</td>\n      <td>9.0</td>\n      <td>0</td>\n    </tr>\n    <tr>\n      <th>2154045</th>\n      <td>fffff172fda1b4bb38a95385951908bb92379809</td>\n      <td>OTHER</td>\n      <td>K &gt; 24 month</td>\n      <td>0.0</td>\n      <td>0.0</td>\n      <td>0.0</td>\n      <td>0.0</td>\n      <td>0.0</td>\n      <td>0.0</td>\n      <td>0.0</td>\n      <td>0.0</td>\n      <td>0.0</td>\n      <td>0.0</td>\n      <td>0.0</td>\n      <td>1</td>\n      <td>NaN</td>\n      <td>NaN</td>\n      <td>1</td>\n    </tr>\n    <tr>\n      <th>2154046</th>\n      <td>fffff5911296937a37f09a37a549da2e0dad6dbb</td>\n      <td>THIES</td>\n      <td>K &gt; 24 month</td>\n      <td>10000.0</td>\n      <td>11.0</td>\n      <td>7120.0</td>\n      <td>2373.0</td>\n      <td>13.0</td>\n      <td>0.0</td>\n      <td>0.0</td>\n      <td>140.0</td>\n      <td>13.0</td>\n      <td>0.0</td>\n      <td>0.0</td>\n      <td>28</td>\n      <td>All-net 500F=2000F;5d</td>\n      <td>12.0</td>\n      <td>0</td>\n    </tr>\n    <tr>\n      <th>2154047</th>\n      <td>fffff6dbff1508ea2bfe814e5ab2729ce6b788c2</td>\n      <td>OTHER</td>\n      <td>K &gt; 24 month</td>\n      <td>0.0</td>\n      <td>0.0</td>\n      <td>0.0</td>\n      <td>0.0</td>\n      <td>0.0</td>\n      <td>2.0</td>\n      <td>0.0</td>\n      <td>0.0</td>\n      <td>0.0</td>\n      <td>0.0</td>\n      <td>0.0</td>\n      <td>62</td>\n      <td>NaN</td>\n      <td>NaN</td>\n      <td>1</td>\n    </tr>\n  </tbody>\n</table>\n<p>2154048 rows × 18 columns</p>\n</div>"
     },
     "execution_count": 8,
     "metadata": {},
     "output_type": "execute_result"
    }
   ],
   "source": [
    "# заполняем и переводим в int для оптимизации памяти\n",
    "train_df[\"REGION\"] = train_df[\"REGION\"].fillna(\"OTHER\")\n",
    "train_df[\"MONTANT\"] = train_df[\"MONTANT\"].fillna(0)\n",
    "train_df[\"FREQUENCE_RECH\"] = train_df[\"FREQUENCE_RECH\"].fillna(0)\n",
    "train_df[\"REVENUE\"] = train_df[\"REVENUE\"].fillna(0)\n",
    "train_df[\"ARPU_SEGMENT\"] = train_df[\"ARPU_SEGMENT\"].fillna(0)\n",
    "train_df[\"FREQUENCE\"] = train_df[\"FREQUENCE\"].fillna(0)\n",
    "train_df[\"DATA_VOLUME\"] = train_df[\"DATA_VOLUME\"].fillna(0)\n",
    "train_df[\"ON_NET\"] = train_df[\"ON_NET\"].fillna(0)\n",
    "train_df[\"ORANGE\"] = train_df[\"ORANGE\"].fillna(0)\n",
    "train_df[\"TIGO\"] = train_df[\"TIGO\"].fillna(0)\n",
    "train_df[\"ZONE1\"] = train_df[\"ZONE1\"].fillna(0)\n",
    "train_df[\"ZONE2\"] = train_df[\"ZONE2\"].fillna(0)\n",
    "train_df"
   ],
   "metadata": {
    "collapsed": false,
    "pycharm": {
     "name": "#%%\n"
    }
   }
  },
  {
   "cell_type": "code",
   "execution_count": 9,
   "outputs": [],
   "source": [
    "# оптимизируем типы\n",
    "train_df['CHURN'] = train_df['CHURN'].astype(bool)\n",
    "train_df['MONTANT'] = train_df['MONTANT'].astype(np.int32)\n",
    "train_df['FREQUENCE_RECH'] = train_df['FREQUENCE_RECH'].astype(np.int16)\n",
    "train_df['REVENUE'] = train_df['REVENUE'].astype(np.int32)\n",
    "train_df['ARPU_SEGMENT'] = train_df['ARPU_SEGMENT'].astype(np.int32)\n",
    "train_df['FREQUENCE'] = train_df['FREQUENCE'].astype(np.int16)\n",
    "train_df['DATA_VOLUME'] = train_df['DATA_VOLUME'].astype(np.int32)\n",
    "train_df['ON_NET'] = train_df['ON_NET'].astype(np.int32)\n",
    "train_df['ORANGE'] = train_df['ORANGE'].astype(np.int16)\n",
    "train_df['TIGO'] = train_df['TIGO'].astype(np.int16)\n",
    "train_df['ZONE1'] = train_df['ZONE1'].astype(np.int16)\n",
    "train_df['ZONE2'] = train_df['ZONE2'].astype(np.int16)\n",
    "train_df['REGULARITY'] = train_df['REGULARITY'].astype(np.int16)"
   ],
   "metadata": {
    "collapsed": false,
    "pycharm": {
     "name": "#%%\n"
    }
   }
  },
  {
   "cell_type": "code",
   "execution_count": 10,
   "outputs": [
    {
     "data": {
      "text/plain": "            MONTANT  FREQUENCE_RECH       REVENUE  ARPU_SEGMENT     FREQUENCE  \\\ncount  2.154048e+06    2.154048e+06  2.154048e+06  2.154048e+06  2.154048e+06   \nmean   3.588628e+03    7.478823e+00  3.653325e+03  1.217779e+03  9.266639e+00   \nstd    6.307095e+03    1.202461e+01  6.405449e+03  2.135148e+03  1.366740e+01   \nmin    0.000000e+00    0.000000e+00  0.000000e+00  0.000000e+00  0.000000e+00   \n25%    0.000000e+00    0.000000e+00  0.000000e+00  0.000000e+00  0.000000e+00   \n50%    1.000000e+03    2.000000e+00  1.000000e+03  3.330000e+02  3.000000e+00   \n75%    4.600000e+03    1.000000e+01  4.700000e+03  1.567000e+03  1.300000e+01   \nmax    4.700000e+05    1.330000e+02  5.321770e+05  1.773920e+05  9.100000e+01   \n\n        DATA_VOLUME        ON_NET        ORANGE          TIGO         ZONE1  \\\ncount  2.154048e+06  2.154048e+06  2.154048e+06  2.154048e+06  2.154048e+06   \nmean   1.709154e+03  1.762749e+02  5.576156e+01  9.269586e+00  6.437382e-01   \nstd    9.628098e+03  7.080434e+02  1.636068e+02  4.182922e+01  1.176395e+01   \nmin    0.000000e+00  0.000000e+00  0.000000e+00  0.000000e+00  0.000000e+00   \n25%    0.000000e+00  0.000000e+00  0.000000e+00  0.000000e+00  0.000000e+00   \n50%    0.000000e+00  3.000000e+00  3.000000e+00  0.000000e+00  0.000000e+00   \n75%    2.890000e+02  5.500000e+01  4.100000e+01  3.000000e+00  0.000000e+00   \nmax    1.823866e+06  5.080900e+04  2.132300e+04  4.174000e+03  4.792000e+03   \n\n              ZONE2    REGULARITY  FREQ_TOP_PACK  \ncount  2.154048e+06  2.154048e+06   1.251454e+06  \nmean   4.797823e-01  2.804251e+01   9.272461e+00  \nstd    8.638500e+00  2.228686e+01   1.228044e+01  \nmin    0.000000e+00  1.000000e+00   1.000000e+00  \n25%    0.000000e+00  6.000000e+00   2.000000e+00  \n50%    0.000000e+00  2.400000e+01   5.000000e+00  \n75%    0.000000e+00  5.100000e+01   1.200000e+01  \nmax    3.697000e+03  6.200000e+01   7.130000e+02  ",
      "text/html": "<div>\n<style scoped>\n    .dataframe tbody tr th:only-of-type {\n        vertical-align: middle;\n    }\n\n    .dataframe tbody tr th {\n        vertical-align: top;\n    }\n\n    .dataframe thead th {\n        text-align: right;\n    }\n</style>\n<table border=\"1\" class=\"dataframe\">\n  <thead>\n    <tr style=\"text-align: right;\">\n      <th></th>\n      <th>MONTANT</th>\n      <th>FREQUENCE_RECH</th>\n      <th>REVENUE</th>\n      <th>ARPU_SEGMENT</th>\n      <th>FREQUENCE</th>\n      <th>DATA_VOLUME</th>\n      <th>ON_NET</th>\n      <th>ORANGE</th>\n      <th>TIGO</th>\n      <th>ZONE1</th>\n      <th>ZONE2</th>\n      <th>REGULARITY</th>\n      <th>FREQ_TOP_PACK</th>\n    </tr>\n  </thead>\n  <tbody>\n    <tr>\n      <th>count</th>\n      <td>2.154048e+06</td>\n      <td>2.154048e+06</td>\n      <td>2.154048e+06</td>\n      <td>2.154048e+06</td>\n      <td>2.154048e+06</td>\n      <td>2.154048e+06</td>\n      <td>2.154048e+06</td>\n      <td>2.154048e+06</td>\n      <td>2.154048e+06</td>\n      <td>2.154048e+06</td>\n      <td>2.154048e+06</td>\n      <td>2.154048e+06</td>\n      <td>1.251454e+06</td>\n    </tr>\n    <tr>\n      <th>mean</th>\n      <td>3.588628e+03</td>\n      <td>7.478823e+00</td>\n      <td>3.653325e+03</td>\n      <td>1.217779e+03</td>\n      <td>9.266639e+00</td>\n      <td>1.709154e+03</td>\n      <td>1.762749e+02</td>\n      <td>5.576156e+01</td>\n      <td>9.269586e+00</td>\n      <td>6.437382e-01</td>\n      <td>4.797823e-01</td>\n      <td>2.804251e+01</td>\n      <td>9.272461e+00</td>\n    </tr>\n    <tr>\n      <th>std</th>\n      <td>6.307095e+03</td>\n      <td>1.202461e+01</td>\n      <td>6.405449e+03</td>\n      <td>2.135148e+03</td>\n      <td>1.366740e+01</td>\n      <td>9.628098e+03</td>\n      <td>7.080434e+02</td>\n      <td>1.636068e+02</td>\n      <td>4.182922e+01</td>\n      <td>1.176395e+01</td>\n      <td>8.638500e+00</td>\n      <td>2.228686e+01</td>\n      <td>1.228044e+01</td>\n    </tr>\n    <tr>\n      <th>min</th>\n      <td>0.000000e+00</td>\n      <td>0.000000e+00</td>\n      <td>0.000000e+00</td>\n      <td>0.000000e+00</td>\n      <td>0.000000e+00</td>\n      <td>0.000000e+00</td>\n      <td>0.000000e+00</td>\n      <td>0.000000e+00</td>\n      <td>0.000000e+00</td>\n      <td>0.000000e+00</td>\n      <td>0.000000e+00</td>\n      <td>1.000000e+00</td>\n      <td>1.000000e+00</td>\n    </tr>\n    <tr>\n      <th>25%</th>\n      <td>0.000000e+00</td>\n      <td>0.000000e+00</td>\n      <td>0.000000e+00</td>\n      <td>0.000000e+00</td>\n      <td>0.000000e+00</td>\n      <td>0.000000e+00</td>\n      <td>0.000000e+00</td>\n      <td>0.000000e+00</td>\n      <td>0.000000e+00</td>\n      <td>0.000000e+00</td>\n      <td>0.000000e+00</td>\n      <td>6.000000e+00</td>\n      <td>2.000000e+00</td>\n    </tr>\n    <tr>\n      <th>50%</th>\n      <td>1.000000e+03</td>\n      <td>2.000000e+00</td>\n      <td>1.000000e+03</td>\n      <td>3.330000e+02</td>\n      <td>3.000000e+00</td>\n      <td>0.000000e+00</td>\n      <td>3.000000e+00</td>\n      <td>3.000000e+00</td>\n      <td>0.000000e+00</td>\n      <td>0.000000e+00</td>\n      <td>0.000000e+00</td>\n      <td>2.400000e+01</td>\n      <td>5.000000e+00</td>\n    </tr>\n    <tr>\n      <th>75%</th>\n      <td>4.600000e+03</td>\n      <td>1.000000e+01</td>\n      <td>4.700000e+03</td>\n      <td>1.567000e+03</td>\n      <td>1.300000e+01</td>\n      <td>2.890000e+02</td>\n      <td>5.500000e+01</td>\n      <td>4.100000e+01</td>\n      <td>3.000000e+00</td>\n      <td>0.000000e+00</td>\n      <td>0.000000e+00</td>\n      <td>5.100000e+01</td>\n      <td>1.200000e+01</td>\n    </tr>\n    <tr>\n      <th>max</th>\n      <td>4.700000e+05</td>\n      <td>1.330000e+02</td>\n      <td>5.321770e+05</td>\n      <td>1.773920e+05</td>\n      <td>9.100000e+01</td>\n      <td>1.823866e+06</td>\n      <td>5.080900e+04</td>\n      <td>2.132300e+04</td>\n      <td>4.174000e+03</td>\n      <td>4.792000e+03</td>\n      <td>3.697000e+03</td>\n      <td>6.200000e+01</td>\n      <td>7.130000e+02</td>\n    </tr>\n  </tbody>\n</table>\n</div>"
     },
     "execution_count": 10,
     "metadata": {},
     "output_type": "execute_result"
    }
   ],
   "source": [
    "# проверяем что типы данных не \"узкие\", т.е. после преобразования не появилось отрицательных значений\n",
    "train_df.describe()"
   ],
   "metadata": {
    "collapsed": false,
    "pycharm": {
     "name": "#%%\n"
    }
   }
  },
  {
   "cell_type": "code",
   "execution_count": 11,
   "outputs": [
    {
     "data": {
      "text/plain": "                                          user_id  MONTANT  FREQUENCE_RECH  \\\n0        00000bfd7d50f01092811bc0c8d7b0d6fe7c3596     4250              15   \n1        00000cb4a5d760de88fecb38e2f71b7bec52e834        0               0   \n2        00001654a9d9f96303d9969d0a4a851714a4bb57     3600               2   \n3        00001dd6fa45f7ba044bd5d84937be464ce78ac2    13500              15   \n4        000028d9e13a595abe061f9b58f3d76ab907850f     1000               1   \n...                                           ...      ...             ...   \n2154043  ffffe85215ddc71a84f95af0afb0deeea90e6967        0               0   \n2154044  ffffeaaa9289cdba0ac000f0ab4b48f4aa74ed15     6100              15   \n2154045  fffff172fda1b4bb38a95385951908bb92379809        0               0   \n2154046  fffff5911296937a37f09a37a549da2e0dad6dbb    10000              11   \n2154047  fffff6dbff1508ea2bfe814e5ab2729ce6b788c2        0               0   \n\n         REVENUE  ARPU_SEGMENT  FREQUENCE  DATA_VOLUME  ON_NET  ORANGE  TIGO  \\\n0           4251          1417         17            4     388      46     1   \n1              0             0          0            0       0       0     0   \n2           1020           340          2            0      90      46     7   \n3          13502          4501         18        43804      41     102     2   \n4            985           328          1            0      39      24     0   \n...          ...           ...        ...          ...     ...     ...   ...   \n2154043        0             0          0            0       0       0     0   \n2154044     5800          1933         15          621      26      40    40   \n2154045        0             0          0            0       0       0     0   \n2154046     7120          2373         13            0       0     140    13   \n2154047        0             0          0            2       0       0     0   \n\n         ...  REGION_KEDOUGOU  REGION_KOLDA  REGION_LOUGA REGION_MATAM  \\\n0        ...                0             0             0            0   \n1        ...                0             0             0            0   \n2        ...                0             0             0            0   \n3        ...                0             0             0            0   \n4        ...                0             0             0            0   \n...      ...              ...           ...           ...          ...   \n2154043  ...                0             0             0            0   \n2154044  ...                0             0             0            0   \n2154045  ...                0             0             0            0   \n2154046  ...                0             0             0            0   \n2154047  ...                0             0             0            0   \n\n         REGION_OTHER  REGION_SAINT-LOUIS  REGION_SEDHIOU  REGION_TAMBACOUNDA  \\\n0                   0                   0               0                   0   \n1                   1                   0               0                   0   \n2                   1                   0               0                   0   \n3                   0                   0               0                   0   \n4                   0                   0               0                   0   \n...               ...                 ...             ...                 ...   \n2154043             1                   0               0                   0   \n2154044             0                   0               0                   0   \n2154045             1                   0               0                   0   \n2154046             0                   0               0                   0   \n2154047             1                   0               0                   0   \n\n         REGION_THIES  REGION_ZIGUINCHOR  \n0                   0                  0  \n1                   0                  0  \n2                   0                  0  \n3                   0                  0  \n4                   0                  0  \n...               ...                ...  \n2154043             0                  0  \n2154044             1                  0  \n2154045             0                  0  \n2154046             1                  0  \n2154047             0                  0  \n\n[2154048 rows x 39 columns]",
      "text/html": "<div>\n<style scoped>\n    .dataframe tbody tr th:only-of-type {\n        vertical-align: middle;\n    }\n\n    .dataframe tbody tr th {\n        vertical-align: top;\n    }\n\n    .dataframe thead th {\n        text-align: right;\n    }\n</style>\n<table border=\"1\" class=\"dataframe\">\n  <thead>\n    <tr style=\"text-align: right;\">\n      <th></th>\n      <th>user_id</th>\n      <th>MONTANT</th>\n      <th>FREQUENCE_RECH</th>\n      <th>REVENUE</th>\n      <th>ARPU_SEGMENT</th>\n      <th>FREQUENCE</th>\n      <th>DATA_VOLUME</th>\n      <th>ON_NET</th>\n      <th>ORANGE</th>\n      <th>TIGO</th>\n      <th>...</th>\n      <th>REGION_KEDOUGOU</th>\n      <th>REGION_KOLDA</th>\n      <th>REGION_LOUGA</th>\n      <th>REGION_MATAM</th>\n      <th>REGION_OTHER</th>\n      <th>REGION_SAINT-LOUIS</th>\n      <th>REGION_SEDHIOU</th>\n      <th>REGION_TAMBACOUNDA</th>\n      <th>REGION_THIES</th>\n      <th>REGION_ZIGUINCHOR</th>\n    </tr>\n  </thead>\n  <tbody>\n    <tr>\n      <th>0</th>\n      <td>00000bfd7d50f01092811bc0c8d7b0d6fe7c3596</td>\n      <td>4250</td>\n      <td>15</td>\n      <td>4251</td>\n      <td>1417</td>\n      <td>17</td>\n      <td>4</td>\n      <td>388</td>\n      <td>46</td>\n      <td>1</td>\n      <td>...</td>\n      <td>0</td>\n      <td>0</td>\n      <td>0</td>\n      <td>0</td>\n      <td>0</td>\n      <td>0</td>\n      <td>0</td>\n      <td>0</td>\n      <td>0</td>\n      <td>0</td>\n    </tr>\n    <tr>\n      <th>1</th>\n      <td>00000cb4a5d760de88fecb38e2f71b7bec52e834</td>\n      <td>0</td>\n      <td>0</td>\n      <td>0</td>\n      <td>0</td>\n      <td>0</td>\n      <td>0</td>\n      <td>0</td>\n      <td>0</td>\n      <td>0</td>\n      <td>...</td>\n      <td>0</td>\n      <td>0</td>\n      <td>0</td>\n      <td>0</td>\n      <td>1</td>\n      <td>0</td>\n      <td>0</td>\n      <td>0</td>\n      <td>0</td>\n      <td>0</td>\n    </tr>\n    <tr>\n      <th>2</th>\n      <td>00001654a9d9f96303d9969d0a4a851714a4bb57</td>\n      <td>3600</td>\n      <td>2</td>\n      <td>1020</td>\n      <td>340</td>\n      <td>2</td>\n      <td>0</td>\n      <td>90</td>\n      <td>46</td>\n      <td>7</td>\n      <td>...</td>\n      <td>0</td>\n      <td>0</td>\n      <td>0</td>\n      <td>0</td>\n      <td>1</td>\n      <td>0</td>\n      <td>0</td>\n      <td>0</td>\n      <td>0</td>\n      <td>0</td>\n    </tr>\n    <tr>\n      <th>3</th>\n      <td>00001dd6fa45f7ba044bd5d84937be464ce78ac2</td>\n      <td>13500</td>\n      <td>15</td>\n      <td>13502</td>\n      <td>4501</td>\n      <td>18</td>\n      <td>43804</td>\n      <td>41</td>\n      <td>102</td>\n      <td>2</td>\n      <td>...</td>\n      <td>0</td>\n      <td>0</td>\n      <td>0</td>\n      <td>0</td>\n      <td>0</td>\n      <td>0</td>\n      <td>0</td>\n      <td>0</td>\n      <td>0</td>\n      <td>0</td>\n    </tr>\n    <tr>\n      <th>4</th>\n      <td>000028d9e13a595abe061f9b58f3d76ab907850f</td>\n      <td>1000</td>\n      <td>1</td>\n      <td>985</td>\n      <td>328</td>\n      <td>1</td>\n      <td>0</td>\n      <td>39</td>\n      <td>24</td>\n      <td>0</td>\n      <td>...</td>\n      <td>0</td>\n      <td>0</td>\n      <td>0</td>\n      <td>0</td>\n      <td>0</td>\n      <td>0</td>\n      <td>0</td>\n      <td>0</td>\n      <td>0</td>\n      <td>0</td>\n    </tr>\n    <tr>\n      <th>...</th>\n      <td>...</td>\n      <td>...</td>\n      <td>...</td>\n      <td>...</td>\n      <td>...</td>\n      <td>...</td>\n      <td>...</td>\n      <td>...</td>\n      <td>...</td>\n      <td>...</td>\n      <td>...</td>\n      <td>...</td>\n      <td>...</td>\n      <td>...</td>\n      <td>...</td>\n      <td>...</td>\n      <td>...</td>\n      <td>...</td>\n      <td>...</td>\n      <td>...</td>\n      <td>...</td>\n    </tr>\n    <tr>\n      <th>2154043</th>\n      <td>ffffe85215ddc71a84f95af0afb0deeea90e6967</td>\n      <td>0</td>\n      <td>0</td>\n      <td>0</td>\n      <td>0</td>\n      <td>0</td>\n      <td>0</td>\n      <td>0</td>\n      <td>0</td>\n      <td>0</td>\n      <td>...</td>\n      <td>0</td>\n      <td>0</td>\n      <td>0</td>\n      <td>0</td>\n      <td>1</td>\n      <td>0</td>\n      <td>0</td>\n      <td>0</td>\n      <td>0</td>\n      <td>0</td>\n    </tr>\n    <tr>\n      <th>2154044</th>\n      <td>ffffeaaa9289cdba0ac000f0ab4b48f4aa74ed15</td>\n      <td>6100</td>\n      <td>15</td>\n      <td>5800</td>\n      <td>1933</td>\n      <td>15</td>\n      <td>621</td>\n      <td>26</td>\n      <td>40</td>\n      <td>40</td>\n      <td>...</td>\n      <td>0</td>\n      <td>0</td>\n      <td>0</td>\n      <td>0</td>\n      <td>0</td>\n      <td>0</td>\n      <td>0</td>\n      <td>0</td>\n      <td>1</td>\n      <td>0</td>\n    </tr>\n    <tr>\n      <th>2154045</th>\n      <td>fffff172fda1b4bb38a95385951908bb92379809</td>\n      <td>0</td>\n      <td>0</td>\n      <td>0</td>\n      <td>0</td>\n      <td>0</td>\n      <td>0</td>\n      <td>0</td>\n      <td>0</td>\n      <td>0</td>\n      <td>...</td>\n      <td>0</td>\n      <td>0</td>\n      <td>0</td>\n      <td>0</td>\n      <td>1</td>\n      <td>0</td>\n      <td>0</td>\n      <td>0</td>\n      <td>0</td>\n      <td>0</td>\n    </tr>\n    <tr>\n      <th>2154046</th>\n      <td>fffff5911296937a37f09a37a549da2e0dad6dbb</td>\n      <td>10000</td>\n      <td>11</td>\n      <td>7120</td>\n      <td>2373</td>\n      <td>13</td>\n      <td>0</td>\n      <td>0</td>\n      <td>140</td>\n      <td>13</td>\n      <td>...</td>\n      <td>0</td>\n      <td>0</td>\n      <td>0</td>\n      <td>0</td>\n      <td>0</td>\n      <td>0</td>\n      <td>0</td>\n      <td>0</td>\n      <td>1</td>\n      <td>0</td>\n    </tr>\n    <tr>\n      <th>2154047</th>\n      <td>fffff6dbff1508ea2bfe814e5ab2729ce6b788c2</td>\n      <td>0</td>\n      <td>0</td>\n      <td>0</td>\n      <td>0</td>\n      <td>0</td>\n      <td>2</td>\n      <td>0</td>\n      <td>0</td>\n      <td>0</td>\n      <td>...</td>\n      <td>0</td>\n      <td>0</td>\n      <td>0</td>\n      <td>0</td>\n      <td>1</td>\n      <td>0</td>\n      <td>0</td>\n      <td>0</td>\n      <td>0</td>\n      <td>0</td>\n    </tr>\n  </tbody>\n</table>\n<p>2154048 rows × 39 columns</p>\n</div>"
     },
     "execution_count": 11,
     "metadata": {},
     "output_type": "execute_result"
    }
   ],
   "source": [
    "# произведем One Hot кодирование категориальных переменных в столбцах 'TENURE' и 'REGION'\n",
    "train_df = pd.get_dummies(train_df, columns=['TENURE', 'REGION'])\n",
    "train_df"
   ],
   "metadata": {
    "collapsed": false,
    "pycharm": {
     "name": "#%%\n"
    }
   }
  },
  {
   "cell_type": "code",
   "execution_count": 12,
   "outputs": [
    {
     "data": {
      "text/plain": "0          00000bfd7d50f01092811bc0c8d7b0d6fe7c3596\n1          00000cb4a5d760de88fecb38e2f71b7bec52e834\n2          00001654a9d9f96303d9969d0a4a851714a4bb57\n3          00001dd6fa45f7ba044bd5d84937be464ce78ac2\n4          000028d9e13a595abe061f9b58f3d76ab907850f\n                             ...                   \n2154043    ffffe85215ddc71a84f95af0afb0deeea90e6967\n2154044    ffffeaaa9289cdba0ac000f0ab4b48f4aa74ed15\n2154045    fffff172fda1b4bb38a95385951908bb92379809\n2154046    fffff5911296937a37f09a37a549da2e0dad6dbb\n2154047    fffff6dbff1508ea2bfe814e5ab2729ce6b788c2\nName: user_id, Length: 2154048, dtype: object"
     },
     "execution_count": 12,
     "metadata": {},
     "output_type": "execute_result"
    }
   ],
   "source": [
    "user_ids = train_df['user_id']\n",
    "train_df = train_df.drop(columns='user_id')\n",
    "user_ids"
   ],
   "metadata": {
    "collapsed": false,
    "pycharm": {
     "name": "#%%\n"
    }
   }
  },
  {
   "cell_type": "code",
   "execution_count": 13,
   "outputs": [
    {
     "data": {
      "text/plain": "(2154048, 38)"
     },
     "execution_count": 13,
     "metadata": {},
     "output_type": "execute_result"
    }
   ],
   "source": [
    "train_df.shape"
   ],
   "metadata": {
    "collapsed": false,
    "pycharm": {
     "name": "#%%\n"
    }
   }
  },
  {
   "cell_type": "code",
   "execution_count": 14,
   "outputs": [],
   "source": [
    "# выделяем набор данных для предсказания TOP_PACK\n",
    "top_pack_predict_df = train_df[train_df[\"TOP_PACK\"].isna()].drop(columns=['TOP_PACK', 'FREQ_TOP_PACK'])"
   ],
   "metadata": {
    "collapsed": false,
    "pycharm": {
     "name": "#%%\n"
    }
   }
  },
  {
   "cell_type": "code",
   "execution_count": 15,
   "outputs": [
    {
     "data": {
      "text/plain": "MONTANT                 int32\nFREQUENCE_RECH          int16\nREVENUE                 int32\nARPU_SEGMENT            int32\nFREQUENCE               int16\nDATA_VOLUME             int32\nON_NET                  int32\nORANGE                  int16\nTIGO                    int16\nZONE1                   int16\nZONE2                   int16\nREGULARITY              int16\nCHURN                    bool\nTENURE_D 3-6 month      uint8\nTENURE_E 6-9 month      uint8\nTENURE_F 9-12 month     uint8\nTENURE_G 12-15 month    uint8\nTENURE_H 15-18 month    uint8\nTENURE_I 18-21 month    uint8\nTENURE_J 21-24 month    uint8\nTENURE_K > 24 month     uint8\nREGION_DAKAR            uint8\nREGION_DIOURBEL         uint8\nREGION_FATICK           uint8\nREGION_KAFFRINE         uint8\nREGION_KAOLACK          uint8\nREGION_KEDOUGOU         uint8\nREGION_KOLDA            uint8\nREGION_LOUGA            uint8\nREGION_MATAM            uint8\nREGION_OTHER            uint8\nREGION_SAINT-LOUIS      uint8\nREGION_SEDHIOU          uint8\nREGION_TAMBACOUNDA      uint8\nREGION_THIES            uint8\nREGION_ZIGUINCHOR       uint8\ndtype: object"
     },
     "execution_count": 15,
     "metadata": {},
     "output_type": "execute_result"
    }
   ],
   "source": [
    "# набор данных для обучения и теста метода KNN для дальнейшего предсказания TOP_PACK\n",
    "# разделение на параметры и целевую переменную\n",
    "top_pack_traintest_df = train_df[~train_df[\"TOP_PACK\"].isna()]\n",
    "top_pack_X_df = top_pack_traintest_df.drop(columns=['TOP_PACK', 'FREQ_TOP_PACK'])\n",
    "top_pack_y_df = top_pack_traintest_df['TOP_PACK']\n",
    "top_pack_X_df.dtypes"
   ],
   "metadata": {
    "collapsed": false,
    "pycharm": {
     "name": "#%%\n"
    }
   }
  },
  {
   "cell_type": "code",
   "execution_count": 16,
   "outputs": [
    {
     "data": {
      "text/plain": "0                     On net 200F=Unlimited _call24H\n2                            On-net 1000F=10MilF;10d\n3                                  Data:1000F=5GB,7d\n4                        Mixt 250F=Unlimited_call24H\n5          MIXT:500F= 2500F on net _2500F off net;2d\n                             ...                    \n2154038                        All-net 500F=2000F;5d\n2154040                        All-net 500F=2000F;5d\n2154042                           Data:1000F=2GB,30d\n2154044                        Data: 200 F=100MB,24H\n2154046                        All-net 500F=2000F;5d\nName: TOP_PACK, Length: 1251454, dtype: object"
     },
     "execution_count": 16,
     "metadata": {},
     "output_type": "execute_result"
    }
   ],
   "source": [
    "top_pack_y_df"
   ],
   "metadata": {
    "collapsed": false,
    "pycharm": {
     "name": "#%%\n"
    }
   }
  },
  {
   "cell_type": "code",
   "execution_count": 17,
   "outputs": [],
   "source": [
    "# создаем модель для предсказания TOP_PACK методом кластеризации,\n",
    "# количество кластеров == кол-ву возможных значений TOP_PACK\n",
    "\n",
    "cluster_model1 = KMeans(n_clusters=len(train_df['TOP_PACK'].unique()))\n",
    "\n",
    "top_pack_X_df_train, top_pack_X_df_test, top_pack_y_df_train, top_pack_y_df_test = train_test_split(top_pack_X_df,\n",
    "                                                                                                    top_pack_y_df,\n",
    "                                                                                                    train_size=0.7,\n",
    "                                                                                                    random_state=777)"
   ],
   "metadata": {
    "collapsed": false,
    "pycharm": {
     "name": "#%%\n"
    }
   }
  },
  {
   "cell_type": "code",
   "execution_count": 18,
   "outputs": [],
   "source": [
    "# проверяем если модельку уже делали, то просто загружаем её, если нет - обучаем\n",
    "try:\n",
    "    cluster_model1 = pickle.load(open('TOP_PACK_predict_model.pkl', 'rb'))\n",
    "except FileNotFoundError:\n",
    "    cluster_model1.fit(top_pack_X_df_train)"
   ],
   "metadata": {
    "collapsed": false,
    "pycharm": {
     "name": "#%%\n"
    }
   }
  },
  {
   "cell_type": "code",
   "execution_count": 19,
   "outputs": [
    {
     "name": "stderr",
     "output_type": "stream",
     "text": [
      "/Library/Frameworks/Python.framework/Versions/3.10/lib/python3.10/site-packages/sklearn/base.py:493: FutureWarning: The feature names should match those that were passed during fit. Starting version 1.2, an error will be raised.\n",
      "Feature names unseen at fit time:\n",
      "- CHURN\n",
      "\n",
      "  warnings.warn(message, FutureWarning)\n"
     ]
    },
    {
     "ename": "ValueError",
     "evalue": "X has 36 features, but KMeans is expecting 35 features as input.",
     "output_type": "error",
     "traceback": [
      "\u001B[0;31m---------------------------------------------------------------------------\u001B[0m",
      "\u001B[0;31mValueError\u001B[0m                                Traceback (most recent call last)",
      "Input \u001B[0;32mIn [19]\u001B[0m, in \u001B[0;36m<cell line: 1>\u001B[0;34m()\u001B[0m\n\u001B[0;32m----> 1\u001B[0m predicted_y_train \u001B[38;5;241m=\u001B[39m \u001B[43mcluster_model1\u001B[49m\u001B[38;5;241;43m.\u001B[39;49m\u001B[43mpredict\u001B[49m\u001B[43m(\u001B[49m\u001B[43mtop_pack_X_df_train\u001B[49m\u001B[43m)\u001B[49m\n\u001B[1;32m      2\u001B[0m predicted_y_test \u001B[38;5;241m=\u001B[39m cluster_model1\u001B[38;5;241m.\u001B[39mpredict(top_pack_X_df_test)\n\u001B[1;32m      4\u001B[0m \u001B[38;5;28mprint\u001B[39m(\n\u001B[1;32m      5\u001B[0m     \u001B[38;5;124mf\u001B[39m\u001B[38;5;124m\"\u001B[39m\u001B[38;5;124mРезультаты кластеризации:\u001B[39m\u001B[38;5;130;01m\\n\u001B[39;00m\u001B[38;5;124mТренировочная выборка: \u001B[39m\u001B[38;5;132;01m{\u001B[39;00mrand_score(top_pack_y_df_train, predicted_y_train)\u001B[38;5;132;01m}\u001B[39;00m\u001B[38;5;130;01m\\n\u001B[39;00m\u001B[38;5;124mТестовая выборка: \u001B[39m\u001B[38;5;132;01m{\u001B[39;00mrand_score(top_pack_y_df_test, predicted_y_test)\u001B[38;5;132;01m}\u001B[39;00m\u001B[38;5;124m\"\u001B[39m)\n",
      "File \u001B[0;32m/Library/Frameworks/Python.framework/Versions/3.10/lib/python3.10/site-packages/sklearn/cluster/_kmeans.py:1021\u001B[0m, in \u001B[0;36m_BaseKMeans.predict\u001B[0;34m(self, X, sample_weight)\u001B[0m\n\u001B[1;32m    999\u001B[0m \u001B[38;5;124;03m\"\"\"Predict the closest cluster each sample in X belongs to.\u001B[39;00m\n\u001B[1;32m   1000\u001B[0m \n\u001B[1;32m   1001\u001B[0m \u001B[38;5;124;03mIn the vector quantization literature, `cluster_centers_` is called\u001B[39;00m\n\u001B[0;32m   (...)\u001B[0m\n\u001B[1;32m   1017\u001B[0m \u001B[38;5;124;03m    Index of the cluster each sample belongs to.\u001B[39;00m\n\u001B[1;32m   1018\u001B[0m \u001B[38;5;124;03m\"\"\"\u001B[39;00m\n\u001B[1;32m   1019\u001B[0m check_is_fitted(\u001B[38;5;28mself\u001B[39m)\n\u001B[0;32m-> 1021\u001B[0m X \u001B[38;5;241m=\u001B[39m \u001B[38;5;28;43mself\u001B[39;49m\u001B[38;5;241;43m.\u001B[39;49m\u001B[43m_check_test_data\u001B[49m\u001B[43m(\u001B[49m\u001B[43mX\u001B[49m\u001B[43m)\u001B[49m\n\u001B[1;32m   1022\u001B[0m x_squared_norms \u001B[38;5;241m=\u001B[39m row_norms(X, squared\u001B[38;5;241m=\u001B[39m\u001B[38;5;28;01mTrue\u001B[39;00m)\n\u001B[1;32m   1023\u001B[0m sample_weight \u001B[38;5;241m=\u001B[39m _check_sample_weight(sample_weight, X, dtype\u001B[38;5;241m=\u001B[39mX\u001B[38;5;241m.\u001B[39mdtype)\n",
      "File \u001B[0;32m/Library/Frameworks/Python.framework/Versions/3.10/lib/python3.10/site-packages/sklearn/cluster/_kmeans.py:897\u001B[0m, in \u001B[0;36m_BaseKMeans._check_test_data\u001B[0;34m(self, X)\u001B[0m\n\u001B[1;32m    896\u001B[0m \u001B[38;5;28;01mdef\u001B[39;00m \u001B[38;5;21m_check_test_data\u001B[39m(\u001B[38;5;28mself\u001B[39m, X):\n\u001B[0;32m--> 897\u001B[0m     X \u001B[38;5;241m=\u001B[39m \u001B[38;5;28;43mself\u001B[39;49m\u001B[38;5;241;43m.\u001B[39;49m\u001B[43m_validate_data\u001B[49m\u001B[43m(\u001B[49m\n\u001B[1;32m    898\u001B[0m \u001B[43m        \u001B[49m\u001B[43mX\u001B[49m\u001B[43m,\u001B[49m\n\u001B[1;32m    899\u001B[0m \u001B[43m        \u001B[49m\u001B[43maccept_sparse\u001B[49m\u001B[38;5;241;43m=\u001B[39;49m\u001B[38;5;124;43m\"\u001B[39;49m\u001B[38;5;124;43mcsr\u001B[39;49m\u001B[38;5;124;43m\"\u001B[39;49m\u001B[43m,\u001B[49m\n\u001B[1;32m    900\u001B[0m \u001B[43m        \u001B[49m\u001B[43mreset\u001B[49m\u001B[38;5;241;43m=\u001B[39;49m\u001B[38;5;28;43;01mFalse\u001B[39;49;00m\u001B[43m,\u001B[49m\n\u001B[1;32m    901\u001B[0m \u001B[43m        \u001B[49m\u001B[43mdtype\u001B[49m\u001B[38;5;241;43m=\u001B[39;49m\u001B[43m[\u001B[49m\u001B[43mnp\u001B[49m\u001B[38;5;241;43m.\u001B[39;49m\u001B[43mfloat64\u001B[49m\u001B[43m,\u001B[49m\u001B[43m \u001B[49m\u001B[43mnp\u001B[49m\u001B[38;5;241;43m.\u001B[39;49m\u001B[43mfloat32\u001B[49m\u001B[43m]\u001B[49m\u001B[43m,\u001B[49m\n\u001B[1;32m    902\u001B[0m \u001B[43m        \u001B[49m\u001B[43morder\u001B[49m\u001B[38;5;241;43m=\u001B[39;49m\u001B[38;5;124;43m\"\u001B[39;49m\u001B[38;5;124;43mC\u001B[39;49m\u001B[38;5;124;43m\"\u001B[39;49m\u001B[43m,\u001B[49m\n\u001B[1;32m    903\u001B[0m \u001B[43m        \u001B[49m\u001B[43maccept_large_sparse\u001B[49m\u001B[38;5;241;43m=\u001B[39;49m\u001B[38;5;28;43;01mFalse\u001B[39;49;00m\u001B[43m,\u001B[49m\n\u001B[1;32m    904\u001B[0m \u001B[43m    \u001B[49m\u001B[43m)\u001B[49m\n\u001B[1;32m    905\u001B[0m     \u001B[38;5;28;01mreturn\u001B[39;00m X\n",
      "File \u001B[0;32m/Library/Frameworks/Python.framework/Versions/3.10/lib/python3.10/site-packages/sklearn/base.py:600\u001B[0m, in \u001B[0;36mBaseEstimator._validate_data\u001B[0;34m(self, X, y, reset, validate_separately, **check_params)\u001B[0m\n\u001B[1;32m    597\u001B[0m     out \u001B[38;5;241m=\u001B[39m X, y\n\u001B[1;32m    599\u001B[0m \u001B[38;5;28;01mif\u001B[39;00m \u001B[38;5;129;01mnot\u001B[39;00m no_val_X \u001B[38;5;129;01mand\u001B[39;00m check_params\u001B[38;5;241m.\u001B[39mget(\u001B[38;5;124m\"\u001B[39m\u001B[38;5;124mensure_2d\u001B[39m\u001B[38;5;124m\"\u001B[39m, \u001B[38;5;28;01mTrue\u001B[39;00m):\n\u001B[0;32m--> 600\u001B[0m     \u001B[38;5;28;43mself\u001B[39;49m\u001B[38;5;241;43m.\u001B[39;49m\u001B[43m_check_n_features\u001B[49m\u001B[43m(\u001B[49m\u001B[43mX\u001B[49m\u001B[43m,\u001B[49m\u001B[43m \u001B[49m\u001B[43mreset\u001B[49m\u001B[38;5;241;43m=\u001B[39;49m\u001B[43mreset\u001B[49m\u001B[43m)\u001B[49m\n\u001B[1;32m    602\u001B[0m \u001B[38;5;28;01mreturn\u001B[39;00m out\n",
      "File \u001B[0;32m/Library/Frameworks/Python.framework/Versions/3.10/lib/python3.10/site-packages/sklearn/base.py:400\u001B[0m, in \u001B[0;36mBaseEstimator._check_n_features\u001B[0;34m(self, X, reset)\u001B[0m\n\u001B[1;32m    397\u001B[0m     \u001B[38;5;28;01mreturn\u001B[39;00m\n\u001B[1;32m    399\u001B[0m \u001B[38;5;28;01mif\u001B[39;00m n_features \u001B[38;5;241m!=\u001B[39m \u001B[38;5;28mself\u001B[39m\u001B[38;5;241m.\u001B[39mn_features_in_:\n\u001B[0;32m--> 400\u001B[0m     \u001B[38;5;28;01mraise\u001B[39;00m \u001B[38;5;167;01mValueError\u001B[39;00m(\n\u001B[1;32m    401\u001B[0m         \u001B[38;5;124mf\u001B[39m\u001B[38;5;124m\"\u001B[39m\u001B[38;5;124mX has \u001B[39m\u001B[38;5;132;01m{\u001B[39;00mn_features\u001B[38;5;132;01m}\u001B[39;00m\u001B[38;5;124m features, but \u001B[39m\u001B[38;5;132;01m{\u001B[39;00m\u001B[38;5;28mself\u001B[39m\u001B[38;5;241m.\u001B[39m\u001B[38;5;18m__class__\u001B[39m\u001B[38;5;241m.\u001B[39m\u001B[38;5;18m__name__\u001B[39m\u001B[38;5;132;01m}\u001B[39;00m\u001B[38;5;124m \u001B[39m\u001B[38;5;124m\"\u001B[39m\n\u001B[1;32m    402\u001B[0m         \u001B[38;5;124mf\u001B[39m\u001B[38;5;124m\"\u001B[39m\u001B[38;5;124mis expecting \u001B[39m\u001B[38;5;132;01m{\u001B[39;00m\u001B[38;5;28mself\u001B[39m\u001B[38;5;241m.\u001B[39mn_features_in_\u001B[38;5;132;01m}\u001B[39;00m\u001B[38;5;124m features as input.\u001B[39m\u001B[38;5;124m\"\u001B[39m\n\u001B[1;32m    403\u001B[0m     )\n",
      "\u001B[0;31mValueError\u001B[0m: X has 36 features, but KMeans is expecting 35 features as input."
     ]
    }
   ],
   "source": [
    "predicted_y_train = cluster_model1.predict(top_pack_X_df_train)\n",
    "predicted_y_test = cluster_model1.predict(top_pack_X_df_test)\n",
    "\n",
    "print(\n",
    "    f\"Результаты кластеризации:\\nТренировочная выборка: {rand_score(top_pack_y_df_train, predicted_y_train)}\\nТестовая выборка: {rand_score(top_pack_y_df_test, predicted_y_test)}\")"
   ],
   "metadata": {
    "collapsed": false,
    "pycharm": {
     "name": "#%%\n"
    }
   }
  },
  {
   "cell_type": "code",
   "execution_count": null,
   "outputs": [],
   "source": [
    "# точность явно лучше случайного распределения, либо назначения среднего значения либо же моды, сохраняем модель в файл для следующего использования:\n",
    "while True:\n",
    "    answer = input('Пезезаписать файл модели? y/n')\n",
    "    if str.lower(answer) == 'y':\n",
    "        pickle.dump(cluster_model1, open('TOP_PACK_predict_model.pkl', 'wb'))\n",
    "    else:\n",
    "        break"
   ],
   "metadata": {
    "collapsed": false,
    "pycharm": {
     "name": "#%%\n"
    }
   }
  },
  {
   "cell_type": "code",
   "execution_count": null,
   "outputs": [],
   "source": [
    "# заполняем отсутствующие значения \"TOP_PACK\"\n",
    "top_pack_predict_df_values = cluster_model1.predict(top_pack_predict_df)\n",
    "top_pack_labels = train_df['TOP_PACK'].unique()\n",
    "top_pack_predict_df['TOP_PACK'] = top_pack_labels[top_pack_predict_df_values]\n",
    "top_pack_y_df = top_pack_y_df.append(top_pack_predict_df['TOP_PACK']).sort_index()\n",
    "train_df['TOP_PACK'] = top_pack_y_df\n",
    "train_df"
   ],
   "metadata": {
    "collapsed": false,
    "pycharm": {
     "name": "#%%\n"
    }
   }
  },
  {
   "cell_type": "code",
   "execution_count": null,
   "outputs": [],
   "source": [
    "# проверяем на наличие каких-либо \"не определенных\" значений\n",
    "train_df['TOP_PACK'].isna().sum()"
   ],
   "metadata": {
    "collapsed": false,
    "pycharm": {
     "name": "#%%\n"
    }
   }
  },
  {
   "cell_type": "code",
   "execution_count": null,
   "outputs": [],
   "source": [
    "# удаляем неопределенности\n",
    "train_df = train_df.dropna(subset=['TOP_PACK'])\n",
    "train_df['TOP_PACK'].isna().sum()\n",
    "train_df.to_csv('top_pack_filled.csv')"
   ],
   "metadata": {
    "collapsed": false,
    "pycharm": {
     "name": "#%%\n"
    }
   }
  },
  {
   "cell_type": "code",
   "execution_count": null,
   "outputs": [],
   "source": [
    "# необходимо осуществить кодирование TOP_PACK, однако делать это наивно не имеет смысл,\n",
    "# т.к.  при One Hot кодировании получится более 140 дополнительных признаков, что не имеет смысла\n",
    "# поэтому произведем поиск \"уникальных\" сущностей в названиях пакетов\n",
    "packs = list(train_df['TOP_PACK'].unique())\n",
    "packs"
   ],
   "metadata": {
    "collapsed": false,
    "pycharm": {
     "name": "#%%\n"
    }
   }
  },
  {
   "cell_type": "code",
   "execution_count": null,
   "outputs": [],
   "source": [
    "with open('top_pack_labels.txt','w') as top_pack_labels_file:\n",
    "    top_pack_labels_file.write(str(packs))"
   ],
   "metadata": {
    "collapsed": false,
    "pycharm": {
     "name": "#%%\n"
    }
   }
  },
  {
   "cell_type": "code",
   "execution_count": null,
   "outputs": [],
   "source": [
    "top_pack_cats = {'unlimited':[], 'data':[], 'mixt':[], 'net':[], 'evc':[], 'daily':[],  'week':[],  'month':[],   'pilot':[],  'gprs':[],  'wifi':[],  'internat':[],  'other':[]}\n",
    "k = tuple(top_pack_cats.keys())\n",
    "\n",
    "for pack in packs:\n",
    "    if str(k[0]) in str(pack).lower():\n",
    "        top_pack_cats[k[0]].append(str(pack).lower())\n",
    "    elif str(k[1]) in str(pack).lower():\n",
    "        top_pack_cats[k[1]].append(str(pack).lower())\n",
    "    elif str(k[2]) in str(pack).lower():\n",
    "        top_pack_cats[k[2]].append(str(pack).lower())\n",
    "    elif str(k[3]) in str(pack).lower():\n",
    "        top_pack_cats[k[3]].append(str(pack).lower())\n",
    "    elif str(k[4]) in str(pack).lower():\n",
    "        top_pack_cats[k[4]].append(str(pack).lower())\n",
    "    elif str(k[5]) in str(pack).lower():\n",
    "        top_pack_cats[k[5]].append(str(pack).lower())\n",
    "    elif str(k[6]) in str(pack).lower():\n",
    "        top_pack_cats[k[6]].append(str(pack).lower())\n",
    "    elif str(k[7]) in str(pack).lower():\n",
    "        top_pack_cats[k[7]].append(str(pack).lower())\n",
    "    elif str(k[8]) in str(pack).lower():\n",
    "        top_pack_cats[k[8]].append(str(pack).lower())\n",
    "    elif str(k[9]) in str(pack).lower():\n",
    "        top_pack_cats[k[9]].append(str(pack).lower())\n",
    "    elif str(k[10]) in str(pack).lower():\n",
    "        top_pack_cats[k[10]].append(str(pack).lower())\n",
    "    elif str(k[11]) in str(pack).lower():\n",
    "        top_pack_cats[k[11]].append(str(pack).lower())\n",
    "    else:\n",
    "        top_pack_cats[k[12]].append(str(pack).lower())\n",
    "\n",
    "\n",
    "print(f'Разнесено названий по категориям: {str([len(top_pack_cats[_]) for _ in top_pack_cats.keys()])}')\n"
   ],
   "metadata": {
    "collapsed": false,
    "pycharm": {
     "name": "#%%\n"
    }
   }
  },
  {
   "cell_type": "code",
   "execution_count": null,
   "outputs": [],
   "source": [
    "# заменяем название тарифов на категории\n",
    "def top_pack_coding(top_pack_value):\n",
    "    global top_pack_cats\n",
    "    for key in top_pack_cats.keys():\n",
    "        if str(top_pack_value).lower() in top_pack_cats[key]:\n",
    "            return key\n",
    "train_df['TOP_PACK'] = train_df['TOP_PACK'].apply(top_pack_coding)"
   ],
   "metadata": {
    "collapsed": false,
    "pycharm": {
     "name": "#%%\n"
    }
   }
  },
  {
   "cell_type": "code",
   "execution_count": null,
   "outputs": [],
   "source": [
    "train_df['TOP_PACK'].value_counts()"
   ],
   "metadata": {
    "collapsed": false,
    "pycharm": {
     "name": "#%%\n"
    }
   }
  },
  {
   "cell_type": "code",
   "execution_count": null,
   "outputs": [],
   "source": [
    "# One Hot кодирование полученных значений TOP_PACK\n",
    "train_df = pd.get_dummies(train_df, columns=['TOP_PACK'])\n",
    "train_df"
   ],
   "metadata": {
    "collapsed": false,
    "pycharm": {
     "name": "#%%\n"
    }
   }
  },
  {
   "cell_type": "code",
   "execution_count": null,
   "outputs": [],
   "source": [
    "# TODO: реализовать аналогично подбор данных для второго проблемного столбца \"FREQ_TOP_PACK\"\n",
    "# разделяем набор данных на известные и неизвестные\n",
    "freq_top_pack_to_train = train_df[~train_df['FREQ_TOP_PACK'].isna()]\n",
    "freq_top_pack_to_prediction = train_df[train_df['FREQ_TOP_PACK'].isna()]\n",
    "freq_top_pack_to_train.shape, freq_top_pack_to_prediction.shape"
   ],
   "metadata": {
    "collapsed": false,
    "pycharm": {
     "name": "#%%\n"
    }
   }
  },
  {
   "cell_type": "code",
   "execution_count": null,
   "outputs": [],
   "source": [
    "# подготовка тестовой и тренировочной выборок\n",
    "freq_top_pack_X_df = freq_top_pack_to_train.drop(columns=['FREQ_TOP_PACK'])\n",
    "freq_top_pack_y_df = freq_top_pack_to_train['FREQ_TOP_PACK']\n",
    "\n",
    "freq_top_pack_X_df_train, freq_top_pack_X_df_test, freq_top_pack_y_df_train, freq_top_pack_y_df_test = train_test_split(\n",
    "    freq_top_pack_X_df,\n",
    "    freq_top_pack_y_df,\n",
    "    train_size=0.7,\n",
    "    random_state=777)"
   ],
   "metadata": {
    "collapsed": false,
    "pycharm": {
     "name": "#%%\n"
    }
   }
  },
  {
   "cell_type": "code",
   "execution_count": null,
   "outputs": [],
   "source": [
    "cluster_model2 = KMeans(n_clusters=len(train_df['FREQ_TOP_PACK'].unique()))"
   ],
   "metadata": {
    "collapsed": false,
    "pycharm": {
     "name": "#%%\n"
    }
   }
  },
  {
   "cell_type": "code",
   "execution_count": null,
   "outputs": [],
   "source": [
    "# проверяем если модельку уже делали, то просто загружаем её, если нет - обучаем\n",
    "try:\n",
    "    cluster_model2 = pickle.load(open('TOP_PACK_FREQ_predict_model.pkl', 'rb'))\n",
    "except FileNotFoundError:\n",
    "    cluster_model2.fit(freq_top_pack_X_df_train, freq_top_pack_y_df_train)"
   ],
   "metadata": {
    "collapsed": false,
    "pycharm": {
     "name": "#%%\n"
    }
   }
  },
  {
   "cell_type": "code",
   "execution_count": null,
   "outputs": [],
   "source": [
    "predicted_y_train = cluster_model2.predict(freq_top_pack_X_df_train)\n",
    "predicted_y_test = cluster_model2.predict(freq_top_pack_X_df_test)\n",
    "\n",
    "print(\n",
    "    f\"Результаты кластеризации:\\nТренировочная выборка: {rand_score(freq_top_pack_y_df_train, predicted_y_train)}\\nТестовая выборка: {rand_score(freq_top_pack_y_df_test, predicted_y_test)}\")"
   ],
   "metadata": {
    "collapsed": false,
    "pycharm": {
     "name": "#%%\n"
    }
   }
  },
  {
   "cell_type": "code",
   "execution_count": null,
   "outputs": [],
   "source": [
    "# точность явно лучше случайного распределения, либо назначения среднего значения либо же моды, сохраняем модель в файл для следующего использования:\n",
    "while True:\n",
    "    answer = input('Перезаписать файл модели? y/n')\n",
    "    if str.lower(answer) == 'y\\n':\n",
    "        pickle.dump(cluster_model2, open('TOP_PACK_FREQ_predict_model.pkl', 'wb'))\n",
    "    else:\n",
    "        break\n"
   ],
   "metadata": {
    "collapsed": false,
    "pycharm": {
     "name": "#%%\n"
    }
   }
  },
  {
   "cell_type": "code",
   "execution_count": null,
   "outputs": [],
   "source": [
    "freq_top_pack_to_prediction = freq_top_pack_to_prediction.drop(columns=['FREQ_TOP_PACK'])"
   ],
   "metadata": {
    "collapsed": false,
    "pycharm": {
     "name": "#%%\n"
    }
   }
  },
  {
   "cell_type": "code",
   "execution_count": null,
   "outputs": [],
   "source": [
    "freq_top_pack_predicted =cluster_model2.predict(freq_top_pack_to_prediction)\n",
    "freq_top_pack_predicted"
   ],
   "metadata": {
    "collapsed": false,
    "pycharm": {
     "name": "#%%\n"
    }
   }
  },
  {
   "cell_type": "code",
   "execution_count": null,
   "outputs": [],
   "source": [
    "train_df = train_df.drop(columns='FREQ_TOP_PACK')\n",
    "train_df['FREQ_TOP_PACK'] = cluster_model2.predict(train_df)\n",
    "train_df"
   ],
   "metadata": {
    "collapsed": false,
    "pycharm": {
     "name": "#%%\n"
    }
   }
  },
  {
   "cell_type": "code",
   "execution_count": null,
   "outputs": [],
   "source": [
    "train_df['user_id'] = user_ids\n",
    "train_df"
   ],
   "metadata": {
    "collapsed": false,
    "pycharm": {
     "name": "#%%\n"
    }
   }
  },
  {
   "cell_type": "code",
   "execution_count": null,
   "outputs": [],
   "source": [
    "#train_df = train_df.loc[:, ~train_df.columns.str.contains('^Unnamed')]\n",
    "\n"
   ],
   "metadata": {
    "collapsed": false,
    "pycharm": {
     "name": "#%%\n"
    }
   }
  },
  {
   "cell_type": "code",
   "execution_count": null,
   "outputs": [],
   "source": [
    "cl = list(train_df.columns)\n",
    "cl.remove('user_id')\n",
    "cl = ['user_id', *cl]\n",
    "train_df = train_df[cl]\n",
    "train_df"
   ],
   "metadata": {
    "collapsed": false,
    "pycharm": {
     "name": "#%%\n"
    }
   }
  },
  {
   "cell_type": "code",
   "execution_count": null,
   "outputs": [],
   "source": [
    "train_df.to_csv('prepared_train1.csv')"
   ],
   "metadata": {
    "collapsed": false,
    "pycharm": {
     "name": "#%%\n"
    }
   }
  },
  {
   "cell_type": "code",
   "execution_count": null,
   "outputs": [],
   "source": [
    "train_df"
   ],
   "metadata": {
    "collapsed": false,
    "pycharm": {
     "name": "#%%\n"
    }
   }
  }
 ],
 "metadata": {
  "kernelspec": {
   "display_name": "Python 3",
   "language": "python",
   "name": "python3"
  },
  "language_info": {
   "codemirror_mode": {
    "name": "ipython",
    "version": 2
   },
   "file_extension": ".py",
   "mimetype": "text/x-python",
   "name": "python",
   "nbconvert_exporter": "python",
   "pygments_lexer": "ipython2",
   "version": "2.7.6"
  }
 },
 "nbformat": 4,
 "nbformat_minor": 0
}