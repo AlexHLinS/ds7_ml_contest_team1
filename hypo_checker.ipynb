{
 "cells": [
  {
   "cell_type": "code",
   "execution_count": 5,
   "metadata": {
    "collapsed": true,
    "pycharm": {
     "name": "#%%\n"
    }
   },
   "outputs": [],
   "source": [
    "import pandas as pd"
   ]
  },
  {
   "cell_type": "code",
   "execution_count": 9,
   "outputs": [],
   "source": [
    "df = pd.read_csv('Test.csv')"
   ],
   "metadata": {
    "collapsed": false,
    "pycharm": {
     "name": "#%%\n"
    }
   }
  },
  {
   "cell_type": "code",
   "execution_count": 11,
   "outputs": [
    {
     "data": {
      "text/plain": "                                    user_id REGION         TENURE  MONTANT  \\\n0  00001dbe00e56fc4b1c1b65dda63de2a5ece55f9  THIES   K > 24 month   5000.0   \n1  000055d41c8a62052dd426592e8a4a3342bf565d    NaN  I 18-21 month    300.0   \n2  000081dd3245e6869a4a9c574c7050e7bb84c2c8  DAKAR   K > 24 month   3300.0   \n3  0000b76d2145d9445d9ff6b65c9ebc4196c89337    NaN   K > 24 month      NaN   \n4  0000bae5480628cf8fe51ad84bcb39772fc79224    NaN   K > 24 month      NaN   \n\n   FREQUENCE_RECH  REVENUE  ARPU_SEGMENT  FREQUENCE  DATA_VOLUME  ON_NET  \\\n0             5.0   5000.0        1667.0        5.0          NaN   378.0   \n1             2.0    326.0         109.0        3.0        397.0     NaN   \n2            25.0   3400.0        1133.0       26.0       7150.0     0.0   \n3             NaN      NaN           NaN        NaN          NaN     NaN   \n4             NaN      NaN           NaN        NaN          NaN     NaN   \n\n   ORANGE  TIGO  ZONE1  ZONE2 MRG  REGULARITY                 TOP_PACK  \\\n0    11.0   5.0    NaN    NaN  NO          42  On-net 1000F=10MilF;10d   \n1     0.0   NaN    NaN    NaN  NO          41     Data: 100 F=40MB,24H   \n2     2.0   5.0    NaN    NaN  NO          57     Data: 100 F=40MB,24H   \n3     NaN   NaN    NaN    NaN  NO           9                      NaN   \n4     NaN   NaN    NaN    NaN  NO          10                      NaN   \n\n   FREQ_TOP_PACK  \n0            5.0  \n1            1.0  \n2           22.0  \n3            NaN  \n4            NaN  ",
      "text/html": "<div>\n<style scoped>\n    .dataframe tbody tr th:only-of-type {\n        vertical-align: middle;\n    }\n\n    .dataframe tbody tr th {\n        vertical-align: top;\n    }\n\n    .dataframe thead th {\n        text-align: right;\n    }\n</style>\n<table border=\"1\" class=\"dataframe\">\n  <thead>\n    <tr style=\"text-align: right;\">\n      <th></th>\n      <th>user_id</th>\n      <th>REGION</th>\n      <th>TENURE</th>\n      <th>MONTANT</th>\n      <th>FREQUENCE_RECH</th>\n      <th>REVENUE</th>\n      <th>ARPU_SEGMENT</th>\n      <th>FREQUENCE</th>\n      <th>DATA_VOLUME</th>\n      <th>ON_NET</th>\n      <th>ORANGE</th>\n      <th>TIGO</th>\n      <th>ZONE1</th>\n      <th>ZONE2</th>\n      <th>MRG</th>\n      <th>REGULARITY</th>\n      <th>TOP_PACK</th>\n      <th>FREQ_TOP_PACK</th>\n    </tr>\n  </thead>\n  <tbody>\n    <tr>\n      <th>0</th>\n      <td>00001dbe00e56fc4b1c1b65dda63de2a5ece55f9</td>\n      <td>THIES</td>\n      <td>K &gt; 24 month</td>\n      <td>5000.0</td>\n      <td>5.0</td>\n      <td>5000.0</td>\n      <td>1667.0</td>\n      <td>5.0</td>\n      <td>NaN</td>\n      <td>378.0</td>\n      <td>11.0</td>\n      <td>5.0</td>\n      <td>NaN</td>\n      <td>NaN</td>\n      <td>NO</td>\n      <td>42</td>\n      <td>On-net 1000F=10MilF;10d</td>\n      <td>5.0</td>\n    </tr>\n    <tr>\n      <th>1</th>\n      <td>000055d41c8a62052dd426592e8a4a3342bf565d</td>\n      <td>NaN</td>\n      <td>I 18-21 month</td>\n      <td>300.0</td>\n      <td>2.0</td>\n      <td>326.0</td>\n      <td>109.0</td>\n      <td>3.0</td>\n      <td>397.0</td>\n      <td>NaN</td>\n      <td>0.0</td>\n      <td>NaN</td>\n      <td>NaN</td>\n      <td>NaN</td>\n      <td>NO</td>\n      <td>41</td>\n      <td>Data: 100 F=40MB,24H</td>\n      <td>1.0</td>\n    </tr>\n    <tr>\n      <th>2</th>\n      <td>000081dd3245e6869a4a9c574c7050e7bb84c2c8</td>\n      <td>DAKAR</td>\n      <td>K &gt; 24 month</td>\n      <td>3300.0</td>\n      <td>25.0</td>\n      <td>3400.0</td>\n      <td>1133.0</td>\n      <td>26.0</td>\n      <td>7150.0</td>\n      <td>0.0</td>\n      <td>2.0</td>\n      <td>5.0</td>\n      <td>NaN</td>\n      <td>NaN</td>\n      <td>NO</td>\n      <td>57</td>\n      <td>Data: 100 F=40MB,24H</td>\n      <td>22.0</td>\n    </tr>\n    <tr>\n      <th>3</th>\n      <td>0000b76d2145d9445d9ff6b65c9ebc4196c89337</td>\n      <td>NaN</td>\n      <td>K &gt; 24 month</td>\n      <td>NaN</td>\n      <td>NaN</td>\n      <td>NaN</td>\n      <td>NaN</td>\n      <td>NaN</td>\n      <td>NaN</td>\n      <td>NaN</td>\n      <td>NaN</td>\n      <td>NaN</td>\n      <td>NaN</td>\n      <td>NaN</td>\n      <td>NO</td>\n      <td>9</td>\n      <td>NaN</td>\n      <td>NaN</td>\n    </tr>\n    <tr>\n      <th>4</th>\n      <td>0000bae5480628cf8fe51ad84bcb39772fc79224</td>\n      <td>NaN</td>\n      <td>K &gt; 24 month</td>\n      <td>NaN</td>\n      <td>NaN</td>\n      <td>NaN</td>\n      <td>NaN</td>\n      <td>NaN</td>\n      <td>NaN</td>\n      <td>NaN</td>\n      <td>NaN</td>\n      <td>NaN</td>\n      <td>NaN</td>\n      <td>NaN</td>\n      <td>NO</td>\n      <td>10</td>\n      <td>NaN</td>\n      <td>NaN</td>\n    </tr>\n  </tbody>\n</table>\n</div>"
     },
     "execution_count": 11,
     "metadata": {},
     "output_type": "execute_result"
    }
   ],
   "source": [
    "df.head(5)"
   ],
   "metadata": {
    "collapsed": false,
    "pycharm": {
     "name": "#%%\n"
    }
   }
  },
  {
   "cell_type": "code",
   "execution_count": 21,
   "outputs": [
    {
     "ename": "ValueError",
     "evalue": "('Lengths must match to compare', (380127,), (15,))",
     "output_type": "error",
     "traceback": [
      "\u001B[0;31m---------------------------------------------------------------------------\u001B[0m",
      "\u001B[0;31mValueError\u001B[0m                                Traceback (most recent call last)",
      "Input \u001B[0;32mIn [21]\u001B[0m, in \u001B[0;36m<cell line: 1>\u001B[0;34m()\u001B[0m\n\u001B[0;32m----> 1\u001B[0m df[\u001B[43mdf\u001B[49m\u001B[38;5;241;43m.\u001B[39;49m\u001B[43mREGION\u001B[49m\u001B[43m \u001B[49m\u001B[38;5;241;43m==\u001B[39;49m\u001B[43m \u001B[49m\u001B[43mdf\u001B[49m\u001B[38;5;241;43m.\u001B[39;49m\u001B[43mREGION\u001B[49m\u001B[38;5;241;43m.\u001B[39;49m\u001B[43munique\u001B[49m\u001B[43m(\u001B[49m\u001B[43m)\u001B[49m][\u001B[38;5;124m'\u001B[39m\u001B[38;5;124mREGION\u001B[39m\u001B[38;5;124m'\u001B[39m]\u001B[38;5;241m.\u001B[39mcount()\n",
      "File \u001B[0;32m/Library/Frameworks/Python.framework/Versions/3.10/lib/python3.10/site-packages/pandas/core/ops/common.py:70\u001B[0m, in \u001B[0;36m_unpack_zerodim_and_defer.<locals>.new_method\u001B[0;34m(self, other)\u001B[0m\n\u001B[1;32m     66\u001B[0m             \u001B[38;5;28;01mreturn\u001B[39;00m \u001B[38;5;28mNotImplemented\u001B[39m\n\u001B[1;32m     68\u001B[0m other \u001B[38;5;241m=\u001B[39m item_from_zerodim(other)\n\u001B[0;32m---> 70\u001B[0m \u001B[38;5;28;01mreturn\u001B[39;00m \u001B[43mmethod\u001B[49m\u001B[43m(\u001B[49m\u001B[38;5;28;43mself\u001B[39;49m\u001B[43m,\u001B[49m\u001B[43m \u001B[49m\u001B[43mother\u001B[49m\u001B[43m)\u001B[49m\n",
      "File \u001B[0;32m/Library/Frameworks/Python.framework/Versions/3.10/lib/python3.10/site-packages/pandas/core/arraylike.py:40\u001B[0m, in \u001B[0;36mOpsMixin.__eq__\u001B[0;34m(self, other)\u001B[0m\n\u001B[1;32m     38\u001B[0m \u001B[38;5;129m@unpack_zerodim_and_defer\u001B[39m(\u001B[38;5;124m\"\u001B[39m\u001B[38;5;124m__eq__\u001B[39m\u001B[38;5;124m\"\u001B[39m)\n\u001B[1;32m     39\u001B[0m \u001B[38;5;28;01mdef\u001B[39;00m \u001B[38;5;21m__eq__\u001B[39m(\u001B[38;5;28mself\u001B[39m, other):\n\u001B[0;32m---> 40\u001B[0m     \u001B[38;5;28;01mreturn\u001B[39;00m \u001B[38;5;28;43mself\u001B[39;49m\u001B[38;5;241;43m.\u001B[39;49m\u001B[43m_cmp_method\u001B[49m\u001B[43m(\u001B[49m\u001B[43mother\u001B[49m\u001B[43m,\u001B[49m\u001B[43m \u001B[49m\u001B[43moperator\u001B[49m\u001B[38;5;241;43m.\u001B[39;49m\u001B[43meq\u001B[49m\u001B[43m)\u001B[49m\n",
      "File \u001B[0;32m/Library/Frameworks/Python.framework/Versions/3.10/lib/python3.10/site-packages/pandas/core/series.py:5623\u001B[0m, in \u001B[0;36mSeries._cmp_method\u001B[0;34m(self, other, op)\u001B[0m\n\u001B[1;32m   5620\u001B[0m rvalues \u001B[38;5;241m=\u001B[39m extract_array(other, extract_numpy\u001B[38;5;241m=\u001B[39m\u001B[38;5;28;01mTrue\u001B[39;00m, extract_range\u001B[38;5;241m=\u001B[39m\u001B[38;5;28;01mTrue\u001B[39;00m)\n\u001B[1;32m   5622\u001B[0m \u001B[38;5;28;01mwith\u001B[39;00m np\u001B[38;5;241m.\u001B[39merrstate(\u001B[38;5;28mall\u001B[39m\u001B[38;5;241m=\u001B[39m\u001B[38;5;124m\"\u001B[39m\u001B[38;5;124mignore\u001B[39m\u001B[38;5;124m\"\u001B[39m):\n\u001B[0;32m-> 5623\u001B[0m     res_values \u001B[38;5;241m=\u001B[39m \u001B[43mops\u001B[49m\u001B[38;5;241;43m.\u001B[39;49m\u001B[43mcomparison_op\u001B[49m\u001B[43m(\u001B[49m\u001B[43mlvalues\u001B[49m\u001B[43m,\u001B[49m\u001B[43m \u001B[49m\u001B[43mrvalues\u001B[49m\u001B[43m,\u001B[49m\u001B[43m \u001B[49m\u001B[43mop\u001B[49m\u001B[43m)\u001B[49m\n\u001B[1;32m   5625\u001B[0m \u001B[38;5;28;01mreturn\u001B[39;00m \u001B[38;5;28mself\u001B[39m\u001B[38;5;241m.\u001B[39m_construct_result(res_values, name\u001B[38;5;241m=\u001B[39mres_name)\n",
      "File \u001B[0;32m/Library/Frameworks/Python.framework/Versions/3.10/lib/python3.10/site-packages/pandas/core/ops/array_ops.py:260\u001B[0m, in \u001B[0;36mcomparison_op\u001B[0;34m(left, right, op)\u001B[0m\n\u001B[1;32m    255\u001B[0m \u001B[38;5;28;01mif\u001B[39;00m \u001B[38;5;28misinstance\u001B[39m(rvalues, (np\u001B[38;5;241m.\u001B[39mndarray, ABCExtensionArray)):\n\u001B[1;32m    256\u001B[0m     \u001B[38;5;66;03m# TODO: make this treatment consistent across ops and classes.\u001B[39;00m\n\u001B[1;32m    257\u001B[0m     \u001B[38;5;66;03m#  We are not catching all listlikes here (e.g. frozenset, tuple)\u001B[39;00m\n\u001B[1;32m    258\u001B[0m     \u001B[38;5;66;03m#  The ambiguous case is object-dtype.  See GH#27803\u001B[39;00m\n\u001B[1;32m    259\u001B[0m     \u001B[38;5;28;01mif\u001B[39;00m \u001B[38;5;28mlen\u001B[39m(lvalues) \u001B[38;5;241m!=\u001B[39m \u001B[38;5;28mlen\u001B[39m(rvalues):\n\u001B[0;32m--> 260\u001B[0m         \u001B[38;5;28;01mraise\u001B[39;00m \u001B[38;5;167;01mValueError\u001B[39;00m(\n\u001B[1;32m    261\u001B[0m             \u001B[38;5;124m\"\u001B[39m\u001B[38;5;124mLengths must match to compare\u001B[39m\u001B[38;5;124m\"\u001B[39m, lvalues\u001B[38;5;241m.\u001B[39mshape, rvalues\u001B[38;5;241m.\u001B[39mshape\n\u001B[1;32m    262\u001B[0m         )\n\u001B[1;32m    264\u001B[0m \u001B[38;5;28;01mif\u001B[39;00m should_extension_dispatch(lvalues, rvalues) \u001B[38;5;129;01mor\u001B[39;00m (\n\u001B[1;32m    265\u001B[0m     (\u001B[38;5;28misinstance\u001B[39m(rvalues, (Timedelta, BaseOffset, Timestamp)) \u001B[38;5;129;01mor\u001B[39;00m right \u001B[38;5;129;01mis\u001B[39;00m NaT)\n\u001B[1;32m    266\u001B[0m     \u001B[38;5;129;01mand\u001B[39;00m \u001B[38;5;129;01mnot\u001B[39;00m is_object_dtype(lvalues\u001B[38;5;241m.\u001B[39mdtype)\n\u001B[1;32m    267\u001B[0m ):\n\u001B[1;32m    268\u001B[0m     \u001B[38;5;66;03m# Call the method on lvalues\u001B[39;00m\n\u001B[1;32m    269\u001B[0m     res_values \u001B[38;5;241m=\u001B[39m op(lvalues, rvalues)\n",
      "\u001B[0;31mValueError\u001B[0m: ('Lengths must match to compare', (380127,), (15,))"
     ]
    }
   ],
   "source": [
    "df[df.REGION == df.REGION.unique()]['REGION'].count()"
   ],
   "metadata": {
    "collapsed": false,
    "pycharm": {
     "name": "#%%\n"
    }
   }
  },
  {
   "cell_type": "code",
   "execution_count": 15,
   "outputs": [
    {
     "ename": "AttributeError",
     "evalue": "'DataFrame' object has no attribute 'unique'",
     "output_type": "error",
     "traceback": [
      "\u001B[0;31m---------------------------------------------------------------------------\u001B[0m",
      "\u001B[0;31mAttributeError\u001B[0m                            Traceback (most recent call last)",
      "Input \u001B[0;32mIn [15]\u001B[0m, in \u001B[0;36m<cell line: 1>\u001B[0;34m()\u001B[0m\n\u001B[0;32m----> 1\u001B[0m \u001B[43mdf\u001B[49m\u001B[38;5;241;43m.\u001B[39;49m\u001B[43munique\u001B[49m()\n",
      "File \u001B[0;32m/Library/Frameworks/Python.framework/Versions/3.10/lib/python3.10/site-packages/pandas/core/generic.py:5575\u001B[0m, in \u001B[0;36mNDFrame.__getattr__\u001B[0;34m(self, name)\u001B[0m\n\u001B[1;32m   5568\u001B[0m \u001B[38;5;28;01mif\u001B[39;00m (\n\u001B[1;32m   5569\u001B[0m     name \u001B[38;5;129;01mnot\u001B[39;00m \u001B[38;5;129;01min\u001B[39;00m \u001B[38;5;28mself\u001B[39m\u001B[38;5;241m.\u001B[39m_internal_names_set\n\u001B[1;32m   5570\u001B[0m     \u001B[38;5;129;01mand\u001B[39;00m name \u001B[38;5;129;01mnot\u001B[39;00m \u001B[38;5;129;01min\u001B[39;00m \u001B[38;5;28mself\u001B[39m\u001B[38;5;241m.\u001B[39m_metadata\n\u001B[1;32m   5571\u001B[0m     \u001B[38;5;129;01mand\u001B[39;00m name \u001B[38;5;129;01mnot\u001B[39;00m \u001B[38;5;129;01min\u001B[39;00m \u001B[38;5;28mself\u001B[39m\u001B[38;5;241m.\u001B[39m_accessors\n\u001B[1;32m   5572\u001B[0m     \u001B[38;5;129;01mand\u001B[39;00m \u001B[38;5;28mself\u001B[39m\u001B[38;5;241m.\u001B[39m_info_axis\u001B[38;5;241m.\u001B[39m_can_hold_identifiers_and_holds_name(name)\n\u001B[1;32m   5573\u001B[0m ):\n\u001B[1;32m   5574\u001B[0m     \u001B[38;5;28;01mreturn\u001B[39;00m \u001B[38;5;28mself\u001B[39m[name]\n\u001B[0;32m-> 5575\u001B[0m \u001B[38;5;28;01mreturn\u001B[39;00m \u001B[38;5;28;43mobject\u001B[39;49m\u001B[38;5;241;43m.\u001B[39;49m\u001B[38;5;21;43m__getattribute__\u001B[39;49m\u001B[43m(\u001B[49m\u001B[38;5;28;43mself\u001B[39;49m\u001B[43m,\u001B[49m\u001B[43m \u001B[49m\u001B[43mname\u001B[49m\u001B[43m)\u001B[49m\n",
      "\u001B[0;31mAttributeError\u001B[0m: 'DataFrame' object has no attribute 'unique'"
     ]
    }
   ],
   "source": [
    "df.unique()"
   ],
   "metadata": {
    "collapsed": false,
    "pycharm": {
     "name": "#%%\n"
    }
   }
  },
  {
   "cell_type": "markdown",
   "source": [
    "## Описание анализируемого набора данных\n",
    "\n",
    "Согласно описанию, представленны обезличенные данные пользователей:\n",
    "- user_id - индитификатор пользователя\n",
    "- REGION - местоположение клиента\n",
    "- TENURE\n",
    "- MONTANT,montant de recharge,top-up amount\n",
    "- FREQUENCE_RECH,nombre de fois que le client a fait une recharge, number of times the customer refilled\n",
    "- REVENUE,revenu mensuel de chaque client,monthly income of each client\n",
    "- ARPU_SEGMENT,revenu sur 90 jours/3,income over 90 days / 3\n",
    "- FREQUENCE,nombre de fois que client à fait un revenu,number of times the client has made an income\n",
    "- DATA_VOLUME,nombre de connexions,number of connections\n",
    "- ON_NET, appel inter expresso,inter expresso call\n",
    "- ORANGE,appel vers orange,call to orange\n",
    "- TIGO,appel vers Tigo,call to Tigo\n",
    "- ZONE1,appel vers les zone1,call to zones1\n",
    "- ZONE2,appel vers les zone2,call to zones2\n",
    "- MRG, un client qui fait du vas,a client who is going\n",
    "- REGULARITY,nombre de fois que le client est actif pendant 90 jours,number of times the client is active for 90 days\n",
    "- TOP_PACK, les pack les plus activés,the most active packs\n",
    "- FREQ_TOP_PACK,nombre de fois que le client a activé les packages top pack,number of times the client has activated the top pack packages\n",
    "- CHURN,variable à predire - Target,variable to predict - Target"
   ],
   "metadata": {
    "collapsed": false,
    "pycharm": {
     "name": "#%% md\n"
    }
   }
  },
  {
   "cell_type": "code",
   "execution_count": null,
   "outputs": [],
   "source": [],
   "metadata": {
    "collapsed": false,
    "pycharm": {
     "name": "#%%\n"
    }
   }
  }
 ],
 "metadata": {
  "kernelspec": {
   "display_name": "Python 3",
   "language": "python",
   "name": "python3"
  },
  "language_info": {
   "codemirror_mode": {
    "name": "ipython",
    "version": 2
   },
   "file_extension": ".py",
   "mimetype": "text/x-python",
   "name": "python",
   "nbconvert_exporter": "python",
   "pygments_lexer": "ipython2",
   "version": "2.7.6"
  }
 },
 "nbformat": 4,
 "nbformat_minor": 0
}