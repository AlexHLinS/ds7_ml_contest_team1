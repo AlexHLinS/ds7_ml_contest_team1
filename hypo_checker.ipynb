{
 "cells": [
  {
   "cell_type": "code",
   "execution_count": 62,
   "metadata": {
    "collapsed": true,
    "pycharm": {
     "name": "#%%\n"
    }
   },
   "outputs": [],
   "source": [
    "import pandas as pd"
   ]
  },
  {
   "cell_type": "code",
   "execution_count": 63,
   "outputs": [],
   "source": [
    "test_df = pd.read_csv('Test.csv')\n",
    "train_df = pd.read_csv('Train.csv')"
   ],
   "metadata": {
    "collapsed": false,
    "pycharm": {
     "name": "#%%\n"
    }
   }
  },
  {
   "cell_type": "code",
   "execution_count": 64,
   "outputs": [
    {
     "data": {
      "text/plain": "                                    user_id  REGION         TENURE  MONTANT  \\\n0  00000bfd7d50f01092811bc0c8d7b0d6fe7c3596  FATICK   K > 24 month   4250.0   \n1  00000cb4a5d760de88fecb38e2f71b7bec52e834     NaN  I 18-21 month      NaN   \n2  00001654a9d9f96303d9969d0a4a851714a4bb57     NaN   K > 24 month   3600.0   \n3  00001dd6fa45f7ba044bd5d84937be464ce78ac2   DAKAR   K > 24 month  13500.0   \n4  000028d9e13a595abe061f9b58f3d76ab907850f   DAKAR   K > 24 month   1000.0   \n\n   FREQUENCE_RECH  REVENUE  ARPU_SEGMENT  FREQUENCE  DATA_VOLUME  ON_NET  \\\n0            15.0   4251.0        1417.0       17.0          4.0   388.0   \n1             NaN      NaN           NaN        NaN          NaN     NaN   \n2             2.0   1020.0         340.0        2.0          NaN    90.0   \n3            15.0  13502.0        4501.0       18.0      43804.0    41.0   \n4             1.0    985.0         328.0        1.0          NaN    39.0   \n\n   ORANGE  TIGO  ZONE1  ZONE2 MRG  REGULARITY                        TOP_PACK  \\\n0    46.0   1.0    1.0    2.0  NO          54  On net 200F=Unlimited _call24H   \n1     NaN   NaN    NaN    NaN  NO           4                             NaN   \n2    46.0   7.0    NaN    NaN  NO          17         On-net 1000F=10MilF;10d   \n3   102.0   2.0    NaN    NaN  NO          62               Data:1000F=5GB,7d   \n4    24.0   NaN    NaN    NaN  NO          11     Mixt 250F=Unlimited_call24H   \n\n   FREQ_TOP_PACK  CHURN  \n0            8.0      0  \n1            NaN      1  \n2            1.0      0  \n3           11.0      0  \n4            2.0      0  ",
      "text/html": "<div>\n<style scoped>\n    .dataframe tbody tr th:only-of-type {\n        vertical-align: middle;\n    }\n\n    .dataframe tbody tr th {\n        vertical-align: top;\n    }\n\n    .dataframe thead th {\n        text-align: right;\n    }\n</style>\n<table border=\"1\" class=\"dataframe\">\n  <thead>\n    <tr style=\"text-align: right;\">\n      <th></th>\n      <th>user_id</th>\n      <th>REGION</th>\n      <th>TENURE</th>\n      <th>MONTANT</th>\n      <th>FREQUENCE_RECH</th>\n      <th>REVENUE</th>\n      <th>ARPU_SEGMENT</th>\n      <th>FREQUENCE</th>\n      <th>DATA_VOLUME</th>\n      <th>ON_NET</th>\n      <th>ORANGE</th>\n      <th>TIGO</th>\n      <th>ZONE1</th>\n      <th>ZONE2</th>\n      <th>MRG</th>\n      <th>REGULARITY</th>\n      <th>TOP_PACK</th>\n      <th>FREQ_TOP_PACK</th>\n      <th>CHURN</th>\n    </tr>\n  </thead>\n  <tbody>\n    <tr>\n      <th>0</th>\n      <td>00000bfd7d50f01092811bc0c8d7b0d6fe7c3596</td>\n      <td>FATICK</td>\n      <td>K &gt; 24 month</td>\n      <td>4250.0</td>\n      <td>15.0</td>\n      <td>4251.0</td>\n      <td>1417.0</td>\n      <td>17.0</td>\n      <td>4.0</td>\n      <td>388.0</td>\n      <td>46.0</td>\n      <td>1.0</td>\n      <td>1.0</td>\n      <td>2.0</td>\n      <td>NO</td>\n      <td>54</td>\n      <td>On net 200F=Unlimited _call24H</td>\n      <td>8.0</td>\n      <td>0</td>\n    </tr>\n    <tr>\n      <th>1</th>\n      <td>00000cb4a5d760de88fecb38e2f71b7bec52e834</td>\n      <td>NaN</td>\n      <td>I 18-21 month</td>\n      <td>NaN</td>\n      <td>NaN</td>\n      <td>NaN</td>\n      <td>NaN</td>\n      <td>NaN</td>\n      <td>NaN</td>\n      <td>NaN</td>\n      <td>NaN</td>\n      <td>NaN</td>\n      <td>NaN</td>\n      <td>NaN</td>\n      <td>NO</td>\n      <td>4</td>\n      <td>NaN</td>\n      <td>NaN</td>\n      <td>1</td>\n    </tr>\n    <tr>\n      <th>2</th>\n      <td>00001654a9d9f96303d9969d0a4a851714a4bb57</td>\n      <td>NaN</td>\n      <td>K &gt; 24 month</td>\n      <td>3600.0</td>\n      <td>2.0</td>\n      <td>1020.0</td>\n      <td>340.0</td>\n      <td>2.0</td>\n      <td>NaN</td>\n      <td>90.0</td>\n      <td>46.0</td>\n      <td>7.0</td>\n      <td>NaN</td>\n      <td>NaN</td>\n      <td>NO</td>\n      <td>17</td>\n      <td>On-net 1000F=10MilF;10d</td>\n      <td>1.0</td>\n      <td>0</td>\n    </tr>\n    <tr>\n      <th>3</th>\n      <td>00001dd6fa45f7ba044bd5d84937be464ce78ac2</td>\n      <td>DAKAR</td>\n      <td>K &gt; 24 month</td>\n      <td>13500.0</td>\n      <td>15.0</td>\n      <td>13502.0</td>\n      <td>4501.0</td>\n      <td>18.0</td>\n      <td>43804.0</td>\n      <td>41.0</td>\n      <td>102.0</td>\n      <td>2.0</td>\n      <td>NaN</td>\n      <td>NaN</td>\n      <td>NO</td>\n      <td>62</td>\n      <td>Data:1000F=5GB,7d</td>\n      <td>11.0</td>\n      <td>0</td>\n    </tr>\n    <tr>\n      <th>4</th>\n      <td>000028d9e13a595abe061f9b58f3d76ab907850f</td>\n      <td>DAKAR</td>\n      <td>K &gt; 24 month</td>\n      <td>1000.0</td>\n      <td>1.0</td>\n      <td>985.0</td>\n      <td>328.0</td>\n      <td>1.0</td>\n      <td>NaN</td>\n      <td>39.0</td>\n      <td>24.0</td>\n      <td>NaN</td>\n      <td>NaN</td>\n      <td>NaN</td>\n      <td>NO</td>\n      <td>11</td>\n      <td>Mixt 250F=Unlimited_call24H</td>\n      <td>2.0</td>\n      <td>0</td>\n    </tr>\n  </tbody>\n</table>\n</div>"
     },
     "execution_count": 64,
     "metadata": {},
     "output_type": "execute_result"
    }
   ],
   "source": [
    "train_df.head(5)"
   ],
   "metadata": {
    "collapsed": false,
    "pycharm": {
     "name": "#%%\n"
    }
   }
  },
  {
   "cell_type": "markdown",
   "source": [
    "## Описание набора данных\n",
    "\n",
    "Согласно описанию, представленны обезличенные данные пользователей:\n",
    "- user_id - индитификатор пользователя\n",
    "- REGION - местоположение клиента\n",
    "- TENURE - времени с момента заключения контракта\n",
    "- MONTANT - сумма пополнения\n",
    "- FREQUENCE_RECH - количество пополнений счета\n",
    "- REVENUE - ежемесячный доход с клиента\n",
    "- ARPU_SEGMENT - приведенный ежемесячные поступления за последние 90 дней (сумма поступлений за 90 дней / 3)\n",
    "- FREQUENCE - количество пополнений счета\n",
    "- DATA_VOLUME - количество подключений\n",
    "- ON_NET - звонков внутри сети\n",
    "- ORANGE - звонков абонентам ORANGE\n",
    "- TIGO - звонков абонентам  Tigo\n",
    "- ZONE1 - звонков zones1\n",
    "- ZONE2 - звонков  zones2\n",
    "- MRG - клиент ушел\n",
    "- REGULARITY - время активности за последний 90 дней\n",
    "- TOP_PACK - наиболее часто используемый пакет услуг\n",
    "- FREQ_TOP_PACK - количество активаций часто используемого пакета услуг\n",
    "- CHURN - пользователь ушел(целевая переменная)"
   ],
   "metadata": {
    "collapsed": false,
    "pycharm": {
     "name": "#%% md\n"
    }
   }
  },
  {
   "cell_type": "markdown",
   "source": [
    "## Анализ данных на предмет необходимости"
   ],
   "metadata": {
    "collapsed": false,
    "pycharm": {
     "name": "#%% md\n"
    }
   }
  },
  {
   "cell_type": "code",
   "execution_count": 65,
   "outputs": [
    {
     "data": {
      "text/plain": "user_id           2154048\nREGION                 14\nTENURE                  8\nMONTANT              6540\nFREQUENCE_RECH        123\nREVENUE             38114\nARPU_SEGMENT        16535\nFREQUENCE              91\nDATA_VOLUME         41550\nON_NET               9884\nORANGE               3167\nTIGO                 1315\nZONE1                 612\nZONE2                 486\nMRG                     1\nREGULARITY             62\nTOP_PACK              140\nFREQ_TOP_PACK         245\nCHURN                   2\ndtype: int64"
     },
     "execution_count": 65,
     "metadata": {},
     "output_type": "execute_result"
    }
   ],
   "source": [
    "train_df.nunique()"
   ],
   "metadata": {
    "collapsed": false,
    "pycharm": {
     "name": "#%%\n"
    }
   }
  },
  {
   "cell_type": "markdown",
   "source": [
    "Данные в колонке *MRG* на всем объеме обучающих данных имею единственное значение - исключаем."
   ],
   "metadata": {
    "collapsed": false,
    "pycharm": {
     "name": "#%% md\n"
    }
   }
  },
  {
   "cell_type": "code",
   "execution_count": 66,
   "outputs": [
    {
     "data": {
      "text/plain": "                                          user_id  REGION         TENURE  \\\n0        00000bfd7d50f01092811bc0c8d7b0d6fe7c3596  FATICK   K > 24 month   \n1        00000cb4a5d760de88fecb38e2f71b7bec52e834     NaN  I 18-21 month   \n2        00001654a9d9f96303d9969d0a4a851714a4bb57     NaN   K > 24 month   \n3        00001dd6fa45f7ba044bd5d84937be464ce78ac2   DAKAR   K > 24 month   \n4        000028d9e13a595abe061f9b58f3d76ab907850f   DAKAR   K > 24 month   \n...                                           ...     ...            ...   \n2154043  ffffe85215ddc71a84f95af0afb0deeea90e6967     NaN   K > 24 month   \n2154044  ffffeaaa9289cdba0ac000f0ab4b48f4aa74ed15   THIES   K > 24 month   \n2154045  fffff172fda1b4bb38a95385951908bb92379809     NaN   K > 24 month   \n2154046  fffff5911296937a37f09a37a549da2e0dad6dbb   THIES   K > 24 month   \n2154047  fffff6dbff1508ea2bfe814e5ab2729ce6b788c2     NaN   K > 24 month   \n\n         MONTANT  FREQUENCE_RECH  REVENUE  ARPU_SEGMENT  FREQUENCE  \\\n0         4250.0            15.0   4251.0        1417.0       17.0   \n1            NaN             NaN      NaN           NaN        NaN   \n2         3600.0             2.0   1020.0         340.0        2.0   \n3        13500.0            15.0  13502.0        4501.0       18.0   \n4         1000.0             1.0    985.0         328.0        1.0   \n...          ...             ...      ...           ...        ...   \n2154043      NaN             NaN      NaN           NaN        NaN   \n2154044   6100.0            15.0   5800.0        1933.0       15.0   \n2154045      NaN             NaN      NaN           NaN        NaN   \n2154046  10000.0            11.0   7120.0        2373.0       13.0   \n2154047      NaN             NaN      NaN           NaN        NaN   \n\n         DATA_VOLUME  ON_NET  ORANGE  TIGO  ZONE1  ZONE2  REGULARITY  \\\n0                4.0   388.0    46.0   1.0    1.0    2.0          54   \n1                NaN     NaN     NaN   NaN    NaN    NaN           4   \n2                NaN    90.0    46.0   7.0    NaN    NaN          17   \n3            43804.0    41.0   102.0   2.0    NaN    NaN          62   \n4                NaN    39.0    24.0   NaN    NaN    NaN          11   \n...              ...     ...     ...   ...    ...    ...         ...   \n2154043          NaN     NaN     NaN   NaN    NaN    NaN           6   \n2154044        621.0    26.0    40.0  40.0    NaN    NaN          55   \n2154045          NaN     NaN     NaN   NaN    NaN    NaN           1   \n2154046          NaN     0.0   140.0  13.0    NaN    NaN          28   \n2154047          2.0     NaN     NaN   NaN    NaN    NaN          62   \n\n                               TOP_PACK  FREQ_TOP_PACK  CHURN  \n0        On net 200F=Unlimited _call24H            8.0      0  \n1                                   NaN            NaN      1  \n2               On-net 1000F=10MilF;10d            1.0      0  \n3                     Data:1000F=5GB,7d           11.0      0  \n4           Mixt 250F=Unlimited_call24H            2.0      0  \n...                                 ...            ...    ...  \n2154043                             NaN            NaN      0  \n2154044           Data: 200 F=100MB,24H            9.0      0  \n2154045                             NaN            NaN      1  \n2154046           All-net 500F=2000F;5d           12.0      0  \n2154047                             NaN            NaN      1  \n\n[2154048 rows x 18 columns]",
      "text/html": "<div>\n<style scoped>\n    .dataframe tbody tr th:only-of-type {\n        vertical-align: middle;\n    }\n\n    .dataframe tbody tr th {\n        vertical-align: top;\n    }\n\n    .dataframe thead th {\n        text-align: right;\n    }\n</style>\n<table border=\"1\" class=\"dataframe\">\n  <thead>\n    <tr style=\"text-align: right;\">\n      <th></th>\n      <th>user_id</th>\n      <th>REGION</th>\n      <th>TENURE</th>\n      <th>MONTANT</th>\n      <th>FREQUENCE_RECH</th>\n      <th>REVENUE</th>\n      <th>ARPU_SEGMENT</th>\n      <th>FREQUENCE</th>\n      <th>DATA_VOLUME</th>\n      <th>ON_NET</th>\n      <th>ORANGE</th>\n      <th>TIGO</th>\n      <th>ZONE1</th>\n      <th>ZONE2</th>\n      <th>REGULARITY</th>\n      <th>TOP_PACK</th>\n      <th>FREQ_TOP_PACK</th>\n      <th>CHURN</th>\n    </tr>\n  </thead>\n  <tbody>\n    <tr>\n      <th>0</th>\n      <td>00000bfd7d50f01092811bc0c8d7b0d6fe7c3596</td>\n      <td>FATICK</td>\n      <td>K &gt; 24 month</td>\n      <td>4250.0</td>\n      <td>15.0</td>\n      <td>4251.0</td>\n      <td>1417.0</td>\n      <td>17.0</td>\n      <td>4.0</td>\n      <td>388.0</td>\n      <td>46.0</td>\n      <td>1.0</td>\n      <td>1.0</td>\n      <td>2.0</td>\n      <td>54</td>\n      <td>On net 200F=Unlimited _call24H</td>\n      <td>8.0</td>\n      <td>0</td>\n    </tr>\n    <tr>\n      <th>1</th>\n      <td>00000cb4a5d760de88fecb38e2f71b7bec52e834</td>\n      <td>NaN</td>\n      <td>I 18-21 month</td>\n      <td>NaN</td>\n      <td>NaN</td>\n      <td>NaN</td>\n      <td>NaN</td>\n      <td>NaN</td>\n      <td>NaN</td>\n      <td>NaN</td>\n      <td>NaN</td>\n      <td>NaN</td>\n      <td>NaN</td>\n      <td>NaN</td>\n      <td>4</td>\n      <td>NaN</td>\n      <td>NaN</td>\n      <td>1</td>\n    </tr>\n    <tr>\n      <th>2</th>\n      <td>00001654a9d9f96303d9969d0a4a851714a4bb57</td>\n      <td>NaN</td>\n      <td>K &gt; 24 month</td>\n      <td>3600.0</td>\n      <td>2.0</td>\n      <td>1020.0</td>\n      <td>340.0</td>\n      <td>2.0</td>\n      <td>NaN</td>\n      <td>90.0</td>\n      <td>46.0</td>\n      <td>7.0</td>\n      <td>NaN</td>\n      <td>NaN</td>\n      <td>17</td>\n      <td>On-net 1000F=10MilF;10d</td>\n      <td>1.0</td>\n      <td>0</td>\n    </tr>\n    <tr>\n      <th>3</th>\n      <td>00001dd6fa45f7ba044bd5d84937be464ce78ac2</td>\n      <td>DAKAR</td>\n      <td>K &gt; 24 month</td>\n      <td>13500.0</td>\n      <td>15.0</td>\n      <td>13502.0</td>\n      <td>4501.0</td>\n      <td>18.0</td>\n      <td>43804.0</td>\n      <td>41.0</td>\n      <td>102.0</td>\n      <td>2.0</td>\n      <td>NaN</td>\n      <td>NaN</td>\n      <td>62</td>\n      <td>Data:1000F=5GB,7d</td>\n      <td>11.0</td>\n      <td>0</td>\n    </tr>\n    <tr>\n      <th>4</th>\n      <td>000028d9e13a595abe061f9b58f3d76ab907850f</td>\n      <td>DAKAR</td>\n      <td>K &gt; 24 month</td>\n      <td>1000.0</td>\n      <td>1.0</td>\n      <td>985.0</td>\n      <td>328.0</td>\n      <td>1.0</td>\n      <td>NaN</td>\n      <td>39.0</td>\n      <td>24.0</td>\n      <td>NaN</td>\n      <td>NaN</td>\n      <td>NaN</td>\n      <td>11</td>\n      <td>Mixt 250F=Unlimited_call24H</td>\n      <td>2.0</td>\n      <td>0</td>\n    </tr>\n    <tr>\n      <th>...</th>\n      <td>...</td>\n      <td>...</td>\n      <td>...</td>\n      <td>...</td>\n      <td>...</td>\n      <td>...</td>\n      <td>...</td>\n      <td>...</td>\n      <td>...</td>\n      <td>...</td>\n      <td>...</td>\n      <td>...</td>\n      <td>...</td>\n      <td>...</td>\n      <td>...</td>\n      <td>...</td>\n      <td>...</td>\n      <td>...</td>\n    </tr>\n    <tr>\n      <th>2154043</th>\n      <td>ffffe85215ddc71a84f95af0afb0deeea90e6967</td>\n      <td>NaN</td>\n      <td>K &gt; 24 month</td>\n      <td>NaN</td>\n      <td>NaN</td>\n      <td>NaN</td>\n      <td>NaN</td>\n      <td>NaN</td>\n      <td>NaN</td>\n      <td>NaN</td>\n      <td>NaN</td>\n      <td>NaN</td>\n      <td>NaN</td>\n      <td>NaN</td>\n      <td>6</td>\n      <td>NaN</td>\n      <td>NaN</td>\n      <td>0</td>\n    </tr>\n    <tr>\n      <th>2154044</th>\n      <td>ffffeaaa9289cdba0ac000f0ab4b48f4aa74ed15</td>\n      <td>THIES</td>\n      <td>K &gt; 24 month</td>\n      <td>6100.0</td>\n      <td>15.0</td>\n      <td>5800.0</td>\n      <td>1933.0</td>\n      <td>15.0</td>\n      <td>621.0</td>\n      <td>26.0</td>\n      <td>40.0</td>\n      <td>40.0</td>\n      <td>NaN</td>\n      <td>NaN</td>\n      <td>55</td>\n      <td>Data: 200 F=100MB,24H</td>\n      <td>9.0</td>\n      <td>0</td>\n    </tr>\n    <tr>\n      <th>2154045</th>\n      <td>fffff172fda1b4bb38a95385951908bb92379809</td>\n      <td>NaN</td>\n      <td>K &gt; 24 month</td>\n      <td>NaN</td>\n      <td>NaN</td>\n      <td>NaN</td>\n      <td>NaN</td>\n      <td>NaN</td>\n      <td>NaN</td>\n      <td>NaN</td>\n      <td>NaN</td>\n      <td>NaN</td>\n      <td>NaN</td>\n      <td>NaN</td>\n      <td>1</td>\n      <td>NaN</td>\n      <td>NaN</td>\n      <td>1</td>\n    </tr>\n    <tr>\n      <th>2154046</th>\n      <td>fffff5911296937a37f09a37a549da2e0dad6dbb</td>\n      <td>THIES</td>\n      <td>K &gt; 24 month</td>\n      <td>10000.0</td>\n      <td>11.0</td>\n      <td>7120.0</td>\n      <td>2373.0</td>\n      <td>13.0</td>\n      <td>NaN</td>\n      <td>0.0</td>\n      <td>140.0</td>\n      <td>13.0</td>\n      <td>NaN</td>\n      <td>NaN</td>\n      <td>28</td>\n      <td>All-net 500F=2000F;5d</td>\n      <td>12.0</td>\n      <td>0</td>\n    </tr>\n    <tr>\n      <th>2154047</th>\n      <td>fffff6dbff1508ea2bfe814e5ab2729ce6b788c2</td>\n      <td>NaN</td>\n      <td>K &gt; 24 month</td>\n      <td>NaN</td>\n      <td>NaN</td>\n      <td>NaN</td>\n      <td>NaN</td>\n      <td>NaN</td>\n      <td>2.0</td>\n      <td>NaN</td>\n      <td>NaN</td>\n      <td>NaN</td>\n      <td>NaN</td>\n      <td>NaN</td>\n      <td>62</td>\n      <td>NaN</td>\n      <td>NaN</td>\n      <td>1</td>\n    </tr>\n  </tbody>\n</table>\n<p>2154048 rows × 18 columns</p>\n</div>"
     },
     "execution_count": 66,
     "metadata": {},
     "output_type": "execute_result"
    }
   ],
   "source": [
    "train_df = train_df.drop(columns=['MRG'])\n",
    "train_df"
   ],
   "metadata": {
    "collapsed": false,
    "pycharm": {
     "name": "#%%\n"
    }
   }
  },
  {
   "cell_type": "code",
   "execution_count": 67,
   "outputs": [
    {
     "data": {
      "text/plain": "user_id            0.000000\nREGION            39.428044\nTENURE             0.000000\nMONTANT           35.131018\nFREQUENCE_RECH    35.131018\nREVENUE           33.706213\nARPU_SEGMENT      33.706213\nFREQUENCE         33.706213\nDATA_VOLUME       49.229776\nON_NET            36.520774\nORANGE            41.561191\nTIGO              59.887988\nZONE1             92.120835\nZONE2             93.648052\nREGULARITY         0.000000\nTOP_PACK          41.902223\nFREQ_TOP_PACK     41.902223\nCHURN              0.000000\ndtype: float64"
     },
     "execution_count": 67,
     "metadata": {},
     "output_type": "execute_result"
    }
   ],
   "source": [
    "# % пропущенных данных\n",
    "train_df.isna().sum() / train_df.shape[0] * 100"
   ],
   "metadata": {
    "collapsed": false,
    "pycharm": {
     "name": "#%%\n"
    }
   }
  },
  {
   "cell_type": "markdown",
   "source": [
    "Проанализировав процент пропущенных значений для каждого из параметров принимается следующая стратегия:\n",
    "- REGION - заполнение признаком \"other\", возможно что заполнение каким-либо средним приведет к искажению результатов;\n",
    "- MONTANT - наличие пропущенных данных в этом поле говорит, что пополнений счета не было - заполняем значением 0;\n",
    "- FREQUENCE_RECH - аналогично MONTANT - заполняем значением 0;\n",
    "- REVENUE - аналогично MONTANT - заполняем значением 0;\n",
    "- ARPU_SEGMENT - аналогично MONTANT - заполняем значением 0;\n",
    "- FREQUENCE - аналогично MONTANT - заполняем значением 0;\n",
    "\n",
    "Следующие параметры отражают активность пользователя в специфической области:\n",
    "- DATA_VOLUME - принимаем nan как отсутствие активности и присваиваем 0;\n",
    "- ON_NET - принимаем nan как отсутствие активности и присваиваем 0;\n",
    "- ORANGE - принимаем nan как отсутствие активности и присваиваем 0;\n",
    "- TIGO - принимаем nan как отсутствие активности и присваиваем 0;\n",
    "- ZONE1 - принимаем nan как отсутствие активности и присваиваем 0;\n",
    "- ZONE2 - принимаем nan как отсутствие активности и присваиваем 0;\n",
    "\n",
    "Для уменьшения вероятности потери данных, для восполнения отсутствующих значений используем метод кластеризации:\n",
    "- TOP_PACK - с помощью кластеризации определим возможное значение;\n",
    "- FREQ_TOP_PACK - после заполнение TOP_PACK с помощью кластеризации определим возможное значение."
   ],
   "metadata": {
    "collapsed": false,
    "pycharm": {
     "name": "#%% md\n"
    }
   }
  },
  {
   "cell_type": "code",
   "execution_count": 68,
   "outputs": [
    {
     "data": {
      "text/plain": "                                          user_id  REGION         TENURE  \\\n0        00000bfd7d50f01092811bc0c8d7b0d6fe7c3596  FATICK   K > 24 month   \n1        00000cb4a5d760de88fecb38e2f71b7bec52e834   OTHER  I 18-21 month   \n2        00001654a9d9f96303d9969d0a4a851714a4bb57   OTHER   K > 24 month   \n3        00001dd6fa45f7ba044bd5d84937be464ce78ac2   DAKAR   K > 24 month   \n4        000028d9e13a595abe061f9b58f3d76ab907850f   DAKAR   K > 24 month   \n...                                           ...     ...            ...   \n2154043  ffffe85215ddc71a84f95af0afb0deeea90e6967   OTHER   K > 24 month   \n2154044  ffffeaaa9289cdba0ac000f0ab4b48f4aa74ed15   THIES   K > 24 month   \n2154045  fffff172fda1b4bb38a95385951908bb92379809   OTHER   K > 24 month   \n2154046  fffff5911296937a37f09a37a549da2e0dad6dbb   THIES   K > 24 month   \n2154047  fffff6dbff1508ea2bfe814e5ab2729ce6b788c2   OTHER   K > 24 month   \n\n         MONTANT  FREQUENCE_RECH  REVENUE  ARPU_SEGMENT  FREQUENCE  \\\n0         4250.0            15.0   4251.0        1417.0       17.0   \n1            0.0             0.0      0.0           0.0        0.0   \n2         3600.0             2.0   1020.0         340.0        2.0   \n3        13500.0            15.0  13502.0        4501.0       18.0   \n4         1000.0             1.0    985.0         328.0        1.0   \n...          ...             ...      ...           ...        ...   \n2154043      0.0             0.0      0.0           0.0        0.0   \n2154044   6100.0            15.0   5800.0        1933.0       15.0   \n2154045      0.0             0.0      0.0           0.0        0.0   \n2154046  10000.0            11.0   7120.0        2373.0       13.0   \n2154047      0.0             0.0      0.0           0.0        0.0   \n\n         DATA_VOLUME  ON_NET  ORANGE  TIGO  ZONE1  ZONE2  REGULARITY  \\\n0                4.0   388.0    46.0   1.0    1.0    2.0          54   \n1                0.0     0.0     0.0   0.0    0.0    0.0           4   \n2                0.0    90.0    46.0   7.0    0.0    0.0          17   \n3            43804.0    41.0   102.0   2.0    0.0    0.0          62   \n4                0.0    39.0    24.0   0.0    0.0    0.0          11   \n...              ...     ...     ...   ...    ...    ...         ...   \n2154043          0.0     0.0     0.0   0.0    0.0    0.0           6   \n2154044        621.0    26.0    40.0  40.0    0.0    0.0          55   \n2154045          0.0     0.0     0.0   0.0    0.0    0.0           1   \n2154046          0.0     0.0   140.0  13.0    0.0    0.0          28   \n2154047          2.0     0.0     0.0   0.0    0.0    0.0          62   \n\n                               TOP_PACK  FREQ_TOP_PACK  CHURN  \n0        On net 200F=Unlimited _call24H            8.0      0  \n1                                   NaN            NaN      1  \n2               On-net 1000F=10MilF;10d            1.0      0  \n3                     Data:1000F=5GB,7d           11.0      0  \n4           Mixt 250F=Unlimited_call24H            2.0      0  \n...                                 ...            ...    ...  \n2154043                             NaN            NaN      0  \n2154044           Data: 200 F=100MB,24H            9.0      0  \n2154045                             NaN            NaN      1  \n2154046           All-net 500F=2000F;5d           12.0      0  \n2154047                             NaN            NaN      1  \n\n[2154048 rows x 18 columns]",
      "text/html": "<div>\n<style scoped>\n    .dataframe tbody tr th:only-of-type {\n        vertical-align: middle;\n    }\n\n    .dataframe tbody tr th {\n        vertical-align: top;\n    }\n\n    .dataframe thead th {\n        text-align: right;\n    }\n</style>\n<table border=\"1\" class=\"dataframe\">\n  <thead>\n    <tr style=\"text-align: right;\">\n      <th></th>\n      <th>user_id</th>\n      <th>REGION</th>\n      <th>TENURE</th>\n      <th>MONTANT</th>\n      <th>FREQUENCE_RECH</th>\n      <th>REVENUE</th>\n      <th>ARPU_SEGMENT</th>\n      <th>FREQUENCE</th>\n      <th>DATA_VOLUME</th>\n      <th>ON_NET</th>\n      <th>ORANGE</th>\n      <th>TIGO</th>\n      <th>ZONE1</th>\n      <th>ZONE2</th>\n      <th>REGULARITY</th>\n      <th>TOP_PACK</th>\n      <th>FREQ_TOP_PACK</th>\n      <th>CHURN</th>\n    </tr>\n  </thead>\n  <tbody>\n    <tr>\n      <th>0</th>\n      <td>00000bfd7d50f01092811bc0c8d7b0d6fe7c3596</td>\n      <td>FATICK</td>\n      <td>K &gt; 24 month</td>\n      <td>4250.0</td>\n      <td>15.0</td>\n      <td>4251.0</td>\n      <td>1417.0</td>\n      <td>17.0</td>\n      <td>4.0</td>\n      <td>388.0</td>\n      <td>46.0</td>\n      <td>1.0</td>\n      <td>1.0</td>\n      <td>2.0</td>\n      <td>54</td>\n      <td>On net 200F=Unlimited _call24H</td>\n      <td>8.0</td>\n      <td>0</td>\n    </tr>\n    <tr>\n      <th>1</th>\n      <td>00000cb4a5d760de88fecb38e2f71b7bec52e834</td>\n      <td>OTHER</td>\n      <td>I 18-21 month</td>\n      <td>0.0</td>\n      <td>0.0</td>\n      <td>0.0</td>\n      <td>0.0</td>\n      <td>0.0</td>\n      <td>0.0</td>\n      <td>0.0</td>\n      <td>0.0</td>\n      <td>0.0</td>\n      <td>0.0</td>\n      <td>0.0</td>\n      <td>4</td>\n      <td>NaN</td>\n      <td>NaN</td>\n      <td>1</td>\n    </tr>\n    <tr>\n      <th>2</th>\n      <td>00001654a9d9f96303d9969d0a4a851714a4bb57</td>\n      <td>OTHER</td>\n      <td>K &gt; 24 month</td>\n      <td>3600.0</td>\n      <td>2.0</td>\n      <td>1020.0</td>\n      <td>340.0</td>\n      <td>2.0</td>\n      <td>0.0</td>\n      <td>90.0</td>\n      <td>46.0</td>\n      <td>7.0</td>\n      <td>0.0</td>\n      <td>0.0</td>\n      <td>17</td>\n      <td>On-net 1000F=10MilF;10d</td>\n      <td>1.0</td>\n      <td>0</td>\n    </tr>\n    <tr>\n      <th>3</th>\n      <td>00001dd6fa45f7ba044bd5d84937be464ce78ac2</td>\n      <td>DAKAR</td>\n      <td>K &gt; 24 month</td>\n      <td>13500.0</td>\n      <td>15.0</td>\n      <td>13502.0</td>\n      <td>4501.0</td>\n      <td>18.0</td>\n      <td>43804.0</td>\n      <td>41.0</td>\n      <td>102.0</td>\n      <td>2.0</td>\n      <td>0.0</td>\n      <td>0.0</td>\n      <td>62</td>\n      <td>Data:1000F=5GB,7d</td>\n      <td>11.0</td>\n      <td>0</td>\n    </tr>\n    <tr>\n      <th>4</th>\n      <td>000028d9e13a595abe061f9b58f3d76ab907850f</td>\n      <td>DAKAR</td>\n      <td>K &gt; 24 month</td>\n      <td>1000.0</td>\n      <td>1.0</td>\n      <td>985.0</td>\n      <td>328.0</td>\n      <td>1.0</td>\n      <td>0.0</td>\n      <td>39.0</td>\n      <td>24.0</td>\n      <td>0.0</td>\n      <td>0.0</td>\n      <td>0.0</td>\n      <td>11</td>\n      <td>Mixt 250F=Unlimited_call24H</td>\n      <td>2.0</td>\n      <td>0</td>\n    </tr>\n    <tr>\n      <th>...</th>\n      <td>...</td>\n      <td>...</td>\n      <td>...</td>\n      <td>...</td>\n      <td>...</td>\n      <td>...</td>\n      <td>...</td>\n      <td>...</td>\n      <td>...</td>\n      <td>...</td>\n      <td>...</td>\n      <td>...</td>\n      <td>...</td>\n      <td>...</td>\n      <td>...</td>\n      <td>...</td>\n      <td>...</td>\n      <td>...</td>\n    </tr>\n    <tr>\n      <th>2154043</th>\n      <td>ffffe85215ddc71a84f95af0afb0deeea90e6967</td>\n      <td>OTHER</td>\n      <td>K &gt; 24 month</td>\n      <td>0.0</td>\n      <td>0.0</td>\n      <td>0.0</td>\n      <td>0.0</td>\n      <td>0.0</td>\n      <td>0.0</td>\n      <td>0.0</td>\n      <td>0.0</td>\n      <td>0.0</td>\n      <td>0.0</td>\n      <td>0.0</td>\n      <td>6</td>\n      <td>NaN</td>\n      <td>NaN</td>\n      <td>0</td>\n    </tr>\n    <tr>\n      <th>2154044</th>\n      <td>ffffeaaa9289cdba0ac000f0ab4b48f4aa74ed15</td>\n      <td>THIES</td>\n      <td>K &gt; 24 month</td>\n      <td>6100.0</td>\n      <td>15.0</td>\n      <td>5800.0</td>\n      <td>1933.0</td>\n      <td>15.0</td>\n      <td>621.0</td>\n      <td>26.0</td>\n      <td>40.0</td>\n      <td>40.0</td>\n      <td>0.0</td>\n      <td>0.0</td>\n      <td>55</td>\n      <td>Data: 200 F=100MB,24H</td>\n      <td>9.0</td>\n      <td>0</td>\n    </tr>\n    <tr>\n      <th>2154045</th>\n      <td>fffff172fda1b4bb38a95385951908bb92379809</td>\n      <td>OTHER</td>\n      <td>K &gt; 24 month</td>\n      <td>0.0</td>\n      <td>0.0</td>\n      <td>0.0</td>\n      <td>0.0</td>\n      <td>0.0</td>\n      <td>0.0</td>\n      <td>0.0</td>\n      <td>0.0</td>\n      <td>0.0</td>\n      <td>0.0</td>\n      <td>0.0</td>\n      <td>1</td>\n      <td>NaN</td>\n      <td>NaN</td>\n      <td>1</td>\n    </tr>\n    <tr>\n      <th>2154046</th>\n      <td>fffff5911296937a37f09a37a549da2e0dad6dbb</td>\n      <td>THIES</td>\n      <td>K &gt; 24 month</td>\n      <td>10000.0</td>\n      <td>11.0</td>\n      <td>7120.0</td>\n      <td>2373.0</td>\n      <td>13.0</td>\n      <td>0.0</td>\n      <td>0.0</td>\n      <td>140.0</td>\n      <td>13.0</td>\n      <td>0.0</td>\n      <td>0.0</td>\n      <td>28</td>\n      <td>All-net 500F=2000F;5d</td>\n      <td>12.0</td>\n      <td>0</td>\n    </tr>\n    <tr>\n      <th>2154047</th>\n      <td>fffff6dbff1508ea2bfe814e5ab2729ce6b788c2</td>\n      <td>OTHER</td>\n      <td>K &gt; 24 month</td>\n      <td>0.0</td>\n      <td>0.0</td>\n      <td>0.0</td>\n      <td>0.0</td>\n      <td>0.0</td>\n      <td>2.0</td>\n      <td>0.0</td>\n      <td>0.0</td>\n      <td>0.0</td>\n      <td>0.0</td>\n      <td>0.0</td>\n      <td>62</td>\n      <td>NaN</td>\n      <td>NaN</td>\n      <td>1</td>\n    </tr>\n  </tbody>\n</table>\n<p>2154048 rows × 18 columns</p>\n</div>"
     },
     "execution_count": 68,
     "metadata": {},
     "output_type": "execute_result"
    }
   ],
   "source": [
    "train_df[\"REGION\"] = train_df[\"REGION\"].fillna(\"OTHER\")\n",
    "train_df[\"MONTANT\"] = train_df[\"MONTANT\"].fillna(0)\n",
    "train_df[\"FREQUENCE_RECH\"] = train_df[\"FREQUENCE_RECH\"].fillna(0)\n",
    "train_df[\"REVENUE\"] = train_df[\"REVENUE\"].fillna(0)\n",
    "train_df[\"ARPU_SEGMENT\"] = train_df[\"ARPU_SEGMENT\"].fillna(0)\n",
    "train_df[\"FREQUENCE\"] = train_df[\"FREQUENCE\"].fillna(0)\n",
    "train_df[\"DATA_VOLUME\"] = train_df[\"DATA_VOLUME\"].fillna(0)\n",
    "train_df[\"ON_NET\"] = train_df[\"ON_NET\"].fillna(0)\n",
    "train_df[\"ORANGE\"] = train_df[\"ORANGE\"].fillna(0)\n",
    "train_df[\"TIGO\"] = train_df[\"TIGO\"].fillna(0)\n",
    "train_df[\"ZONE1\"] = train_df[\"ZONE1\"].fillna(0)\n",
    "train_df[\"ZONE2\"] = train_df[\"ZONE2\"].fillna(0)\n",
    "train_df"
   ],
   "metadata": {
    "collapsed": false,
    "pycharm": {
     "name": "#%%\n"
    }
   }
  },
  {
   "cell_type": "code",
   "execution_count": 69,
   "outputs": [
    {
     "data": {
      "text/plain": "                                          user_id  MONTANT  FREQUENCE_RECH  \\\n0        00000bfd7d50f01092811bc0c8d7b0d6fe7c3596   4250.0            15.0   \n1        00000cb4a5d760de88fecb38e2f71b7bec52e834      0.0             0.0   \n2        00001654a9d9f96303d9969d0a4a851714a4bb57   3600.0             2.0   \n3        00001dd6fa45f7ba044bd5d84937be464ce78ac2  13500.0            15.0   \n4        000028d9e13a595abe061f9b58f3d76ab907850f   1000.0             1.0   \n...                                           ...      ...             ...   \n2154043  ffffe85215ddc71a84f95af0afb0deeea90e6967      0.0             0.0   \n2154044  ffffeaaa9289cdba0ac000f0ab4b48f4aa74ed15   6100.0            15.0   \n2154045  fffff172fda1b4bb38a95385951908bb92379809      0.0             0.0   \n2154046  fffff5911296937a37f09a37a549da2e0dad6dbb  10000.0            11.0   \n2154047  fffff6dbff1508ea2bfe814e5ab2729ce6b788c2      0.0             0.0   \n\n         REVENUE  ARPU_SEGMENT  FREQUENCE  DATA_VOLUME  ON_NET  ORANGE  TIGO  \\\n0         4251.0        1417.0       17.0          4.0   388.0    46.0   1.0   \n1            0.0           0.0        0.0          0.0     0.0     0.0   0.0   \n2         1020.0         340.0        2.0          0.0    90.0    46.0   7.0   \n3        13502.0        4501.0       18.0      43804.0    41.0   102.0   2.0   \n4          985.0         328.0        1.0          0.0    39.0    24.0   0.0   \n...          ...           ...        ...          ...     ...     ...   ...   \n2154043      0.0           0.0        0.0          0.0     0.0     0.0   0.0   \n2154044   5800.0        1933.0       15.0        621.0    26.0    40.0  40.0   \n2154045      0.0           0.0        0.0          0.0     0.0     0.0   0.0   \n2154046   7120.0        2373.0       13.0          0.0     0.0   140.0  13.0   \n2154047      0.0           0.0        0.0          2.0     0.0     0.0   0.0   \n\n         ...  REGION_KEDOUGOU  REGION_KOLDA  REGION_LOUGA REGION_MATAM  \\\n0        ...                0             0             0            0   \n1        ...                0             0             0            0   \n2        ...                0             0             0            0   \n3        ...                0             0             0            0   \n4        ...                0             0             0            0   \n...      ...              ...           ...           ...          ...   \n2154043  ...                0             0             0            0   \n2154044  ...                0             0             0            0   \n2154045  ...                0             0             0            0   \n2154046  ...                0             0             0            0   \n2154047  ...                0             0             0            0   \n\n         REGION_OTHER  REGION_SAINT-LOUIS  REGION_SEDHIOU  REGION_TAMBACOUNDA  \\\n0                   0                   0               0                   0   \n1                   1                   0               0                   0   \n2                   1                   0               0                   0   \n3                   0                   0               0                   0   \n4                   0                   0               0                   0   \n...               ...                 ...             ...                 ...   \n2154043             1                   0               0                   0   \n2154044             0                   0               0                   0   \n2154045             1                   0               0                   0   \n2154046             0                   0               0                   0   \n2154047             1                   0               0                   0   \n\n         REGION_THIES  REGION_ZIGUINCHOR  \n0                   0                  0  \n1                   0                  0  \n2                   0                  0  \n3                   0                  0  \n4                   0                  0  \n...               ...                ...  \n2154043             0                  0  \n2154044             1                  0  \n2154045             0                  0  \n2154046             1                  0  \n2154047             0                  0  \n\n[2154048 rows x 39 columns]",
      "text/html": "<div>\n<style scoped>\n    .dataframe tbody tr th:only-of-type {\n        vertical-align: middle;\n    }\n\n    .dataframe tbody tr th {\n        vertical-align: top;\n    }\n\n    .dataframe thead th {\n        text-align: right;\n    }\n</style>\n<table border=\"1\" class=\"dataframe\">\n  <thead>\n    <tr style=\"text-align: right;\">\n      <th></th>\n      <th>user_id</th>\n      <th>MONTANT</th>\n      <th>FREQUENCE_RECH</th>\n      <th>REVENUE</th>\n      <th>ARPU_SEGMENT</th>\n      <th>FREQUENCE</th>\n      <th>DATA_VOLUME</th>\n      <th>ON_NET</th>\n      <th>ORANGE</th>\n      <th>TIGO</th>\n      <th>...</th>\n      <th>REGION_KEDOUGOU</th>\n      <th>REGION_KOLDA</th>\n      <th>REGION_LOUGA</th>\n      <th>REGION_MATAM</th>\n      <th>REGION_OTHER</th>\n      <th>REGION_SAINT-LOUIS</th>\n      <th>REGION_SEDHIOU</th>\n      <th>REGION_TAMBACOUNDA</th>\n      <th>REGION_THIES</th>\n      <th>REGION_ZIGUINCHOR</th>\n    </tr>\n  </thead>\n  <tbody>\n    <tr>\n      <th>0</th>\n      <td>00000bfd7d50f01092811bc0c8d7b0d6fe7c3596</td>\n      <td>4250.0</td>\n      <td>15.0</td>\n      <td>4251.0</td>\n      <td>1417.0</td>\n      <td>17.0</td>\n      <td>4.0</td>\n      <td>388.0</td>\n      <td>46.0</td>\n      <td>1.0</td>\n      <td>...</td>\n      <td>0</td>\n      <td>0</td>\n      <td>0</td>\n      <td>0</td>\n      <td>0</td>\n      <td>0</td>\n      <td>0</td>\n      <td>0</td>\n      <td>0</td>\n      <td>0</td>\n    </tr>\n    <tr>\n      <th>1</th>\n      <td>00000cb4a5d760de88fecb38e2f71b7bec52e834</td>\n      <td>0.0</td>\n      <td>0.0</td>\n      <td>0.0</td>\n      <td>0.0</td>\n      <td>0.0</td>\n      <td>0.0</td>\n      <td>0.0</td>\n      <td>0.0</td>\n      <td>0.0</td>\n      <td>...</td>\n      <td>0</td>\n      <td>0</td>\n      <td>0</td>\n      <td>0</td>\n      <td>1</td>\n      <td>0</td>\n      <td>0</td>\n      <td>0</td>\n      <td>0</td>\n      <td>0</td>\n    </tr>\n    <tr>\n      <th>2</th>\n      <td>00001654a9d9f96303d9969d0a4a851714a4bb57</td>\n      <td>3600.0</td>\n      <td>2.0</td>\n      <td>1020.0</td>\n      <td>340.0</td>\n      <td>2.0</td>\n      <td>0.0</td>\n      <td>90.0</td>\n      <td>46.0</td>\n      <td>7.0</td>\n      <td>...</td>\n      <td>0</td>\n      <td>0</td>\n      <td>0</td>\n      <td>0</td>\n      <td>1</td>\n      <td>0</td>\n      <td>0</td>\n      <td>0</td>\n      <td>0</td>\n      <td>0</td>\n    </tr>\n    <tr>\n      <th>3</th>\n      <td>00001dd6fa45f7ba044bd5d84937be464ce78ac2</td>\n      <td>13500.0</td>\n      <td>15.0</td>\n      <td>13502.0</td>\n      <td>4501.0</td>\n      <td>18.0</td>\n      <td>43804.0</td>\n      <td>41.0</td>\n      <td>102.0</td>\n      <td>2.0</td>\n      <td>...</td>\n      <td>0</td>\n      <td>0</td>\n      <td>0</td>\n      <td>0</td>\n      <td>0</td>\n      <td>0</td>\n      <td>0</td>\n      <td>0</td>\n      <td>0</td>\n      <td>0</td>\n    </tr>\n    <tr>\n      <th>4</th>\n      <td>000028d9e13a595abe061f9b58f3d76ab907850f</td>\n      <td>1000.0</td>\n      <td>1.0</td>\n      <td>985.0</td>\n      <td>328.0</td>\n      <td>1.0</td>\n      <td>0.0</td>\n      <td>39.0</td>\n      <td>24.0</td>\n      <td>0.0</td>\n      <td>...</td>\n      <td>0</td>\n      <td>0</td>\n      <td>0</td>\n      <td>0</td>\n      <td>0</td>\n      <td>0</td>\n      <td>0</td>\n      <td>0</td>\n      <td>0</td>\n      <td>0</td>\n    </tr>\n    <tr>\n      <th>...</th>\n      <td>...</td>\n      <td>...</td>\n      <td>...</td>\n      <td>...</td>\n      <td>...</td>\n      <td>...</td>\n      <td>...</td>\n      <td>...</td>\n      <td>...</td>\n      <td>...</td>\n      <td>...</td>\n      <td>...</td>\n      <td>...</td>\n      <td>...</td>\n      <td>...</td>\n      <td>...</td>\n      <td>...</td>\n      <td>...</td>\n      <td>...</td>\n      <td>...</td>\n      <td>...</td>\n    </tr>\n    <tr>\n      <th>2154043</th>\n      <td>ffffe85215ddc71a84f95af0afb0deeea90e6967</td>\n      <td>0.0</td>\n      <td>0.0</td>\n      <td>0.0</td>\n      <td>0.0</td>\n      <td>0.0</td>\n      <td>0.0</td>\n      <td>0.0</td>\n      <td>0.0</td>\n      <td>0.0</td>\n      <td>...</td>\n      <td>0</td>\n      <td>0</td>\n      <td>0</td>\n      <td>0</td>\n      <td>1</td>\n      <td>0</td>\n      <td>0</td>\n      <td>0</td>\n      <td>0</td>\n      <td>0</td>\n    </tr>\n    <tr>\n      <th>2154044</th>\n      <td>ffffeaaa9289cdba0ac000f0ab4b48f4aa74ed15</td>\n      <td>6100.0</td>\n      <td>15.0</td>\n      <td>5800.0</td>\n      <td>1933.0</td>\n      <td>15.0</td>\n      <td>621.0</td>\n      <td>26.0</td>\n      <td>40.0</td>\n      <td>40.0</td>\n      <td>...</td>\n      <td>0</td>\n      <td>0</td>\n      <td>0</td>\n      <td>0</td>\n      <td>0</td>\n      <td>0</td>\n      <td>0</td>\n      <td>0</td>\n      <td>1</td>\n      <td>0</td>\n    </tr>\n    <tr>\n      <th>2154045</th>\n      <td>fffff172fda1b4bb38a95385951908bb92379809</td>\n      <td>0.0</td>\n      <td>0.0</td>\n      <td>0.0</td>\n      <td>0.0</td>\n      <td>0.0</td>\n      <td>0.0</td>\n      <td>0.0</td>\n      <td>0.0</td>\n      <td>0.0</td>\n      <td>...</td>\n      <td>0</td>\n      <td>0</td>\n      <td>0</td>\n      <td>0</td>\n      <td>1</td>\n      <td>0</td>\n      <td>0</td>\n      <td>0</td>\n      <td>0</td>\n      <td>0</td>\n    </tr>\n    <tr>\n      <th>2154046</th>\n      <td>fffff5911296937a37f09a37a549da2e0dad6dbb</td>\n      <td>10000.0</td>\n      <td>11.0</td>\n      <td>7120.0</td>\n      <td>2373.0</td>\n      <td>13.0</td>\n      <td>0.0</td>\n      <td>0.0</td>\n      <td>140.0</td>\n      <td>13.0</td>\n      <td>...</td>\n      <td>0</td>\n      <td>0</td>\n      <td>0</td>\n      <td>0</td>\n      <td>0</td>\n      <td>0</td>\n      <td>0</td>\n      <td>0</td>\n      <td>1</td>\n      <td>0</td>\n    </tr>\n    <tr>\n      <th>2154047</th>\n      <td>fffff6dbff1508ea2bfe814e5ab2729ce6b788c2</td>\n      <td>0.0</td>\n      <td>0.0</td>\n      <td>0.0</td>\n      <td>0.0</td>\n      <td>0.0</td>\n      <td>2.0</td>\n      <td>0.0</td>\n      <td>0.0</td>\n      <td>0.0</td>\n      <td>...</td>\n      <td>0</td>\n      <td>0</td>\n      <td>0</td>\n      <td>0</td>\n      <td>1</td>\n      <td>0</td>\n      <td>0</td>\n      <td>0</td>\n      <td>0</td>\n      <td>0</td>\n    </tr>\n  </tbody>\n</table>\n<p>2154048 rows × 39 columns</p>\n</div>"
     },
     "execution_count": 69,
     "metadata": {},
     "output_type": "execute_result"
    }
   ],
   "source": [
    "# произведем One Hot кодирование категориальных переменных в столбцах 'TENURE' и 'REGION'\n",
    "train_df = pd.get_dummies(train_df,columns=['TENURE', 'REGION'])\n",
    "train_df"
   ],
   "metadata": {
    "collapsed": false,
    "pycharm": {
     "name": "#%%\n"
    }
   }
  },
  {
   "cell_type": "code",
   "execution_count": 71,
   "outputs": [
    {
     "data": {
      "text/plain": "(2154048, 39)"
     },
     "execution_count": 71,
     "metadata": {},
     "output_type": "execute_result"
    }
   ],
   "source": [
    "train_df.shape"
   ],
   "metadata": {
    "collapsed": false,
    "pycharm": {
     "name": "#%%\n"
    }
   }
  }
 ],
 "metadata": {
  "kernelspec": {
   "display_name": "Python 3",
   "language": "python",
   "name": "python3"
  },
  "language_info": {
   "codemirror_mode": {
    "name": "ipython",
    "version": 2
   },
   "file_extension": ".py",
   "mimetype": "text/x-python",
   "name": "python",
   "nbconvert_exporter": "python",
   "pygments_lexer": "ipython2",
   "version": "2.7.6"
  }
 },
 "nbformat": 4,
 "nbformat_minor": 0
}