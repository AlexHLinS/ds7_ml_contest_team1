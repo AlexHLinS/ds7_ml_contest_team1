{
 "cells": [
  {
   "cell_type": "markdown",
   "metadata": {},
   "source": [
    "## Libraries and datasets"
   ]
  },
  {
   "cell_type": "code",
   "execution_count": 2,
   "metadata": {},
   "outputs": [
    {
     "name": "stderr",
     "output_type": "stream",
     "text": [
      "/Users/alena/.pyenv/versions/3.7.3/lib/python3.7/site-packages/pandas/compat/__init__.py:117: UserWarning: Could not import the lzma module. Your installed Python is incomplete. Attempting to use lzma compression will result in a RuntimeError.\n",
      "  warnings.warn(msg)\n"
     ]
    }
   ],
   "source": [
    "import pandas as pd\n",
    "import numpy as np\n",
    "import matplotlib.pyplot as plt\n",
    "import seaborn as sns\n",
    "import xgboost as xgb\n",
    "from catboost import CatBoostClassifier\n",
    "import lightgbm as lgb\n",
    "from sklearn.metrics import precision_score, recall_score, f1_score, accuracy_score, roc_auc_score\n",
    "from sklearn.model_selection import train_test_split\n",
    "from sklearn.experimental import enable_halving_search_cv \n",
    "from sklearn.model_selection import HalvingGridSearchCV\n",
    "from sklearn.model_selection import GridSearchCV\n",
    "from sklearn.preprocessing import LabelEncoder"
   ]
  },
  {
   "cell_type": "code",
   "execution_count": 3,
   "metadata": {},
   "outputs": [],
   "source": [
    "X = pd.read_csv('X.csv')\n",
    "X_val = pd.read_csv('X_val.csv')\n",
    "y = pd.read_csv('y.csv')\n",
    "y_val = pd.read_csv('y_val.csv')\n",
    "test = pd.read_csv('test.csv')"
   ]
  },
  {
   "cell_type": "code",
   "execution_count": 4,
   "metadata": {},
   "outputs": [],
   "source": [
    "cols = ['REGION','TOP_PACK', 'TENURE']\n",
    "for item in cols:\n",
    "    X[item] = X[item].astype('category')\n",
    "    X_val[item] = X_val[item].astype('category')"
   ]
  },
  {
   "cell_type": "code",
   "execution_count": 5,
   "metadata": {},
   "outputs": [
    {
     "name": "stdout",
     "output_type": "stream",
     "text": [
      "<class 'pandas.core.frame.DataFrame'>\n",
      "RangeIndex: 1723238 entries, 0 to 1723237\n",
      "Data columns (total 16 columns):\n",
      " #   Column          Dtype   \n",
      "---  ------          -----   \n",
      " 0   REGION          category\n",
      " 1   TENURE          category\n",
      " 2   MONTANT         float64 \n",
      " 3   FREQUENCE_RECH  float64 \n",
      " 4   REVENUE         float64 \n",
      " 5   ARPU_SEGMENT    float64 \n",
      " 6   FREQUENCE       float64 \n",
      " 7   DATA_VOLUME     float64 \n",
      " 8   ON_NET          float64 \n",
      " 9   ORANGE          float64 \n",
      " 10  TIGO            float64 \n",
      " 11  ZONE1           float64 \n",
      " 12  ZONE2           float64 \n",
      " 13  REGULARITY      int64   \n",
      " 14  TOP_PACK        category\n",
      " 15  FREQ_TOP_PACK   float64 \n",
      "dtypes: category(3), float64(12), int64(1)\n",
      "memory usage: 177.5 MB\n"
     ]
    }
   ],
   "source": [
    "X.info()"
   ]
  },
  {
   "cell_type": "code",
   "execution_count": 6,
   "metadata": {},
   "outputs": [],
   "source": [
    "y = y['CHURN']\n",
    "y_val = y_val['CHURN']"
   ]
  },
  {
   "cell_type": "code",
   "execution_count": 7,
   "metadata": {},
   "outputs": [],
   "source": [
    "X['TENURE'] = X['TENURE'].astype('Int32')\n",
    "X_val['TENURE'] = X_val['TENURE'].astype('Int32')"
   ]
  },
  {
   "cell_type": "code",
   "execution_count": 8,
   "metadata": {},
   "outputs": [],
   "source": [
    "X['TENURE'] = X['TENURE'].replace({pd.NA: np.nan})\n",
    "X_val['TENURE'] = X_val['TENURE'].replace({pd.NA: np.nan})"
   ]
  },
  {
   "cell_type": "markdown",
   "metadata": {},
   "source": [
    "## LightGBM"
   ]
  },
  {
   "cell_type": "code",
   "execution_count": 41,
   "metadata": {},
   "outputs": [],
   "source": [
    "def eval_metrics(y_test, y_pred):\n",
    "    print('Precision Score: ', round(precision_score(y_val, y_pred), 3))\n",
    "    print('Recall Score: ', round(recall_score(y_val, y_pred), 3))\n",
    "    print('F1 Score: ', round(f1_score(y_val, y_pred), 3))\n",
    "    print('Accuracy Score: ', round(accuracy_score(y_val, y_pred), 3))\n",
    "    print('ROC AUC: ', round(roc_auc_score(y_val, y_pred), 3))"
   ]
  },
  {
   "cell_type": "code",
   "execution_count": 8,
   "metadata": {},
   "outputs": [
    {
     "name": "stderr",
     "output_type": "stream",
     "text": [
      "/Users/alena/.pyenv/versions/3.7.3/lib/python3.7/site-packages/lightgbm/sklearn.py:598: UserWarning: 'silent' argument is deprecated and will be removed in a future release of LightGBM. Pass 'verbose' parameter via keyword arguments instead.\n",
      "  _log_warning(\"'silent' argument is deprecated and will be removed in a future release of LightGBM. \"\n"
     ]
    },
    {
     "name": "stdout",
     "output_type": "stream",
     "text": [
      "[LightGBM] [Warning] min_data_in_leaf is set=500, min_child_samples=20 will be ignored. Current value: min_data_in_leaf=500\n",
      "[LightGBM] [Warning] min_data_in_leaf is set=500, min_child_samples=20 will be ignored. Current value: min_data_in_leaf=500\n",
      "[LightGBM] [Info] Number of positive: 323274, number of negative: 1399964\n",
      "[LightGBM] [Warning] Auto-choosing row-wise multi-threading, the overhead of testing was 0.034258 seconds.\n",
      "You can set `force_row_wise=true` to remove the overhead.\n",
      "And if memory is not enough, you can set `force_col_wise=true`.\n",
      "[LightGBM] [Info] Total Bins 2563\n",
      "[LightGBM] [Info] Number of data points in the train set: 1723238, number of used features: 16\n",
      "[LightGBM] [Info] [binary:BoostFromScore]: pavg=0.187597 -> initscore=-1.465702\n",
      "[LightGBM] [Info] Start training from score -1.465702\n"
     ]
    },
    {
     "data": {
      "text/plain": [
       "HalvingGridSearchCV(cv=3, estimator=LGBMClassifier(silent=False), n_jobs=-1,\n",
       "                    param_grid={'learning_rate': [0.01, 0.05, 0.1],\n",
       "                                'max_depth': [25, 50, 75],\n",
       "                                'min_data_in_leaf': [500, 2000, 5000],\n",
       "                                'n_estimators': [200],\n",
       "                                'num_leaves': [300, 900, 1200]},\n",
       "                    scoring='roc_auc', verbose=False)"
      ]
     },
     "execution_count": 8,
     "metadata": {},
     "output_type": "execute_result"
    }
   ],
   "source": [
    "param_dist = {'max_depth': [25, 50, 75],\n",
    "              'learning_rate': [0.01,0.05,0.1],\n",
    "              'num_leaves': [300,900,1200],\n",
    "              'n_estimators': [200],\n",
    "              'min_data_in_leaf': [500, 2000, 5000]\n",
    "             }\n",
    "lg = lgb.LGBMClassifier(silent=False)\n",
    "grid_search_lg = HalvingGridSearchCV(lg, n_jobs=-1, param_grid=param_dist, cv = 3, scoring=\"roc_auc\", verbose=False)\n",
    "grid_search_lg.fit(X, y)"
   ]
  },
  {
   "cell_type": "code",
   "execution_count": 9,
   "metadata": {},
   "outputs": [
    {
     "data": {
      "text/plain": [
       "0.9310067420674458"
      ]
     },
     "execution_count": 9,
     "metadata": {},
     "output_type": "execute_result"
    }
   ],
   "source": [
    "grid_search_lg.best_score_"
   ]
  },
  {
   "cell_type": "code",
   "execution_count": 10,
   "metadata": {},
   "outputs": [
    {
     "data": {
      "text/plain": [
       "{'learning_rate': 0.01,\n",
       " 'max_depth': 50,\n",
       " 'min_data_in_leaf': 500,\n",
       " 'n_estimators': 200,\n",
       " 'num_leaves': 1200}"
      ]
     },
     "execution_count": 10,
     "metadata": {},
     "output_type": "execute_result"
    }
   ],
   "source": [
    "grid_search_lg.best_params_"
   ]
  },
  {
   "cell_type": "code",
   "execution_count": 10,
   "metadata": {},
   "outputs": [],
   "source": [
    "lg_train = lgb.Dataset(X, label=y)"
   ]
  },
  {
   "cell_type": "code",
   "execution_count": 9,
   "metadata": {},
   "outputs": [],
   "source": [
    "params = {'learning_rate': 0.01,\n",
    " 'max_depth': 50,\n",
    " 'min_data_in_leaf': 500,\n",
    " 'n_estimators': 200,\n",
    " 'num_leaves': 1200}"
   ]
  },
  {
   "cell_type": "code",
   "execution_count": 11,
   "metadata": {},
   "outputs": [
    {
     "name": "stderr",
     "output_type": "stream",
     "text": [
      "/Users/alena/.pyenv/versions/3.7.3/lib/python3.7/site-packages/lightgbm/engine.py:177: UserWarning: Found `n_estimators` in params. Will use it instead of argument\n",
      "  _log_warning(f\"Found `{alias}` in params. Will use it instead of argument\")\n",
      "/Users/alena/.pyenv/versions/3.7.3/lib/python3.7/site-packages/lightgbm/basic.py:2068: UserWarning: categorical_feature in Dataset is overridden.\n",
      "New categorical_feature is ['REGION', 'TENURE', 'TOP_PACK']\n",
      "  _log_warning('categorical_feature in Dataset is overridden.\\n'\n"
     ]
    },
    {
     "name": "stdout",
     "output_type": "stream",
     "text": [
      "[LightGBM] [Warning] Auto-choosing row-wise multi-threading, the overhead of testing was 0.042300 seconds.\n",
      "You can set `force_row_wise=true` to remove the overhead.\n",
      "And if memory is not enough, you can set `force_col_wise=true`.\n",
      "[LightGBM] [Info] Total Bins 2562\n",
      "[LightGBM] [Info] Number of data points in the train set: 1723238, number of used features: 16\n",
      "[LightGBM] [Info] Start training from score 0.187597\n"
     ]
    }
   ],
   "source": [
    "cate_features_name = ['REGION','TOP_PACK', 'TENURE']\n",
    "model2 = lgb.train(params, lg_train, categorical_feature = cate_features_name)"
   ]
  },
  {
   "cell_type": "code",
   "execution_count": 36,
   "metadata": {},
   "outputs": [],
   "source": [
    "lgb_ypred = model2.predict(X_val)"
   ]
  },
  {
   "cell_type": "code",
   "execution_count": 39,
   "metadata": {},
   "outputs": [],
   "source": [
    "lgb_ypred = np.where(lgb_ypred > 0.5, 1, 0)"
   ]
  },
  {
   "cell_type": "code",
   "execution_count": 43,
   "metadata": {},
   "outputs": [
    {
     "name": "stdout",
     "output_type": "stream",
     "text": [
      "Precision Score:  0.709\n",
      "Recall Score:  0.595\n",
      "F1 Score:  0.647\n",
      "Accuracy Score:  0.879\n",
      "ROC AUC:  0.77\n"
     ]
    }
   ],
   "source": [
    "eval_metrics(y_val, lgb_ypred)"
   ]
  }
 ],
 "metadata": {
  "kernelspec": {
   "display_name": "Python 3",
   "language": "python",
   "name": "python3"
  },
  "language_info": {
   "codemirror_mode": {
    "name": "ipython",
    "version": 3
   },
   "file_extension": ".py",
   "mimetype": "text/x-python",
   "name": "python",
   "nbconvert_exporter": "python",
   "pygments_lexer": "ipython3",
   "version": "3.7.3"
  }
 },
 "nbformat": 4,
 "nbformat_minor": 4
}
